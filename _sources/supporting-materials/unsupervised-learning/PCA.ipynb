{
 "cells": [
  {
   "cell_type": "markdown",
   "id": "22b129b3",
   "metadata": {},
   "source": [
    "# PCA (TBD)\n",
    "\n",
    "YouTube video:\n",
    "\n",
    "https://www.youtube.com/watch?v=HMOI_lkzW08\n",
    "\n",
    "\n",
    "## PCA v.s. LDA\n",
    "\n",
    "YouTube video:\n",
    "\n",
    "https://www.youtube.com/watch?v=SP9r1L_C494"
   ]
  }
 ],
 "metadata": {
  "jupytext": {
   "cell_metadata_filter": "-all",
   "formats": "md:myst",
   "text_representation": {
    "extension": ".md",
    "format_name": "myst",
    "format_version": 0.13,
    "jupytext_version": "1.11.5"
   }
  },
  "kernelspec": {
   "display_name": "Python 3",
   "language": "python",
   "name": "python3"
  },
  "language_info": {
   "codemirror_mode": {
    "name": "ipython",
    "version": 3
   },
   "file_extension": ".py",
   "mimetype": "text/x-python",
   "name": "python",
   "nbconvert_exporter": "python",
   "pygments_lexer": "ipython3",
   "version": "3.8.13"
  },
  "source_map": [
   14
  ]
 },
 "nbformat": 4,
 "nbformat_minor": 5
}