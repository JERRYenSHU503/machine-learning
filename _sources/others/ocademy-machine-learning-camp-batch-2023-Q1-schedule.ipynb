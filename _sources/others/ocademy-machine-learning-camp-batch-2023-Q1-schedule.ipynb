{
 "cells": [
  {
   "cell_type": "markdown",
   "id": "e275fdbb",
   "metadata": {},
   "source": [
    "# Ocademy Machine Learning camp - Batch 2023 Q1 course schedule\n",
    "\n",
    " Module | Category | Title                                  | Schedule |\n",
    "---------|----------|----------------------------------------|--------- |\n",
    " Week 1 | Prerequisites | Python fundamentals                    |\n",
    " Week 2 | Prerequisites | Ramp up                                |\n",
    " Week 3 | Data Science | Data science introduction              |\n",
    " Week 4 | Data Science | SQL & Numpy                            |\n",
    " Week 5 | Data Science | Pandas                                 |\n",
    " Week 6 | Data Science | Visualization                          |\n",
    " Week 7 | Data Science | Data sciense in the cloud              |\n",
    " Week 8 | Machine Learning Fundamentals | Machine Learning Overview              |\n",
    " Week 9 | Machine Learning Fundamentals | Linear and polynomial regression       |\n",
    " Week 10 | Machine Learning Fundamentals | Logistic regression                    |\n",
    " Week 11 | Machine Learning Fundamentals | Neural networks                        |\n",
    " Week 12 | Machine Learning Fundamentals | Building a Machine Learning web app    |\n",
    " Week 13 | Machine Learning Advanced | Clustering                             |\n",
    " Week 14 | Machine Learning Advanced | Kernel method                          |\n",
    " Week 15 | Machine Learning Advanced | Model selection                        |\n",
    " Week 16 | Machine Learning Advanced | Ensemble learning                      |\n",
    " Week 17 | Machine Learning Advanced | Generative models                      |\n",
    " Week 18 | Deep Learning | Deep Learning overview                 |\n",
    " Week 19 | Deep Learning | CNN                                    |\n",
    " Week 20 | Deep Learning | Image Classification                   |\n",
    " Week 21 | Deep Learning | Image segmentation and object detection |\n",
    " Week 22 | Deep Learning | GAN                                    |\n",
    " Week 23 | Deep Learning | AutoEncoder                            |\n",
    " Week 24 | Deep Learning | RNN and LSTM                           |\n",
    " Week 25 | Deep Learning | NLP                                    |\n",
    " Week 26 | Deep Learning | DQN                                    |\n",
    " Week 27 | Machine Learning Operations | MLOps overview                         |\n",
    " Week 28 | Machine Learning Operations | Problem framing                        |\n",
    " Week 29 | Machine Learning Operations | Data engineering                       |\n",
    " Week 30 | Machine Learning Operations | Model training and evaluation          |\n",
    " Week 31 | Machine Learning Operations | Model deployment                       |\n",
    " Week 32 | Machine Learning Operations | Testing and monitoring                 |\n",
    " Week 33 | Machine Learning Operations | MLFlow                                 |"
   ]
  }
 ],
 "metadata": {
  "jupytext": {
   "cell_metadata_filter": "-all",
   "formats": "md:myst",
   "text_representation": {
    "extension": ".md",
    "format_name": "myst",
    "format_version": 0.13,
    "jupytext_version": "1.11.5"
   }
  },
  "kernelspec": {
   "display_name": "Python 3",
   "language": "python",
   "name": "python3"
  },
  "language_info": {
   "codemirror_mode": {
    "name": "ipython",
    "version": 3
   },
   "file_extension": ".py",
   "mimetype": "text/x-python",
   "name": "python",
   "nbconvert_exporter": "python",
   "pygments_lexer": "ipython3",
   "version": "3.9.16"
  },
  "source_map": [
   14
  ]
 },
 "nbformat": 4,
 "nbformat_minor": 5
}