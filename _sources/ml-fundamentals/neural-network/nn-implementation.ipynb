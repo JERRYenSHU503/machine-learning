{
 "cells": [
  {
   "cell_type": "markdown",
   "id": "e988b4ab",
   "metadata": {},
   "source": [
    "# Neural network implementation from scratch\n",
    "\n",
    "\n",
    "<div class=\"yt-container\">\n",
    "   <iframe src=\"https://www.youtube.com/embed/CcRkHl75Z-Y\" allowfullscreen></iframe>\n",
    "</div>\n",
    "\n",
    "\n",
    "<div class=\"yt-container\">\n",
    "   <iframe src=\"https://www.youtube.com/embed/rMOdrD61IoU\" allowfullscreen></iframe>\n",
    "</div>\n",
    "\n",
    "<div class=\"yt-container\">\n",
    "   <iframe src=\"https://www.youtube.com/embed/xy5MOQpx3aQ\" allowfullscreen></iframe>\n",
    "</div>\n",
    "\n",
    "\n",
    "<div class=\"yt-container\">\n",
    "   <iframe src=\"https://www.youtube.com/embed/kkWRbIb42Ms\" allowfullscreen></iframe>\n",
    "</div>\n",
    "\n",
    "\n",
    "<div class=\"yt-container\">\n",
    "   <iframe src=\"https://www.youtube.com/embed/Xvg00QnyaIY\" allowfullscreen></iframe>\n",
    "</div>\n",
    "\n",
    "<div class=\"yt-container\">\n",
    "   <iframe src=\"https://www.youtube.com/embed/B7-iPbddhsw\" allowfullscreen></iframe>\n",
    "</div>\n",
    "\n",
    "\n",
    "\n",
    "<div hidden>\n",
    "Neural-Network-from-scratch\n",
    "\n",
    "https://github.com/ahmedbesbes/Neural-Network-from-scratch/blob/master/nn.py\n",
    "\n",
    "https://slazebni.cs.illinois.edu/spring21/assignment2.html\n",
    "\n",
    "</div>"
   ]
  }
 ],
 "metadata": {
  "jupytext": {
   "cell_metadata_filter": "-all",
   "formats": "md:myst",
   "text_representation": {
    "extension": ".md",
    "format_name": "myst",
    "format_version": 0.13,
    "jupytext_version": "1.11.5"
   }
  },
  "kernelspec": {
   "display_name": "Python 3",
   "language": "python",
   "name": "python3"
  },
  "language_info": {
   "codemirror_mode": {
    "name": "ipython",
    "version": 3
   },
   "file_extension": ".py",
   "mimetype": "text/x-python",
   "name": "python",
   "nbconvert_exporter": "python",
   "pygments_lexer": "ipython3",
   "version": "3.8.13"
  },
  "source_map": [
   14
  ]
 },
 "nbformat": 4,
 "nbformat_minor": 5
}