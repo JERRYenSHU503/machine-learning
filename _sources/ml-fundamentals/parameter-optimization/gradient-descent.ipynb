{
 "cells": [
  {
   "cell_type": "markdown",
   "id": "35b09a63",
   "metadata": {},
   "source": [
    "# Gradient descent\n",
    "\n",
    "## Objective of this session\n",
    "\n",
    "We have already learnt how to use Linear Regression and Logistic Regression models.\n",
    "\n",
    "The code might seem quite easy and intuitive for you. And you might naturally ask:\n",
    "- What's behind the ```.fit()``` function?\n",
    "- Why sometimes it takes quite a bit for this ```.fit()``` function to finish running?\n",
    "\n",
    "In this session, you will learn that the ```.fit()``` is the training of ML models, \n",
    "i.e. tuning of parameters for ML models. And the technique behind is called \"Gradient Descent\".\n",
    "\n",
    "## Video\n",
    "\n",
    "The corresponding video (in Chinese) for this notebook is [👉 available here on Bilibili](https://www.bilibili.com/video/BV1SY4y1G7o9/).\n",
    "You can (and should) watch the video before diving into the details of gradient descent:\n",
    "\n",
    "<div class=\"yt-container\">\n",
    "   <iframe src=\"//player.bilibili.com/player.html?aid=642485873&cid=764796592&page=1&high_quality=1&danmaku=0\" allowfullscreen></iframe>\n",
    "</div>\n",
    "\n",
    "\n",
    "## Let's be playful ... to gain some intuition\n",
    "\n",
    "- [Tensorflow Playground](https://playground.tensorflow.org/#activation=sigmoid&batchSize=10&dataset=circle&regDataset=reg-plane&learningRate=0.00001&regularizationRate=0&noise=0&networkShape=&seed=0.71864&showTestData=false&discretize=false&percTrainData=50&x=true&y=true&xTimesY=true&xSquared=true&ySquared=true&cosX=false&sinX=false&cosY=false&sinY=false&collectStats=false&problem=classification&initZero=false&hideText=false)\n",
    "- [Gradient Descent Visualization](https://github.com/lilipads/gradient_descent_viz)\n",
    "- [Optimization Algorithms Visualization](https://bl.ocks.org/EmilienDupont/aaf429be5705b219aaaf8d691e27ca87)\n",
    "\n",
    "## Some mathematics ... to gain more insight\n",
    "\n",
    "### Abstract\n",
    "\n",
    "The idea behind gradient descent is simple - by gradually tuning parameters, such as slope ($m$) and the intercept ($b$) in our regression function $y = mx + b$, we minimize cost. \n",
    "By cost, we usually mean some kind of a function that tells us how far off our model predicted result. For regression problems we often use `mean squared error` (MSE) cost function. If we use gradient descent for the classification problem, we will have a different set of parameters to tune.\n",
    "\n",
    "$$ MSE = \\frac{1}{n}\\sum_{i=1}^{n} (y_i - \\hat{y_i})^2 \\quad \\textrm{where} \\quad \\hat{y_i} = mx_i + b $$\n",
    "\n",
    "Now we have to figure out how to tweak parameters $m$ and $b$ to reduce MSE.\n",
    "\n",
    "### Partial derivatives\n",
    "\n",
    "We use partial derivatives to find how each individual parameter affects MSE, so that's where word _partial_ comes from. In simple words, we take the derivative with respect to $m$ and $b$ **separately**. Take a look at the formula below. It looks almost exactly the same as MSE, but this time we added f(m, b) to it. It essentially changes nothing, except now we can plug $m$ and $b$ numbers into it and calculate the result.\n",
    "\n",
    "$$𝑓(𝑚,𝑏)= \\frac{1}{n}\\sum_{i=1}^{n}(y_i - (mx_i+b))^2$$\n",
    "\n",
    "This formula (or better say function) is better representation for further calculations of partial derivatives. We can ignore sum for now and what comes before that and focus only on $y - (mx + b)^2$.\n",
    "\n",
    "### Partial derivative with respect to $m$\n",
    "\n",
    "With respect to $m$ means we derive parameter $m$ and basically ignore what is going on with $b$, or we can say its 0. To derive with respect to $m$ we will use chain rule.\n",
    "\n",
    "$$ [f(g(x))]' = f'(g(x)) * g(x)' \\: - \\textrm{chain rule}$$\n",
    "\n",
    "Chain rule applies when one function sits inside of another. If you're new to this, you'd be surprised that $()^2$ is outside function, and $y-(\\boldsymbol{m}x+b)$ sits inside it. So, the chain rule says that we should take a derivative of outside function, keep inside function unchanged and then multiply by derivative of the inside function. Lets write these steps down:\n",
    "\n",
    "$$ (y - (mx + b))^2 $$\n",
    "\n",
    "1. Derivative of $()^2$ is $2()$, same as $x^2$ becomes $2x$\n",
    "2. We do nothing with $y - (mx + b)$, so it stays the same\n",
    "3. Derivative of $y - (mx + b)$ with respect to **_m_** is $(0 - (x + 0))$ or $-x$, because **_y_** and **_b_** are constants, they become 0, and derivative of **_mx_** is **_x_**\n",
    " \n",
    "Multiply all parts we get following: $2 * (y - (mx+b)) * -x$. \n",
    "\n",
    "Looks nicer if we move -x to the left: $-2x *(y-(mx+b))$. There we have it. The final version of our derivative is the following:\n",
    "\n",
    "$$\\frac{\\partial f}{\\partial m} = \\frac{1}{n}\\sum_{i=1}^{n}-2x_i(y_i - (mx_i+b))$$\n",
    "\n",
    "Here, $\\frac{df}{dm}$ means we find partial derivative of function f (we mentioned it earlier) with respect to m. We plug our derivative to the summation and we're done.\n",
    "\n",
    "### Partial derivative with respect to $b$\n",
    "\n",
    "Same rules apply to the derivative with respect to b.\n",
    "\n",
    "1. $()^2$ becomes $2()$, same as $x^2$ becomes $2x$\n",
    "2. $y - (mx + b)$ stays the same\n",
    "3. $y - (mx + b)$ becomes $(0 - (0 + 1))$ or $-1$, because **_y_** and **_mx_** are constants, they become 0, and derivative of **_b_** is 1\n",
    "\n",
    "Multiply all the parts together and we get $-2(y-(mx+b))$\n",
    "\n",
    "$$\\frac{\\partial f}{\\partial b} = \\frac{1}{n}\\sum_{i=1}^{n}-2(y_i - (mx_i+b))$$\n",
    "\n",
    "### Final function\n",
    "\n",
    "Few details we should discuss before jumping into code:\n",
    "\n",
    "1. Gradient descent is an iterative process and with each iteration ($epoch$) we slightly minimizing MSE, so each time we use our derived functions to update parameters $m$ and $b$.\n",
    "2. Because it's iterative, we should choose how many iterations we take, or make algorithm stop when we approach minima of MSE. In other words when algorithm is no longer improving MSE, we know it reached minimum.\n",
    "3. Gradient descent has an additional parameter learning rate ($lr$), which helps control how fast or slow algorithm going towards minima of MSE\n",
    "\n",
    "That's about it. So you can already understand that Gradient Descent for the most part is just process of taking derivatives and using them over and over to minimize function.\n",
    "\n",
    "## Time to code!"
   ]
  },
  {
   "cell_type": "code",
   "execution_count": 1,
   "id": "a6e39554",
   "metadata": {},
   "outputs": [],
   "source": [
    "%matplotlib inline\n",
    "\n",
    "import numpy as np\n",
    "import pandas as pd\n",
    "import sklearn\n",
    "import matplotlib.pyplot as plt\n",
    "from sklearn.model_selection import train_test_split"
   ]
  },
  {
   "cell_type": "markdown",
   "id": "c0353e04",
   "metadata": {},
   "source": [
    "### Linear regression With gradient descent"
   ]
  },
  {
   "cell_type": "code",
   "execution_count": 2,
   "id": "b4ff0ec2",
   "metadata": {},
   "outputs": [],
   "source": [
    "class LinearRegression:\n",
    "    def __init__(self, learning_rate=0.0003, n_iters=3000):\n",
    "        self.lr = learning_rate\n",
    "        self.n_iters = n_iters\n",
    "        self.weights = None\n",
    "        self.bias = None\n",
    "\n",
    "    def fit(self, X, y):\n",
    "        n_samples, n_features = X.shape\n",
    "\n",
    "        # init parameters\n",
    "        self.weights = np.zeros(n_features)\n",
    "        self.bias = 0\n",
    "\n",
    "        # gradient descent\n",
    "        for _ in range(self.n_iters):\n",
    "            # approximate y with linear combination of weights and x, plus bias\n",
    "            y_predicted = np.dot(X, self.weights) + self.bias\n",
    "\n",
    "            # compute gradients\n",
    "            dw = (1 / n_samples) * np.dot(X.T, (y_predicted - y))\n",
    "            db = (1 / n_samples) * np.sum(y_predicted - y)\n",
    "            # update parameters\n",
    "            self.weights -= self.lr * dw\n",
    "            self.bias -= self.lr * db\n",
    "\n",
    "    def predict(self, X):\n",
    "        y_predicted = np.dot(X, self.weights) + self.bias\n",
    "        return y_predicted"
   ]
  },
  {
   "cell_type": "code",
   "execution_count": 3,
   "id": "93094317",
   "metadata": {},
   "outputs": [
    {
     "name": "stdout",
     "output_type": "stream",
     "text": [
      "{'lr': 0.0003, 'n_iters': 3000, 'weights': array([0.36114314, 0.15172482, 0.01138062, 0.07103796, 0.10143793,\n",
      "       0.14812986, 0.09146885, 0.00270041]), 'bias': 0.014542612245156478}\n",
      "0    -1.470137\n",
      "1    -1.226722\n",
      "2    -1.633534\n",
      "3    -1.145394\n",
      "4    -1.385705\n",
      "        ...   \n",
      "92    0.985388\n",
      "93    1.125408\n",
      "94    1.936285\n",
      "95    1.776223\n",
      "96    1.680470\n",
      "Name: lpsa, Length: 97, dtype: float64\n"
     ]
    },
    {
     "data": {
      "image/png": "[encoded data removed]",
      "text/plain": [
       "<Figure size 640x480 with 1 Axes>"
      ]
     },
     "metadata": {
      "filenames": {
       "image/png": "/home/runner/work/machine-learning/machine-learning/open-machine-learning-jupyter-book/_build/jupyter_execute/ml-fundamentals/parameter-optimization/gradient-descent_4_1.png"
      }
     },
     "output_type": "display_data"
    }
   ],
   "source": [
    "prostate = pd.read_table(\"../../../data/prostate.data\")\n",
    "prostate.drop(prostate.columns[0], axis=1, inplace=True)\n",
    "\n",
    "X = prostate.drop([\"lpsa\", \"train\"], axis=1)\n",
    "y = prostate[\"lpsa\"]\n",
    "\n",
    "regressor = LinearRegression()\n",
    "\n",
    "regressor.fit(X, y)\n",
    "y_pred = regressor.predict(X)\n",
    "\n",
    "print(regressor.__dict__)\n",
    "print(y - y_pred)\n",
    "\n",
    "plt.scatter(y, y_pred)\n",
    "plt.plot([0, 5], [0, 5])\n",
    "plt.show()"
   ]
  },
  {
   "cell_type": "markdown",
   "id": "4ddb0cb2",
   "metadata": {},
   "source": [
    "### Linear regression with stochastic gradient descent"
   ]
  },
  {
   "cell_type": "code",
   "execution_count": 4,
   "id": "54d5d069",
   "metadata": {},
   "outputs": [],
   "source": [
    "class LinearRegressionWithSGD:\n",
    "    def __init__(self, learning_rate=0.0003, n_iters=5000):\n",
    "        self.lr = learning_rate\n",
    "        self.n_iters = n_iters\n",
    "        self.weights = None\n",
    "        self.bias = None\n",
    "\n",
    "    def fit(self, X, y):\n",
    "        n_samples, n_features = X.shape\n",
    "\n",
    "        # init parameters\n",
    "        self.weights = np.zeros(n_features)\n",
    "        self.bias = 0\n",
    "\n",
    "        batch_size=5\n",
    "        # stochastic gradient descent\n",
    "        for _ in range(self.n_iters):\n",
    "            # approximate y with linear combination of weights and x, plus bias\n",
    "            y_predicted = np.dot(X, self.weights) + self.bias\n",
    "            \n",
    "            indexes = np.random.randint(0, len(X), batch_size) # random sample\n",
    "        \n",
    "            Xs = np.take(X, indexes, axis=0)\n",
    "            ys = np.take(y, indexes, axis=0)\n",
    "            y_predicted_s = np.take(y_predicted, indexes)\n",
    "            \n",
    "            # compute gradients\n",
    "            dw = (1 / batch_size) * np.dot(Xs.T, (y_predicted_s - ys))\n",
    "            db = (1 / batch_size) * np.sum(y_predicted_s - ys)\n",
    "            # update parameters\n",
    "            self.weights -= self.lr * dw\n",
    "            self.bias -= self.lr * db\n",
    "\n",
    "    def predict(self, X):\n",
    "        y_predicted = np.dot(X, self.weights) + self.bias\n",
    "        return y_predicted"
   ]
  },
  {
   "cell_type": "code",
   "execution_count": 5,
   "id": "28b37418",
   "metadata": {},
   "outputs": [
    {
     "name": "stdout",
     "output_type": "stream",
     "text": [
      "{'lr': 0.0003, 'n_iters': 5000, 'weights': array([ 0.44880394,  0.21951545,  0.00750939,  0.09201582,  0.14421026,\n",
      "        0.13733149,  0.12873321, -0.00128588]), 'bias': 0.023179418957435412}\n",
      "0    -1.631602\n",
      "1    -1.358184\n",
      "2    -1.660374\n",
      "3    -1.255974\n",
      "4    -1.662352\n",
      "        ...   \n",
      "92    0.708017\n",
      "93    0.596312\n",
      "94    1.435780\n",
      "95    1.521725\n",
      "96    1.159524\n",
      "Name: lpsa, Length: 97, dtype: float64\n"
     ]
    },
    {
     "data": {
      "image/png": "[encoded data removed]",
      "text/plain": [
       "<Figure size 640x480 with 1 Axes>"
      ]
     },
     "metadata": {
      "filenames": {
       "image/png": "/home/runner/work/machine-learning/machine-learning/open-machine-learning-jupyter-book/_build/jupyter_execute/ml-fundamentals/parameter-optimization/gradient-descent_7_1.png"
      }
     },
     "output_type": "display_data"
    }
   ],
   "source": [
    "prostate = pd.read_table(\"../../../data/prostate.data\")\n",
    "prostate.drop(prostate.columns[0], axis=1, inplace=True)\n",
    "\n",
    "X = prostate.drop([\"lpsa\", \"train\"], axis=1)\n",
    "y = prostate[\"lpsa\"]\n",
    "\n",
    "regressor = LinearRegressionWithSGD()\n",
    "\n",
    "regressor.fit(X, y)\n",
    "y_pred = regressor.predict(X)\n",
    "\n",
    "print(regressor.__dict__)\n",
    "print(y - y_pred)\n",
    "\n",
    "plt.scatter(y, y_pred)\n",
    "plt.plot([0, 5], [0, 5])\n",
    "plt.show()"
   ]
  },
  {
   "cell_type": "markdown",
   "id": "4c5d45ff",
   "metadata": {},
   "source": [
    "### Logistic regression with gradient descent"
   ]
  },
  {
   "cell_type": "code",
   "execution_count": 6,
   "id": "bc55f7c4",
   "metadata": {},
   "outputs": [],
   "source": [
    "class LogisticRegression:\n",
    "\n",
    "    def __init__(self, learning_rate=0.001, n_iters=1000):\n",
    "        self.lr = learning_rate\n",
    "        self.n_iters = n_iters\n",
    "        self.weights = None\n",
    "        self.bias = None\n",
    "\n",
    "    def fit(self, X, y):\n",
    "        n_samples, n_features = X.shape\n",
    "\n",
    "        # init parameters\n",
    "        self.weights = np.zeros(n_features)\n",
    "        self.bias = 0\n",
    "\n",
    "        # gradient descent\n",
    "        for _ in range(self.n_iters):\n",
    "            # approximate y with linear combination of weights and x, plus bias\n",
    "            linear_model = np.dot(X, self.weights) + self.bias\n",
    "            # apply sigmoid function\n",
    "            y_predicted = self._sigmoid(linear_model)\n",
    "\n",
    "            # compute gradients\n",
    "            dw = (1 / n_samples) * np.dot(X.T, (y_predicted - y))\n",
    "            db = (1 / n_samples) * np.sum(y_predicted - y)\n",
    "            # update parameters\n",
    "            self.weights -= self.lr * dw\n",
    "            self.bias -= self.lr * db\n",
    "\n",
    "    def predict(self, X):\n",
    "        linear_model = np.dot(X, self.weights) + self.bias\n",
    "        y_predicted = self._sigmoid(linear_model)\n",
    "        y_predicted_cls = [1 if i > 0.5 else 0 for i in y_predicted]\n",
    "        return np.array(y_predicted_cls)\n",
    "\n",
    "    def _sigmoid(self, x):\n",
    "        return 1 / (1 + np.exp(-x))"
   ]
  },
  {
   "cell_type": "code",
   "execution_count": 7,
   "id": "570a47f4",
   "metadata": {},
   "outputs": [
    {
     "name": "stdout",
     "output_type": "stream",
     "text": [
      "LR classification perf:\n",
      " [[88  9]\n",
      " [40 16]]\n",
      "LR classification error rate:\n",
      " 0.3202614379084967\n"
     ]
    }
   ],
   "source": [
    "heart = pd.read_csv(\"../../../data/SA_heart.csv\")\n",
    "heart.famhist.replace(to_replace=['Present', 'Absent'], value=[1, 0], inplace=True)\n",
    "heart.drop(['row.names'], axis=1, inplace=True)\n",
    "X = heart.iloc[:, :-1]\n",
    "y = heart.iloc[:, -1]\n",
    "\n",
    "X_train, X_test, y_train, y_test = train_test_split(X, y, test_size=0.33, random_state=42)\n",
    "\n",
    "regressor = LogisticRegression(learning_rate=0.0001, n_iters=1000)\n",
    "\n",
    "regressor.fit(X_train, y_train)\n",
    "y_pred = regressor.predict(X_test)\n",
    "perf = sklearn.metrics.confusion_matrix(y_test, y_pred)\n",
    "print(\"LR classification perf:\\n\", perf)\n",
    "\n",
    "error_rate = np.mean(y_test != y_pred)\n",
    "print(\"LR classification error rate:\\n\", error_rate)"
   ]
  },
  {
   "cell_type": "markdown",
   "id": "f45c3a90",
   "metadata": {},
   "source": [
    "## Your turn 🚀\n",
    "\n",
    "Modify ```LogisticRegression``` so that the training will use SGD instead of GD.\n",
    "\n",
    "\n",
    "## [optional] At the frontier of Machine Learning Research \n",
    "\n",
    "<div class=\"yt-container\">\n",
    "   <iframe src=\"https://www.youtube.com/embed/mdKjMPmcWjY\" allowfullscreen></iframe>\n",
    "</div>\n",
    "\n",
    "\n",
    "## Bibliography\n",
    "\n",
    "- [Gradient Descent, Step-by-Step - StatQuest](https://www.youtube.com/watch?v=sDv4f4s2SB8)\n",
    "- [Stochastic Gradient Descent, Clearly Explained!!! - StatQuest](https://www.youtube.com/watch?v=vMh0zPT0tLI) \n",
    "- http://43.142.12.204:12345/05-ML_04-Under-the-Hood.html\n",
    "- http://43.142.12.204:9999/GradientDescentAnimation.html"
   ]
  }
 ],
 "metadata": {
  "jupytext": {
   "cell_metadata_filter": "-all",
   "formats": "md:myst",
   "text_representation": {
    "extension": ".md",
    "format_name": "myst",
    "format_version": 0.13,
    "jupytext_version": "1.11.5"
   }
  },
  "kernelspec": {
   "display_name": "Python 3",
   "language": "python",
   "name": "python3"
  },
  "language_info": {
   "codemirror_mode": {
    "name": "ipython",
    "version": 3
   },
   "file_extension": ".py",
   "mimetype": "text/x-python",
   "name": "python",
   "nbconvert_exporter": "python",
   "pygments_lexer": "ipython3",
   "version": "3.8.13"
  },
  "source_map": [
   14,
   110,
   118,
   122,
   154,
   172,
   176,
   215,
   233,
   237,
   277,
   295
  ]
 },
 "nbformat": 4,
 "nbformat_minor": 5
}