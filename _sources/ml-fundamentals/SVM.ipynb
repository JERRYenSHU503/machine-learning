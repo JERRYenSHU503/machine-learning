{
 "cells": [
  {
   "cell_type": "markdown",
   "id": "a117b43e",
   "metadata": {},
   "source": [
    "# SVM\n",
    "\n",
    "## Motivating Support Vector Machines\n",
    "\n",
    "Consider the simple case of a classification task, \n",
    "in which the two classes of points are well separated:"
   ]
  },
  {
   "cell_type": "code",
   "execution_count": 1,
   "id": "2b5b64f7",
   "metadata": {},
   "outputs": [],
   "source": [
    "%matplotlib inline\n",
    "import numpy as np\n",
    "import matplotlib.pyplot as plt\n",
    "from scipy import stats\n",
    "\n",
    "# use seaborn plotting defaults\n",
    "import seaborn as sns\n",
    "sns.set()"
   ]
  },
  {
   "cell_type": "code",
   "execution_count": 2,
   "id": "ac9ac46e",
   "metadata": {},
   "outputs": [
    {
     "ename": "ModuleNotFoundError",
     "evalue": "No module named 'sklearn.datasets.samples_generator'",
     "output_type": "error",
     "traceback": [
      "\u001b[0;31m---------------------------------------------------------------------------\u001b[0m",
      "\u001b[0;31mModuleNotFoundError\u001b[0m                       Traceback (most recent call last)",
      "Input \u001b[0;32mIn [2]\u001b[0m, in \u001b[0;36m<cell line: 1>\u001b[0;34m()\u001b[0m\n\u001b[0;32m----> 1\u001b[0m \u001b[38;5;28;01mfrom\u001b[39;00m \u001b[38;5;21;01msklearn\u001b[39;00m\u001b[38;5;21;01m.\u001b[39;00m\u001b[38;5;21;01mdatasets\u001b[39;00m\u001b[38;5;21;01m.\u001b[39;00m\u001b[38;5;21;01msamples_generator\u001b[39;00m \u001b[38;5;28;01mimport\u001b[39;00m make_blobs\n\u001b[1;32m      2\u001b[0m X, y \u001b[38;5;241m=\u001b[39m make_blobs(n_samples\u001b[38;5;241m=\u001b[39m\u001b[38;5;241m50\u001b[39m, centers\u001b[38;5;241m=\u001b[39m\u001b[38;5;241m2\u001b[39m,\n\u001b[1;32m      3\u001b[0m                   random_state\u001b[38;5;241m=\u001b[39m\u001b[38;5;241m0\u001b[39m, cluster_std\u001b[38;5;241m=\u001b[39m\u001b[38;5;241m0.60\u001b[39m)\n\u001b[1;32m      4\u001b[0m plt\u001b[38;5;241m.\u001b[39mscatter(X[:, \u001b[38;5;241m0\u001b[39m], X[:, \u001b[38;5;241m1\u001b[39m], c\u001b[38;5;241m=\u001b[39my, s\u001b[38;5;241m=\u001b[39m\u001b[38;5;241m50\u001b[39m, cmap\u001b[38;5;241m=\u001b[39m\u001b[38;5;124m'\u001b[39m\u001b[38;5;124mautumn\u001b[39m\u001b[38;5;124m'\u001b[39m)\n",
      "\u001b[0;31mModuleNotFoundError\u001b[0m: No module named 'sklearn.datasets.samples_generator'"
     ]
    }
   ],
   "source": [
    "from sklearn.datasets.samples_generator import make_blobs\n",
    "X, y = make_blobs(n_samples=50, centers=2,\n",
    "                  random_state=0, cluster_std=0.60)\n",
    "plt.scatter(X[:, 0], X[:, 1], c=y, s=50, cmap='autumn')"
   ]
  },
  {
   "cell_type": "markdown",
   "id": "a8a738e4",
   "metadata": {},
   "source": [
    "A linear discriminative classifier would attempt \n",
    "to draw a straight line separating the two sets of data, \n",
    "and thereby create a model for classification. \n",
    "For two dimensional data like that shown here, \n",
    "this is a task we could do by hand. But immediately \n",
    "we see a problem: there is more than one possible \n",
    "dividing line that can \n",
    "perfectly discriminate between the two classes!\n",
    "\n",
    "We can draw them as follows:"
   ]
  },
  {
   "cell_type": "code",
   "execution_count": null,
   "id": "8465d9d7",
   "metadata": {},
   "outputs": [],
   "source": [
    "xfit = np.linspace(-1, 3.5)\n",
    "plt.scatter(X[:, 0], X[:, 1], c=y, s=50, cmap='autumn')\n",
    "plt.plot([0.6], [2.1], 'x', color='red', markeredgewidth=2, markersize=10)\n",
    "\n",
    "for m, b in [(1, 0.65), (0.5, 1.6), (-0.2, 2.9)]:\n",
    "    plt.plot(xfit, m * xfit + b, '-k')\n",
    "\n",
    "plt.xlim(-1, 3.5)"
   ]
  },
  {
   "cell_type": "markdown",
   "id": "83580872",
   "metadata": {},
   "source": [
    "These are three very different separators which, \n",
    "nevertheless, perfectly discriminate between these \n",
    "samples. Depending on which you choose, a new data point \n",
    "(e.g., the one marked by the \"X\" in this plot) will be \n",
    "assigned a different label! Evidently our simple intuition \n",
    "of \"drawing a line between classes\" is not enough, \n",
    "and we need to think a bit deeper.\n",
    "\n",
    "\n",
    "## Support Vector Machines: Maximizing the _Margin_\n",
    "\n",
    "Support vector machines offer one way to improve on this. \n",
    "The intuition is this: rather than simply drawing a \n",
    "zero-width line between the classes, we can draw around each \n",
    "line a margin of some width, up to the nearest point. \n",
    "Here is an example of how this might look:"
   ]
  },
  {
   "cell_type": "code",
   "execution_count": null,
   "id": "3890011d",
   "metadata": {},
   "outputs": [],
   "source": [
    "xfit = np.linspace(-1, 3.5)\n",
    "plt.scatter(X[:, 0], X[:, 1], c=y, s=50, cmap='autumn')\n",
    "\n",
    "for m, b, d in [(1, 0.65, 0.33), (0.5, 1.6, 0.55), (-0.2, 2.9, 0.2)]:\n",
    "    yfit = m * xfit + b\n",
    "    plt.plot(xfit, yfit, '-k')\n",
    "    plt.fill_between(xfit, yfit - d, yfit + d, edgecolor='none',\n",
    "                     color='#AAAAAA', alpha=0.4)\n",
    "\n",
    "plt.xlim(-1, 3.5)"
   ]
  },
  {
   "cell_type": "markdown",
   "id": "be764224",
   "metadata": {},
   "source": [
    "In support vector machines, the line that maximizes this margin \n",
    "is the one we will choose as the optimal model. \n",
    "Support vector machines are an example of such a maximum margin estimator.\n",
    "\n",
    "\n",
    "## Fitting a support vector machine\n",
    "\n",
    "![](../../images/svm/svm3.png)\n",
    "![](../../images/svm/svm2.gif)\n",
    "\n",
    "\n",
    "Let's see the result of an actual fit to this data: \n",
    "we will use Scikit-learn's support vector classifier to \n",
    "train an SVM model on this data. For the time being, \n",
    "we will use a linear kernel and set the ```C``` parameter to a very large number \n",
    "(we'll discuss the meaning of these in more depth momentarily)."
   ]
  },
  {
   "cell_type": "code",
   "execution_count": null,
   "id": "7174c7b2",
   "metadata": {},
   "outputs": [],
   "source": [
    "from sklearn.svm import SVC # \"Support vector classifier\"\n",
    "model = SVC(kernel='linear', C=1E10)\n",
    "model.fit(X, y)"
   ]
  },
  {
   "cell_type": "markdown",
   "id": "d0b70656",
   "metadata": {},
   "source": [
    "To better visualize what's happening here, \n",
    "let's create a quick convenience function that \n",
    "will plot SVM decision boundaries for us:"
   ]
  },
  {
   "cell_type": "code",
   "execution_count": null,
   "id": "5214a96d",
   "metadata": {},
   "outputs": [],
   "source": [
    "def plot_svc_decision_function(model, ax=None, plot_support=True):\n",
    "    \"\"\"Plot the decision function for a 2D SVC\"\"\"\n",
    "    if ax is None:\n",
    "        ax = plt.gca()\n",
    "    xlim = ax.get_xlim()\n",
    "    ylim = ax.get_ylim()\n",
    "    \n",
    "    # create grid to evaluate model\n",
    "    x = np.linspace(xlim[0], xlim[1], 30)\n",
    "    y = np.linspace(ylim[0], ylim[1], 30)\n",
    "    Y, X = np.meshgrid(y, x)\n",
    "    xy = np.vstack([X.ravel(), Y.ravel()]).T\n",
    "    P = model.decision_function(xy).reshape(X.shape)\n",
    "    \n",
    "    # plot decision boundary and margins\n",
    "    ax.contour(X, Y, P, colors='k',\n",
    "               levels=[-1, 0, 1], alpha=0.5,\n",
    "               linestyles=['--', '-', '--'])\n",
    "    \n",
    "    # plot support vectors\n",
    "    if plot_support:\n",
    "        ax.scatter(model.support_vectors_[:, 0],\n",
    "                   model.support_vectors_[:, 1],\n",
    "                   s=300, linewidth=1, facecolors='none');\n",
    "    ax.set_xlim(xlim)\n",
    "    ax.set_ylim(ylim)"
   ]
  },
  {
   "cell_type": "code",
   "execution_count": null,
   "id": "905a40bf",
   "metadata": {},
   "outputs": [],
   "source": [
    "plt.scatter(X[:, 0], X[:, 1], c=y, s=50, cmap='autumn')\n",
    "plot_svc_decision_function(model);"
   ]
  },
  {
   "cell_type": "markdown",
   "id": "547c0351",
   "metadata": {},
   "source": [
    "This is the dividing line that maximizes \n",
    "the margin between the two sets of points. \n",
    "Notice that a few of the training points just \n",
    "touch the margin: they are indicated by the \n",
    "black circles in this figure. These points are \n",
    "the pivotal elements of this fit, and are known as \n",
    "the support vectors, and give the algorithm its name. \n",
    "In Scikit-Learn, the identity of these points are \n",
    "stored in the ```support_vectors_``` attribute of the classifier:"
   ]
  },
  {
   "cell_type": "code",
   "execution_count": null,
   "id": "86459e3f",
   "metadata": {},
   "outputs": [],
   "source": [
    "model.support_vectors_"
   ]
  },
  {
   "cell_type": "markdown",
   "id": "f6c08f23",
   "metadata": {},
   "source": [
    "A key to this classifier's success is that for the fit, only the position of the support vectors matter; \n",
    "any points further from the margin which are on the correct side \n",
    "do not modify the fit! Technically, this is because these points do not contribute to the loss function \n",
    "used to fit the model, so their position and number do not matter so long as they do not cross the margin.\n",
    "\n",
    "We can see this, for example, \n",
    "if we plot the model learned from the \n",
    "first 60 points and first 120 points of this dataset:"
   ]
  },
  {
   "cell_type": "code",
   "execution_count": null,
   "id": "79a9d75f",
   "metadata": {},
   "outputs": [],
   "source": [
    "def plot_svm(N=10, ax=None):\n",
    "    X, y = make_blobs(n_samples=200, centers=2,\n",
    "                      random_state=0, cluster_std=0.60)\n",
    "    X = X[:N]\n",
    "    y = y[:N]\n",
    "    model = SVC(kernel='linear', C=1E10)\n",
    "    model.fit(X, y)\n",
    "    \n",
    "    ax = ax or plt.gca()\n",
    "    ax.scatter(X[:, 0], X[:, 1], c=y, s=50, cmap='autumn')\n",
    "    ax.set_xlim(-1, 4)\n",
    "    ax.set_ylim(-1, 6)\n",
    "    plot_svc_decision_function(model, ax)\n",
    "\n",
    "fig, ax = plt.subplots(1, 2, figsize=(16, 6))\n",
    "fig.subplots_adjust(left=0.0625, right=0.95, wspace=0.1)\n",
    "for axi, N in zip(ax, [60, 120]):\n",
    "    plot_svm(N, axi)\n",
    "    axi.set_title('N = {0}'.format(N))"
   ]
  },
  {
   "cell_type": "markdown",
   "id": "fad25359",
   "metadata": {},
   "source": [
    "In the left panel, we see the model and the support vectors for 60 training points. \n",
    "In the right panel, we have doubled the number of training points, \n",
    "but the model has not changed: the three support vectors from the left panel are still \n",
    "the support vectors from the right panel. This insensitivity to the exact behavior of \n",
    "distant points is one of the strengths of the SVM model.\n",
    "\n",
    "If you are running this notebook live, \n",
    "you can use IPython's interactive widgets to view this feature of the SVM model interactively:"
   ]
  },
  {
   "cell_type": "code",
   "execution_count": null,
   "id": "d86fec53",
   "metadata": {},
   "outputs": [],
   "source": [
    "from ipywidgets import interact, fixed\n",
    "interact(plot_svm, N=[10, 200], ax=fixed(None));"
   ]
  },
  {
   "cell_type": "markdown",
   "id": "a0a311ed",
   "metadata": {},
   "source": [
    "## Beyond linear boundaries: Kernel SVM\n",
    "\n",
    "\n",
    "![](../../images/svm/svm1.gif)\n",
    "\n",
    "\n",
    "Where SVM becomes extremely powerful is when it is combined with _kernels_.\n",
    "The main idea is to project the data into higher-dimensional space defined by \n",
    "polynomials and Gaussian basis functions, \n",
    "and thereby were able to fit for nonlinear relationships with a linear classifier.\n",
    "\n",
    "To motivate the need for kernels, let's look at some data that is not linearly separable:"
   ]
  },
  {
   "cell_type": "code",
   "execution_count": null,
   "id": "f54de11a",
   "metadata": {},
   "outputs": [],
   "source": [
    "from sklearn.datasets.samples_generator import make_circles\n",
    "X, y = make_circles(100, factor=.1, noise=.1)\n",
    "\n",
    "clf = SVC(kernel='linear').fit(X, y)\n",
    "\n",
    "plt.scatter(X[:, 0], X[:, 1], c=y, s=50, cmap='autumn')\n",
    "plot_svc_decision_function(clf, plot_support=False);"
   ]
  },
  {
   "cell_type": "markdown",
   "id": "13973ad6",
   "metadata": {},
   "source": [
    "It is clear that no linear discrimination will ever be able to separate this data. \n",
    "But we can  project the data into a \n",
    "higher dimension such that a linear separator would be \n",
    "sufficient. For example, one simple projection we could \n",
    "use would be to compute a radial basis function centered on the middle clump:"
   ]
  },
  {
   "cell_type": "code",
   "execution_count": null,
   "id": "963c411c",
   "metadata": {},
   "outputs": [],
   "source": [
    "r = np.exp(-(X ** 2).sum(1))"
   ]
  },
  {
   "cell_type": "markdown",
   "id": "a00ed6ce",
   "metadata": {},
   "source": [
    "We can visualize this extra data dimension using a three-dimensional \n",
    "plot. If you are running this notebook live, \n",
    "you will be able to use the sliders to rotate the plot:"
   ]
  },
  {
   "cell_type": "code",
   "execution_count": null,
   "id": "6d096b5d",
   "metadata": {},
   "outputs": [],
   "source": [
    "from mpl_toolkits import mplot3d\n",
    "\n",
    "def plot_3D(elev=30, azim=30, X=X, y=y):\n",
    "    ax = plt.subplot(projection='3d')\n",
    "    ax.scatter3D(X[:, 0], X[:, 1], r, c=y, s=50, cmap='autumn')\n",
    "    ax.view_init(elev=elev, azim=azim)\n",
    "    ax.set_xlabel('x')\n",
    "    ax.set_ylabel('y')\n",
    "    ax.set_zlabel('r')\n",
    "\n",
    "interact(plot_3D, elev=[-90, 90], azip=(-180, 180),\n",
    "         X=fixed(X), y=fixed(y));"
   ]
  },
  {
   "cell_type": "markdown",
   "id": "35089e00",
   "metadata": {},
   "source": [
    "We can see that with this additional dimension, \n",
    "the data becomes trivially linearly separable, \n",
    "by drawing a separating plane at, say, $r=0.7$.\n",
    "\n",
    "Here we had to choose and carefully tune our projection: \n",
    "if we had not centered our radial basis function in the right location, \n",
    "we would not have seen such clean, linearly separable results. \n",
    "In general, the need to make such a choice is a problem: \n",
    "we would like to somehow automatically find the best basis functions to use.\n",
    "\n",
    "One strategy to this end is to compute a basis function centered at every \n",
    "point in the dataset, and let the SVM algorithm sift through the results. \n",
    "This type of basis function transformation is known as a _kernel transformation_, \n",
    "as it is based on a similarity relationship (or kernel) between each pair of points.\n",
    "\n",
    "A potential problem with this strategy—projecting $N$ points \n",
    "into $N$ dimensions—is that it might become very computationally \n",
    "intensive as $N$ grows large. However, because of a neat little procedure known \n",
    "as the _kernel trick_, a fit on kernel-transformed data can be done implicitly—that is, \n",
    "without ever building the full $N$-dimensional representation of the kernel projection! \n",
    "This kernel trick is built into the SVM, and is one of the reasons the method is so powerful.\n",
    "\n",
    "In Scikit-Learn, we can apply kernelized \n",
    "SVM simply by changing our linear kernel \n",
    "to an RBF (radial basis function) kernel, \n",
    "using the ```kernel``` model hyperparameter:"
   ]
  },
  {
   "cell_type": "code",
   "execution_count": null,
   "id": "9e43d585",
   "metadata": {},
   "outputs": [],
   "source": [
    "clf = SVC(kernel='rbf', C=1E6)\n",
    "clf.fit(X, y)"
   ]
  },
  {
   "cell_type": "code",
   "execution_count": null,
   "id": "447186ab",
   "metadata": {},
   "outputs": [],
   "source": [
    "plt.scatter(X[:, 0], X[:, 1], c=y, s=50, cmap='autumn')\n",
    "plot_svc_decision_function(clf)\n",
    "plt.scatter(clf.support_vectors_[:, 0], clf.support_vectors_[:, 1],\n",
    "            s=300, lw=1, facecolors='none');"
   ]
  },
  {
   "cell_type": "markdown",
   "id": "f3e69b9d",
   "metadata": {},
   "source": [
    "Using this kernelized support vector machine, we learn a suitable \n",
    "nonlinear decision boundary. \n",
    "This kernel transformation strategy is used often in machine learning \n",
    "to turn fast linear methods into fast nonlinear methods, especially for \n",
    "models in which the kernel trick can be used.\n",
    "\n",
    "\n",
    "## Animation\n",
    "\n",
    "<div class=\"yt-container\">\n",
    "   <iframe src=\"https://www.youtube.com/embed/9NrALgHFwTo\" allowfullscreen></iframe>\n",
    "</div>\n",
    "\n",
    "<div class=\"yt-container\">\n",
    "   <iframe src=\"https://www.youtube.com/embed/3liCbRZPrZA\" allowfullscreen></iframe>\n",
    "</div>\n",
    "\n",
    "## Hinge loss\n",
    "\n",
    "An alternative to cross-entropy for binary \n",
    "classification problems is the hinge loss function.\n",
    "It is primarily developed for use with \n",
    "Support Vector Machine (SVM) models.\n",
    "\n",
    "It is intended for use with binary \n",
    "classification where the target values are in the set {-1, 1}.\n",
    "\n",
    "\n",
    "## RBF Kernel\n",
    "\n",
    "<div class=\"yt-container\">\n",
    "   <iframe src=\"https://www.youtube.com/embed/NYwVM6_EuxQ\" allowfullscreen></iframe>\n",
    "</div>\n",
    "\n",
    "## Support Vector Regression (SVR)\n",
    "\n",
    "\n",
    "With SVR, we are basically \n",
    "trying to decide a decision boundary at $e$ distance \n",
    "from the original hyper plane such that data points \n",
    "closest to the hyper plane or the support vectors are \n",
    "within that boundary line.\n",
    "\n",
    "![](../../images/svm/svr1.jpeg)\n",
    "\n",
    "## SVM v.s. logistic regression\n",
    "\n",
    "- SVM works well with unstructured and semi-structured data like text and images while logistic regression works with already identified independent variables.\n",
    "- SVM is based on geometrical properties of the data while logistic regression is based on statistical approaches.\n",
    "- The risk of overfitting is less in SVM, while logistic regression is vulnerable to overfitting.\n",
    "- LR gives calibrated probabilities that can be interpreted as confidence in a decision.\n",
    "- LR gives us an unconstrained, smooth objective. \n",
    "- LR can be (straightforwardly) used within Bayesian models.\n",
    "- SVMs don’t penalize examples for which the correct decision is made with sufficient confidence. This may be good for generalization.\n",
    "- SVMs have a nice dual form, giving sparse solutions when using the kernel trick (better scalability)\n",
    "\n",
    "https://www.geeksforgeeks.org/differentiate-between-support-vector-machine-and-logistic-regression/\n",
    "\n",
    "## SVR v.s. linear regression\n",
    "\n",
    "- One Advantage of SVR over OLSE linear regression is \n",
    "SVR can minimize overfitting problem.\n",
    "- SVR allows non linear fitting problems as well (based on the kernel trick and the representation of the solution/model in the dual rather than in the primal),\n",
    "while Linear Regression is only for simple linear regression with straight line (may contain any number of features in both cases).\n",
    "\n",
    "\n",
    "## Support Vector Machine Summary\n",
    "We have seen here a brief intuitive introduction to \n",
    "the principals behind support vector machines. \n",
    "These methods are a powerful classification method for a number of reasons:\n",
    "- Their dependence on relatively few support vectors means that they are very compact models, and take up very little memory.\n",
    "- Once the model is trained, the prediction phase is very fast.\n",
    "- Because they are affected only by points near the margin, they work well with high-dimensional data—even data with more dimensions than samples, which is a challenging regime for other algorithms.\n",
    "- Their integration with kernel methods makes them very versatile, able to adapt to many types of data.\n",
    "\n",
    "However, SVMs have several disadvantages as well:\n",
    "- The scaling with the number of samples N is $O[N^3]$ at worst, \n",
    "or $O[N^2]$ for efficient implementations. For large numbers of training samples, this computational cost can be prohibitive.\n",
    "- The results are strongly dependent on a suitable choice for the softening parameter $C$. \n",
    "This must be carefully chosen via cross-validation, which can be expensive as datasets grow in size.\n",
    "- The results do not have a direct probabilistic interpretation. This can be estimated via an internal \n",
    "cross-validation (see the ```probability``` parameter of ```SVC```), but this extra estimation is costly.\n",
    "\n",
    "## Acknowledgement\n",
    "\n",
    "[jakevdp](https://jakevdp.github.io/PythonDataScienceHandbook/05.07-support-vector-machines.html), which is licenced under CC-by licence."
   ]
  }
 ],
 "metadata": {
  "jupytext": {
   "cell_metadata_filter": "-all",
   "formats": "md:myst",
   "text_representation": {
    "extension": ".md",
    "format_name": "myst",
    "format_version": 0.13,
    "jupytext_version": "1.11.5"
   }
  },
  "kernelspec": {
   "display_name": "Python 3",
   "language": "python",
   "name": "python3"
  },
  "language_info": {
   "codemirror_mode": {
    "name": "ipython",
    "version": 3
   },
   "file_extension": ".py",
   "mimetype": "text/x-python",
   "name": "python",
   "nbconvert_exporter": "python",
   "pygments_lexer": "ipython3",
   "version": "3.8.13"
  },
  "source_map": [
   14,
   23,
   34,
   39,
   53,
   62,
   81,
   92,
   111,
   115,
   121,
   150,
   153,
   165,
   167,
   178,
   198,
   209,
   212,
   227,
   235,
   243,
   245,
   251,
   264,
   294,
   299,
   304
  ]
 },
 "nbformat": 4,
 "nbformat_minor": 5
}