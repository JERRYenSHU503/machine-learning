{
 "cells": [
  {
   "cell_type": "markdown",
   "id": "36bfb534",
   "metadata": {},
   "source": [
    "# Tools of the trade\n",
    "\n",
    "## Get started with Python and Scikit-learn for regression models\n",
    "\n",
    "```{figure} ../../../images/ml-regression/ml-regression.png\n",
    "---\n",
    "name: 'Summary of regressions in a sketchnote'\n",
    "width: 90%\n",
    "---\n",
    "Sketchnote by [Tomomi Imura](https://www.twitter.com/girlie_mac)\n",
    "```\n",
    "\n",
    "## Introduction\n",
    "\n",
    "In these four sections, you will discover how to build regression models. We will discuss what these are for shortly. But before you do anything, make sure you have the right tools in place to start the process!\n",
    "\n",
    "In this section, you will learn how to:\n",
    "\n",
    "- Configure your computer for local machine learning tasks.\n",
    "- Work with Jupyter notebooks.\n",
    "- Use Scikit-learn, including installation.\n",
    "- Explore linear regression with a hands-on exercise.\n",
    "\n",
    "## Installations and configurations\n",
    "\n",
    "```{seealso}\n",
    "Click here for a video : [Setup Python with Visual Studio Code](https://youtu.be/yyQM70vi7V8), by author [Alfredo Deza](https://www.youtube.com/@alfredodeza1).\n",
    "```\n",
    "\n",
    "1 . **Install Python**. Ensure that [Python](https://www.python.org/downloads/) is installed on your computer. You will use Python for many data science and machine learning tasks. Most computer systems already include a Python installation. There are useful [Python Coding Packs](https://code.visualstudio.com/learn/educators/installers?WT.mc_id=academic-77952-leestott) available as well, to ease the setup for some users.\n",
    "\n",
    "Some usages of Python, however, require one version of the software, whereas others require a different version. For this reason, it's useful to work within a [virtual environment](https://docs.python.org/3/library/venv.html).\n",
    "\n",
    "2 . **Install Visual Studio Code**. Make sure you have Visual Studio Code installed on your computer. Follow these instructions to [install Visual Studio Code](https://code.visualstudio.com/) for the basic installation. You are going to use Python in Visual Studio Code in this course, so you might want to brush up on how to [configure Visual Studio Code](https://docs.microsoft.com/learn/modules/python-install-vscode?WT.mc_id=academic-77952-leestott) for Python development.\n",
    "\n",
    "```{note}\n",
    "Get comfortable with Python by working through this collection of [Learn modules](https://docs.microsoft.com/users/jenlooper-2911/collections/mp1pagggd5qrq7?WT.mc_id=academic-77952-leestott)\n",
    "```\n",
    "\n",
    "3 . **Install Scikit-learn**, by following [these instructions](https://scikit-learn.org/stable/install.html). Since you need to ensure that you use Python 3, it's recommended that you use a virtual environment. Note, if you are installing this library on a M1 Mac, there are special instructions on the page linked above.\n",
    "\n",
    "4 . **Install Jupyter Notebook**. You will need to [install the Jupyter package](https://pypi.org/project/jupyter/).\n",
    "\n",
    "## Your Machine Learning authoring environment\n",
    "\n",
    "You are going to use **notebooks** to develop your Python code and create machine learning models. This type of file is a common tool for data scientists, and they can be identified by their suffix or extension `.ipynb`.\n",
    "\n",
    "Notebooks are an interactive environment that allow the developer to both code and add notes and write documentation around the code which is quite helpful for experimental or research-oriented projects.\n",
    "\n",
    "### Exercise - work with a notebook\n",
    "\n",
    "In this section, you will find the file [regression-tools.ipynb](../../assignments/ml-fundamentals/regression-tools.ipynb).\n",
    "\n",
    "1. Open [regression-tools.ipynb](../../assignments/ml-fundamentals/regression-tools.ipynb) in Visual Studio Code.\n",
    "\n",
    "   A Jupyter server will start with Python 3+ started. You will find areas of the notebook that can be `run`, pieces of code. You can run a code block, by selecting the icon that looks like a play button.\n",
    "\n",
    "2. Select the `md` icon and add a bit of markdown, and the following text **# Welcome to your notebook**.\n",
    "\n",
    "   Next, add some Python code.\n",
    "\n",
    "3. Type **print('hello notebook')** in the code block.\n",
    "\n",
    "4. Select the arrow to run the code.\n",
    "\n",
    "   You should see the printed statement:\n",
    "\n",
    "    ```output\n",
    "    hello notebook\n",
    "    ```\n",
    "\n",
    "```{figure} ../../../images/ml-regression/notebook.jpg\n",
    "---\n",
    "name: 'VS Code with a notebook open'\n",
    "width: 90%\n",
    "---\n",
    "VS Code with a notebook open{cite}\"VS_Code_with_a_notebook_open\"\n",
    "```\n",
    "\n",
    "You can interleaf your code with comments to self-document the notebook.\n",
    "\n",
    "```{seealso}\n",
    "Think for a minute how different a web developer's working environment is versus that of a data scientist.\n",
    "```\n",
    "\n",
    "## Up and running with Scikit-learn\n",
    "\n",
    "Now that Python is set up in your local environment, and you are comfortable with Jupyter notebooks, let's get equally comfortable with Scikit-learn (pronounce it `sci` as in `science`). Scikit-learn provides an [extensive API](https://scikit-learn.org/stable/modules/classes.html#api-ref) to help you perform ML tasks.\n",
    "\n",
    "According to their [website](https://scikit-learn.org/stable/getting_started.html), \"Scikit-learn is an open source machine learning library that supports supervised and unsupervised learning. It also provides various tools for model fitting, data preprocessing, model selection and evaluation, and many other utilities.\"\n",
    "\n",
    "In this course, you will use Scikit-learn and other tools to build machine learning models to perform what we call 'traditional machine learning' tasks. We have deliberately avoided neural networks and deep learning, as they are better covered in our forthcoming 'AI for Beginners' curriculum.\n",
    "\n",
    "Scikit-learn makes it straightforward to build models and evaluate them for use. It is primarily focused on using numeric data and contains several ready-made datasets for use as learning tools. It also includes pre-built models for students to try. Let's explore the process of loading prepackaged data and using a built in estimator  first ML model with Scikit-learn with some basic data.\n",
    "\n",
    "## Exercise - your first Scikit-learn notebook\n",
    "\n",
    "```{note}\n",
    "This tutorial was inspired by the [linear regression example](https://scikit-learn.org/stable/auto_examples/linear_model/plot_ols.html#sphx-glr-auto-examples-linear-model-plot-ols-py) on Scikit-learn's web site.\n",
    "```\n",
    "\n",
    "In the _regression-tools.ipynb_ file associated to this section, clear out all the cells by pressing the 'trash can' icon.\n",
    "\n",
    "In this section, you will work with a small dataset about diabetes that is built into Scikit-learn for learning purposes. Imagine that you wanted to test a treatment for diabetic patients. Machine Learning models might help you determine which patients would respond better to the treatment, based on combinations of variables. Even a very basic regression model, when visualized, might show information about variables that would help you organize your theoretical clinical trials.\n",
    "\n",
    "```{seealso}\n",
    "There are many types of regression methods, and which one you pick depends on the answer you're looking for. If you want to predict the probable height for a person of a given age, you'd use linear regression, as you're seeking a **numeric value**. If you're interested in discovering whether a type of cuisine should be considered vegan or not, you're looking for a **category assignment** so you would use logistic regression. You'll learn more about logistic regression later. Think a bit about some questions you can ask of data, and which of these methods would be more appropriate.\n",
    "```\n",
    "\n",
    "Let's get started on this task.\n",
    "\n",
    "### Import libraries\n",
    "\n",
    "For this task we will import some libraries:\n",
    "\n",
    "- **matplotlib**. It's a useful [graphing tool](https://matplotlib.org/) and we will use it to create a line plot.\n",
    "- **numpy**. [numpy](https://numpy.org/doc/stable/user/whatisnumpy.html) is a useful library for handling numeric data in Python.\n",
    "- **sklearn**. This is the [Scikit-learn](https://scikit-learn.org/stable/user_guide.html) library.\n",
    "\n",
    "Import some libraries to help with your tasks.\n",
    "\n",
    "Add imports by typing the following code :"
   ]
  },
  {
   "cell_type": "code",
   "execution_count": 1,
   "id": "4bd2e0eb",
   "metadata": {},
   "outputs": [],
   "source": [
    "import matplotlib.pyplot as plt  \n",
    "import numpy as np   \n",
    "from sklearn import datasets, linear_model, model_selection  "
   ]
  },
  {
   "cell_type": "markdown",
   "id": "a1a63082",
   "metadata": {},
   "source": [
    "Above you are importing `matplotlib`, `numpy` and you are importing `datasets`, `linear_model` and `model_selection` from `sklearn`. `model_selection` is used for splitting data into training and test sets.\n",
    "\n",
    "### The diabetes dataset\n",
    "\n",
    "The built-in [diabetes dataset](https://scikit-learn.org/stable/datasets/toy_dataset.html#diabetes-dataset) includes 442 samples of data around diabetes, with 10 feature variables, some of which include:\n",
    "\n",
    "- age: age in years\n",
    "- bmi: body mass index\n",
    "- bp: average blood pressure\n",
    "- s1 tc: T-Cells (a type of white blood cells)\n",
    "\n",
    "```{note}\n",
    "This dataset includes the concept of 'sex' as a feature variable important to research around diabetes. Many medical datasets include this type of binary classification. Think a bit about how categorizations such as this might exclude certain parts of a population from treatments.\n",
    "```\n",
    "\n",
    "Now, load up the X and y data.\n",
    "\n",
    "```{note}\n",
    "Remember, this is supervised learning, and we need a named 'y' target.\n",
    "```\n",
    "\n",
    "In a new code cell, load the diabetes dataset by calling `load_diabetes()`. The input `return_X_y=True` signals that `X` will be a data matrix, and `y` will be the regression target.\n",
    "\n",
    "1 . Add some print commands to show the shape of the data matrix and its first element:"
   ]
  },
  {
   "cell_type": "code",
   "execution_count": 2,
   "id": "90eeab51",
   "metadata": {},
   "outputs": [
    {
     "name": "stdout",
     "output_type": "stream",
     "text": [
      "(442, 10)\n",
      "[ 0.03807591  0.05068012  0.06169621  0.02187239 -0.0442235  -0.03482076\n",
      " -0.04340085 -0.00259226  0.01990749 -0.01764613]\n"
     ]
    }
   ],
   "source": [
    "X, y = datasets.load_diabetes(return_X_y=True)  \n",
    "print(X.shape) \n",
    "print(X[0])  "
   ]
  },
  {
   "cell_type": "markdown",
   "id": "f4462ae6",
   "metadata": {},
   "source": [
    "What you are getting back as a response, is a tuple. What you are doing is to assign the two first values of the tuple to `X` and `y` respectively. Learn more [about tuples](https://wikipedia.org/wiki/Tuple).\n",
    "\n",
    "You can see that this data has 442 items shaped in arrays of 10 elements.\n",
    "\n",
    "```{seealso}\n",
    "Think a bit about the relationship between the data and the regression target. Linear regression predicts relationships between feature X and target variable y. Can you find the [target](https://scikit-learn.org/stable/datasets/toy_dataset.html#diabetes-dataset) for the diabetes dataset in the documentation? What is this dataset demonstrating, given that target?   \n",
    "```\n",
    "\n",
    "2 . Next, select a portion of this dataset to plot by arranging it into a new array using numpy's `newaxis` function. We are going to use linear regression to generate a line between values in this data, according to a pattern it determines."
   ]
  },
  {
   "cell_type": "code",
   "execution_count": 3,
   "id": "8053886f",
   "metadata": {},
   "outputs": [],
   "source": [
    "X = X[:, np.newaxis, 2]"
   ]
  },
  {
   "cell_type": "markdown",
   "id": "e17553f3",
   "metadata": {},
   "source": [
    "```{note}\n",
    "At any time, print out the data to check its shape.\n",
    "```\n",
    "\n",
    "3 . Now that you have data ready to be plotted, you can see if a machine can help determine a logical split between the numbers in this dataset. To do this, you need to split both the data (X) and the target (y) into test and training sets. Scikit-learn has a straightforward way to do this; you can split your test data at a given point."
   ]
  },
  {
   "cell_type": "code",
   "execution_count": 4,
   "id": "9b4e43dd",
   "metadata": {},
   "outputs": [],
   "source": [
    "X_train, X_test, y_train, y_test = model_selection.train_test_split(X, y, test_size=0.33)"
   ]
  },
  {
   "cell_type": "markdown",
   "id": "4bdca3f2",
   "metadata": {},
   "source": [
    "4 . Now you are ready to train your model! Load up the linear regression model and train it with your X and y training sets using `model.fit()`:"
   ]
  },
  {
   "cell_type": "code",
   "execution_count": 5,
   "id": "c71b1b17",
   "metadata": {},
   "outputs": [
    {
     "data": {
      "text/html": [
       "<style>#sk-container-id-1 {color: black;background-color: white;}#sk-container-id-1 pre{padding: 0;}#sk-container-id-1 div.sk-toggleable {background-color: white;}#sk-container-id-1 label.sk-toggleable__label {cursor: pointer;display: block;width: 100%;margin-bottom: 0;padding: 0.3em;box-sizing: border-box;text-align: center;}#sk-container-id-1 label.sk-toggleable__label-arrow:before {content: \"▸\";float: left;margin-right: 0.25em;color: #696969;}#sk-container-id-1 label.sk-toggleable__label-arrow:hover:before {color: black;}#sk-container-id-1 div.sk-estimator:hover label.sk-toggleable__label-arrow:before {color: black;}#sk-container-id-1 div.sk-toggleable__content {max-height: 0;max-width: 0;overflow: hidden;text-align: left;background-color: #f0f8ff;}#sk-container-id-1 div.sk-toggleable__content pre {margin: 0.2em;color: black;border-radius: 0.25em;background-color: #f0f8ff;}#sk-container-id-1 input.sk-toggleable__control:checked~div.sk-toggleable__content {max-height: 200px;max-width: 100%;overflow: auto;}#sk-container-id-1 input.sk-toggleable__control:checked~label.sk-toggleable__label-arrow:before {content: \"▾\";}#sk-container-id-1 div.sk-estimator input.sk-toggleable__control:checked~label.sk-toggleable__label {background-color: #d4ebff;}#sk-container-id-1 div.sk-label input.sk-toggleable__control:checked~label.sk-toggleable__label {background-color: #d4ebff;}#sk-container-id-1 input.sk-hidden--visually {border: 0;clip: rect(1px 1px 1px 1px);clip: rect(1px, 1px, 1px, 1px);height: 1px;margin: -1px;overflow: hidden;padding: 0;position: absolute;width: 1px;}#sk-container-id-1 div.sk-estimator {font-family: monospace;background-color: #f0f8ff;border: 1px dotted black;border-radius: 0.25em;box-sizing: border-box;margin-bottom: 0.5em;}#sk-container-id-1 div.sk-estimator:hover {background-color: #d4ebff;}#sk-container-id-1 div.sk-parallel-item::after {content: \"\";width: 100%;border-bottom: 1px solid gray;flex-grow: 1;}#sk-container-id-1 div.sk-label:hover label.sk-toggleable__label {background-color: #d4ebff;}#sk-container-id-1 div.sk-serial::before {content: \"\";position: absolute;border-left: 1px solid gray;box-sizing: border-box;top: 0;bottom: 0;left: 50%;z-index: 0;}#sk-container-id-1 div.sk-serial {display: flex;flex-direction: column;align-items: center;background-color: white;padding-right: 0.2em;padding-left: 0.2em;position: relative;}#sk-container-id-1 div.sk-item {position: relative;z-index: 1;}#sk-container-id-1 div.sk-parallel {display: flex;align-items: stretch;justify-content: center;background-color: white;position: relative;}#sk-container-id-1 div.sk-item::before, #sk-container-id-1 div.sk-parallel-item::before {content: \"\";position: absolute;border-left: 1px solid gray;box-sizing: border-box;top: 0;bottom: 0;left: 50%;z-index: -1;}#sk-container-id-1 div.sk-parallel-item {display: flex;flex-direction: column;z-index: 1;position: relative;background-color: white;}#sk-container-id-1 div.sk-parallel-item:first-child::after {align-self: flex-end;width: 50%;}#sk-container-id-1 div.sk-parallel-item:last-child::after {align-self: flex-start;width: 50%;}#sk-container-id-1 div.sk-parallel-item:only-child::after {width: 0;}#sk-container-id-1 div.sk-dashed-wrapped {border: 1px dashed gray;margin: 0 0.4em 0.5em 0.4em;box-sizing: border-box;padding-bottom: 0.4em;background-color: white;}#sk-container-id-1 div.sk-label label {font-family: monospace;font-weight: bold;display: inline-block;line-height: 1.2em;}#sk-container-id-1 div.sk-label-container {text-align: center;}#sk-container-id-1 div.sk-container {/* jupyter's `normalize.less` sets `[hidden] { display: none; }` but bootstrap.min.css set `[hidden] { display: none !important; }` so we also need the `!important` here to be able to override the default hidden behavior on the sphinx rendered scikit-learn.org. See: https://github.com/scikit-learn/scikit-learn/issues/21755 */display: inline-block !important;position: relative;}#sk-container-id-1 div.sk-text-repr-fallback {display: none;}</style><div id=\"sk-container-id-1\" class=\"sk-top-container\"><div class=\"sk-text-repr-fallback\"><pre>LinearRegression()</pre><b>In a Jupyter environment, please rerun this cell to show the HTML representation or trust the notebook. <br />On GitHub, the HTML representation is unable to render, please try loading this page with nbviewer.org.</b></div><div class=\"sk-container\" hidden><div class=\"sk-item\"><div class=\"sk-estimator sk-toggleable\"><input class=\"sk-toggleable__control sk-hidden--visually\" id=\"sk-estimator-id-1\" type=\"checkbox\" checked><label for=\"sk-estimator-id-1\" class=\"sk-toggleable__label sk-toggleable__label-arrow\">LinearRegression</label><div class=\"sk-toggleable__content\"><pre>LinearRegression()</pre></div></div></div></div></div>"
      ],
      "text/plain": [
       "LinearRegression()"
      ]
     },
     "execution_count": 5,
     "metadata": {},
     "output_type": "execute_result"
    }
   ],
   "source": [
    "model = linear_model.LinearRegression()\n",
    "model.fit(X_train, y_train)"
   ]
  },
  {
   "cell_type": "markdown",
   "id": "a80418b5",
   "metadata": {},
   "source": [
    "```{note}\n",
    "`model.fit()` is a function you'll see in many ML libraries such as TensorFlow\n",
    "```\n",
    "\n",
    "5 . Then, create a prediction using test data, using the function `predict()`. This will be used to draw the line between data groups"
   ]
  },
  {
   "cell_type": "code",
   "execution_count": 6,
   "id": "351495cd",
   "metadata": {},
   "outputs": [],
   "source": [
    "y_pred = model.predict(X_test)"
   ]
  },
  {
   "cell_type": "markdown",
   "id": "12f92e18",
   "metadata": {},
   "source": [
    "6 . Now it's time to show the data in a plot. Matplotlib is a very useful tool for this task. Create a scatterplot of all the X and y test data, and use the prediction to draw a line in the most appropriate place, between the model's data groupings."
   ]
  },
  {
   "cell_type": "code",
   "execution_count": 7,
   "id": "3b00ec10",
   "metadata": {},
   "outputs": [
    {
     "data": {
      "image/png": "[encoded data removed]",
      "text/plain": [
       "<Figure size 640x480 with 1 Axes>"
      ]
     },
     "metadata": {
      "filenames": {
       "image/png": "/home/runner/work/machine-learning/machine-learning/open-machine-learning-jupyter-book/_build/jupyter_execute/ml-fundamentals/regression/tools-of-the-trade_13_0.png"
      }
     },
     "output_type": "display_data"
    }
   ],
   "source": [
    "plt.scatter(X_test, y_test,  color='black')\n",
    "plt.plot(X_test, y_pred, color='blue', linewidth=3)\n",
    "plt.xlabel('Scaled BMIs')\n",
    "plt.ylabel('Disease Progression')\n",
    "plt.title('A Graph Plot Showing Diabetes Progression Against BMI')\n",
    "plt.show()"
   ]
  },
  {
   "cell_type": "markdown",
   "id": "16e66b4f",
   "metadata": {},
   "source": [
    "```{seealso}\n",
    "Think a bit about what's going on here. A straight line is running through many small dots of data, but what is it doing exactly? Can you see how you should be able to use this line to predict where a new, unseen data point should fit in relationship to the plot's y axis? Try to put into words the practical use of this model.\n",
    "```\n",
    "\n",
    "Congratulations, you built your first linear regression model, created a prediction with it, and displayed it in a plot!\n",
    "\n",
    "## Self study\n",
    "\n",
    "In this tutorial, you worked with simple linear regression, rather than univariate or multiple linear regression. Read a little about the differences between these methods, or take a look at [this video](https://www.coursera.org/lecture/quantifying-relationships-regression-models/linear-vs-nonlinear-categorical-variables-ai2Ef)\n",
    "\n",
    "Read more about the concept of regression and think about what kinds of questions can be answered by this technique. Take this [tutorial](https://docs.microsoft.com/learn/modules/train-evaluate-regression-models?WT.mc_id=academic-77952-leestott) to deepen your understanding.\n",
    "\n",
    "## Your turn! 🚀\n",
    "\n",
    "Plot a different variable from this dataset. Hint: edit this line: `X = X[:, np.newaxis, 2]`. Given this dataset's target, what are you able to discover about the progression of diabetes as a disease?\n",
    "\n",
    "Assignment - [Regression with scikit-learn](../../assignments/ml-fundamentals/regression-with-scikit-learn.md)\n",
    "\n",
    "## Acknowledgments\n",
    "\n",
    "Thanks to Microsoft for creating the open-source course [ML-For-Beginners](https://github.com/microsoft/ML-For-Beginners). It inspires the majority of the content in this chapter.\n",
    "\n",
    "---\n",
    "\n",
    "```{bibliography}\n",
    ":filter: docname in docnames\n",
    "```"
   ]
  }
 ],
 "metadata": {
  "jupytext": {
   "cell_metadata_filter": "-all",
   "formats": "md:myst",
   "text_representation": {
    "extension": ".md",
    "format_name": "myst",
    "format_version": 0.13,
    "jupytext_version": "1.11.5"
   }
  },
  "kernelspec": {
   "display_name": "Python 3",
   "language": "python",
   "name": "python3"
  },
  "language_info": {
   "codemirror_mode": {
    "name": "ipython",
    "version": 3
   },
   "file_extension": ".py",
   "mimetype": "text/x-python",
   "name": "python",
   "nbconvert_exporter": "python",
   "pygments_lexer": "ipython3",
   "version": "3.9.18"
  },
  "source_map": [
   14,
   139,
   143,
   170,
   174,
   186,
   188,
   196,
   198,
   202,
   205,
   213,
   215,
   219,
   226
  ]
 },
 "nbformat": 4,
 "nbformat_minor": 5
}