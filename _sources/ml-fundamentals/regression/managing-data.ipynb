{
 "cells": [
  {
   "cell_type": "markdown",
   "id": "b8cf8776",
   "metadata": {},
   "source": [
    "# Managing data\n",
    "\n",
    "## Build a regression model using Scikit-learn: prepare and visualize data\n",
    "\n",
    "```{figure} ../../../images/ml-regression/data-visualization.png\n",
    "---\n",
    "name: 'Data visualization infographic'\n",
    "width: 90%\n",
    "---\n",
    "Infographic by [Dasani Madipalli](https://twitter.com/dasani_decoded)\n",
    "```\n",
    "\n",
    "## Introduction\n",
    "\n",
    "Now that you are set up with the tools you need to start tackling machine learning model building with Scikit-learn, you are ready to start asking questions of your data. As you work with data and apply ML solutions, it's very important to understand how to ask the right question to properly unlock the potentials of your dataset.\n",
    "\n",
    "In this section, you will learn:\n",
    "\n",
    "- How to prepare your data for model-building.\n",
    "- How to use Matplotlib for data visualization.\n",
    "\n",
    "```{seealso}\n",
    "<div class=\"yt-container\">\n",
    "  <iframe src=\"https://www.youtube.com/embed/11AnOn_OAcE\" allowfullscreen></iframe>\n",
    "</div>\n",
    "Click to watch : Preparing and Visualizing data video.\n",
    "```\n",
    "\n",
    "## Asking the right question of your data\n",
    "\n",
    "The question you need answered will determine what type of Machine Learning algorithms you will leverage. And the quality of the answer you get back will be heavily dependent on the nature of your data.\n",
    "\n",
    "Take a look at the [data](https://github.com/microsoft/ML-For-Beginners/blob/main/2-Regression/data/us-pumpkins.csv) provided for this section. You can open this .csv file in VS Code. A quick skim immediately shows that there are blanks and a mix of strings and numeric data. There's also a strange column called 'Package' where the data is a mix between 'sacks', 'bins' and other values. The data, in fact, is a bit of a mess.\n",
    "\n",
    "In fact, it is not very common to be gifted a dataset that is completely ready to use to create a Machine Learning model out of the box. In this section, you will learn how to prepare a raw dataset using standard Python libraries. You will also learn various techniques to visualize the data.\n",
    "\n",
    "## Case study: 'the pumpkin market'\n",
    "\n",
    "You will find a .csv file in the root `/assets/data/` folder called <a href=\"../../assets/data/us-pumpkins.csv\">us-pumpkins.csv</a> which includes 1757 lines of data about the market for pumpkins, sorted into groupings by city. This is raw data extracted from the [Specialty Crops Terminal Markets Standard Reports](https://www.marketnews.usda.gov/mnp/fv-report-config-step1?type=termPrice) distributed by the United States Department of Agriculture.\n",
    "\n",
    "### Preparing data\n",
    "\n",
    "This data is in the public domain. It can be downloaded in many separate files, per city, from the USDA website. To avoid too many separate files, we have concatenated all the city data into one spreadsheet, thus we have already _prepared_ the data a bit. Next, let's take a closer look at the data.\n",
    "\n",
    "### The pumpkin data - early conclusions\n",
    "\n",
    "What do you notice about this data? You already saw that there is a mix of strings, numbers, blanks and strange values that you need to make sense of.\n",
    "\n",
    "What question can you ask of this data, using a Regression technique? What about \"Predict the price of a pumpkin for sale during a given month\". Looking again at the data, there are some changes you need to make to create the data structure necessary for the task.\n",
    "\n",
    "## Exercise - analyze the pumpkin data\n",
    "\n",
    "Let's use [Pandas](https://pandas.pydata.org/), (the name stands for `Python Data Analysis`) a tool very useful for shaping data, to analyze and prepare this pumpkin data.\n",
    "\n",
    "### First, check for missing dates\n",
    "\n",
    "You will first need to take steps to check for missing dates:\n",
    "\n",
    "1. Convert the dates to a month format (these are US dates, so the format is `MM/DD/YYYY`).\n",
    "2. Extract the month to a new column.\n",
    "\n",
    "Open the [managing-data.ipynb](../../assignments/ml-fundamentals/managing-data.ipynb) file in Visual Studio Code and import the spreadsheet in to a new Pandas dataframe.\n",
    "\n",
    "1 . Use the `head()` function to view the first five rows."
   ]
  },
  {
   "cell_type": "code",
   "execution_count": null,
   "id": "26fc44f1",
   "metadata": {
    "tags": [
     "output_scroll"
    ]
   },
   "outputs": [],
   "source": [
    "import pandas as pd\n",
    "\n",
    "pumpkins = pd.read_csv('../../assets/data/US-pumpkins.csv')\n",
    "pumpkins.head()"
   ]
  },
  {
   "cell_type": "markdown",
   "id": "01fa89e8",
   "metadata": {},
   "source": [
    "```{note}\n",
    "What function would you use to view the last five rows?\n",
    "```\n",
    "\n",
    "2 . Check if there is missing data in the current dataframe:"
   ]
  },
  {
   "cell_type": "code",
   "execution_count": null,
   "id": "0d5ccfeb",
   "metadata": {},
   "outputs": [],
   "source": [
    "pumpkins.isnull().sum()"
   ]
  },
  {
   "cell_type": "markdown",
   "id": "e8064b46",
   "metadata": {},
   "source": [
    "```{warning}\n",
    "There is missing data, but maybe it won't matter for the task at hand.\n",
    "```\n",
    "\n",
    "3 . To make your dataframe easier to work with, drop several of its columns, using `drop()`, keeping only the columns you need:"
   ]
  },
  {
   "cell_type": "code",
   "execution_count": null,
   "id": "fb712626",
   "metadata": {},
   "outputs": [],
   "source": [
    "new_columns = ['Package', 'Month', 'Low Price', 'High Price', 'Date']\n",
    "pumpkins = pumpkins.drop([c for c in pumpkins.columns if c not in new_columns], axis=1)"
   ]
  },
  {
   "cell_type": "markdown",
   "id": "48955eff",
   "metadata": {},
   "source": [
    "### Second, determine average price of pumpkin\n",
    "\n",
    "Think about how to determine the average price of a pumpkin in a given month. What columns would you pick for this task? Hint: you'll need 3 columns.\n",
    "\n",
    "Solution: take the average of the `Low Price` and `High Price` columns to populate the new Price column, and convert the Date column to only show the month. Fortunately, according to the check above, there is no missing data for dates or prices.\n",
    "\n",
    "1 . To calculate the average, add the following code:"
   ]
  },
  {
   "cell_type": "code",
   "execution_count": null,
   "id": "a32e95c6",
   "metadata": {},
   "outputs": [],
   "source": [
    "price = (pumpkins['Low Price'] + pumpkins['High Price']) / 2\n",
    "month = pd.DatetimeIndex(pumpkins['Date']).month"
   ]
  },
  {
   "cell_type": "markdown",
   "id": "65f12016",
   "metadata": {},
   "source": [
    "```{seealso}\n",
    "Feel free to print any data you'd like to check using `print(month)`.\n",
    "```\n",
    "\n",
    "2 . Now, copy your converted data into a fresh Pandas dataframe:"
   ]
  },
  {
   "cell_type": "code",
   "execution_count": null,
   "id": "de1b5a19",
   "metadata": {},
   "outputs": [],
   "source": [
    "new_pumpkins = pd.DataFrame({'Month': month, 'Package': pumpkins['Package'], 'Low Price': pumpkins['Low Price'],'High Price': pumpkins['High Price'], 'Price': price})"
   ]
  },
  {
   "cell_type": "markdown",
   "id": "32b3d759",
   "metadata": {},
   "source": [
    "Printing out your dataframe will show you a clean, tidy dataset on which you can build your new regression model.\n",
    "\n",
    "### But wait! There's something odd here\n",
    "\n",
    "If you look at the `Package` column, pumpkins are sold in many different configurations. Some are sold in '1 1/9 bushel' measures, and some in '1/2 bushel' measures, some per pumpkin, some per pound, and some in big boxes with varying widths.\n",
    "\n",
    "```{note}\n",
    "Pumpkins seem very hard to weigh consistently.\n",
    "```\n",
    "\n",
    "Digging into the original data, it's interesting that anything with `Unit of Sale` equalling 'EACH' or 'PER BIN' also have the `Package` type per inch, per bin, or 'each'. Pumpkins seem to be very hard to weigh consistently, so let's filter them by selecting only pumpkins with the string 'bushel' in their `Package` column.\n",
    "\n",
    "1. Add a filter at the top of the file, under the initial .csv import:"
   ]
  },
  {
   "cell_type": "code",
   "execution_count": null,
   "id": "f3dd4b1e",
   "metadata": {},
   "outputs": [],
   "source": [
    "pumpkins = pumpkins[pumpkins['Package'].str.contains('bushel', case=True, regex=True)]"
   ]
  },
  {
   "cell_type": "markdown",
   "id": "63149afd",
   "metadata": {},
   "source": [
    "If you print the data now, you can see that you are only getting the 415 or so rows of data containing pumpkins by the bushel.\n",
    "\n",
    "### But wait! There's one more thing to do\n",
    "\n",
    "Did you notice that the bushel amount varies per row? You need to normalize the pricing so that you show the pricing per bushel, so do some math to standardize it.\n",
    "\n",
    "1. Add these lines after the block creating the new_pumpkins dataframe:"
   ]
  },
  {
   "cell_type": "code",
   "execution_count": null,
   "id": "aff85b14",
   "metadata": {},
   "outputs": [],
   "source": [
    "new_pumpkins.loc[new_pumpkins['Package'].str.contains('1 1/9'), 'Price'] = price/(1 + 1/9)\n",
    "\n",
    "new_pumpkins.loc[new_pumpkins['Package'].str.contains('1/2'), 'Price'] = price/(1/2)"
   ]
  },
  {
   "cell_type": "markdown",
   "id": "fea9031a",
   "metadata": {},
   "source": [
    "```{seealso}\n",
    "According to [The Spruce Eats](https://www.thespruceeats.com/how-much-is-a-bushel-1389308), a bushel's weight depends on the type of produce, as it's a volume measurement. \"A bushel of tomatoes, for example, is supposed to weigh 56 pounds... Leaves and greens take up more space with less weight, so a bushel of spinach is only 20 pounds.\" It's all pretty complicated! Let's not bother with making a bushel-to-pound conversion, and instead price by the bushel. All this study of bushels of pumpkins, however, goes to show how very important it is to understand the nature of your data!\n",
    "```\n",
    "\n",
    "Now, you can analyze the pricing per unit based on their bushel measurement. If you print out the data one more time, you can see how it's standardized.\n",
    "\n",
    "```{seealso}\n",
    "Did you notice that pumpkins sold by the half-bushel are very expensive? Can you figure out why? Hint: little pumpkins are way pricier than big ones, probably because there are so many more of them per bushel, given the unused space taken by one big hollow pie pumpkin.\n",
    "```\n",
    "\n",
    "## Visualization strategies\n",
    "\n",
    "Part of the data scientist's role is to demonstrate the quality and nature of the data they are working with. To do this, they often create interesting visualizations, or plots, graphs, and charts, showing different aspects of data. In this way, they are able to visually show relationships and gaps that are otherwise hard to uncover.\n",
    "\n",
    "Visualizations can also help determine the machine learning technique most appropriate for the data. A scatterplot that seems to follow a line, for example, indicates that the data is a good candidate for a linear regression exercise.\n",
    "\n",
    "One data visualization library that works well in Jupyter notebooks is [Matplotlib](https://matplotlib.org/) (which you also saw in the previous lesson).\n",
    "\n",
    "```{seealso}\n",
    "Get more experience with data visualization in [these tutorials](https://docs.microsoft.com/learn/modules/explore-analyze-data-with-python?WT.mc_id=academic-77952-leestott).\n",
    "```\n",
    "\n",
    "## Exercise - experiment with Matplotlib\n",
    "\n",
    "Try to create some basic plots to display the new dataframe you just created. What would a basic line plot show?\n",
    "\n",
    "1 . Import Matplotlib at the top of the file, under the Pandas import:"
   ]
  },
  {
   "cell_type": "code",
   "execution_count": null,
   "id": "90e53527",
   "metadata": {},
   "outputs": [],
   "source": [
    "import matplotlib.pyplot as plt"
   ]
  },
  {
   "cell_type": "markdown",
   "id": "16492318",
   "metadata": {},
   "source": [
    "2 . Rerun the entire notebook to refresh.\n",
    "\n",
    "3 . At the bottom of the notebook, add a cell to plot the data as a box:"
   ]
  },
  {
   "cell_type": "code",
   "execution_count": null,
   "id": "b88ffb5a",
   "metadata": {},
   "outputs": [],
   "source": [
    "price = new_pumpkins.Price\n",
    "month = new_pumpkins.Month\n",
    "plt.scatter(price, month)\n",
    "plt.show()"
   ]
  },
  {
   "cell_type": "markdown",
   "id": "9bb91f75",
   "metadata": {},
   "source": [
    "```{note}\n",
    "A scatterplot showing price to month relationship.\n",
    "```\n",
    "\n",
    "Is this a useful plot? Does anything about it surprise you?\n",
    "\n",
    "It's not particularly useful as all it does is display in your data as a spread of points in a given month.\n",
    "\n",
    "### Make it useful\n",
    "\n",
    "To get charts to display useful data, you usually need to group the data somehow. Let's try creating a plot where the y axis shows the months and the data demonstrates the distribution of data.\n",
    "\n",
    "1. Add a cell to create a grouped bar chart:"
   ]
  },
  {
   "cell_type": "code",
   "execution_count": null,
   "id": "41a2d8d6",
   "metadata": {},
   "outputs": [],
   "source": [
    "new_pumpkins.groupby(['Month'])['Price'].mean().plot(kind='bar')\n",
    "plt.ylabel(\"Pumpkin Price\")"
   ]
  },
  {
   "cell_type": "markdown",
   "id": "25817043",
   "metadata": {},
   "source": [
    "```{note}\n",
    "A bar chart showing price to month relationship.\n",
    "```\n",
    "\n",
    "This is a more useful data visualization! It seems to indicate that the highest price for pumpkins occurs in September and October. Does that meet your expectation? Why or why not?\n",
    "\n",
    "## Self study\n",
    "\n",
    "Take a look at the many ways to visualize data. Make a list of the various libraries available and note which are best for given types of tasks, for example 2D visualizations vs. 3D visualizations. What do you discover?\n",
    "\n",
    "## Your turn! 🚀\n",
    "\n",
    "Explore the different types of visualization that Matplotlib offers. Which types are most appropriate for regression problems?\n",
    "\n",
    "Assignment - [Exploring visualization](../../assignments/ml-fundamentals/exploring-visualizations.md)\n",
    "\n",
    "## Acknowledgments\n",
    "\n",
    "Thanks to Microsoft for creating the open-source course [ML-For-Beginners](https://github.com/microsoft/ML-For-Beginners). It inspires the majority of the content in this chapter."
   ]
  }
 ],
 "metadata": {
  "jupytext": {
   "cell_metadata_filter": "-all",
   "formats": "md:myst",
   "text_representation": {
    "extension": ".md",
    "format_name": "myst",
    "format_version": 0.13,
    "jupytext_version": "1.11.5"
   }
  },
  "kernelspec": {
   "display_name": "Python 3",
   "language": "python",
   "name": "python3"
  },
  "source_map": [
   14,
   81,
   88,
   96,
   98,
   106,
   109,
   119,
   122,
   130,
   132,
   148,
   150,
   160,
   164,
   194,
   196,
   202,
   207,
   223,
   226
  ]
 },
 "nbformat": 4,
 "nbformat_minor": 5
}