{
 "cells": [
  {
   "cell_type": "code",
   "execution_count": null,
   "id": "776fc8b6-42b2-4b27-8596-8fa5a29ab556",
   "metadata": {},
   "outputs": [],
   "source": [
    "# Install the necessary dependencies\n",
    "\n",
    "import os\n",
    "import sys\n",
    "!{sys.executable} -m pip install --quiet pandas scikit-learn numpy matplotlib jupyterlab_myst ipython"
   ]
  },
  {
   "cell_type": "markdown",
   "id": "a3e2352b-17ee-4471-b4a8-7c192326abde",
   "metadata": {
    "editable": true,
    "slideshow": {
     "slide_type": ""
    },
    "tags": []
   },
   "source": [
    "# Stock Market Prediction Hands-On: Training a Linear Regression Model (1/6)"
   ]
  },
  {
   "cell_type": "markdown",
   "id": "e8dc8e12-f3a4-4c24-bdd7-63fe322c9b52",
   "metadata": {},
   "source": [
    "Can linear regression in machine learning predict the stock market? This real dataset includes stock market data from several major U.S. companies between 2005 and 2020, including daily opening and closing prices, highest and lowest prices, trading volume, turnover rate, and other information. Today, we are going to use it to practice and see if we will make a profit or incur losses."
   ]
  },
  {
   "cell_type": "markdown",
   "id": "41a37356-04f0-45f8-afef-185bd1a25015",
   "metadata": {},
   "source": [
    "<img src=\"https://static-1300131294.cos.ap-shanghai.myqcloud.com/images/ml-fundamentals/ml-regression/loss-function/data-source.png\" alt=\"data-source\">"
   ]
  },
  {
   "cell_type": "markdown",
   "id": "20185c4e",
   "metadata": {},
   "source": [
    "*You can download the corresponding kaggle dataset [here](https://www.kaggle.com/datasets/nikhilkohli/us-stock-market-data-60-extracted-features)*"
   ]
  },
  {
   "cell_type": "markdown",
   "id": "f5ee754a-e5d9-4532-86d5-1433722be122",
   "metadata": {},
   "source": [
    "Let's begin by taking a look at Apple Inc., a company that has shown consistently robust performance over the years."
   ]
  },
  {
   "cell_type": "code",
   "execution_count": null,
   "id": "595f6e94",
   "metadata": {},
   "outputs": [],
   "source": [
    "%matplotlib inline\n",
    "\n",
    "import pandas as pd\n",
    "import matplotlib.pyplot as plt\n",
    "import numpy as np\n",
    "from sklearn.model_selection import  train_test_split\n",
    "from sklearn import metrics"
   ]
  },
  {
   "cell_type": "code",
   "execution_count": null,
   "id": "f9b66d7a",
   "metadata": {},
   "outputs": [],
   "source": [
    "df_stock = pd.read_csv('https://static-1300131294.cos.ap-shanghai.myqcloud.com/data/ml-fundamental/AAPL.csv',  index_col=0)\n",
    "df_stock = df_stock.rename(columns={'Close(t)':'Close'})\n",
    "df_stock.head()"
   ]
  },
  {
   "cell_type": "markdown",
   "id": "59c28a72-b9d2-48e7-898e-fe67fb61a80e",
   "metadata": {},
   "source": [
    "Here, we have a total of 3,732 days' worth of stock market data, with each row containing 63 columns. There's one particular column that stands out, known as 'Close_forecast,' which represents the stock's closing price for the next day. It's important to note that this column doesn't exist in the original scraped data; it was added by Kaggle to make the dataset more suitable for machine learning exercises.\n"
   ]
  },
  {
   "cell_type": "code",
   "execution_count": null,
   "id": "eccfc31d",
   "metadata": {},
   "outputs": [],
   "source": [
    "df_stock.shape"
   ]
  },
  {
   "cell_type": "code",
   "execution_count": null,
   "id": "86a6d04f",
   "metadata": {},
   "outputs": [],
   "source": [
    "df_stock.columns"
   ]
  },
  {
   "cell_type": "markdown",
   "id": "59e74939-3af1-4967-9cf6-049d946c2bda",
   "metadata": {},
   "source": [
    "We will select the 'Close_forecast' column as the target for our machine learning model, which serves as the label. The remaining 62 columns will be used as features. We will split the data, using 75% for training and 25% for testing."
   ]
  },
  {
   "cell_type": "code",
   "execution_count": null,
   "id": "e80b445f",
   "metadata": {},
   "outputs": [],
   "source": [
    "from sklearn.preprocessing import StandardScaler\n",
    "\n",
    "X = df_stock.drop(columns=['Close_forcast'], axis=1)\n",
    "y = df_stock['Close_forcast']\n",
    "\n",
    "scaler_X = StandardScaler()\n",
    "X = scaler_X.fit_transform(X)\n",
    "\n",
    "X_train, X_test, y_train, y_test = train_test_split(\n",
    "    X, y, test_size=0.25, random_state=42)\n",
    "\n",
    "print(X_train.shape, X_test.shape)\n",
    "print(y_train.shape, y_test.shape)"
   ]
  },
  {
   "cell_type": "markdown",
   "id": "083f151d-c523-4d8b-bd53-b339136f80d6",
   "metadata": {},
   "source": [
    "Finally, with just two simple lines of code, we will call the `LinearRegression.fit` method from sklearn to train our linear regression model."
   ]
  },
  {
   "cell_type": "code",
   "execution_count": null,
   "id": "054a0309",
   "metadata": {},
   "outputs": [],
   "source": [
    "from sklearn.linear_model import LinearRegression\n",
    "\n",
    "lr = LinearRegression()\n",
    "lr.fit(X_train, y_train)"
   ]
  },
  {
   "cell_type": "markdown",
   "id": "22239732-992a-43eb-82af-1977723c545f",
   "metadata": {},
   "source": [
    "Now that we have our model, it's time to put it to the test on our testing dataset. We'll use the model to make predictions on the test set and evaluate its performance."
   ]
  },
  {
   "cell_type": "code",
   "execution_count": null,
   "id": "6d1ebf8f",
   "metadata": {},
   "outputs": [],
   "source": [
    "y_test_pred = lr.predict(X_test)\n",
    "y_test_pred"
   ]
  },
  {
   "cell_type": "markdown",
   "id": "f61c02c1-85b2-4f66-baa6-acf6f136c1ce",
   "metadata": {},
   "source": [
    "At first glance, the results might seem a bit surprising, given the significant fluctuations in the predicted stock prices. However, I can offer some reassurance that our linear regression model is functioning correctly, and in fact, it performs quite well. You can confidently use the code provided above. As for the reason behind the seemingly chaotic predictions, we will delve into a more detailed analysis in the upcoming sections."
   ]
  },
  {
   "cell_type": "markdown",
   "id": "c24f7565-7e8a-4849-9c97-aa21a04f5a3b",
   "metadata": {},
   "source": [
    "# Stock Market Prediction Hands-On: Model Performance Evaluation (2/6)"
   ]
  },
  {
   "cell_type": "markdown",
   "id": "b4f4703e-4c03-40cb-bab1-bafd1a783d14",
   "metadata": {},
   "source": [
    "In the previous segment, we attempted stock price prediction using linear regression on a real stock market dataset. The results seemed chaotic, with significant fluctuations and sharp ups and downs in stock prices. Can linear regression truly predict stock prices? "
   ]
  },
  {
   "cell_type": "code",
   "execution_count": null,
   "id": "ccaf0610",
   "metadata": {},
   "outputs": [],
   "source": [
    "y_test_pred = lr.predict(X_test)\n",
    "y_test_pred"
   ]
  },
  {
   "cell_type": "markdown",
   "id": "3cb3c136-8525-4c04-a7f1-ec333f280c88",
   "metadata": {},
   "source": [
    "Strange occurrences often have underlying reasons. Let's take a closer look at what y_test in the test set actually looks like. As it turns out, when y_test was created, the order was shuffled. In fact, there's a parameter in sklearn's train_test_split function called 'shuffle,' which is set to 'True' by default. This means that by default, the order is shuffled when splitting the training and test sets.\n",
    "\n",
    "Shuffling the order itself isn't necessarily a problem, but in our daily lives, stock prices generally follow a relatively smooth curve over time. Therefore, the test results may initially appear odd because they don't align with common sense. If we set 'shuffle' to 'False,' we can avoid this situation. You might find it interesting to try this out for yourselves."
   ]
  },
  {
   "cell_type": "code",
   "execution_count": null,
   "id": "18e13828",
   "metadata": {},
   "outputs": [],
   "source": [
    "y_test"
   ]
  },
  {
   "cell_type": "markdown",
   "id": "c0730d30-e1df-47a1-95be-99db83e25c6f",
   "metadata": {},
   "source": [
    "Here, we're taking the real y-label values from the training set and the predicted y-label values, placing them together, and then sorting them. By doing this, we can compare the two and observe that the differences between them are quite small on a daily basis."
   ]
  },
  {
   "cell_type": "code",
   "execution_count": null,
   "id": "e1e7d2c2",
   "metadata": {},
   "outputs": [],
   "source": [
    "df_test_pred = pd.DataFrame(y_test.values, \n",
    "                columns=['Actual'], index=y_test.index)\n",
    "df_test_pred['Predicted'] = y_test_pred\n",
    "df_test_pred = df_test_pred.reset_index()\n",
    "sorted_df_test_pred = df_test_pred.sort_values(by='Date')\n",
    "sorted_df_test_pred = sorted_df_test_pred.reset_index()\n",
    "sorted_df_test_pred = sorted_df_test_pred.drop(columns=['index'])\n",
    "sorted_df_test_pred"
   ]
  },
  {
   "cell_type": "markdown",
   "id": "32828743-f31c-4a78-952e-ad5fb630d084",
   "metadata": {},
   "source": [
    "Let's visualize the data using matplotlib to gain a clearer understanding. The results are highly promising, as the blue real values and the green predicted values almost perfectly overlap."
   ]
  },
  {
   "cell_type": "code",
   "execution_count": null,
   "id": "707598b7",
   "metadata": {},
   "outputs": [],
   "source": [
    "plt.plot(sorted_df_test_pred.index, sorted_df_test_pred['Actual'], color='b')\n",
    "plt.plot(sorted_df_test_pred.index, sorted_df_test_pred['Predicted'], color='g')\n",
    "plt.grid(which=\"major\", color='k', linestyle='-.', linewidth=0.5)\n",
    "plt.show()"
   ]
  },
  {
   "cell_type": "markdown",
   "id": "a237101b-df0e-4b3f-89d7-9c0d2c69be50",
   "metadata": {},
   "source": [
    "\n",
    "We calculate the R-squared, MAPE, and other evaluation metrics, and the results are excellent, consistent with the previous analysis. All of this indicates that linear regression performs well when applied to this real stock market dataset."
   ]
  },
  {
   "cell_type": "code",
   "execution_count": null,
   "id": "061bf353",
   "metadata": {},
   "outputs": [],
   "source": [
    "print(\"Test R-squared: \",metrics.r2_score(\n",
    "    y_test,y_test_pred))\n",
    "print(\"Test MAPE: \", metrics.mean_absolute_percentage_error(\n",
    "    y_test,y_test_pred),\"%\")\n",
    "print(\n",
    "    \"Test Mean Squared Error:\",\n",
    "    metrics.mean_squared_error(y_test, y_test_pred)\n",
    ")\n",
    "print(\"Test RMSE: \",np.sgrt(metrics.mean_squared_error(\n",
    "    y_test,y_test_pred)))\n",
    "print(\"Test MAE: \", metrics.mean_absolute_error(\n",
    "y_test, y_test_pred))"
   ]
  },
  {
   "cell_type": "markdown",
   "id": "a9ba5ae4-7fde-4be6-95d2-3f265e4e4357",
   "metadata": {},
   "source": [
    "It's important to note that evaluation metrics are often calculated on the test dataset, but they can also be computed on both the training and test datasets for comparison. Why do I emphasize this? Because in the next segment, we'll delve into loss functions, and their computation is exclusively for the training dataset."
   ]
  },
  {
   "cell_type": "markdown",
   "id": "51b55a90-63f7-4312-90d5-0afe5ba13f20",
   "metadata": {},
   "source": [
    "# Stock Market Prediction Hands-On: Introduction to Loss Functions (3/6)"
   ]
  },
  {
   "cell_type": "markdown",
   "id": "29e890c3-bf6d-402a-87e3-b3d3cfc8967f",
   "metadata": {},
   "source": [
    "In past segments, we used linear regression to predict stock prices, tested it on the test set, and calculated evaluation metrics, with the model performing exceptionally well. We plot the daily closing prices of Apple Inc. from 2005 to 2022. If you bought Apple stock on the first day shown in the graph and held it until the last day, you would have roughly multiplied your investment many times over. However, achieving this in reality is exceedingly challenging."
   ]
  },
  {
   "cell_type": "code",
   "execution_count": null,
   "id": "fd27ed12",
   "metadata": {},
   "outputs": [],
   "source": [
    "df_stock['Close'].plot(figsize=(10, 6))\n",
    "plt.title(\"Stock Price\", fontsize=13)\n",
    "plt.ylabel('Price', fontsize=12)\n",
    "plt.xlabel('Time', fontsize=12)\n",
    "plt.grid(which=\"major\", color='k', linestyle='-.', linewidth=0.5)\n",
    "plt.show()"
   ]
  },
  {
   "cell_type": "markdown",
   "id": "e3524a2d",
   "metadata": {},
   "source": [
    "As ordinary investors, we don't possess a time machine, and even if we have a strong belief in Apple's stock, we cannot predict what will happen 15 years into the future. Typically, we do not hold stocks for extended periods. Instead, we engage in short-term or medium-term investments. If the stock price shows substantial growth within a certain timeframe, we may choose to sell at a certain point, seizing the opportunity. Conversely, if the stock price remains stagnant or declines, we may also decide to sell at a specific point, implementing a timely stop-loss strategy."
   ]
  },
  {
   "cell_type": "markdown",
   "id": "b74592d5-2619-48ef-a235-c7cb9a60cb91",
   "metadata": {},
   "source": [
    "Of course, we can't provide stock investment strategies here, but if machine learning can effectively predict stock prices, it can certainly assist in shaping our investment strategies. With model predictions, we can observe that Apple's stock steadily increased over 15 years, indicating that buying in 2005 and selling in 2020 would have been profitable.\n"
   ]
  },
  {
   "cell_type": "markdown",
   "id": "f6411620-3125-4cf9-874a-10c4b19e217e",
   "metadata": {},
   "source": [
    "Furthermore, if the model we've developed provides accurate predictions at finer granularities, we could potentially engage in multiple trades within those 15 years. Selling all stocks at local highs whenever the price is about to drop and buying in at local lows when the price is about to rise can optimize returns even further. However, this scenario assumes that our predictions align perfectly with reality, which, in practice, is unlikely to be the case."
   ]
  },
  {
   "cell_type": "markdown",
   "id": "64c50fc2-dfb3-427c-958e-6044711155ba",
   "metadata": {},
   "source": [
    "<img src=\"https://static-1300131294.cos.ap-shanghai.myqcloud.com/images/ml-fundamentals/ml-regression/loss-function/meme-reality.png\" alt=\"meme-reality\">"
   ]
  },
  {
   "cell_type": "markdown",
   "id": "e2736fce-21ae-4ff2-ad64-f654c9362ee5",
   "metadata": {},
   "source": [
    "While the evaluation metrics indicate that our model's performance is good, is it good enough to support the second investment strategy mentioned earlier? Or can it be further optimized to help us earn more from that strategy?\n",
    "\n",
    "The answer is affirmative, and here we introduce a new concept: the Loss Function, also known as the Cost Function. It is used to measure the difference or error between model predictions and real values on the training dataset. In the next segment, we will delve into how to calculate the loss function."
   ]
  },
  {
   "cell_type": "markdown",
   "id": "ab4a5347-a35f-4de9-bc57-3cf640424ff7",
   "metadata": {},
   "source": [
    "# Stock Market Prediction Hands-On: Calculating Loss Functions (4/6)"
   ]
  },
  {
   "cell_type": "markdown",
   "id": "168f0d68-d4d5-48d3-8278-683fda9fd58a",
   "metadata": {},
   "source": [
    "In previous segments, we successfully used linear regression for stock market prediction, guiding us to buy low and sell high, resulting in substantial profits. However, we are not content because there are still deviations between the model's predictions and the actual situation. This has caused us to buy at high points and sell at low points on several occasions. Following the principle that there's no harm in having more money, we aim to further optimize the model using a loss function. Today, let's first learn how to calculate the loss function.\n"
   ]
  },
  {
   "cell_type": "markdown",
   "id": "c46884ee-0a15-4666-a992-8f6fb7102744",
   "metadata": {},
   "source": [
    "For regression tasks, there are three common types of loss functions. The first one is the Mean Squared Error (MSE), which measures the average of the squared differences between **predicted values** and **actual values** on the  **training dataset** . The second one is the Mean Absolute Error (MAE), which measures the average of the absolute differences between **predicted values** and **actual values** on the  **training dataset** ."
   ]
  },
  {
   "cell_type": "markdown",
   "id": "d0bac2a8-4505-4b86-a7fa-042f8018a622",
   "metadata": {},
   "source": [
    "<img src=\"https://static-1300131294.cos.ap-shanghai.myqcloud.com/images/ml-fundamentals/ml-regression/loss-function/MAE-formula.png\" alt=\"MAE-formula\">"
   ]
  },
  {
   "cell_type": "markdown",
   "id": "a8d48588-a8ea-4f00-a942-f04dd0598357",
   "metadata": {},
   "source": [
    "So, let's go ahead and calculate the squared error and absolute error for each data point in the training set. The code is quite simple: we extract the labels and predicted results columns from the training set and use NumPy for some basic mathematical operations. The results are labeled as 'AE' and 'SE,'. As you can see, regardless of their magnitude, their values are never zero, meaning that there is always some difference between our predicted values and the actual values."
   ]
  },
  {
   "cell_type": "code",
   "execution_count": null,
   "id": "e9491a22",
   "metadata": {},
   "outputs": [],
   "source": [
    "df_train_pred = pd.DataFrame(y_train.values, \n",
    "                    columns=['Actual'], index=y_train.index)\n",
    "df_train_pred['Predicted'] = y_train_pred\n",
    "df_train_pred = df_train_pred.reset_index()\n",
    "sorted_df_train_pred = df_train_pred.sort_values(by='Date')\n",
    "sorted_df_train_pred = sorted_df_train_pred.reset_index()\n",
    "sorted_df_train_pred = sorted_df_train_pred.drop(columns=['index'])\n",
    "sorted_df_train_pred['AE'] = \\\n",
    "    (sorted_df_train_pred['Predicted'] - \\\n",
    "     sorted_df_train_pred['Actual']).abs()\n",
    "sorted_df_train_pred['SE'] = \\\n",
    "    np.square((sorted_df_train_pred['Predicted'] - \\\n",
    "     sorted_df_train_pred['Actual']))\n",
    "sorted_df_train_pred"
   ]
  },
  {
   "cell_type": "markdown",
   "id": "9be6ebba-3fae-4f21-bba0-aa0e697ed4c9",
   "metadata": {},
   "source": [
    "Furthermore, we can visualize how AE and SE change over time. It's evident that as time progresses, their values tend to increase, indicating that the results tested on the training set become more accurate as they approach 2005."
   ]
  },
  {
   "cell_type": "code",
   "execution_count": null,
   "id": "ced05c5d",
   "metadata": {},
   "outputs": [],
   "source": [
    "fig, axs = plt.subplots(1, 2, figsize=(7, 3))\n",
    "\n",
    "axs[0].plot(sorted_df_train_pred['AE'], color='blue')\n",
    "axs[0].set_title('AE')\n",
    "\n",
    "axs[1].plot(sorted_df_train_pred['SE'], color='orange')\n",
    "axs[1].set_title('SE')\n",
    "\n",
    "plt.show()"
   ]
  },
  {
   "cell_type": "markdown",
   "id": "a043402b-5f25-478c-bad3-a713693a3e59",
   "metadata": {},
   "source": [
    "Finally, by taking the mean of the AE and SE columns, we obtain the results for the loss functions, MAE and MSE. With this, we have computed the values of the two most common loss functions for linear regression."
   ]
  },
  {
   "cell_type": "code",
   "execution_count": null,
   "id": "8fc62797",
   "metadata": {},
   "outputs": [],
   "source": [
    "mae = sorted_df_train_pred['AE'].mean()\n",
    "mse = sorted_df_train_pred['SE'].mean()\n",
    "print('mae = ', mae)\n",
    "print('mse = ', mse)"
   ]
  },
  {
   "cell_type": "markdown",
   "id": "acea8cc2-7479-4e65-8812-6d143e2f075e",
   "metadata": {},
   "source": [
    "You might have already noticed that these two loss functions seem quite similar to the MAE and MSE metrics we learned earlier. You're absolutely right, there is indeed significant overlap between the concepts of loss functions and evaluation metrics, but there are also key differences. In the next segment, we will thoroughly analyze these distinctions."
   ]
  },
  {
   "cell_type": "markdown",
   "id": "88b5f10b-9566-47b7-a95d-945c240b26fa",
   "metadata": {},
   "source": [
    "<img src=\"https://static-1300131294.cos.ap-shanghai.myqcloud.com/images/ml-fundamentals/ml-regression/loss-function/meme-Einstein.png\" alt=\"meme-Einstein\">"
   ]
  },
  {
   "cell_type": "markdown",
   "id": "2604c01f-ebf7-4ccf-ac24-c6aa193d41d2",
   "metadata": {},
   "source": [
    "# Stock Market Prediction Hands-On: Understanding Loss Functions (5/6)"
   ]
  },
  {
   "cell_type": "markdown",
   "id": "68374bcb-917b-4094-96e9-4812c83871d0",
   "metadata": {},
   "source": [
    "\n",
    "Loss functions and evaluation metrics share common ground in that they are both used to assess a model's predictive capabilities. In fact, terms like MAE or MSE are statistical concepts that can serve both as evaluation metrics and as loss functions, with identical mathematical calculations.\n",
    "\n",
    "The code blocks above compute MAE and MSE as loss functions, while the code blocks below calculate MAE and MSE as evaluation metrics. If the input data is the same, the results will be entirely identical."
   ]
  },
  {
   "cell_type": "code",
   "execution_count": null,
   "id": "6abe54c1",
   "metadata": {},
   "outputs": [],
   "source": [
    "mae = sorted_df_train_pred['AE'].mean()\n",
    "mse = sorted_df_train_pred['SE'].mean()\n",
    "print('mae = ', mae)\n",
    "print('mse = ', mse)"
   ]
  },
  {
   "cell_type": "code",
   "execution_count": null,
   "id": "3cf189b7",
   "metadata": {},
   "outputs": [],
   "source": [
    "mae2 = metrics.mean_absolute_error(y_train, y_train_pred)\n",
    "mse2 = metrics.mean_squared_error(y_train, y_train_pred)\n",
    "print('mae2 = ', mae2)\n",
    "print('mse2 = ', mse2)"
   ]
  },
  {
   "cell_type": "markdown",
   "id": "ba0a0d59-4209-4cca-b372-6fbb76c3585f",
   "metadata": {},
   "source": [
    "So, what are the key differences between loss functions and evaluation metrics? \n",
    "\n",
    "Firstly, evaluation metrics include concepts like R-squared and explained variance, which are not present in loss functions. \n",
    "\n",
    "Secondly, their purposes differ; loss functions are primarily used during model training to help the model gradually adjust its parameters to minimize prediction errors. In contrast, evaluation metrics are used to summarize and compare the performance of a trained model, to understand the overall effectiveness of the model, or to compare the performance differences between different models, guiding model selection.\n",
    "\n",
    "Thirdly, their optimization directions are different. With loss functions, the goal is typically to minimize them because smaller loss values imply that the predicted values are closer to the actual values. In contrast, for evaluation metrics, the goal is often to maximize their values; for example, in the case of R-squared, higher values indicate better model performance. This difference reflects the distinct roles of loss functions and evaluation metrics in machine learning tasks. \n",
    "\n",
    "Finally, as mentioned in the previous segment, loss functions are often calculated on the training set, while evaluation metrics are typically computed on the test set, with fewer instances of calculating them on the training set.\n"
   ]
  },
  {
   "cell_type": "markdown",
   "id": "71aeba1f-dbaf-4fcf-a1b9-161438d7c2f6",
   "metadata": {},
   "source": [
    "<img src=\"https://static-1300131294.cos.ap-shanghai.myqcloud.com/images/ml-fundamentals/ml-regression/loss-function/Metric-formula.png\" alt=\"Metric-formula\">\n",
    "\n",
    "<img src=\"https://static-1300131294.cos.ap-shanghai.myqcloud.com/images/ml-fundamentals/ml-regression/loss-function/loss-function-formula.png\" alt=\"loss-function-formula\">"
   ]
  },
  {
   "cell_type": "markdown",
   "id": "16b188b4-5e1e-49e4-87f8-494298335f75",
   "metadata": {},
   "source": [
    "You're absolutely right, these differences might seem a bit overwhelming at first, but don't worry! In regression tasks, the distinctions between loss functions and evaluation metrics might not be as pronounced as in classification tasks. This was just a setup to introduce the concepts of evaluation metrics and loss functions.\n",
    "\n",
    "In classification tasks, we'll revisit the concepts of evaluation metrics and loss functions, and their differences will become clearer. As you gain a more comprehensive understanding of machine learning, these pieces of knowledge will gradually come together and become more straightforward.\n"
   ]
  },
  {
   "cell_type": "markdown",
   "id": "90c4494f-31fa-42bf-a11e-e2ca5ac81178",
   "metadata": {},
   "source": [
    "# Stock Market Prediction Hands-On: Optimizing Models with Gradient Descent (6/6)"
   ]
  },
  {
   "cell_type": "markdown",
   "id": "7840fdc1-8da5-4bfc-9aa8-7cc5b83a8e32",
   "metadata": {},
   "source": [
    "In previous segments, we used sklearn's LinearRegression to train on real U.S. stock market data, employed a linear regression model for stock price prediction, and calculated the model's loss functions. Another option for solving linear regression models is to use SGDRegressor. Here, SGD stands for Stochastic Gradient Descent, and you don't need to worry about its details for now; we'll be learning about it soon."
   ]
  },
  {
   "cell_type": "markdown",
   "id": "19462b49-a21c-4f9a-969a-7087d04f4a24",
   "metadata": {},
   "source": [
    "<img src=\"https://static-1300131294.cos.ap-shanghai.myqcloud.com/images/ml-fundamentals/ml-regression/loss-function/stochastic-gradient-descent.png\" alt=\"stochastic-gradient-descent\">"
   ]
  },
  {
   "cell_type": "markdown",
   "id": "0ebe5104-a6b8-49e6-a43f-58789aac57bc",
   "metadata": {},
   "source": [
    "The training process of SGDRegressor is iterative, and we can keep track of the changes in the loss function during training. This allows us to utilize the loss function to optimize the model.\n",
    "\n",
    "We start from the model's initial state and train for 100 epochs, which means 100 rounds of training, recording the loss function after each round in an array. Please note that our loss function is calculated on the training dataset."
   ]
  },
  {
   "cell_type": "code",
   "execution_count": null,
   "id": "4e92df97",
   "metadata": {},
   "outputs": [],
   "source": [
    "from sklearn.linear_model import SGDRegressor\n",
    "\n",
    "regressor = SGDRegressor(eta0=0.0005)\n",
    "losses = []\n",
    "epochs = 100\n",
    "\n",
    "for epoch in range(epochs):\n",
    "    regressor.partial_fit(X_train, y_train)\n",
    "    loss = (regressor.predict(X_train) - y_train).abs().mean()\n",
    "    losses.append(loss)"
   ]
  },
  {
   "cell_type": "markdown",
   "id": "6dbb08ce-a0e1-4a72-a836-bf9fe7ce3732",
   "metadata": {},
   "source": [
    "We use Matplotlib to plot the results of the first 30 loss functions. As we can see, with an increase in epochs, the loss function gradually decreases. Moreover, the early epochs show a relatively rapid decline, while the later epochs exhibit a slower decrease."
   ]
  },
  {
   "cell_type": "code",
   "execution_count": null,
   "id": "e07e167d",
   "metadata": {},
   "outputs": [],
   "source": [
    "fig = plt.figure(figsize=(7, 4))\n",
    "plt.plot(losses[:30], marker='o', markersize=10, color='green')\n",
    "plt.xlabel('epoch')\n",
    "plt.ylabel('loss')\n",
    "plt.show()"
   ]
  },
  {
   "cell_type": "markdown",
   "id": "5b5dc384-e15d-44f8-a0c0-ca8148241a3d",
   "metadata": {},
   "source": [
    "\n",
    "Furthermore, we plot the results of the loss function for all 100 training epochs. It's evident that the loss value keeps decreasing in the early epochs and only starts stabilizing after around 60 epochs.\n"
   ]
  },
  {
   "cell_type": "code",
   "execution_count": null,
   "id": "1bc2ccd1",
   "metadata": {},
   "outputs": [],
   "source": [
    "fig = plt.figure(figsize=(7, 4))\n",
    "plt.plot(losses, color='green')\n",
    "plt.xlabel('epoch')\n",
    "plt.ylabel('loss')\n",
    "plt.show()"
   ]
  },
  {
   "cell_type": "markdown",
   "id": "4f48e207-c4df-433f-bd02-29629a129f50",
   "metadata": {},
   "source": [
    "You might be curious about what's happening behind the scenes when the loss function of the SGDRegressor model decreases during training. Let's print the model's `coef_` attribute, which represents the coefficients of the linear model. Starting with the model obtained after one training epoch, we get the following results."
   ]
  },
  {
   "cell_type": "code",
   "execution_count": null,
   "id": "0b671069",
   "metadata": {},
   "outputs": [],
   "source": [
    "from sklearn.linear_model import SGDRegressor\n",
    "\n",
    "regressor1 = SGDRegressor(eta0=0.0005)\n",
    "epochs = 1\n",
    "\n",
    "for epoch in range(epochs):\n",
    "    regressor1.partial_fit(X_train, y_train)\n",
    "    \n",
    "regressor1.coef_"
   ]
  },
  {
   "cell_type": "markdown",
   "id": "1c48f74d-372f-491a-8f63-94628e0ad50b",
   "metadata": {},
   "source": [
    "Next, here are the model parameters after 10 training epochs, and we obtain the following results.\n"
   ]
  },
  {
   "cell_type": "code",
   "execution_count": null,
   "id": "0e15d9ef",
   "metadata": {},
   "outputs": [],
   "source": [
    "from sklearn.linear_model import SGDRegressor\n",
    "\n",
    "regressor10 = SGDRegressor(eta0=0.0005)\n",
    "epochs = 10\n",
    "\n",
    "for epoch in range(epochs):\n",
    "    regressor10.partial_fit(X_train, y_train)\n",
    "    \n",
    "regressor10.coef_"
   ]
  },
  {
   "cell_type": "markdown",
   "id": "04403b19-938a-4650-9d75-ef0c03ab3f58",
   "metadata": {},
   "source": [
    "Finally, when we examine the model parameters after 100 training epochs, we observe that the linear model's parameters continue to change with an increase in training epochs."
   ]
  },
  {
   "cell_type": "code",
   "execution_count": null,
   "id": "8ff44ace",
   "metadata": {},
   "outputs": [],
   "source": [
    "from sklearn.linear_model import SGDRegressor\n",
    "\n",
    "regressor100 = SGDRegressor(eta0=0.0005)\n",
    "epochs = 100\n",
    "\n",
    "for epoch in range(epochs):\n",
    "    regressor100.partial_fit(X_train, y_train)\n",
    "    \n",
    "regressor100.coef_"
   ]
  },
  {
   "cell_type": "markdown",
   "id": "cb75974d-4f48-41d5-a7fd-e11734cffaca",
   "metadata": {},
   "source": [
    "In essence, you can think of it this way: during the training process of the SGDRegressor model, the algorithm is continually trying to reduce the loss function. In other words, this is the direction of model optimization. Each training round of SGDRegressor results in a new model, which can yield a new loss function value on the training dataset. If the algorithm consistently finds a smaller loss function value in each iteration compared to the previous one, the model becomes incrementally more optimized with each round. Consequently, as the number of training epochs increases, the loss function tends to decrease until it stabilizes, and the model's parameters change along with it, ultimately achieving the optimal result."
   ]
  },
  {
   "cell_type": "markdown",
   "id": "c2a05c02-239e-4fdc-9f98-cbd963c58dd4",
   "metadata": {},
   "source": [
    "<img src=\"https://static-1300131294.cos.ap-shanghai.myqcloud.com/images/ml-fundamentals/ml-regression/loss-function/chart.gif\" alt=\"dynamic-chart\">"
   ]
  },
  {
   "cell_type": "markdown",
   "id": "e57858b7-2458-4218-be99-2ea6666b25f2",
   "metadata": {},
   "source": [
    "Of course, the explanation here might be a bit simplified, and we will provide more detailed answers in the upcoming gradient descent series. "
   ]
  }
 ],
 "metadata": {
  "kernelspec": {
   "display_name": "Python 3 (ipykernel)",
   "language": "python",
   "name": "python3"
  },
  "language_info": {
   "codemirror_mode": {
    "name": "ipython",
    "version": 3
   },
   "file_extension": ".py",
   "mimetype": "text/x-python",
   "name": "python",
   "nbconvert_exporter": "python",
   "pygments_lexer": "ipython3",
   "version": "3.10.11"
  }
 },
 "nbformat": 4,
 "nbformat_minor": 5
}
