{
 "cells": [
  {
   "cell_type": "markdown",
   "id": "a0a161fa",
   "metadata": {},
   "source": [
    "# Neural network\n",
    "\n",
    "\n",
    "## Neural network with Tensorflow\n",
    "\n",
    "## Linear regression with Tensorflow\n",
    "\n",
    "## Logistic regression with Tensorflow\n",
    "\n",
    "## SVM with Tensorflow\n",
    "\n",
    "\n",
    "<div hidden>\n",
    "  https://insideaiml.com/blog/Hinge-Loss-and-Square-Hinge-loss-1068\n",
    "  https://stackoverflow.com/questions/54414392/convert-sklearn-svm-svc-classifier-to-keras-implementation\n",
    "  https://keras.io/examples/keras_recipes/quasi_svm/\n",
    "</div>\n",
    "\n",
    "<div hidden>\n",
    "  As the first iteration, I d focus mainly on Figures, Gifs and Code.\n",
    "</div>"
   ]
  }
 ],
 "metadata": {
  "jupytext": {
   "cell_metadata_filter": "-all",
   "formats": "md:myst",
   "text_representation": {
    "extension": ".md",
    "format_name": "myst",
    "format_version": 0.13,
    "jupytext_version": "1.11.5"
   }
  },
  "kernelspec": {
   "display_name": "Python 3",
   "language": "python",
   "name": "python3"
  },
  "language_info": {
   "codemirror_mode": {
    "name": "ipython",
    "version": 3
   },
   "file_extension": ".py",
   "mimetype": "text/x-python",
   "name": "python",
   "nbconvert_exporter": "python",
   "pygments_lexer": "ipython3",
   "version": "3.8.13"
  },
  "source_map": [
   14
  ]
 },
 "nbformat": 4,
 "nbformat_minor": 5
}