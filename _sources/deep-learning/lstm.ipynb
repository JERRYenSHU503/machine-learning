{
 "cells": [
  {
   "cell_type": "markdown",
   "id": "def2cb2b",
   "metadata": {},
   "source": [
    "# Long-short term memory\n",
    "\n",
    "As we have learned the normal RNNs on the previous lessons, today we are going to use long-short term memory (LSTM) to fix the problems that are induced from the RNN architecture.\n",
    "\n",
    "```{seealso}\n",
    "The vanilla LSTM is proposed in 2005, the paper is [Bidirectional LSTM Networks for Improved Phoneme Classification and Recognition](https://link.springer.com/chapter/10.1007/11550907_126), and after that, a lot of paper based on it appeared.\n",
    "```\n",
    "\n",
    "## Overview\n",
    "The essential problems of RNN are vanishing/exploding gradient problems.The gradient vanishing/exploding problem is a common issue in training deep neural networks. This problem occurs when the gradient of the loss function with respect to the weights of the network becomes very small or very large.\n",
    "\n",
    "There are several possibilities will bring on this kind of problem, for example:\n",
    "- a poor choice of hyper-parameters,\n",
    "- a poor architecture,\n",
    "- a bug in the code.\n",
    "\n",
    "Luckily, LSTM can use a memory cell for modeling long-range dependencies and avoid vanishing/exploding gradient problems.\n",
    "\n",
    "First, let's see the architecture of LSTM cell.\n",
    "\n",
    ":::{figure-md} LSTM cell\n",
    "<img src=\"../../images/deep-learning/LSTM/LSTM_cell.png\" width=\"90%\" class=\"bg-white mb-1\">\n",
    "\n",
    "Illustration of LSTM unit {cite}`LSTM_cell`\n",
    ":::\n",
    "\n",
    "It looks like the cell of RNN, but there are still some differences between them. The same part is the direction of data, one input and two outputs. \n",
    "However, the LSTM cell adds a cell state $c^{<t>}$, which updates with the time. $c^{<t-1>}$ means cell state at previous time step and $c^{<t-1>}$ means cell state at current time step.\n",
    "The $h^{t}$ is still the activation.\n",
    "\n",
    ":::{figure-md} LSTM cell state\n",
    "<img src=\"../../images/deep-learning/LSTM/cell_state.png\" width=\"90%\" class=\"bg-white mb-1\">\n",
    "\n",
    "LSTM unit of state c {cite}`LSTM_cell_state`\n",
    ":::\n",
    "\n",
    "## Special Gates\n",
    "Then, we take a look at the inside of cell. $\\bigodot$ means element-wise multiplication operator, $\\bigoplus$ means element-wise addition operator and $\\sigma$ means logistic sigmoid activation functions.\n",
    "\n",
    "Now, we should pay attention to 'Gates'. \n",
    "\n",
    "The first is 'Forget Gate' $f$, and it controls which information is remembered, and which is forgotten; can reset the cell state. This function can be written as $f_t = \\sigma (W_{fx}x^{<t>} + W_{fh}h^{<t-1>} + b_f)$\n",
    "\n",
    "Next, 'Input Gate' is $i_t = \\sigma(W_{ix}x^{<t>} + W_{ih}h^{<t-1>} + b_i)$ and 'Input Node' is $g_t = tanh(W_{gt}x^{<t>} + W_{gh}x^{<t-1>} + b_g)$.\n",
    "\n",
    "To brief summarize the previous gates in an expression: $C^{<t>} = (C^{<t-1>} \\bigodot f_t) \\bigoplus (i_t \\bigodot g_t)$. Since $i_t$ is 'Input Gate' and $g_t$ is 'Input Gate', $(i_t \\bigodot g_t)$ is for updatting the cell state.\n",
    "\n",
    "Finally, 'Output Gate' is for updating the values of hidden units: $o_t = \\sigma(W_{ox}x^{<t>} + W_{oh}x^{<t-1>} + b_o)$. So the activateion of the current time is $h^{<t>} = o_t \\bigodot tanh(C^{<t>})$.\n",
    "\n",
    "### Code\n",
    "Here we implement an LSTM model on all a data set of Shakespeare works."
   ]
  },
  {
   "cell_type": "code",
   "execution_count": null,
   "id": "93d8f4da",
   "metadata": {},
   "outputs": [],
   "source": [
    "import os\n",
    "import re\n",
    "import string\n",
    "import requests\n",
    "import numpy as np\n",
    "import collections\n",
    "import random\n",
    "import pickle\n",
    "import matplotlib.pyplot as plt\n",
    "import tensorflow as tf\n",
    "from tensorflow.python.framework import ops\n",
    "ops.reset_default_graph()\n",
    "tf.config.run_functions_eagerly(True)"
   ]
  },
  {
   "cell_type": "markdown",
   "id": "6aa23185",
   "metadata": {},
   "source": [
    "Set RNN Parameters."
   ]
  },
  {
   "cell_type": "code",
   "execution_count": null,
   "id": "9f3e1119",
   "metadata": {},
   "outputs": [],
   "source": [
    "min_word_freq = 5  # Trim the less frequent words off\n",
    "rnn_size = 128  # RNN Model size\n",
    "epochs = 10  # Number of epochs to cycle through data\n",
    "batch_size = 100  # Train on this many examples at once\n",
    "learning_rate = 0.001  # Learning rate\n",
    "training_seq_len = 50  # how long of a word group to consider\n",
    "embedding_size = rnn_size  # Word embedding size\n",
    "save_every = 500  # How often to save model checkpoints\n",
    "eval_every = 50  # How often to evaluate the test sentences\n",
    "prime_texts = ['thou art more', 'to be or not to', 'wherefore art thou']"
   ]
  },
  {
   "cell_type": "markdown",
   "id": "ad2b4c86",
   "metadata": {},
   "source": [
    "Download/store Shakespeare data."
   ]
  },
  {
   "cell_type": "code",
   "execution_count": null,
   "id": "0f77ef59",
   "metadata": {},
   "outputs": [],
   "source": [
    "data_dir = 'tmp'\n",
    "data_file = 'shakespeare.txt'\n",
    "model_path = 'shakespeare_model'\n",
    "full_model_dir = os.path.join(data_dir, model_path)"
   ]
  },
  {
   "cell_type": "markdown",
   "id": "62326ec4",
   "metadata": {},
   "source": [
    "Declare punctuation to remove, everything except hyphens and apostrophes."
   ]
  },
  {
   "cell_type": "code",
   "execution_count": null,
   "id": "7be42b98",
   "metadata": {},
   "outputs": [],
   "source": [
    "punctuation = string.punctuation\n",
    "punctuation = ''.join([x for x in punctuation if x not in ['-', \"'\"]])"
   ]
  },
  {
   "cell_type": "markdown",
   "id": "bcbad7b9",
   "metadata": {},
   "source": [
    "Make Model Directory."
   ]
  },
  {
   "cell_type": "code",
   "execution_count": null,
   "id": "7324b67d",
   "metadata": {},
   "outputs": [],
   "source": [
    "if not os.path.exists(full_model_dir):\n",
    "    os.makedirs(full_model_dir)"
   ]
  },
  {
   "cell_type": "markdown",
   "id": "f01b5c63",
   "metadata": {},
   "source": [
    "Make data directory."
   ]
  },
  {
   "cell_type": "code",
   "execution_count": null,
   "id": "fc31ee62",
   "metadata": {},
   "outputs": [],
   "source": [
    "if not os.path.exists(data_dir):\n",
    "    os.makedirs(data_dir)\n",
    "print('Loading Shakespeare Data')"
   ]
  },
  {
   "cell_type": "markdown",
   "id": "397ecf04",
   "metadata": {},
   "source": [
    "Check if file is downloaded."
   ]
  },
  {
   "cell_type": "code",
   "execution_count": null,
   "id": "becfab48",
   "metadata": {},
   "outputs": [],
   "source": [
    "if not os.path.isfile(os.path.join(data_dir, data_file)):\n",
    "    print('Not found, downloading Shakespeare texts from www.gutenberg.org')\n",
    "    shakespeare_url = 'http://www.gutenberg.org/cache/epub/100/pg100.txt'\n",
    "    # Get Shakespeare text\n",
    "    response = requests.get(shakespeare_url)\n",
    "    shakespeare_file = response.content\n",
    "    # Decode binary into string\n",
    "    s_text = shakespeare_file.decode('utf-8')\n",
    "    # Drop first few descriptive paragraphs.\n",
    "    s_text = s_text[7675:]\n",
    "    # Remove newlines\n",
    "    s_text = s_text.replace('\\r\\n', '')\n",
    "    s_text = s_text.replace('\\n', '')\n",
    "    \n",
    "    # Write to file\n",
    "    with open(os.path.join(data_dir, data_file), 'w') as out_conn:\n",
    "        out_conn.write(s_text)\n",
    "else:\n",
    "    # If file has been saved, load from that file\n",
    "    with open(os.path.join(data_dir, data_file), 'r') as file_conn:\n",
    "        s_text = file_conn.read().replace('\\n', '')"
   ]
  },
  {
   "cell_type": "markdown",
   "id": "e318b640",
   "metadata": {},
   "source": [
    "Clean text."
   ]
  },
  {
   "cell_type": "code",
   "execution_count": null,
   "id": "ed364a53",
   "metadata": {},
   "outputs": [],
   "source": [
    "print('Cleaning Text')\n",
    "s_text = re.sub(r'[{}]'.format(punctuation), ' ', s_text)\n",
    "s_text = re.sub('\\s+', ' ', s_text).strip().lower()"
   ]
  },
  {
   "cell_type": "markdown",
   "id": "9e5a620b",
   "metadata": {},
   "source": [
    "Build word vocabulary function."
   ]
  },
  {
   "cell_type": "code",
   "execution_count": null,
   "id": "f1da8fbe",
   "metadata": {},
   "outputs": [],
   "source": [
    "def build_vocab(text, min_freq):\n",
    "    word_counts = collections.Counter(text.split(' '))\n",
    "    # limit word counts to those more frequent than cutoff\n",
    "    word_counts = {key: val for key, val in word_counts.items() if val > min_freq}\n",
    "    # Create vocab --> index mapping\n",
    "    words = word_counts.keys()\n",
    "    vocab_to_ix_dict = {key: (i_x+1) for i_x, key in enumerate(words)}\n",
    "    # Add unknown key --> 0 index\n",
    "    vocab_to_ix_dict['unknown'] = 0\n",
    "    # Create index --> vocab mapping\n",
    "    ix_to_vocab_dict = {val: key for key, val in vocab_to_ix_dict.items()}\n",
    "    \n",
    "    return ix_to_vocab_dict, vocab_to_ix_dict"
   ]
  },
  {
   "cell_type": "markdown",
   "id": "61fe4f94",
   "metadata": {},
   "source": [
    "Build Shakespeare vocabulary."
   ]
  },
  {
   "cell_type": "code",
   "execution_count": null,
   "id": "3b796d0e",
   "metadata": {},
   "outputs": [],
   "source": [
    "print('Building Shakespeare Vocab')\n",
    "ix2vocab, vocab2ix = build_vocab(s_text, min_word_freq)\n",
    "vocab_size = len(ix2vocab) + 1\n",
    "print('Vocabulary Length = {}'.format(vocab_size))"
   ]
  },
  {
   "cell_type": "markdown",
   "id": "6d507ae4",
   "metadata": {},
   "source": [
    "Sanity Check."
   ]
  },
  {
   "cell_type": "code",
   "execution_count": null,
   "id": "95e50eb6",
   "metadata": {},
   "outputs": [],
   "source": [
    "assert(len(ix2vocab) == len(vocab2ix))"
   ]
  },
  {
   "cell_type": "markdown",
   "id": "9fb906a6",
   "metadata": {},
   "source": [
    "Convert text to word vectors."
   ]
  },
  {
   "cell_type": "code",
   "execution_count": null,
   "id": "a382ebac",
   "metadata": {},
   "outputs": [],
   "source": [
    "s_text_words = s_text.split(' ')\n",
    "s_text_ix = []\n",
    "for ix, x in enumerate(s_text_words):\n",
    "    try:\n",
    "        s_text_ix.append(vocab2ix[x])\n",
    "    except KeyError:\n",
    "        s_text_ix.append(0)\n",
    "s_text_ix = np.array(s_text_ix)"
   ]
  },
  {
   "cell_type": "markdown",
   "id": "1f23eab4",
   "metadata": {},
   "source": [
    "Define LSTM RNN Model."
   ]
  },
  {
   "cell_type": "code",
   "execution_count": null,
   "id": "80dfb514",
   "metadata": {},
   "outputs": [],
   "source": [
    "class LSTM_Model(tf.keras.Model):\n",
    "    def __init__(self, embedding_size, rnn_size, batch_size, learning_rate,\n",
    "                 training_seq_len, vocab_size, infer_sample=False):\n",
    "        super(LSTM_Model, self).__init__()\n",
    "        self.embedding_size = embedding_size\n",
    "        self.rnn_size = rnn_size\n",
    "        self.vocab_size = vocab_size\n",
    "        self.infer_sample = infer_sample\n",
    "        self.learning_rate = learning_rate\n",
    "        \n",
    "        if infer_sample:\n",
    "            self.batch_size = 1\n",
    "            self.training_seq_len = 1\n",
    "        else:\n",
    "            self.batch_size = batch_size\n",
    "            self.training_seq_len = training_seq_len\n",
    "        \n",
    "        self.lstm = tf.keras.layers.LSTM(self.rnn_size, return_sequences=True, return_state=True)\n",
    "        self.x_data = tf.keras.layers.Input(shape=(self.training_seq_len,), dtype=tf.int32)\n",
    "        self.y_output = tf.keras.layers.Input(shape=(self.training_seq_len,), dtype=tf.int32)\n",
    "        \n",
    "        # Softmax Output Weights\n",
    "        self.W = tf.Variable(tf.random.normal([self.rnn_size, self.vocab_size]), name='W')\n",
    "        self.b = tf.Variable(tf.zeros([self.vocab_size]), name='b')\n",
    "        \n",
    "        # Define Embedding\n",
    "        self.embedding_mat = tf.Variable(tf.random.normal([self.vocab_size, self.embedding_size]), name='embedding_mat')\n",
    "                                            \n",
    "        embedding_output = tf.nn.embedding_lookup(self.embedding_mat, self.x_data)\n",
    "        outputs, last_state, _ = self.lstm(embedding_output)\n",
    "        \n",
    "        # Non inferred outputs\n",
    "        output = tf.reshape(tf.concat(axis=1, values=outputs), [-1, self.rnn_size])\n",
    "        # Logits and output\n",
    "        self.logit_output = tf.matmul(output, self.W) + self.b\n",
    "        self.model_output = tf.nn.softmax(self.logit_output)\n",
    "        \n",
    "        loss_fun = tf.keras.losses.sparse_categorical_crossentropy\n",
    "        loss = loss_fun(tf.reshape(self.y_output, [-1]), self.logit_output)\n",
    "        self.cost = tf.reduce_sum(loss) / (self.batch_size * self.training_seq_len)\n",
    "        self.final_state = last_state\n",
    "        optimizer = tf.keras.optimizers.Adam(self.learning_rate)\n",
    "        \n",
    "        @tf.function\n",
    "        def train_step(x, y,state):\n",
    "            with tf.GradientTape() as tape:\n",
    "                embedding_output = tf.nn.embedding_lookup(self.embedding_mat, x)\n",
    "                outputs, last_state, _ = self.lstm(embedding_output,initial_state=state)\n",
    "                output = tf.reshape(tf.concat(axis=1, values=outputs), [-1, self.rnn_size])\n",
    "                logit_output = tf.matmul(output, self.W) + self.b\n",
    "                cost = tf.reduce_sum(loss_fun(tf.reshape(y, [-1]), logit_output)) / (self.batch_size * self.training_seq_len)\n",
    "\n",
    "            trainable_variables = self.trainable_variables\n",
    "            gradients = tape.gradient(cost, trainable_variables)\n",
    "            optimizer.apply_gradients(zip(gradients, trainable_variables))\n",
    "            return cost\n",
    "        \n",
    "        self.train_op = train_step\n",
    "        \n",
    "    def call(self, x, initial_state):\n",
    "        embedding_output = tf.nn.embedding_lookup(self.embedding_mat, x)\n",
    "        lstm_output, final_state_h, final_state_c = self.lstm(embedding_output, initial_state=initial_state)\n",
    "        output = tf.reshape(tf.concat(axis=1, values=lstm_output), [-1, self.rnn_size])\n",
    "        logit_output = tf.matmul(output, self.W) + self.b\n",
    "        model_output = tf.nn.softmax(logit_output)\n",
    "        return model_output, (final_state_h, final_state_c)\n",
    "    \n",
    "    def loss(self, targets, logits):\n",
    "        loss_fun = tf.keras.losses.sparse_categorical_crossentropy\n",
    "        loss = loss_fun(targets, logits)\n",
    "        return tf.reduce_mean(loss)\n",
    "\n",
    "    def get_initial_state(self, batch_size):\n",
    "        return [tf.zeros((batch_size, self.lstm.units)) for i in range(2)]\n",
    "        \n",
    "    def sample(self, words=ix2vocab, vocab=vocab2ix, num=10, prime_text='art'):\n",
    "        state = [tf.zeros([1, self.rnn_size]), tf.zeros([1, self.rnn_size])]\n",
    "        word_list = prime_text.split()\n",
    "        for word in word_list[:-1]:\n",
    "            print(word)\n",
    "            #x = tf.expand_dims(vocab[word], axis=0)\n",
    "            x = np.zeros((1, 1))\n",
    "            x[0, 0] = vocab[word]\n",
    "            x = tf.cast(x, tf.int32)\n",
    "            print(x)\n",
    "            embedding_output = tf.nn.embedding_lookup(self.embedding_mat, x)\n",
    "            #embedding_output = tf.expand_dims(embedding_output, axis=1)\n",
    "            prediction, state_h, state_c = self.lstm(embedding_output, initial_state=state)\n",
    "            state = [state_h, state_c]\n",
    "\n",
    "        out_sentence = prime_text\n",
    "        word = word_list[-1]\n",
    "        for n in range(num):\n",
    "            #x = tf.expand_dims(vocab[word], axis=0)\n",
    "            x = np.zeros((1, 1))\n",
    "            x[0, 0] = vocab[word]\n",
    "            x = tf.cast(x, tf.int32)\n",
    "            embedding_output = tf.nn.embedding_lookup(self.embedding_mat, x)\n",
    "            prediction, state_h, state_c = self.lstm(embedding_output, initial_state=state)\n",
    "            logits = tf.matmul(prediction, self.W) + self.b\n",
    "            sample = tf.argmax(tf.nn.softmax(logits), axis=1).numpy()[0]\n",
    "            for i in sample:\n",
    "                if i== 0:\n",
    "                     break\n",
    "                print(i)\n",
    "                word = words[i]\n",
    "                out_sentence = out_sentence + ' ' + word\n",
    "            state = [state_h, state_c]\n",
    "        return out_sentence"
   ]
  },
  {
   "cell_type": "markdown",
   "id": "6d575ef8",
   "metadata": {},
   "source": [
    "Define LSTM Model."
   ]
  },
  {
   "cell_type": "code",
   "execution_count": null,
   "id": "4608ca8c",
   "metadata": {},
   "outputs": [],
   "source": [
    "lstm_model = LSTM_Model(embedding_size, rnn_size, batch_size, learning_rate,\n",
    "                             training_seq_len, vocab_size, infer_sample=True) "
   ]
  },
  {
   "cell_type": "markdown",
   "id": "60c52d3b",
   "metadata": {},
   "source": [
    "Train model."
   ]
  },
  {
   "cell_type": "code",
   "execution_count": null,
   "id": "7b09f8de",
   "metadata": {},
   "outputs": [],
   "source": [
    "num_batches = int(len(s_text_ix)/(batch_size * training_seq_len)) + 1\n",
    "batches = np.array_split(s_text_ix, num_batches)\n",
    "batches = [np.resize(x, [batch_size, training_seq_len]) for x in batches]\n",
    "print(batches)\n",
    "print(batch_size)\n",
    "test_lstm_model = LSTM_Model(embedding_size, rnn_size, batch_size, learning_rate,\n",
    "                             training_seq_len, vocab_size, infer_sample=True)\n",
    "num_batches = int(len(s_text_ix)/(batch_size * training_seq_len)) + 1\n",
    "batches = np.array_split(s_text_ix, num_batches)\n",
    "batches = [np.resize(x, [batch_size, training_seq_len]) for x in batches]\n",
    "print(batches)\n",
    "print(batch_size)\n",
    "train_loss = []\n",
    "iteration_count = 1\n",
    "state = lstm_model.get_initial_state(batch_size)\n",
    "for epoch in range(epochs):\n",
    "    # Shuffle word indices\n",
    "    print('Starting Epoch #{} of {}.'.format(epoch+1, epochs))\n",
    "    random.shuffle(batches)\n",
    "    # Create targets from shuffled batches\n",
    "    targets = [np.roll(x, -1, axis=1) for x in batches]\n",
    "    # Run a through one epoch\n",
    "    print('Starting Epoch #{} of {}.'.format(epoch+1, epochs))\n",
    "    # Reset initial LSTM state every epoch\n",
    "    #state = lstm_model.get_initial_state(batch_size)\n",
    "    #state = sess.run(lstm_model.initial_state)\n",
    "    for ix, batch in enumerate(batches):\n",
    "        batch_loss = lstm_model.train_op(batch, targets[ix],state)\n",
    "        train_loss.append(batch_loss)\n",
    "        print('Loss = {}'.format(batch_loss))\n",
    "\n",
    "generated_text = lstm_model.sample(words=ix2vocab, vocab=vocab2ix, num=20, prime_text='oh my')\n",
    "print(generated_text)"
   ]
  },
  {
   "cell_type": "markdown",
   "id": "f6d37cb7",
   "metadata": {},
   "source": [
    "Plot loss over time."
   ]
  },
  {
   "cell_type": "code",
   "execution_count": null,
   "id": "a7136c38",
   "metadata": {},
   "outputs": [],
   "source": [
    "x = range(len(train_loss))\n",
    "plt.plot(x, train_loss, 'k-')\n",
    "plt.xlabel('Generation')\n",
    "plt.ylabel('Loss')\n",
    "plt.title('Sequence to Sequence Loss')\n",
    "plt.show()"
   ]
  },
  {
   "cell_type": "markdown",
   "id": "33043359",
   "metadata": {},
   "source": [
    "## Your turn! 🚀\n",
    "\n",
    "Practice the Long-Short Term Memory Networks by following this TBD.\n",
    "\n",
    "## Acknowledgments\n",
    "\n",
    "Thanks to [Nick](https://github.com/nfmcclure) for creating the open-source project [tensorflow_cookbook](https://github.com/nfmcclure/tensorflow_cookbook) and [Sebastian Raschka](https://github.com/rasbt) for creating the open-source project [stat453-deep-learning-ss20](https://github.com/rasbt/stat453-deep-learning-ss20). They inspire the majority of the content in this chapter.\n",
    "\n",
    "---\n",
    "\n",
    "```{bibliography}\n",
    ":filter: docname in docnames\n",
    "```"
   ]
  }
 ],
 "metadata": {
  "jupytext": {
   "cell_metadata_filter": "-all",
   "formats": "md:myst",
   "text_representation": {
    "extension": ".md",
    "format_name": "myst",
    "format_version": 0.13,
    "jupytext_version": "1.11.5"
   }
  },
  "kernelspec": {
   "display_name": "Python 3",
   "language": "python",
   "name": "python3"
  },
  "source_map": [
   14,
   68,
   82,
   85,
   96,
   99,
   104,
   107,
   110,
   113,
   116,
   119,
   123,
   126,
   148,
   151,
   155,
   158,
   172,
   175,
   180,
   183,
   185,
   188,
   197,
   200,
   310,
   313,
   316,
   319,
   353,
   356,
   363
  ]
 },
 "nbformat": 4,
 "nbformat_minor": 5
}