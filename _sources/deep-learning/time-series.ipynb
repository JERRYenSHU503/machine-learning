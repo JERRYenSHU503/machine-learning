{
 "cells": [
  {
   "cell_type": "markdown",
   "id": "eb64eaeb",
   "metadata": {},
   "source": [
    "# Time series\n",
    "\n",
    "## Overiew\n",
    "\n",
    "Time series forecasting is a broad field with a long history and forcasting is perhaps the most common application in the real world. Businesses forecast product demand, governments forecast economic and population growth, meteorologists forecast the weather. The understanding of things to come is a pressing need across science, government, and industry (not to mention our personal lives!), and practitioners in these fields are increasingly applying machine learning to address this need.\n",
    "\n",
    "After finishing this course, you'll know how to:\n",
    "\n",
    "- engineer features to model the major time series components (trends, seasons, and cycles),\n",
    "- visualize time series with many kinds of time series plots,\n",
    "- create forecasting hybrids that combine the strengths of complementary models, and\n",
    "- adapt machine learning methods to a variety of forecasting tasks.\n",
    "\n",
    "## What is a Time Series?\n",
    "\n",
    "The basic object of forecasting is the time series, which is a set of observations recorded over time. In forecasting applications, the observations are typically recorded with a regular frequency, like daily or monthly.\n",
    "\n",
    "```{seealso}\n",
    "kaggle kernels output ryanholbrook/linear-regression-with-time-series -p /path/to/dest\n",
    "https://www.kaggle.com/competitions/store-sales-time-series-forecasting\n",
    "```"
   ]
  },
  {
   "cell_type": "code",
   "execution_count": null,
   "id": "5335c9cb",
   "metadata": {},
   "outputs": [],
   "source": [
    "import pandas as pd\n",
    "df = pd.read_csv(\n",
    "    \"../assets/data/book_sales.csv\",\n",
    "    index_col='Date',\n",
    "    parse_dates=['Date'],\n",
    ").drop('Paperback', axis=1)\n",
    "df.head()"
   ]
  },
  {
   "cell_type": "markdown",
   "id": "c01e4b09",
   "metadata": {},
   "source": [
    "This series records the number of hardcover book sales at a retail store over 30 days. Notice that we have a single column of observations $Hardcover$ with a time index $Date$.\n",
    "\n",
    "## Linear Regression with Time Series\n",
    "\n",
    "For the first part of this course, we'll use the linear regression algorithm to construct forecasting models. Linear regression is widely used in practice and adapts naturally to even complex forecasting tasks.\n",
    "\n",
    "The linear regression algorithm learns how to make a weighted sum from its input features. For two features, we would have:\n",
    "\n",
    "$target = weight_1 * feature_1 + weight_2 * feature_2 + bias$\n",
    "\n",
    "During training, the regression algorithm learns values for the parameters $weight_1$, $weight_2$, and $bias$ that best fit the $target$. (This algorithm is often called ordinary least squares since it chooses values that minimize the squared error between the target and the predictions.) The weights are also called regression coefficients and the bias is also called the intercept because it tells you where the graph of this function crosses the y-axis.\n",
    "\n",
    "### Time-step features\n",
    "\n",
    "There are two kinds of features unique to time series: time-step features and lag features.\n",
    "\n",
    "Time-step features are features we can derive directly from the time index. The most basic time-step feature is the time dummy, which counts off time steps in the series from beginning to end."
   ]
  },
  {
   "cell_type": "code",
   "execution_count": null,
   "id": "5f98faf2",
   "metadata": {},
   "outputs": [],
   "source": [
    "import numpy as np\n",
    "df['Time'] = np.arange(len(df.index))\n",
    "df.head()"
   ]
  },
  {
   "cell_type": "markdown",
   "id": "8540bddc",
   "metadata": {},
   "source": [
    "Linear regression with the time dummy produces the model:\n",
    "\n",
    "$target = weight * time + bias$\n",
    "\n",
    "The time dummy then lets us fit curves to time series in a time plot, where Time forms the x-axis."
   ]
  },
  {
   "cell_type": "code",
   "execution_count": null,
   "id": "a906abcd",
   "metadata": {},
   "outputs": [],
   "source": [
    "import matplotlib.pyplot as plt\n",
    "import seaborn as sns\n",
    "plt.style.use(\"seaborn-whitegrid\")\n",
    "plt.rc(\n",
    "    \"figure\",\n",
    "    autolayout=True,\n",
    "    figsize=(11, 4),\n",
    "    titlesize=18,\n",
    "    titleweight='bold',\n",
    ")\n",
    "plt.rc(\n",
    "    \"axes\",\n",
    "    labelweight=\"bold\",\n",
    "    labelsize=\"large\",\n",
    "    titleweight=\"bold\",\n",
    "    titlesize=16,\n",
    "    titlepad=10,\n",
    ")\n",
    "%config InlineBackend.figure_format = 'retina'\n",
    "\n",
    "fig, ax = plt.subplots()\n",
    "ax.plot('Time', 'Hardcover', data=df, color='0.75')\n",
    "ax = sns.regplot(x='Time', y='Hardcover', data=df, ci=None, scatter_kws=dict(color='0.25'))\n",
    "ax.set_title('Time Plot of Hardcover Sales');"
   ]
  },
  {
   "cell_type": "markdown",
   "id": "d03e6f51",
   "metadata": {},
   "source": [
    "Time-step features let you model time dependence. A series is time dependent if its values can be predicted from the time they occured. In the Hardcover Sales series, we can predict that sales later in the month are generally higher than sales earlier in the month.\n",
    "\n",
    "### Lag features\n",
    "\n",
    "To make a lag feature we shift the observations of the target series so that they appear to have occured later in time. Here we've created a 1-step lag feature, though shifting by multiple steps is possible too."
   ]
  },
  {
   "cell_type": "code",
   "execution_count": null,
   "id": "91958783",
   "metadata": {},
   "outputs": [],
   "source": [
    "df['Lag_1'] = df['Hardcover'].shift(1)\n",
    "df = df.reindex(columns=['Hardcover', 'Lag_1'])\n",
    "df.head()"
   ]
  },
  {
   "cell_type": "markdown",
   "id": "8be72556",
   "metadata": {},
   "source": [
    "Linear regression with a lag feature produces the model: $target = weight * lag + bias$. So lag features let us fit curves to lag plots where each observation in a series is plotted against the previous observation."
   ]
  },
  {
   "cell_type": "code",
   "execution_count": null,
   "id": "b0250a5d",
   "metadata": {},
   "outputs": [],
   "source": [
    "fig, ax = plt.subplots()\n",
    "ax = sns.regplot(x='Lag_1', y='Hardcover', data=df, ci=None, scatter_kws=dict(color='0.25'))\n",
    "ax.set_aspect('equal')\n",
    "ax.set_title('Lag Plot of Hardcover Sales');"
   ]
  },
  {
   "cell_type": "markdown",
   "id": "fbf00651",
   "metadata": {},
   "source": [
    "You can see from the lag plot that sales on one day $(Hardcover)$ are correlated with sales from the previous day $(Lag_1)$. When you see a relationship like this, you know a lag feature will be useful.\n",
    "\n",
    "More generally, lag features let you model serial dependence. A time series has serial dependence when an observation can be predicted from previous observations. In Hardcover Sales, we can predict that high sales on one day usually mean high sales the next day.\n",
    "\n",
    "Adapting machine learning algorithms to time series problems is largely about feature engineering with the time index and lags. For most of the course, we use linear regression for its simplicity, but these features will be useful whichever algorithm you choose for your forecasting task.\n",
    "\n",
    "## Example - Tunnel Traffic\n",
    "\n",
    "Tunnel Traffic is a time series describing the number of vehicles traveling through the Baregg Tunnel in Switzerland each day from November 2003 to November 2005. In this example, we'll get some practice applying linear regression to time-step features and lag features."
   ]
  },
  {
   "cell_type": "code",
   "execution_count": null,
   "id": "f13255dd",
   "metadata": {},
   "outputs": [],
   "source": [
    "from pathlib import Path\n",
    "from warnings import simplefilter\n",
    "\n",
    "import matplotlib.pyplot as plt\n",
    "import numpy as np\n",
    "import pandas as pd\n",
    "\n",
    "simplefilter(\"ignore\")  # ignore warnings to clean up output cells\n",
    "\n",
    "# Set Matplotlib defaults\n",
    "plt.style.use(\"seaborn-whitegrid\")\n",
    "plt.rc(\"figure\", autolayout=True, figsize=(11, 4))\n",
    "plt.rc(\n",
    "    \"axes\",\n",
    "    labelweight=\"bold\",\n",
    "    labelsize=\"large\",\n",
    "    titleweight=\"bold\",\n",
    "    titlesize=14,\n",
    "    titlepad=10,\n",
    ")\n",
    "plot_params = dict(\n",
    "    color=\"0.75\",\n",
    "    style=\".-\",\n",
    "    markeredgecolor=\"0.25\",\n",
    "    markerfacecolor=\"0.25\",\n",
    "    legend=False,\n",
    ")\n",
    "%config InlineBackend.figure_format = 'retina'\n",
    "\n",
    "\n",
    "# Load Tunnel Traffic dataset\n",
    "data_dir = Path(\"../assets/data\")\n",
    "tunnel = pd.read_csv(data_dir / \"tunnel.csv\", parse_dates=[\"Day\"])\n",
    "\n",
    "# Create a time series in Pandas by setting the index to a date\n",
    "# column. We parsed \"Day\" as a date type by using `parse_dates` when\n",
    "# loading the data.\n",
    "tunnel = tunnel.set_index(\"Day\")\n",
    "\n",
    "# By default, Pandas creates a `DatetimeIndex` with dtype `Timestamp`\n",
    "# (equivalent to `np.datetime64`, representing a time series as a\n",
    "# sequence of measurements taken at single moments. A `PeriodIndex`,\n",
    "# on the other hand, represents a time series as a sequence of\n",
    "# quantities accumulated over periods of time. Periods are often\n",
    "# easier to work with, so that's what we'll use in this course.\n",
    "tunnel = tunnel.to_period()\n",
    "\n",
    "tunnel.head()"
   ]
  },
  {
   "cell_type": "markdown",
   "id": "99aa6bd8",
   "metadata": {},
   "source": [
    "### Time-step feature\n",
    "\n",
    "Provided the time series doesn't have any missing dates, we can create a time dummy by counting out the length of the series."
   ]
  },
  {
   "cell_type": "code",
   "execution_count": null,
   "id": "41602b48",
   "metadata": {},
   "outputs": [],
   "source": [
    "df = tunnel.copy()\n",
    "\n",
    "df['Time'] = np.arange(len(tunnel.index))\n",
    "\n",
    "df.head()"
   ]
  },
  {
   "cell_type": "markdown",
   "id": "8b89b046",
   "metadata": {},
   "source": [
    "The procedure for fitting a linear regression model follows the standard steps for scikit-learn."
   ]
  },
  {
   "cell_type": "code",
   "execution_count": null,
   "id": "f66a1dbb",
   "metadata": {},
   "outputs": [],
   "source": [
    "from sklearn.linear_model import LinearRegression\n",
    "\n",
    "# Training data\n",
    "X = df.loc[:, ['Time']]  # features\n",
    "y = df.loc[:, 'NumVehicles']  # target\n",
    "\n",
    "# Train the model\n",
    "model = LinearRegression()\n",
    "model.fit(X, y)\n",
    "\n",
    "# Store the fitted values as a time series with the same time index as\n",
    "# the training data\n",
    "y_pred = pd.Series(model.predict(X), index=X.index)"
   ]
  },
  {
   "cell_type": "markdown",
   "id": "e24ae9a0",
   "metadata": {},
   "source": [
    "The model actually created is (approximately): $Vehicles = 22.5 * Time + 98176$. Plotting the fitted values over time shows us how fitting linear regression to the time dummy creates the trend line defined by this equation."
   ]
  },
  {
   "cell_type": "code",
   "execution_count": null,
   "id": "43ad7be3",
   "metadata": {},
   "outputs": [],
   "source": [
    "ax = y.plot(**plot_params)\n",
    "ax = y_pred.plot(ax=ax, linewidth=3)\n",
    "ax.set_title('Time Plot of Tunnel Traffic');"
   ]
  },
  {
   "cell_type": "markdown",
   "id": "4a57ce67",
   "metadata": {},
   "source": [
    "### Lag feature\n",
    "\n",
    "Pandas provides us a simple method to lag a series, the $shift$ method."
   ]
  },
  {
   "cell_type": "code",
   "execution_count": null,
   "id": "0cc03105",
   "metadata": {},
   "outputs": [],
   "source": [
    "df['Lag_1'] = df['NumVehicles'].shift(1)\n",
    "df.head()"
   ]
  },
  {
   "cell_type": "markdown",
   "id": "f4bd7a01",
   "metadata": {},
   "source": [
    "When creating lag features, we need to decide what to do with the missing values produced. Filling them in is one option, maybe with 0.0 or \"backfilling\" with the first known value. Instead, we'll just drop the missing values, making sure to also drop values in the target from corresponding dates."
   ]
  },
  {
   "cell_type": "code",
   "execution_count": null,
   "id": "3c37e4b0",
   "metadata": {},
   "outputs": [],
   "source": [
    "from sklearn.linear_model import LinearRegression\n",
    "\n",
    "X = df.loc[:, ['Lag_1']]\n",
    "X.dropna(inplace=True)  # drop missing values in the feature set\n",
    "y = df.loc[:, 'NumVehicles']  # create the target\n",
    "y, X = y.align(X, join='inner')  # drop corresponding values in target\n",
    "\n",
    "model = LinearRegression()\n",
    "model.fit(X, y)\n",
    "\n",
    "y_pred = pd.Series(model.predict(X), index=X.index)"
   ]
  },
  {
   "cell_type": "markdown",
   "id": "b3f5b84a",
   "metadata": {},
   "source": [
    "The lag plot shows us how well we were able to fit the relationship between the number of vehicles one day and the number the previous day."
   ]
  },
  {
   "cell_type": "code",
   "execution_count": null,
   "id": "a7c16449",
   "metadata": {},
   "outputs": [],
   "source": [
    "fig, ax = plt.subplots()\n",
    "ax.plot(X['Lag_1'], y, '.', color='0.25')\n",
    "ax.plot(X['Lag_1'], y_pred)\n",
    "ax.set_aspect('equal')\n",
    "ax.set_ylabel('NumVehicles')\n",
    "ax.set_xlabel('Lag_1')\n",
    "ax.set_title('Lag Plot of Tunnel Traffic');"
   ]
  },
  {
   "cell_type": "markdown",
   "id": "b5a33b27",
   "metadata": {},
   "source": [
    "What does this prediction from a lag feature mean about how well we can predict the series across time? The following time plot shows us how our forecasts now respond to the behavior of the series in the recent past."
   ]
  },
  {
   "cell_type": "code",
   "execution_count": null,
   "id": "b9ef3897",
   "metadata": {},
   "outputs": [],
   "source": [
    "ax = y.plot(**plot_params)\n",
    "ax = y_pred.plot()"
   ]
  },
  {
   "cell_type": "markdown",
   "id": "bef2c5a4",
   "metadata": {},
   "source": [
    "The best time series models will usually include some combination of time-step features and lag features. Over the next few lessons, we'll learn how to engineer features modeling the most common patterns in time series using the features from this lesson as a starting point.\n",
    "\n",
    "## Forecasting With Deep Learning\n",
    "\n",
    "### Defining the Forecasting Task\n",
    "\n",
    "There are two things to establish before designing a forecasting model:\n",
    "\n",
    "- what information is available at the time a forecast is made (features),\n",
    "- the time period during which you require forecasted values (target).\n",
    "\n",
    "The forecast origin is time at which you are making a forecast. Practically, you might consider the forecast origin to be the last time for which you have training data for the time being predicted. Everything up to he origin can be used to create features.\n",
    "\n",
    "The forecast horizon is the time for which you are making a forecast. We often describe a forecast by the number of time steps in its horizon: a \"1-step\" forecast or \"5-step\" forecast, say. The forecast horizon describes the target.\n",
    "\n",
    ":::{figure-md} 01_def\n",
    "<img src=\"../../images/deep-learning/time-series/01_def.png\" width=\"90%\" class=\"bg-white mb-1\">\n",
    "\n",
    "A three-step forecast horizon with a two-step lead time, using four lag features. The figure represents what would be a single row of training data -- data for a single prediction, in other words. \n",
    ":::\n",
    "\n",
    "The time between the origin and the horizon is the lead time (or sometimes latency) of the forecast. A forecast's lead time is described by the number of steps from origin to horizon: a \"1-step ahead\" or \"3-step ahead\" forecast, say. In practice, it may be necessary for a forecast to begin multiple steps ahead of the origin because of delays in data acquisition or processing.\n",
    "\n",
    "### Preparing Data for Forecasting\n",
    "\n",
    "In order to forecast time series with ML algorithms, we need to transform the series into a dataframe we can use with those algorithms. (Unless, of course, you are only using deterministic features like trend and seasonality.)\n",
    "\n",
    "We saw the first half of this process in Lesson 4 when we created a feature set out of lags. The second half is preparing the target. How we do this depends on the forecasting task.\n",
    "\n",
    "Each row in a dataframe represents a single forecast. The time index of the row is the first time in the forecast horizon, but we arrange values for the entire horizon in the same row. For multistep forecasts, this means we are requiring a model to produce multiple outputs, one for each step."
   ]
  },
  {
   "cell_type": "code",
   "execution_count": null,
   "id": "27dd455b",
   "metadata": {},
   "outputs": [],
   "source": [
    "import numpy as np\n",
    "import pandas as pd\n",
    "\n",
    "N = 20\n",
    "ts = pd.Series(\n",
    "    np.arange(N),\n",
    "    index=pd.period_range(start='2010', freq='A', periods=N, name='Year'),\n",
    "    dtype=pd.Int8Dtype,\n",
    ")\n",
    "\n",
    "# Lag features\n",
    "X = pd.DataFrame({\n",
    "    'y_lag_2': ts.shift(2),\n",
    "    'y_lag_3': ts.shift(3),\n",
    "    'y_lag_4': ts.shift(4),\n",
    "    'y_lag_5': ts.shift(5),\n",
    "    'y_lag_6': ts.shift(6),    \n",
    "})\n",
    "\n",
    "# Multistep targets\n",
    "y = pd.DataFrame({\n",
    "    'y_step_3': ts.shift(-2),\n",
    "    'y_step_2': ts.shift(-1),\n",
    "    'y_step_1': ts,\n",
    "})\n",
    "\n",
    "data = pd.concat({'Targets': y, 'Features': X}, axis=1)\n",
    "\n",
    "data.head(10).style.set_properties(['Targets'], **{'background-color': 'LavenderBlush'}) \\\n",
    "                   .set_properties(['Features'], **{'background-color': 'Lavender'})"
   ]
  },
  {
   "cell_type": "markdown",
   "id": "214c4580",
   "metadata": {},
   "source": [
    "The above illustrates how a dataset would be prepared similar to the Defining a Forecast figure: a three-step forecasting task with a two-step lead time using five lag features. The original time series is y_step_1. The missing values we could either fill-in or drop.\n",
    "\n",
    "### Multistep Forecasting Strategies\n",
    "\n",
    "There are a number of strategies for producing the multiple target steps required for a forecast. We'll outline four common strategies, each with strengths and weaknesses.\n",
    "\n",
    "#### Multioutput model\n",
    "\n",
    "Use a model that produces multiple outputs naturally. Linear regression and neural networks can both produce multiple outputs. This strategy is simple and efficient, but not possible for every algorithm you might want to use. XGBoost can't do this, for instance.\n",
    "\n",
    ":::{figure-md} 02_multioutput\n",
    "<img src=\"../../images/deep-learning/time-series/02_multioutput.png\" width=\"90%\" class=\"bg-white mb-1\">\n",
    "\n",
    "Multioutput Model\n",
    ":::\n",
    "\n",
    "#### Direct strategy\n",
    "\n",
    "Train a separate model for each step in the horizon: one model forecasts 1-step ahead, another 2-steps ahead, and so on. Forecasting 1-step ahead is a different problem than 2-steps ahead (and so on), so it can help to have a different model make forecasts for each step. The downside is that training lots of models can be computationally expensive.\n",
    "\n",
    ":::{figure-md} 03_direct\n",
    "<img src=\"../../images/deep-learning/time-series/03_direct.png\" width=\"90%\" class=\"bg-white mb-1\">\n",
    "\n",
    "Direct Strategy\n",
    ":::\n",
    "\n",
    "#### Recursive strategy\n",
    "\n",
    "Train a single one-step model and use its forecasts to update the lag features for the next step. With the recursive method, we feed a model's 1-step forecast back in to that same model to use as a lag feature for the next forecasting step. We only need to train one model, but since errors will propagate from step to step, forecasts can be inaccurate for long horizons.\n",
    "\n",
    ":::{figure-md} 04_recursive\n",
    "<img src=\"../../images/deep-learning/time-series/04_recursive.png\" width=\"90%\" class=\"bg-white mb-1\">\n",
    "\n",
    "Recursive Strategy\n",
    ":::\n",
    "\n",
    "#### DirRec strategy\n",
    "\n",
    "A combination of the direct and recursive strategies: train a model for each step and use forecasts from previous steps as new lag features. Step by step, each model gets an additional lag input. Since each model always has an up-to-date set of lag features, the DirRec strategy can capture serial dependence better than Direct, but it can also suffer from error propagation like Recursive.\n",
    "\n",
    ":::{figure-md} 05_dirrec\n",
    "<img src=\"../../images/deep-learning/time-series/05_dirrec.png\" width=\"90%\" class=\"bg-white mb-1\">\n",
    "\n",
    "DirRec Strategy\n",
    ":::\n",
    "\n",
    "### Example - Flu Trends\n",
    "\n",
    "In this example we'll apply the MultiOutput and Direct strategies to the Flu Trends data from Lesson 4, this time making true forecasts for multiple weeks beyond the training period.\n",
    "\n",
    "We'll define our forecasting task to have an 8-week horizon with a 1-week lead time. In other words, we'll be forecasting eight weeks of flu cases starting with the following week.\n",
    "\n",
    "The hidden cell sets up the example and defines a helper function $plot_multistep$."
   ]
  },
  {
   "cell_type": "code",
   "execution_count": null,
   "id": "2c7a51d4",
   "metadata": {},
   "outputs": [],
   "source": [
    "from pathlib import Path\n",
    "from warnings import simplefilter\n",
    "\n",
    "import matplotlib.pyplot as plt\n",
    "import numpy as np\n",
    "import pandas as pd\n",
    "import seaborn as sns\n",
    "from sklearn.linear_model import LinearRegression\n",
    "from sklearn.metrics import mean_squared_error\n",
    "from sklearn.model_selection import train_test_split\n",
    "from xgboost import XGBRegressor\n",
    "\n",
    "simplefilter(\"ignore\")\n",
    "\n",
    "# Set Matplotlib defaults\n",
    "plt.style.use(\"seaborn-whitegrid\")\n",
    "plt.rc(\"figure\", autolayout=True, figsize=(11, 4))\n",
    "plt.rc(\n",
    "    \"axes\",\n",
    "    labelweight=\"bold\",\n",
    "    labelsize=\"large\",\n",
    "    titleweight=\"bold\",\n",
    "    titlesize=16,\n",
    "    titlepad=10,\n",
    ")\n",
    "plot_params = dict(\n",
    "    color=\"0.75\",\n",
    "    style=\".-\",\n",
    "    markeredgecolor=\"0.25\",\n",
    "    markerfacecolor=\"0.25\",\n",
    ")\n",
    "%config InlineBackend.figure_format = 'retina'\n",
    "\n",
    "\n",
    "def plot_multistep(y, every=1, ax=None, palette_kwargs=None):\n",
    "    palette_kwargs_ = dict(palette='husl', n_colors=16, desat=None)\n",
    "    if palette_kwargs is not None:\n",
    "        palette_kwargs_.update(palette_kwargs)\n",
    "    palette = sns.color_palette(**palette_kwargs_)\n",
    "    if ax is None:\n",
    "        fig, ax = plt.subplots()\n",
    "    ax.set_prop_cycle(plt.cycler('color', palette))\n",
    "    for date, preds in y[::every].iterrows():\n",
    "        preds.index = pd.period_range(start=date, periods=len(preds))\n",
    "        preds.plot(ax=ax)\n",
    "    return ax\n",
    "\n",
    "\n",
    "data_dir = Path(\"../assets/data\")\n",
    "flu_trends = pd.read_csv(data_dir / \"flu-trends.csv\")\n",
    "flu_trends.set_index(\n",
    "    pd.PeriodIndex(flu_trends.Week, freq=\"W\"),\n",
    "    inplace=True,\n",
    ")\n",
    "flu_trends.drop(\"Week\", axis=1, inplace=True)"
   ]
  },
  {
   "cell_type": "markdown",
   "id": "e336e073",
   "metadata": {},
   "source": [
    "First we'll prepare our target series (weekly office visits for the flu) for multistep forecasting. Once this is done, training and prediction will be very straightfoward."
   ]
  },
  {
   "cell_type": "code",
   "execution_count": null,
   "id": "f73a70bb",
   "metadata": {},
   "outputs": [],
   "source": [
    "def make_lags(ts, lags, lead_time=1):\n",
    "    return pd.concat(\n",
    "        {\n",
    "            f'y_lag_{i}': ts.shift(i)\n",
    "            for i in range(lead_time, lags + lead_time)\n",
    "        },\n",
    "        axis=1)\n",
    "\n",
    "\n",
    "# Four weeks of lag features\n",
    "y = flu_trends.FluVisits.copy()\n",
    "X = make_lags(y, lags=4).fillna(0.0)\n",
    "\n",
    "\n",
    "def make_multistep_target(ts, steps):\n",
    "    return pd.concat(\n",
    "        {f'y_step_{i + 1}': ts.shift(-i)\n",
    "         for i in range(steps)},\n",
    "        axis=1)\n",
    "\n",
    "\n",
    "# Eight-week forecast\n",
    "y = make_multistep_target(y, steps=8).dropna()\n",
    "\n",
    "# Shifting has created indexes that don't match. Only keep times for\n",
    "# which we have both targets and features.\n",
    "y, X = y.align(X, join='inner', axis=0)"
   ]
  },
  {
   "cell_type": "markdown",
   "id": "3c365873",
   "metadata": {},
   "source": [
    "#### Multioutput model\n",
    "\n",
    "We'll use linear regression as a MultiOutput strategy. Once we have our data prepared for multiple outputs, training and prediction is the same as always."
   ]
  },
  {
   "cell_type": "code",
   "execution_count": null,
   "id": "8fbe2920",
   "metadata": {},
   "outputs": [],
   "source": [
    "# Create splits\n",
    "X_train, X_test, y_train, y_test = train_test_split(X, y, test_size=0.25, shuffle=False)\n",
    "\n",
    "model = LinearRegression()\n",
    "model.fit(X_train, y_train)\n",
    "\n",
    "y_fit = pd.DataFrame(model.predict(X_train), index=X_train.index, columns=y.columns)\n",
    "y_pred = pd.DataFrame(model.predict(X_test), index=X_test.index, columns=y.columns)"
   ]
  },
  {
   "cell_type": "markdown",
   "id": "2da4d4bb",
   "metadata": {},
   "source": [
    "Remember that a multistep model will produce a complete forecast for each instance used as input. There are 269 weeks in the training set and 90 weeks in the test set, and we now have an 8-step forecast for each of these weeks."
   ]
  },
  {
   "cell_type": "code",
   "execution_count": null,
   "id": "97d82cd2",
   "metadata": {},
   "outputs": [],
   "source": [
    "train_rmse = mean_squared_error(y_train, y_fit, squared=False)\n",
    "test_rmse = mean_squared_error(y_test, y_pred, squared=False)\n",
    "print((f\"Train RMSE: {train_rmse:.2f}\\n\" f\"Test RMSE: {test_rmse:.2f}\"))\n",
    "\n",
    "palette = dict(palette='husl', n_colors=64)\n",
    "fig, (ax1, ax2) = plt.subplots(2, 1, figsize=(11, 6))\n",
    "ax1 = flu_trends.FluVisits[y_fit.index].plot(**plot_params, ax=ax1)\n",
    "ax1 = plot_multistep(y_fit, ax=ax1, palette_kwargs=palette)\n",
    "_ = ax1.legend(['FluVisits (train)', 'Forecast'])\n",
    "ax2 = flu_trends.FluVisits[y_pred.index].plot(**plot_params, ax=ax2)\n",
    "ax2 = plot_multistep(y_pred, ax=ax2, palette_kwargs=palette)\n",
    "_ = ax2.legend(['FluVisits (test)', 'Forecast'])"
   ]
  },
  {
   "cell_type": "markdown",
   "id": "91997870",
   "metadata": {},
   "source": [
    "#### Direct strategy\n",
    "\n",
    "XGBoost can't produce multiple outputs for regression tasks. But by applying the Direct reduction strategy, we can still use it to produce multi-step forecasts. This is as easy as wrapping it with scikit-learn's $MultiOutputRegressor$."
   ]
  },
  {
   "cell_type": "code",
   "execution_count": null,
   "id": "9d05517e",
   "metadata": {},
   "outputs": [],
   "source": [
    "from sklearn.multioutput import MultiOutputRegressor\n",
    "\n",
    "model = MultiOutputRegressor(XGBRegressor())\n",
    "model.fit(X_train, y_train)\n",
    "\n",
    "y_fit = pd.DataFrame(model.predict(X_train), index=X_train.index, columns=y.columns)\n",
    "y_pred = pd.DataFrame(model.predict(X_test), index=X_test.index, columns=y.columns)"
   ]
  },
  {
   "cell_type": "markdown",
   "id": "cf245e69",
   "metadata": {},
   "source": [
    "XGBoost here is clearly overfitting on the training set. But on the test set it seems it was able to capture some of the dynamics of the flu season better than the linear regression model. It would likely do even better with some hyperparameter tuning."
   ]
  },
  {
   "cell_type": "code",
   "execution_count": null,
   "id": "a1b194b7",
   "metadata": {},
   "outputs": [],
   "source": [
    "train_rmse = mean_squared_error(y_train, y_fit, squared=False)\n",
    "test_rmse = mean_squared_error(y_test, y_pred, squared=False)\n",
    "print((f\"Train RMSE: {train_rmse:.2f}\\n\" f\"Test RMSE: {test_rmse:.2f}\"))\n",
    "\n",
    "palette = dict(palette='husl', n_colors=64)\n",
    "fig, (ax1, ax2) = plt.subplots(2, 1, figsize=(11, 6))\n",
    "ax1 = flu_trends.FluVisits[y_fit.index].plot(**plot_params, ax=ax1)\n",
    "ax1 = plot_multistep(y_fit, ax=ax1, palette_kwargs=palette)\n",
    "_ = ax1.legend(['FluVisits (train)', 'Forecast'])\n",
    "ax2 = flu_trends.FluVisits[y_pred.index].plot(**plot_params, ax=ax2)\n",
    "ax2 = plot_multistep(y_pred, ax=ax2, palette_kwargs=palette)\n",
    "_ = ax2.legend(['FluVisits (test)', 'Forecast'])"
   ]
  },
  {
   "cell_type": "markdown",
   "id": "d48877a6",
   "metadata": {},
   "source": [
    "To use the DirRec strategy, you would only need to replace $MultiOutputRegressor$ with another scikit-learn wrapper, $RegressorChain$. The Recursive strategy we would need to code ourselves.\n",
    "\n",
    "## Your turn! 🚀\n",
    "\n",
    "TBD.\n",
    "\n",
    "## Acknowledgments\n",
    "\n",
    "Thanks to [kaggle](https://www.kaggle.com/) for creating the open-source course [Time Series](https://www.kaggle.com/learn/time-series). It inspires the majority of the content in this chapter.\n",
    "\n",
    "---\n",
    "\n",
    "```{bibliography}\n",
    ":filter: docname in docnames\n",
    "```"
   ]
  }
 ],
 "metadata": {
  "jupytext": {
   "cell_metadata_filter": "-all",
   "formats": "md:myst",
   "text_representation": {
    "extension": ".md",
    "format_name": "myst",
    "format_version": 0.13,
    "jupytext_version": "1.11.5"
   }
  },
  "kernelspec": {
   "display_name": "Python 3",
   "language": "python",
   "name": "python3"
  },
  "source_map": [
   14,
   38,
   46,
   66,
   70,
   78,
   103,
   111,
   115,
   119,
   124,
   136,
   185,
   191,
   197,
   201,
   215,
   219,
   223,
   229,
   232,
   236,
   248,
   252,
   260,
   264,
   267,
   300,
   331,
   387,
   443,
   447,
   475,
   481,
   490,
   494,
   507,
   513,
   521,
   525,
   538
  ]
 },
 "nbformat": 4,
 "nbformat_minor": 5
}