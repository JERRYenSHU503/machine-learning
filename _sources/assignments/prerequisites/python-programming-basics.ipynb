{
 "cells": [
  {
   "cell_type": "markdown",
   "metadata": {},
   "source": [
    "<details><summary><b>LICENSE</b></summary>\n",
    "\n",
    "MIT License\n",
    "\n",
    "Copyright (c) 2018 Oleksii Trekhleb\n",
    "\n",
    "Permission is hereby granted, free of charge, to any person obtaining a copy\n",
    "of this software and associated documentation files (the \"Software\"), to deal\n",
    "in the Software without restriction, including without limitation the rights\n",
    "to use, copy, modify, merge, publish, distribute, sublicense, and/or sell\n",
    "copies of the Software, and to permit persons to whom the Software is\n",
    "furnished to do so, subject to the following conditions:\n",
    "\n",
    "The above copyright notice and this permission notice shall be included in all\n",
    "copies or substantial portions of the Software.\n",
    "\n",
    "THE SOFTWARE IS PROVIDED \"AS IS\", WITHOUT WARRANTY OF ANY KIND, EXPRESS OR\n",
    "IMPLIED, INCLUDING BUT NOT LIMITED TO THE WARRANTIES OF MERCHANTABILITY,\n",
    "FITNESS FOR A PARTICULAR PURPOSE AND NONINFRINGEMENT. IN NO EVENT SHALL THE\n",
    "AUTHORS OR COPYRIGHT HOLDERS BE LIABLE FOR ANY CLAIM, DAMAGES OR OTHER\n",
    "LIABILITY, WHETHER IN AN ACTION OF CONTRACT, TORT OR OTHERWISE, ARISING FROM,\n",
    "OUT OF OR IN CONNECTION WITH THE SOFTWARE OR THE USE OR OTHER DEALINGS IN THE\n",
    "SOFTWARE.\n",
    "\n",
    "</details>"
   ]
  },
  {
   "cell_type": "markdown",
   "metadata": {},
   "source": [
    "# Python programming basics"
   ]
  },
  {
   "cell_type": "code",
   "execution_count": null,
   "metadata": {
    "tags": []
   },
   "outputs": [],
   "source": [
    "# set up the env\n",
    "\n",
    "import pytest\n",
    "import ipytest\n",
    "import unittest\n",
    "\n",
    "ipytest.autoconfig()"
   ]
  },
  {
   "cell_type": "markdown",
   "metadata": {},
   "source": [
    "## Operators"
   ]
  },
  {
   "cell_type": "markdown",
   "metadata": {},
   "source": [
    "Implement a function to generate the Fibonacci sequence up to a specified number of terms."
   ]
  },
  {
   "cell_type": "code",
   "execution_count": null,
   "metadata": {},
   "outputs": [],
   "source": [
    "def fibonacci(n):\n",
    "    \"\"\"\n",
    "    Generate the Fibonacci sequence up to the given number of terms.\n",
    "\n",
    "    Args:\n",
    "        n (int): The number of Fibonacci terms to generate.\n",
    "\n",
    "    Returns:\n",
    "        list: A list containing the Fibonacci sequence.\n",
    "\n",
    "    \"\"\"\n",
    "    sequence = [0, 1]\n",
    "    while len(sequence) < n:\n",
    "        next_num = sequence[-1] + sequence[-2]\n",
    "        sequence.append(next_num)\n",
    "    return sequence[:n]\n",
    "\n",
    "\n",
    "# Testing fibonacci function\n",
    "fib_sequence = fibonacci(10)\n",
    "assert fib_sequence == [0, 1, 1, 2, 3, 5, 8, 13, 21, 34], \"Fibonacci sequence test failed\""
   ]
  },
  {
   "cell_type": "markdown",
   "metadata": {},
   "source": [
    "Implement a function for insertion sort to sort a list in ascending order."
   ]
  },
  {
   "cell_type": "code",
   "execution_count": null,
   "metadata": {},
   "outputs": [],
   "source": [
    "def insertion_sort(arr):\n",
    "    \"\"\"\n",
    "    Perform insertion sort on the given list.\n",
    "\n",
    "    Args:\n",
    "        arr (list): The unsorted list to be sorted in-place.\n",
    "\n",
    "    Returns:\n",
    "        None. The input list is sorted in-place.\n",
    "\n",
    "    \"\"\"\n",
    "    for i in range(1, len(arr)):\n",
    "        key = arr[i]\n",
    "        j = i - 1\n",
    "        while j >= 0 and arr[j] > key:\n",
    "            arr[j + 1] = arr[j]\n",
    "            j -= 1\n",
    "        arr[j + 1] = key\n",
    "\n",
    "\n",
    "# Testing insertion_sort function\n",
    "unsorted_list = [5, 3, 8, 4, 2]\n",
    "insertion_sort(unsorted_list)\n",
    "assert unsorted_list == [2, 3, 4, 5, 8], \"Insertion sort test failed\""
   ]
  },
  {
   "cell_type": "markdown",
   "metadata": {},
   "source": [
    "Implement a function to calculate the square root of a number using the Babylonian method."
   ]
  },
  {
   "cell_type": "code",
   "execution_count": null,
   "metadata": {},
   "outputs": [],
   "source": [
    "# Inspired by SICP http://mitpress.mit.edu/sicp/full-text/book/book-Z-H-10.html#%_sec_1.1.7\n",
    "def sqrt(x):\n",
    "    \"\"\"\n",
    "    Implement a function to calculate the square root of a given number using the Babylonian method.\n",
    "\n",
    "    Args:\n",
    "        x (float): The number for which the square root is to be calculated.\n",
    "\n",
    "    Returns:\n",
    "        float: The square root of the given number.\n",
    "\n",
    "    \"\"\"\n",
    "\n",
    "    def average(a, b):\n",
    "        return (a + b) / 2.0\n",
    "\n",
    "    def is_good_enough(guess):\n",
    "        return abs((guess * guess) - x) < 0.001\n",
    "\n",
    "    def improve(guess):\n",
    "        return average(guess, x / guess)\n",
    "\n",
    "    def sqrt_iter(guess):\n",
    "        if is_good_enough(guess):\n",
    "            return guess\n",
    "        else:\n",
    "            return sqrt_iter(improve(guess))\n",
    "\n",
    "    return sqrt_iter(1.0)\n",
    "\n",
    "\n",
    "# Testing sqrt function\n",
    "assert abs(sqrt(9) - 3.0) < 0.001, \"Square root test failed\"\n",
    "assert abs(sqrt(16) - 4.0) < 0.001, \"Square root test failed\"\n",
    "assert abs(sqrt(25) - 5.0) < 0.001, \"Square root test failed\""
   ]
  },
  {
   "cell_type": "markdown",
   "metadata": {
    "tags": []
   },
   "source": [
    "## String"
   ]
  },
  {
   "cell_type": "markdown",
   "metadata": {},
   "source": [
    "### `str.upper()`"
   ]
  },
  {
   "cell_type": "code",
   "execution_count": null,
   "metadata": {
    "tags": []
   },
   "outputs": [],
   "source": [
    "def capitalize_first_letter(string):\n",
    "    \"\"\"\n",
    "    Capitalizes the first letter of each word in a string.\n",
    "\n",
    "    Args:\n",
    "        string (str): The input string.\n",
    "\n",
    "    Returns:\n",
    "        str: The input string with the first letter of each word capitalized.\n",
    "    \"\"\"\n",
    "    words = string.split()\n",
    "    result = []\n",
    "    for word in words:\n",
    "        capitalized_word = word[0].upper() + word[1:]\n",
    "        result.append(capitalized_word)\n",
    "    return ' '.join(result)\n",
    "\n",
    "\n",
    "sentence = \"hello, world! this is a sample sentence.\"\n",
    "assert capitalize_first_letter(sentence) == \"Hello, World! This Is A Sample Sentence.\""
   ]
  },
  {
   "cell_type": "markdown",
   "metadata": {
    "tags": []
   },
   "source": [
    "<h5><font color=blue>Check result by executing below... 📝</font></h5>"
   ]
  },
  {
   "cell_type": "code",
   "execution_count": null,
   "metadata": {
    "hide_input": false,
    "jupyter": {
     "source_hidden": true
    },
    "tags": []
   },
   "outputs": [],
   "source": [
    "%%ipytest -qq\n",
    "\n",
    "class TestCapitalizeFirstLetterper(unittest.TestCase):\n",
    "\n",
    "    def test_string_upper_happy_case(self):\n",
    "        # assign\n",
    "        test_string = 'Python strings are COOL!'\n",
    "\n",
    "        # act\n",
    "        actual_result = capitalize_first_letter(test_string)\n",
    "\n",
    "        # assert\n",
    "        expected_result = 'Python Strings Are COOL!'\n",
    "        self.assertEqual(actual_result, expected_result)\n",
    "\n",
    "    def test_string_upper_none_string(self):\n",
    "        # act & assert\n",
    "        with self.assertRaises(Exception):\n",
    "            capitalize_first_letter(None)\n",
    "\n",
    "    def test_string_upper_empty_string(self):\n",
    "        # assign\n",
    "        test_string = ''\n",
    "\n",
    "        # act\n",
    "        actual_result = capitalize_first_letter(test_string)\n",
    "\n",
    "        # assert\n",
    "        expected_result = ''\n",
    "        self.assertEqual(actual_result, expected_result)"
   ]
  },
  {
   "cell_type": "markdown",
   "source": [
    "### `string.title()`"
   ],
   "metadata": {
    "collapsed": false
   }
  },
  {
   "cell_type": "code",
   "execution_count": null,
   "outputs": [],
   "source": [
    "def capitalize_words(sentence, exclude_words=None):\n",
    "    \"\"\"\n",
    "    Capitalizes the first letter of each word in a sentence,\n",
    "    excluding certain words specified in the exclude_words list.\n",
    "\n",
    "    Args:\n",
    "        sentence (str): The input sentence.\n",
    "        exclude_words (list, optional): List of words to be excluded from capitalization.\n",
    "            Defaults to None.\n",
    "\n",
    "    Returns:\n",
    "        str: The sentence with capitalized words.\n",
    "\n",
    "    \"\"\"\n",
    "    if exclude_words is None:\n",
    "        exclude_words = []\n",
    "\n",
    "    # Split the sentence into words\n",
    "    words = sentence.split()\n",
    "\n",
    "    # Capitalize the words, excluding the specified words\n",
    "    capitalized_words = [word.title() if word.lower() not in exclude_words else word for word in words]\n",
    "\n",
    "    # Join the words back into a sentence\n",
    "    capitalized_sentence = ' '.join(capitalized_words)\n",
    "\n",
    "    return capitalized_sentence\n",
    "\n",
    "\n",
    "# Example and assertions\n",
    "assert capitalize_words(\"this is a sentence\") == \"This Is A Sentence\"\n",
    "assert capitalize_words(\"this is a sentence\", exclude_words=[\"is\"]) == \"This is A Sentence\""
   ],
   "metadata": {
    "collapsed": false
   }
  },
  {
   "cell_type": "markdown",
   "source": [
    "<h5><font color=blue>Check result by executing below... 📝</font></h5>"
   ],
   "metadata": {
    "collapsed": false
   }
  },
  {
   "cell_type": "code",
   "execution_count": null,
   "outputs": [],
   "source": [
    "%%ipytest -qq\n",
    "\n",
    "class TestCapitalizeWords(unittest.TestCase):\n",
    "\n",
    "    def test_capitalize_words_default(self):\n",
    "        # assign\n",
    "        sentence = \"this is a sentence\"\n",
    "\n",
    "        # act\n",
    "        actual_result = capitalize_words(sentence)\n",
    "\n",
    "        # assert\n",
    "        expected_result = \"This Is A Sentence\"\n",
    "        self.assertEqual(actual_result, expected_result)\n",
    "\n",
    "    def test_capitalize_words_exclude_words(self):\n",
    "        # assign\n",
    "        sentence = \"this is a sentence\"\n",
    "        exclude_words = [\"is\"]\n",
    "\n",
    "        # act\n",
    "        actual_result = capitalize_words(sentence, exclude_words)\n",
    "\n",
    "        # assert\n",
    "        expected_result = \"This is A Sentence\"\n",
    "        self.assertEqual(actual_result, expected_result)"
   ],
   "metadata": {
    "collapsed": false
   }
  },
  {
   "cell_type": "markdown",
   "source": [
    "### `str.replace()`"
   ],
   "metadata": {
    "collapsed": false
   }
  },
  {
   "cell_type": "code",
   "execution_count": null,
   "metadata": {},
   "outputs": [],
   "source": [
    "def censor_words(sentence, words):\n",
    "    \"\"\"\n",
    "    Censors specified words in a sentence with asterisks.\n",
    "\n",
    "    Args:\n",
    "        sentence (str): The input sentence.\n",
    "        words (list): The list of words to be censored.\n",
    "\n",
    "    Returns:\n",
    "        str: The sentence with censored words.\n",
    "    \"\"\"\n",
    "    # Iterate over each word in the list of words\n",
    "    for word in words:\n",
    "        censor = '*' * len(word)  # Create a censor string of asterisks with the same length as the word\n",
    "        sentence = sentence.replace(word, censor)  # Replace the word with the censor string in the sentence\n",
    "\n",
    "    return sentence\n",
    "\n",
    "\n",
    "assert censor_words(\"Hello, World!\", [\"Hello\", \"World\"]) == \"*****, *****!\"\n",
    "assert censor_words(\"Python is awesome\", [\"Python\", \"awesome\"]) == \"****** is *******\""
   ]
  },
  {
   "cell_type": "markdown",
   "metadata": {},
   "source": [
    "### `str.format() str.join()`"
   ]
  },
  {
   "cell_type": "code",
   "execution_count": null,
   "outputs": [],
   "source": [
    "def format_person_info(people_info):\n",
    "    \"\"\"\n",
    "    Formats a list of person information into a sentence.\n",
    "\n",
    "    Args:\n",
    "        people_info (list): A list of dictionaries containing person information. Each dictionary should have 'name' and 'age' keys.\n",
    "\n",
    "    Returns:\n",
    "        str: A formatted sentence with person information.\n",
    "    \"\"\"\n",
    "    # Format each person's information using a list comprehension\n",
    "    formatted_info = [\"Name: {}, Age: {}\".format(person['name'], person['age']) for person in people_info]\n",
    "\n",
    "    # Join the formatted information using a comma and space\n",
    "    sentence = ', '.join(formatted_info)\n",
    "\n",
    "    return sentence\n",
    "\n",
    "\n",
    "people = [\n",
    "    {'name': 'John Doe', 'age': 30},\n",
    "    {'name': 'Jane Smith', 'age': 25},\n",
    "    {'name': 'David Johnson', 'age': 35}\n",
    "]\n",
    "expected_output = \"Name: John Doe, Age: 30, Name: Jane Smith, Age: 25, Name: David Johnson, Age: 35\"\n",
    "assert format_person_info(people) == expected_output"
   ],
   "metadata": {
    "collapsed": false
   }
  },
  {
   "cell_type": "markdown",
   "metadata": {},
   "source": [
    "### `str.strip()`"
   ]
  },
  {
   "cell_type": "code",
   "execution_count": null,
   "metadata": {},
   "outputs": [],
   "source": [
    "ugly_formatted = ' \\n \\t Some story to tell '"
   ]
  },
  {
   "cell_type": "code",
   "execution_count": null,
   "metadata": {},
   "outputs": [],
   "source": [
    "# Your solution:\n",
    "stripped = ____"
   ]
  },
  {
   "cell_type": "code",
   "execution_count": null,
   "metadata": {},
   "outputs": [],
   "source": [
    "assert stripped == 'Some story to tell'"
   ]
  },
  {
   "cell_type": "markdown",
   "metadata": {},
   "source": [
    "### `str.split()`"
   ]
  },
  {
   "cell_type": "code",
   "execution_count": null,
   "metadata": {},
   "outputs": [],
   "source": [
    "import string\n",
    "\n",
    "def count_word_occurrences(text):\n",
    "    \"\"\"\n",
    "    Counts the occurrences of each word in a text.\n",
    "\n",
    "    Args:\n",
    "        text (str): The input text.\n",
    "\n",
    "    Returns:\n",
    "        dict: A dictionary containing words as keys and their occurrences as values.\n",
    "    \"\"\"\n",
    "    word_counts = {}\n",
    "\n",
    "    # Split the text into words using split() method\n",
    "    words = text.split()\n",
    "\n",
    "    # Count the occurrences of each word\n",
    "    for word in words:\n",
    "        # Remove punctuation using translate() method and string.punctuation\n",
    "        word = word.translate(str.maketrans('', '', string.punctuation))\n",
    "\n",
    "        # Convert the word to lowercase\n",
    "        word = word.lower()\n",
    "\n",
    "        # Update the word count\n",
    "        if word in word_counts:\n",
    "            word_counts[word] += 1\n",
    "        else:\n",
    "            word_counts[word] = 1\n",
    "\n",
    "    return word_counts\n",
    "\n",
    "\n",
    "input_text = \"This is a sample text. This text is just an example.\"\n",
    "expected_output = {\n",
    "    \"this\": 2,\n",
    "    \"is\": 2,\n",
    "    \"a\": 1,\n",
    "    \"sample\": 1,\n",
    "    \"text\": 2,\n",
    "    \"just\": 1,\n",
    "    \"an\": 1,\n",
    "    \"example\": 1\n",
    "}\n",
    "assert count_word_occurrences(input_text) == expected_output"
   ]
  },
  {
   "cell_type": "markdown",
   "metadata": {},
   "source": [
    "### `\\n`, `\\t`"
   ]
  },
  {
   "cell_type": "code",
   "execution_count": null,
   "metadata": {},
   "outputs": [],
   "source": [
    "# Your solution:\n",
    "two_lines = 'First line____Second line'\n",
    "indented = '____This will be indented'"
   ]
  },
  {
   "cell_type": "code",
   "execution_count": null,
   "metadata": {},
   "outputs": [],
   "source": [
    "assert two_lines == '''First line\n",
    "Second line'''\n",
    "assert indented == '\tThis will be indented'"
   ]
  },
  {
   "cell_type": "markdown",
   "metadata": {},
   "source": [
    "## Numbers"
   ]
  },
  {
   "cell_type": "markdown",
   "metadata": {
    "tags": []
   },
   "source": [
    "### Creating formulas\n",
    "\n",
    "Write the following mathematical formula in Python:\n",
    "\n",
    "$result = 6a^3 - \\frac{8b^2 }{4c} + 11$\n"
   ]
  },
  {
   "cell_type": "code",
   "execution_count": null,
   "metadata": {
    "tags": []
   },
   "outputs": [],
   "source": [
    "def calculate(a, b, c):\n",
    "    \"\"\"\n",
    "    Calculate the value of the formula: (6 * a^3) - (8 * b^2) / (4 * c) + 11.\n",
    "\n",
    "    Args:\n",
    "        a (float or int): The value of 'a'.\n",
    "        b (float or int): The value of 'b'.\n",
    "        c (float or int): The value of 'c'.\n",
    "\n",
    "    Returns:\n",
    "        float: The result of the formula.\n",
    "\n",
    "    \"\"\"\n",
    "    return (6 * a**3) - (8 * b**2) / (4 * c) + 11\n",
    "\n",
    "\n",
    "# Testing calculate function\n",
    "assert calculate(2, 3, 4) == 54.5, \"calculate test failed\"\n",
    "assert calculate(0, 5, 2) == -14.0, \"calculate test failed\""
   ]
  },
  {
   "cell_type": "markdown",
   "metadata": {
    "jp-MarkdownHeadingCollapsed": true,
    "tags": []
   },
   "source": [
    "<h5><font color=blue>Check result by executing below... 📝</font></h5>"
   ]
  },
  {
   "cell_type": "code",
   "execution_count": null,
   "metadata": {
    "jupyter": {
     "source_hidden": true
    },
    "tags": []
   },
   "outputs": [],
   "source": [
    "%%ipytest -qq\n",
    "\n",
    "class TestCalculate(unittest.TestCase):\n",
    "\n",
    "    def test_calculate_happy_case(self):\n",
    "        # assign\n",
    "        a = 2\n",
    "        b = 3\n",
    "        c = 4\n",
    "\n",
    "        # act\n",
    "        actual_result = calculate(a, b, c)\n",
    "\n",
    "        # assert\n",
    "        assert actual_result == 54.5, \"calculate test failed\"\n",
    "\n",
    "    def test_calculate_with_str_input(self):\n",
    "        # assign\n",
    "        a = '2'\n",
    "        b = 3\n",
    "        c = 4\n",
    "\n",
    "        # act & assert\n",
    "        with pytest.raises(TypeError):\n",
    "            calculate(a, b, c)\n",
    "\n",
    "    def test_calculate_with_none_input(self):\n",
    "        # assign\n",
    "        a = 2\n",
    "        b = None\n",
    "        c = 4\n",
    "\n",
    "        # act & assert\n",
    "        with pytest.raises(TypeError):\n",
    "            calculate(a, b, c)\n",
    "\n",
    "    def test_calculate_with_invalid_c_input(self):\n",
    "        # assign\n",
    "        a = 2\n",
    "        b = 3\n",
    "        c = 0\n",
    "\n",
    "        # act & assert\n",
    "        with pytest.raises(ZeroDivisionError):\n",
    "            calculate(a, b, c)"
   ]
  },
  {
   "cell_type": "markdown",
   "metadata": {},
   "source": [
    "### Floating point pitfalls\n",
    "\n",
    "Make assertion for `0.1 + 0.2 == 0.3`"
   ]
  },
  {
   "cell_type": "code",
   "execution_count": null,
   "metadata": {},
   "outputs": [],
   "source": [
    "# This won't work:\n",
    "# assert 0.1 + 0.2 == 0.3\n",
    "\n",
    "# Your solution here:\n",
    "____"
   ]
  },
  {
   "cell_type": "markdown",
   "metadata": {},
   "source": [
    "### Floor division `//`, modulus `%`, power `**`"
   ]
  },
  {
   "cell_type": "code",
   "execution_count": null,
   "metadata": {},
   "outputs": [],
   "source": [
    "assert 7 // 5 == ____\n",
    "assert 7 % 5 == ____\n",
    "assert 2 ** 3 == ____ "
   ]
  },
  {
   "cell_type": "markdown",
   "metadata": {},
   "source": [
    "## Lists"
   ]
  },
  {
   "cell_type": "markdown",
   "metadata": {},
   "source": [
    "### `list.append()`, `list.remove()`, mutable"
   ]
  },
  {
   "cell_type": "code",
   "execution_count": null,
   "metadata": {},
   "outputs": [],
   "source": [
    "def permutations(elements):\n",
    "    \"\"\"\n",
    "    Generate all permutations of a list of elements.\n",
    "\n",
    "    Args:\n",
    "        elements (list): List of elements.\n",
    "\n",
    "    Returns:\n",
    "        list: List of permutations.\n",
    "    \"\"\"\n",
    "    if len(elements) <= 1:\n",
    "        return [elements]\n",
    "\n",
    "    result = []\n",
    "    for i in range(len(elements)):\n",
    "        remaining = elements[:i] + elements[i+1:]\n",
    "        for perm in permutations(remaining):\n",
    "            result.append([elements[i]] + perm)\n",
    "\n",
    "    return result\n",
    "\n",
    "\n",
    "assert permutations([1, 2, 3]) == [[1, 2, 3], [1, 3, 2], [2, 1, 3], [2, 3, 1], [3, 1, 2], [3, 2, 1]]\n",
    "assert permutations(['a', 'b', 'c']) == [['a', 'b', 'c'], ['a', 'c', 'b'], ['b', 'a', 'c'], ['b', 'c', 'a'], ['c', 'a', 'b'], ['c', 'b', 'a']]"
   ]
  },
  {
   "cell_type": "code",
   "execution_count": null,
   "metadata": {
    "editable": false
   },
   "outputs": [],
   "source": [
    "def remove_duplicates(lst):\n",
    "    \"\"\"\n",
    "    Remove duplicates from a list using the `list.remove()` method.\n",
    "\n",
    "    Args:\n",
    "        lst (list): The list to remove duplicates from.\n",
    "\n",
    "    Returns:\n",
    "        list: The list with duplicates removed.\n",
    "    \"\"\"\n",
    "    unique_list = lst[:]  # Create a copy of the original list\n",
    "    for item in lst:\n",
    "        while unique_list.count(item) > 1:\n",
    "            unique_list.remove(item)\n",
    "\n",
    "    return unique_list\n",
    "\n",
    "\n",
    "assert remove_duplicates([1, 2, 2, 3, 4, 4, 5]) == [1, 2, 3, 4, 5]\n",
    "assert remove_duplicates(['a', 'b', 'b', 'c', 'd', 'd']) == ['a', 'b', 'c', 'd']"
   ]
  },
  {
   "cell_type": "markdown",
   "metadata": {},
   "source": [
    "### Slice\n",
    "\n",
    "Create a new list without modifiying the original one."
   ]
  },
  {
   "cell_type": "code",
   "execution_count": null,
   "metadata": {
    "editable": false
   },
   "outputs": [],
   "source": [
    "original = ['I', 'am', 'learning', 'hacking', 'in']"
   ]
  },
  {
   "cell_type": "code",
   "execution_count": null,
   "metadata": {},
   "outputs": [],
   "source": [
    "# Your implementation here\n",
    "modified = ____"
   ]
  },
  {
   "cell_type": "code",
   "execution_count": null,
   "metadata": {
    "editable": false
   },
   "outputs": [],
   "source": [
    "assert original == ['I', 'am', 'learning', 'hacking', 'in']\n",
    "assert modified == ['I', 'am', 'learning', 'lists', 'in', 'Python']"
   ]
  },
  {
   "cell_type": "markdown",
   "metadata": {},
   "source": [
    "### `list.extend()`"
   ]
  },
  {
   "cell_type": "code",
   "execution_count": null,
   "metadata": {},
   "outputs": [],
   "source": [
    "def flatten_nested_lists(nested_lists):\n",
    "    \"\"\"\n",
    "    Flatten a list of nested lists into a single list using the `list.extend()` method.\n",
    "\n",
    "    Args:\n",
    "        nested_lists (list): The list of nested lists.\n",
    "\n",
    "    Returns:\n",
    "        list: The flattened list.\n",
    "    \"\"\"\n",
    "    flattened_list = []\n",
    "    for sublist in nested_lists:\n",
    "        flattened_list.extend(sublist)\n",
    "\n",
    "    return flattened_list\n",
    "\n",
    "\n",
    "assert flatten_nested_lists([[1, 2, 3], [4, 5], [6, 7, 8, 9]]) == [1, 2, 3, 4, 5, 6, 7, 8, 9]\n",
    "assert flatten_nested_lists([[1], [2], [3], [4], [5]]) == [1, 2, 3, 4, 5]"
   ]
  },
  {
   "cell_type": "markdown",
   "metadata": {},
   "source": [
    "### `list.sort()`\n",
    "\n",
    "Create a merged sorted list."
   ]
  },
  {
   "cell_type": "code",
   "execution_count": null,
   "metadata": {
    "editable": false
   },
   "outputs": [],
   "source": [
    "my_list = [6, 12, 5]"
   ]
  },
  {
   "cell_type": "code",
   "execution_count": null,
   "metadata": {},
   "outputs": [],
   "source": [
    "# Your implementation here\n",
    "____"
   ]
  },
  {
   "cell_type": "code",
   "execution_count": null,
   "metadata": {
    "editable": false,
    "scrolled": true
   },
   "outputs": [],
   "source": [
    "assert my_list == [12, 6, 5]"
   ]
  },
  {
   "cell_type": "markdown",
   "metadata": {},
   "source": [
    "### `sorted(list)`"
   ]
  },
  {
   "cell_type": "code",
   "execution_count": null,
   "metadata": {},
   "outputs": [],
   "source": [
    "numbers = [8, 1, 6, 5, 10]"
   ]
  },
  {
   "cell_type": "code",
   "execution_count": null,
   "metadata": {},
   "outputs": [],
   "source": [
    "sorted_numbers = ____"
   ]
  },
  {
   "cell_type": "code",
   "execution_count": null,
   "metadata": {},
   "outputs": [],
   "source": [
    "assert sorted_numbers == [1, 5, 6, 8, 10]"
   ]
  },
  {
   "cell_type": "markdown",
   "metadata": {},
   "source": [
    "### `list.reverse()`"
   ]
  },
  {
   "cell_type": "code",
   "execution_count": null,
   "metadata": {},
   "outputs": [],
   "source": [
    "my_list = ['c', 'b', 'ham']"
   ]
  },
  {
   "cell_type": "code",
   "execution_count": null,
   "metadata": {},
   "outputs": [],
   "source": [
    "# Your solution:\n",
    "____"
   ]
  },
  {
   "cell_type": "code",
   "execution_count": null,
   "metadata": {},
   "outputs": [],
   "source": [
    "assert my_list == ['ham', 'b', 'c']"
   ]
  },
  {
   "cell_type": "markdown",
   "metadata": {},
   "source": [
    "## Dictionaries"
   ]
  },
  {
   "cell_type": "markdown",
   "metadata": {},
   "source": [
    "### Populating a dictionary\n",
    "\n",
    "Create a dictionary by using all the given variables."
   ]
  },
  {
   "cell_type": "code",
   "execution_count": null,
   "metadata": {
    "editable": false
   },
   "outputs": [],
   "source": [
    "first_name = 'John'\n",
    "last_name = 'Doe'\n",
    "favorite_hobby = 'Python'\n",
    "sports_hobby = 'gym'\n",
    "age = 82"
   ]
  },
  {
   "cell_type": "code",
   "execution_count": null,
   "metadata": {},
   "outputs": [],
   "source": [
    "# Your implementation\n",
    "my_dict = ____"
   ]
  },
  {
   "cell_type": "code",
   "execution_count": null,
   "metadata": {
    "editable": false
   },
   "outputs": [],
   "source": [
    "assert my_dict == {\n",
    "        'name': 'John Doe',\n",
    "        'age': 82,\n",
    "        'hobbies': ['Python', 'gym']\n",
    "    }"
   ]
  },
  {
   "cell_type": "markdown",
   "source": [
    "Populating a Dictionary with Element Occurrences"
   ],
   "metadata": {
    "collapsed": false
   }
  },
  {
   "cell_type": "code",
   "execution_count": null,
   "outputs": [],
   "source": [
    "def count_occurrences(lst):\n",
    "    \"\"\"\n",
    "    Count the occurrences of elements in a list and store the counts in a dictionary.\n",
    "\n",
    "    Args:\n",
    "        lst (list): The input list.\n",
    "\n",
    "    Returns:\n",
    "        dict: A dictionary with elements as keys and their occurrences as values.\n",
    "    \"\"\"\n",
    "    occurrences = {}\n",
    "    for item in lst:\n",
    "        if item in occurrences:\n",
    "            occurrences[item] += 1\n",
    "        else:\n",
    "            occurrences[item] = 1\n",
    "    return occurrences\n",
    "\n",
    "\n",
    "assert count_occurrences([1, 2, 2, 3, 3, 3]) == {1: 1, 2: 2, 3: 3}\n",
    "assert count_occurrences(['a', 'b', 'a', 'c', 'c']) == {'a': 2, 'b': 1, 'c': 2}"
   ],
   "metadata": {
    "collapsed": false
   }
  },
  {
   "cell_type": "markdown",
   "metadata": {},
   "source": [
    "del"
   ]
  },
  {
   "cell_type": "code",
   "execution_count": null,
   "metadata": {},
   "outputs": [],
   "source": [
    "my_dict = {'key1': 'value1', 'key2': 99, 'keyX': 'valueX'}\n",
    "key_to_delete = 'keyX'"
   ]
  },
  {
   "cell_type": "code",
   "execution_count": null,
   "metadata": {},
   "outputs": [],
   "source": [
    "# Your solution here:\n",
    "if key_to_delete in my_dict:\n",
    "    ____"
   ]
  },
  {
   "cell_type": "code",
   "execution_count": null,
   "metadata": {},
   "outputs": [],
   "source": [
    "assert my_dict == {'key1': 'value1', 'key2': 99}"
   ]
  },
  {
   "cell_type": "markdown",
   "source": [
    "Removing Duplicate Values from a Dictionary using 'del'"
   ],
   "metadata": {
    "collapsed": false
   }
  },
  {
   "cell_type": "code",
   "execution_count": null,
   "outputs": [],
   "source": [
    "def remove_duplicates(dictionary):\n",
    "    \"\"\"\n",
    "    Remove duplicate values from a dictionary by using the `del` keyword.\n",
    "\n",
    "    Args:\n",
    "        dictionary (dict): The input dictionary.\n",
    "\n",
    "    Returns:\n",
    "        dict: The dictionary with duplicate values removed.\n",
    "    \"\"\"\n",
    "    unique_values = set()\n",
    "    duplicate_keys = []\n",
    "    for key, value in dictionary.items():\n",
    "        if value in unique_values:\n",
    "            duplicate_keys.append(key)\n",
    "        else:\n",
    "            unique_values.add(value)\n",
    "    for key in duplicate_keys:\n",
    "        del dictionary[key]\n",
    "    return dictionary\n",
    "\n",
    "\n",
    "assert remove_duplicates({'a': 1, 'b': 2, 'c': 1, 'd': 3}) == {'a': 1, 'b': 2, 'd': 3}\n",
    "assert remove_duplicates({'x': 'abc', 'y': 'def', 'z': 'abc'}) == {'x': 'abc', 'y': 'def'}"
   ],
   "metadata": {
    "collapsed": false
   }
  },
  {
   "cell_type": "markdown",
   "metadata": {},
   "source": [
    "### Mutable"
   ]
  },
  {
   "cell_type": "code",
   "execution_count": null,
   "metadata": {},
   "outputs": [],
   "source": [
    "my_dict = {'ham': 'good', 'carrot': 'semi good'}"
   ]
  },
  {
   "cell_type": "code",
   "execution_count": null,
   "metadata": {},
   "outputs": [],
   "source": [
    "# Your solution here:\n",
    "____"
   ]
  },
  {
   "cell_type": "code",
   "execution_count": null,
   "metadata": {},
   "outputs": [],
   "source": [
    "assert my_dict['carrot'] == 'super tasty'"
   ]
  },
  {
   "cell_type": "markdown",
   "metadata": {},
   "source": [
    "### `dict.get()`"
   ]
  },
  {
   "cell_type": "code",
   "execution_count": null,
   "metadata": {},
   "outputs": [],
   "source": [
    "my_dict = {'a': 1, 'b': 2, 'c': 3}"
   ]
  },
  {
   "cell_type": "code",
   "execution_count": null,
   "metadata": {},
   "outputs": [],
   "source": [
    "# Your solution here:\n",
    "d = ____"
   ]
  },
  {
   "cell_type": "code",
   "execution_count": null,
   "metadata": {},
   "outputs": [],
   "source": [
    "assert d == 'default value'"
   ]
  },
  {
   "cell_type": "code",
   "execution_count": null,
   "metadata": {},
   "outputs": [],
   "source": [
    "assert my_dict == {'a': 1, 'b': 2, 'c': 3}"
   ]
  },
  {
   "cell_type": "markdown",
   "source": [
    "Counting Occurrences of Elements using dict.get()"
   ],
   "metadata": {
    "collapsed": false
   }
  },
  {
   "cell_type": "code",
   "execution_count": null,
   "outputs": [],
   "source": [
    "def count_occurrences(lst):\n",
    "    \"\"\"\n",
    "    Count the occurrences of elements in a list and store the counts in a dictionary using `dict.get()`.\n",
    "\n",
    "    Args:\n",
    "        lst (list): The input list.\n",
    "\n",
    "    Returns:\n",
    "        dict: A dictionary with elements as keys and their occurrences as values.\n",
    "    \"\"\"\n",
    "    occurrences = {}\n",
    "    for item in lst:\n",
    "        occurrences[item] = occurrences.get(item, 0) + 1\n",
    "    return occurrences\n",
    "\n",
    "\n",
    "assert count_occurrences([1, 2, 2, 3, 3, 3]) == {1: 1, 2: 2, 3: 3}\n",
    "assert count_occurrences(['a', 'b', 'a', 'c', 'c']) == {'a': 2, 'b': 1, 'c': 2}"
   ],
   "metadata": {
    "collapsed": false
   }
  },
  {
   "cell_type": "markdown",
   "metadata": {},
   "source": [
    "### `dict.setdefault()`"
   ]
  },
  {
   "cell_type": "code",
   "execution_count": null,
   "metadata": {},
   "outputs": [],
   "source": [
    "my_dict = {'a': 1, 'b': 2, 'c': 3}"
   ]
  },
  {
   "cell_type": "code",
   "execution_count": null,
   "metadata": {},
   "outputs": [],
   "source": [
    "# Your solution here:\n",
    "d = ____"
   ]
  },
  {
   "cell_type": "code",
   "execution_count": null,
   "metadata": {},
   "outputs": [],
   "source": [
    "assert d == 'default value'"
   ]
  },
  {
   "cell_type": "code",
   "execution_count": null,
   "metadata": {},
   "outputs": [],
   "source": [
    "assert my_dict == {'a': 1, 'b': 2, 'c': 3, 'd': 'default value'}"
   ]
  },
  {
   "cell_type": "markdown",
   "source": [
    "Grouping Items by Category using dict.setdefault()"
   ],
   "metadata": {
    "collapsed": false
   }
  },
  {
   "cell_type": "code",
   "execution_count": null,
   "outputs": [],
   "source": [
    "def group_by_category(items):\n",
    "    \"\"\"\n",
    "    Group items by category using `dict.setdefault()`.\n",
    "\n",
    "    Args:\n",
    "        items (list): The input list of items.\n",
    "\n",
    "    Returns:\n",
    "        dict: A dictionary with categories as keys and lists of items as values.\n",
    "    \"\"\"\n",
    "    categories = {}\n",
    "    for item in items:\n",
    "        category = item.get('category')\n",
    "        categories.setdefault(category, []).append(item)\n",
    "    return categories\n",
    "\n",
    "\n",
    "items = [\n",
    "    {'name': 'Item 1', 'category': 'Category A'},\n",
    "    {'name': 'Item 2', 'category': 'Category B'},\n",
    "    {'name': 'Item 3', 'category': 'Category A'},\n",
    "    {'name': 'Item 4', 'category': 'Category B'},\n",
    "    {'name': 'Item 5', 'category': 'Category A'},\n",
    "]\n",
    "\n",
    "result = group_by_category(items)\n",
    "expected_result = {\n",
    "    'Category A': [\n",
    "        {'name': 'Item 1', 'category': 'Category A'},\n",
    "        {'name': 'Item 3', 'category': 'Category A'},\n",
    "        {'name': 'Item 5', 'category': 'Category A'}\n",
    "    ],\n",
    "    'Category B': [\n",
    "        {'name': 'Item 2', 'category': 'Category B'},\n",
    "        {'name': 'Item 4', 'category': 'Category B'}\n",
    "    ]\n",
    "}\n",
    "\n",
    "assert result == expected_result"
   ],
   "metadata": {
    "collapsed": false
   }
  },
  {
   "cell_type": "markdown",
   "metadata": {},
   "source": [
    "### Accessing and merging dictionaries\n",
    "\n",
    "Combine `dict1`, `dict2`, and `dict3` into `my_dict`. In addition, get the value of `special_key` from `my_dict` into a `special_value` variable. Note that original dictionaries should stay untouched and `special_key` should be removed from `my_dict`."
   ]
  },
  {
   "cell_type": "code",
   "execution_count": null,
   "metadata": {
    "editable": false
   },
   "outputs": [],
   "source": [
    "dict1 = dict(key1='This is not that hard', key2='Python is still cool')\n",
    "dict2 = {'key1': 123, 'special_key': 'secret'}\n",
    "# This is also a away to initialize a dict (list of tuples) \n",
    "dict3 = dict([('key2', 456), ('keyX', 'X')])"
   ]
  },
  {
   "cell_type": "code",
   "execution_count": null,
   "metadata": {},
   "outputs": [],
   "source": [
    "# Your impelementation\n",
    "my_dict = ____\n",
    "special_value = ____"
   ]
  },
  {
   "cell_type": "code",
   "execution_count": null,
   "metadata": {
    "editable": false
   },
   "outputs": [],
   "source": [
    "assert my_dict == {'key1': 123, 'key2': 456, 'keyX': 'X'}\n",
    "assert special_value == 'secret'\n",
    "\n",
    "# Let's check that the originals are untouched\n",
    "assert dict1 == {\n",
    "        'key1': 'This is not that hard',\n",
    "        'key2': 'Python is still cool'\n",
    "    }\n",
    "assert dict2 == {'key1': 123, 'special_key': 'secret'}\n",
    "assert dict3 == {'key2': 456, 'keyX': 'X'}"
   ]
  },
  {
   "cell_type": "markdown",
   "source": [
    "Accessing and Merging Dictionaries into a Single Dictionary"
   ],
   "metadata": {
    "collapsed": false
   }
  },
  {
   "cell_type": "code",
   "execution_count": null,
   "outputs": [],
   "source": [
    "def merge_dicts(*dicts):\n",
    "    \"\"\"\n",
    "    Merge multiple dictionaries into a single dictionary.\n",
    "\n",
    "    Args:\n",
    "        *dicts: Multiple dictionaries to merge.\n",
    "\n",
    "    Returns:\n",
    "        dict: The merged dictionary.\n",
    "    \"\"\"\n",
    "    merged_dict = {}\n",
    "    for dictionary in dicts:\n",
    "        for key, value in dictionary.items():\n",
    "            if key in merged_dict:\n",
    "                if isinstance(value, dict) and isinstance(merged_dict[key], dict):\n",
    "                    merged_dict[key] = merge_dicts(merged_dict[key], value)\n",
    "                elif isinstance(value, list) and isinstance(merged_dict[key], list):\n",
    "                    merged_dict[key].extend(value)\n",
    "                else:\n",
    "                    merged_dict[key] = value\n",
    "            else:\n",
    "                merged_dict[key] = value\n",
    "    return merged_dict\n",
    "\n",
    "\n",
    "dict1 = {'a': 1, 'b': 2}\n",
    "dict2 = {'b': 3, 'c': 4}\n",
    "dict3 = {'c': 5, 'd': 6}\n",
    "\n",
    "result = merge_dicts(dict1, dict2, dict3)\n",
    "expected_result = {'a': 1, 'b': 3, 'c': 5, 'd': 6}\n",
    "\n",
    "assert result == expected_result"
   ],
   "metadata": {
    "collapsed": false
   }
  },
  {
   "cell_type": "markdown",
   "metadata": {},
   "source": [
    "## Acknowledgments\n",
    "\n",
    "Thanks to below awesome open source projects for Python learning, which inspire this chapter.\n",
    "\n",
    "- [learn-python](https://github.com/trekhleb/learn-python) and [Oleksii Trekhleb](https://github.com/trekhleb)\n",
    "- [ultimate-python](https://github.com/huangsam/ultimate-python) and [Samuel Huang](https://github.com/huangsam)\n",
    "- [learn-python3](https://github.com/jerry-git/learn-python3) and [Jerry Pussine](https://github.com/jerry-gitq )\n",
    "- [chatgpt](https://openai.com/product/chatgpt)"
   ]
  }
 ],
 "metadata": {
  "kernelspec": {
   "display_name": "Python 3 (ipykernel)",
   "language": "python",
   "name": "python3"
  },
  "language_info": {
   "codemirror_mode": {
    "name": "ipython",
    "version": 3
   },
   "file_extension": ".py",
   "mimetype": "text/x-python",
   "name": "python",
   "nbconvert_exporter": "python",
   "pygments_lexer": "ipython3",
   "version": "3.9.5"
  },
  "vscode": {
   "interpreter": {
    "hash": "aee8b7b246df8f9039afb4144a1f6fd8d2ca17a180786b69acc140d282b71a49"
   }
  }
 },
 "nbformat": 4,
 "nbformat_minor": 4
}
