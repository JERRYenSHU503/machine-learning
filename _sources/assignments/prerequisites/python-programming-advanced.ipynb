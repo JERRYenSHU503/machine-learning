{
 "cells": [
  {
   "attachments": {},
   "cell_type": "markdown",
   "metadata": {
    "tags": [
     "hide-input"
    ]
   },
   "source": [
    "<details><summary><b>LICENSE</b></summary>\n",
    "\n",
    "MIT License\n",
    "\n",
    "Copyright (c) 2018 Oleksii Trekhleb\n",
    "Copyright (c) 2020 Samuel Huang\n",
    "Copyright (c) 2023 jerry-git\n",
    "\n",
    "Permission is hereby granted, free of charge, to any person obtaining a copy\n",
    "of this software and associated documentation files (the \"Software\"), to deal\n",
    "in the Software without restriction, including without limitation the rights\n",
    "to use, copy, modify, merge, publish, distribute, sublicense, and/or sell\n",
    "copies of the Software, and to permit persons to whom the Software is\n",
    "furnished to do so, subject to the following conditions:\n",
    "\n",
    "The above copyright notice and this permission notice shall be included in all\n",
    "copies or substantial portions of the Software.\n",
    "\n",
    "THE SOFTWARE IS PROVIDED \"AS IS\", WITHOUT WARRANTY OF ANY KIND, EXPRESS OR\n",
    "IMPLIED, INCLUDING BUT NOT LIMITED TO THE WARRANTIES OF MERCHANTABILITY,\n",
    "FITNESS FOR A PARTICULAR PURPOSE AND NONINFRINGEMENT. IN NO EVENT SHALL THE\n",
    "AUTHORS OR COPYRIGHT HOLDERS BE LIABLE FOR ANY CLAIM, DAMAGES OR OTHER\n",
    "LIABILITY, WHETHER IN AN ACTION OF CONTRACT, TORT OR OTHERWISE, ARISING FROM,\n",
    "OUT OF OR IN CONNECTION WITH THE SOFTWARE OR THE USE OR OTHER DEALINGS IN THE\n",
    "SOFTWARE.\n",
    "\n",
    "</details>"
   ]
  },
  {
   "cell_type": "markdown",
   "metadata": {},
   "source": [
    "# Python programming advanced"
   ]
  },
  {
   "cell_type": "markdown",
   "metadata": {},
   "source": [
    "## Conditionals"
   ]
  },
  {
   "cell_type": "markdown",
   "metadata": {},
   "source": [
    "### if-elif-else\n",
    "\n",
    "Fill missing pieces `____` of the following code such that prints make sense."
   ]
  },
  {
   "cell_type": "code",
   "execution_count": null,
   "metadata": {},
   "outputs": [],
   "source": [
    "# Binary search algorithm\n",
    "def binary_search(list, target):\n",
    "    \"\"\"Searches for a target element in a sorted list using binary search.\n",
    "\n",
    "   Args:\n",
    "       lst (list): The sorted list to be searched.\n",
    "       target (any): The element to be searched for.\n",
    "\n",
    "   Returns:\n",
    "       int: The index of the target element if found, -1 otherwise.\n",
    "   \"\"\"\n",
    "    # Initialize low and high indices\n",
    "    # Initialize the left and right pointers\n",
    "    left = 0\n",
    "    right = len(list) - 1\n",
    "    # Loop until the left pointer is greater than the right pointer\n",
    "    while left <= right:\n",
    "        # Find the middle index of the current range\n",
    "        mid = (left + right) // 2\n",
    "        # Compare the target with the middle element of the list\n",
    "        if target == list[mid]:\n",
    "            # Return the index of the target if found\n",
    "            return mid\n",
    "        elif target < list[mid]:\n",
    "            # Narrow the search range to the left half if the target is smaller than the middle element\n",
    "            right = mid - 1\n",
    "        else:\n",
    "            # Narrow the search range to the right half if the target is larger than the middle element\n",
    "            left = mid + 1\n",
    "    # Return -1 if the target is not found in the list\n",
    "    return -1\n",
    "\n",
    "lst = [1, 2, 3, 4, 5, 6, 7, 8, 9]\n",
    "assert binary_search(lst, 5) == 4\n",
    "assert binary_search(lst, 9) == 8\n",
    "assert binary_search(lst, -1) == -1\n",
    "assert binary_search(lst, 10) == -1"
   ]
  },
  {
   "cell_type": "markdown",
   "metadata": {},
   "source": [
    "## For loops"
   ]
  },
  {
   "cell_type": "markdown",
   "metadata": {},
   "source": [
    "### Fill the missing pieces\n",
    "\n",
    "Fill the `____` parts in the code below."
   ]
  },
  {
   "cell_type": "code",
   "execution_count": null,
   "metadata": {},
   "outputs": [],
   "source": [
    "def factorial(n):\n",
    "    \"\"\"\n",
    "    Calculate the factorial of a number.\n",
    "\n",
    "    Args:\n",
    "        n (int): The number to calculate the factorial of.\n",
    "\n",
    "    Returns:\n",
    "        int: The factorial of the input number.\n",
    "    \"\"\"\n",
    "    result = 1\n",
    "    for i in range(1, n + 1):\n",
    "        result *= i\n",
    "    return result\n",
    "\n",
    "\n",
    "assert factorial(3) == 6"
   ]
  },
  {
   "cell_type": "markdown",
   "metadata": {},
   "source": [
    "### range()"
   ]
  },
  {
   "cell_type": "code",
   "execution_count": null,
   "metadata": {},
   "outputs": [],
   "source": [
    "def calculate_sum(n):\n",
    "    \"\"\"\n",
    "    Calculate the sum of numbers from 1 to n.\n",
    "\n",
    "    Args:\n",
    "        n (int): The upper limit.\n",
    "\n",
    "    Returns:\n",
    "        int: The sum of the numbers.\n",
    "    \"\"\"\n",
    "    total = 0\n",
    "    for num in range(1, n + 1):\n",
    "        total += num\n",
    "    return total\n",
    "\n",
    "\n",
    "assert calculate_sum(4) == 10"
   ]
  },
  {
   "cell_type": "markdown",
   "metadata": {},
   "source": [
    "\n",
    "### Looping dictionaries"
   ]
  },
  {
   "cell_type": "code",
   "execution_count": null,
   "metadata": {},
   "outputs": [],
   "source": [
    "my_dict = {'hacker': True, 'age': 72, 'name': 'John Doe'}\n",
    "keys_list = []\n",
    "values_list = []"
   ]
  },
  {
   "cell_type": "code",
   "execution_count": null,
   "metadata": {},
   "outputs": [],
   "source": [
    "# Your solution here:\n",
    "____"
   ]
  },
  {
   "cell_type": "markdown",
   "metadata": {},
   "source": [
    "### Calculate the sum of dict values\n",
    "\n",
    "Calculate the sum of the values in `magic_dict` by taking only into account numeric values (hint: see [isinstance](https://docs.python.org/3/library/functions.html#isinstance)). "
   ]
  },
  {
   "cell_type": "code",
   "execution_count": null,
   "metadata": {
    "editable": false
   },
   "outputs": [],
   "source": [
    "magic_dict = dict(val1=44, val2='secret value', val3=55.0, val4=1)"
   ]
  },
  {
   "cell_type": "code",
   "execution_count": null,
   "metadata": {},
   "outputs": [],
   "source": [
    "# Your implementation\n",
    "sum_of_values = ____"
   ]
  },
  {
   "cell_type": "code",
   "execution_count": null,
   "metadata": {
    "editable": false
   },
   "outputs": [],
   "source": [
    "assert sum_of_values == 100"
   ]
  },
  {
   "cell_type": "markdown",
   "metadata": {},
   "source": [
    "### Create a list of strings based on a list of numbers\n",
    "\n",
    "The rules:\n",
    "* If the number is a multiple of five and odd, the string should be `'five odd'`\n",
    "* If the number is a multiple of five and even, the string should be `'five even'`\n",
    "* If the number is odd, the string is `'odd'`\n",
    "* If the number is even, the string is `'even'`"
   ]
  },
  {
   "cell_type": "code",
   "execution_count": null,
   "metadata": {
    "editable": false
   },
   "outputs": [],
   "source": [
    "numbers = [1, 3, 4, 6, 81, 80, 100, 95]"
   ]
  },
  {
   "cell_type": "code",
   "execution_count": null,
   "metadata": {},
   "outputs": [],
   "source": [
    "# Your implementation\n",
    "my_list = ____"
   ]
  },
  {
   "cell_type": "code",
   "execution_count": null,
   "metadata": {
    "editable": false
   },
   "outputs": [],
   "source": [
    "assert my_list == ['odd', 'odd', 'even', 'even', 'odd', 'five even', 'five even', 'five odd']"
   ]
  },
  {
   "cell_type": "markdown",
   "metadata": {},
   "source": [
    "## While loops"
   ]
  },
  {
   "cell_type": "markdown",
   "metadata": {},
   "source": [
    "### Fill the missing pieces\n",
    "\n",
    "Fill the `____` parts in the code below."
   ]
  },
  {
   "cell_type": "code",
   "execution_count": null,
   "metadata": {},
   "outputs": [],
   "source": [
    "def count_digits(number):\n",
    "    \"\"\"\n",
    "    Count the number of digits in a given number.\n",
    "\n",
    "    Args:\n",
    "        number (int): The input number.\n",
    "\n",
    "    Returns:\n",
    "        int: The count of digits in the number.\n",
    "    \"\"\"\n",
    "    count = 0\n",
    "    while number != 0:\n",
    "        number //= 10\n",
    "        count += 1\n",
    "    return count\n",
    "\n",
    "\n",
    "assert count_digits(123) == 3"
   ]
  },
  {
   "cell_type": "markdown",
   "metadata": {},
   "source": [
    "## Break"
   ]
  },
  {
   "attachments": {},
   "cell_type": "markdown",
   "metadata": {},
   "source": [
    "### Fill the missing pieces using `break` statement"
   ]
  },
  {
   "cell_type": "code",
   "execution_count": null,
   "metadata": {},
   "outputs": [],
   "source": [
    "def find_prime_factors(number):\n",
    "    \"\"\"\n",
    "    Function to find and return the prime factors of a given number.\n",
    "    \n",
    "    Args:\n",
    "    number (int): The number to find the prime factors of.\n",
    "\n",
    "    Returns:\n",
    "    list: A list containing the prime factors of the given number.\n",
    "    \"\"\"\n",
    "    prime_factors = []  # Initialize an empty list to store the prime factors\n",
    "    divisor = 2  # Start with the smallest prime number as the divisor\n",
    "\n",
    "    while number > 1:  # Continue the loop until the number is reduced to 1\n",
    "        if number % divisor == 0:  # Check if the current divisor is a factor of the number\n",
    "            prime_factors.append(divisor)  # If it is, add it to the list of prime factors\n",
    "            number = number // divisor  # Divide the number by the divisor to continue finding the remaining factors\n",
    "        else:\n",
    "            divisor += 1  # If the divisor is not a factor, increment it by 1\n",
    "            if divisor * divisor > number:  # If the square of the divisor is greater than the number\n",
    "                if number > 1:  # And the remaining number is greater than 1\n",
    "                    prime_factors.append(number)  # Add the remaining number as a prime factor\n",
    "                break  # Break out of the loop, as no further factors need to be checked\n",
    "\n",
    "    return prime_factors  # Return the list of prime factors\n",
    "\n",
    "\n",
    "assert find_prime_factors(18) == [2, 3, 3]"
   ]
  },
  {
   "cell_type": "markdown",
   "metadata": {},
   "source": [
    "## Continue"
   ]
  },
  {
   "attachments": {},
   "cell_type": "markdown",
   "metadata": {},
   "source": [
    "### Fill the missing pieces using  `continue` statement"
   ]
  },
  {
   "cell_type": "code",
   "execution_count": null,
   "metadata": {},
   "outputs": [],
   "source": [
    "def sieve_of_eratosthenes(n):\n",
    "    \"\"\"\n",
    "    Finds all prime numbers less than or equal to n using the sieve of Eratosthenes method.\n",
    "\n",
    "    Args:\n",
    "        n (int): A positive integer to be the upper bound of the prime numbers.\n",
    "\n",
    "    Returns:\n",
    "        list: A list of all prime numbers less than or equal to n.\n",
    "    \"\"\"\n",
    "    # Initialize a list of booleans from 0 to n, where True means the number is prime\n",
    "    is_prime = [True] * (n + 1)\n",
    "\n",
    "    # Mark 0 and 1 as not prime\n",
    "    is_prime[0] = False\n",
    "    is_prime[1] = False\n",
    "\n",
    "    # Loop from 2 to the square root of n\n",
    "    for i in range(2, int(n ** 0.5) + 1):\n",
    "        # If the current number is marked as prime\n",
    "        if is_prime[i]:\n",
    "\n",
    "            # Loop from i^2 to n with step size i\n",
    "            for j in range(i * i, n + 1, i):\n",
    "                # Mark all multiples of i as not prime\n",
    "                is_prime[j] = False\n",
    "    # Initialize an empty list to store the prime numbers\n",
    "    primes = []\n",
    "\n",
    "    # Loop from 2 to n\n",
    "    for i in range(2, n + 1):\n",
    "\n",
    "        # If the current number is marked as prime\n",
    "        if is_prime[i]:\n",
    "            # Append it to the list of prime numbers\n",
    "            primes.append(i)\n",
    "\n",
    "        # Otherwise, continue to the next iteration\n",
    "        else:\n",
    "            continue\n",
    "    # Return the list of prime numbers\n",
    "    return primes\n",
    "\n",
    "\n",
    "assert sieve_of_eratosthenes(10) == [2, 3, 5, 7]"
   ]
  },
  {
   "cell_type": "markdown",
   "metadata": {},
   "source": [
    "## Functions"
   ]
  },
  {
   "attachments": {},
   "cell_type": "markdown",
   "metadata": {},
   "source": [
    "### Fill the missing pieces of the `gcd` function\n",
    "\n"
   ]
  },
  {
   "cell_type": "code",
   "execution_count": null,
   "metadata": {},
   "outputs": [],
   "source": [
    "def gcd(a, b):\n",
    "    \"\"\"\n",
    "    Finds the greatest common divisor of two positive integers using the Euclidean algorithm.\n",
    "\n",
    "    Args:\n",
    "        a (int): A positive integer.\n",
    "        b (int): Another positive integer.\n",
    "\n",
    "    Returns:\n",
    "        int: The greatest common divisor of a and b.\n",
    "    \"\"\"\n",
    "    # Base case: if b is 0, return a\n",
    "    if b == 0:\n",
    "        return a\n",
    "\n",
    "    # Recursive case: if b is not 0, return the GCD of b and the remainder of a divided by b\n",
    "    else:\n",
    "        return gcd(b, a % b)\n",
    "\n",
    "\n",
    "assert gcd(12, 18) == 6"
   ]
  },
  {
   "cell_type": "markdown",
   "metadata": {},
   "source": [
    "### Searching for wanted people\n",
    "\n",
    "Implement `find_wanted_people` function which takes a list of names (strings) as argument. The function should return a list of names which are present both in `WANTED_PEOPLE` and in the name list given as argument to the function."
   ]
  },
  {
   "cell_type": "code",
   "execution_count": null,
   "metadata": {
    "editable": false
   },
   "outputs": [],
   "source": [
    "WANTED_PEOPLE = ['John Doe', 'Clint Eastwood', 'Chuck Norris']"
   ]
  },
  {
   "cell_type": "code",
   "execution_count": null,
   "metadata": {},
   "outputs": [],
   "source": [
    "# Your implementation here\n",
    "____"
   ]
  },
  {
   "cell_type": "code",
   "execution_count": null,
   "metadata": {
    "editable": false
   },
   "outputs": [],
   "source": [
    "people_to_check1 = ['Donald Duck', 'Clint Eastwood', 'John Doe', 'Barack Obama']\n",
    "wanted1 = find_wanted_people(people_to_check1)\n",
    "assert len(wanted1) == 2\n",
    "assert 'John Doe' in wanted1\n",
    "assert 'Clint Eastwood' in wanted1\n",
    "\n",
    "people_to_check2 = ['Donald Duck', 'Mickey Mouse', 'Zorro', 'Superman', 'Robin Hood']\n",
    "wanted2 = find_wanted_people(people_to_check2)\n",
    "\n",
    "assert wanted2 == []"
   ]
  },
  {
   "cell_type": "markdown",
   "metadata": {},
   "source": [
    "### Counting average length of words in a sentence\n",
    "\n",
    "Create a function `average_length_of_words` which takes a string as an argument and returns the average length of the words in the string. You can assume that there is a single space between each word and that the input does not have punctuation. The result should be rounded to one decimal place (hint: see [`round`](https://docs.python.org/3/library/functions.html#round))."
   ]
  },
  {
   "cell_type": "code",
   "execution_count": null,
   "metadata": {},
   "outputs": [],
   "source": [
    "# Your implementation here\n",
    "____"
   ]
  },
  {
   "cell_type": "code",
   "execution_count": null,
   "metadata": {
    "editable": false
   },
   "outputs": [],
   "source": [
    "assert average_length_of_words('only four lett erwo rdss') == 4\n",
    "assert average_length_of_words('one two three') == 3.7\n",
    "assert average_length_of_words('one two three four') == 3.8\n",
    "assert average_length_of_words('') == 0"
   ]
  },
  {
   "cell_type": "markdown",
   "metadata": {},
   "source": [
    "## Lambda"
   ]
  },
  {
   "cell_type": "markdown",
   "metadata": {},
   "source": [
    "### Fill the missing pieces"
   ]
  },
  {
   "cell_type": "code",
   "execution_count": null,
   "metadata": {},
   "outputs": [],
   "source": [
    "def map_function(nums, func):\n",
    "    \"\"\"\n",
    "    Applies a function to each element in a list of numbers and returns a new list of results.\n",
    "\n",
    "    Args:\n",
    "        nums (list): A list of numbers to be processed.\n",
    "        func (function): A function to be applied to each element in the list.\n",
    "\n",
    "    Returns:\n",
    "        list: A new list of numbers where each element is the result of applying the function to the corresponding element in the original list.\n",
    "    \"\"\"\n",
    "    # Use the map function and a lambda expression to apply the function to each element in the list and convert the result to a list\n",
    "    return list(map(lambda x: func(x), nums))\n",
    "\n",
    "\n",
    "# Define a list of numbers\n",
    "nums = [1, 2, 3, 4, 5]\n",
    "\n",
    "\n",
    "# Define a function that squares a number\n",
    "def square(x):\n",
    "    return x ** 2\n",
    "\n",
    "\n",
    "# Call the map_function with the list of numbers and the square function\n",
    "assert map_function(nums, square) == [1, 4, 9, 16, 25]"
   ]
  },
  {
   "cell_type": "markdown",
   "metadata": {},
   "source": [
    "## Classes"
   ]
  },
  {
   "attachments": {},
   "cell_type": "markdown",
   "metadata": {},
   "source": [
    "### Fill the missing pieces of the `Stack` class\n",
    "\n",
    "Fill `____` pieces of the `Stack` implemention in order to pass the assertions."
   ]
  },
  {
   "cell_type": "code",
   "execution_count": null,
   "metadata": {},
   "outputs": [],
   "source": [
    "class Stack:\n",
    "    \"\"\"\n",
    "    A class to represent a stack data structure.\n",
    "\n",
    "    Attributes:\n",
    "        items (list): A list of items in the stack.\n",
    "\n",
    "    Methods:\n",
    "        push(item): Adds an item to the top of the stack.\n",
    "        pop(): Removes and returns the top item from the stack.\n",
    "        peek(): Returns the top item from the stack without removing it.\n",
    "        is_empty(): Returns True if the stack is empty, False otherwise.\n",
    "    \"\"\"\n",
    "\n",
    "    # Initialize an empty list to store the items\n",
    "    def __init__(self):\n",
    "        self.items = []\n",
    "\n",
    "    # Add an item to the top of the stack\n",
    "    def push(self, item):\n",
    "        self.items.append(item)\n",
    "\n",
    "    # Remove and return the top item from the stack\n",
    "    def pop(self):\n",
    "        return self.items.pop()\n",
    "\n",
    "    # Check if the stack is empty\n",
    "    def is_empty(self):\n",
    "        return len(self.items) == 0\n",
    "\n",
    "\n",
    "stack = Stack()\n",
    "stack.push(1)\n",
    "\n",
    "assert stack.pop() == 1\n",
    "assert stack.is_empty() == True"
   ]
  },
  {
   "attachments": {},
   "cell_type": "markdown",
   "metadata": {},
   "source": [
    "### Fill the missing pieces of the `Complex` class\n"
   ]
  },
  {
   "cell_type": "code",
   "execution_count": null,
   "metadata": {},
   "outputs": [],
   "source": [
    "class Complex:\n",
    "    \"\"\"\n",
    "    A class to represent a complex number.\n",
    "\n",
    "    Attributes:\n",
    "        real (float): The real part of the complex number.\n",
    "        imag (float): The imaginary part of the complex number.\n",
    "\n",
    "    Methods:\n",
    "        __add__(other): Returns the sum of two complex numbers.\n",
    "        __sub__(other): Returns the difference of two complex numbers.\n",
    "        __mul__(other): Returns the product of two complex numbers.\n",
    "        __truediv__(other): Returns the quotient of two complex numbers.\n",
    "        __abs__(): Returns the absolute value of the complex number.\n",
    "        __eq__(): Returns whether two complex numbers are equal.\n",
    "        conjugate(): Returns the conjugate of the complex number.\n",
    "    \"\"\"\n",
    "\n",
    "    # Initialize the real and imaginary parts of the complex number\n",
    "    def __init__(self, real, imag):\n",
    "        self.real = real\n",
    "        self.imag = imag\n",
    "\n",
    "    # Define the string representation of the complex number\n",
    "    def __str__(self):\n",
    "        if self.imag >= 0:\n",
    "            return f\"{self.real} + {self.imag}i\"\n",
    "        else:\n",
    "            return f\"{self.real} - {-self.imag}i\"\n",
    "\n",
    "    # Define the addition of two complex numbers\n",
    "    def __add__(self, other):\n",
    "        return Complex(self.real + other.real, self.imag + other.imag)\n",
    "\n",
    "    # Define the subtraction of two complex numbers\n",
    "    def __sub__(self, other):\n",
    "        return Complex(self.real - other.real, self.imag - other.imag)\n",
    "\n",
    "    # Define the multiplication of two complex numbers\n",
    "    def __mul__(self, other):\n",
    "        return Complex(self.real * other.real - self.imag * other.imag,\n",
    "                       self.real * other.imag + self.imag * other.real)\n",
    "\n",
    "    # Define the division of two complex numbers\n",
    "    def __truediv__(self, other):\n",
    "        denominator = other.real ** 2 + other.imag ** 2\n",
    "        return Complex((self.real * other.real + self.imag * other.imag) / denominator,\n",
    "                       (self.imag * other.real - self.real * other.imag) / denominator)\n",
    "\n",
    "    # Define the absolute value of the complex number\n",
    "    def __abs__(self):\n",
    "        return (self.real ** 2 + self.imag ** 2) ** 0.5\n",
    "\n",
    "    # Define the equality of two complex numbers\n",
    "    def __eq__(self, other):\n",
    "        return self.real == other.real and self.imag == other.imag\n",
    "\n",
    "    # Define the conjugate of the complex number\n",
    "    def conjugate(self):\n",
    "        return Complex(self.real, -self.imag)\n",
    "\n",
    "\n",
    "# Create two complex numbers\n",
    "z1 = Complex(3, 4)\n",
    "z2 = Complex(1, -2)\n",
    "\n",
    "assert z1 + z2 == Complex(4, 2)\n",
    "assert z1 - z2 == Complex(2, 6)\n",
    "assert z1 * z2 == Complex(11, -2)\n",
    "assert z1 / z2 == Complex(-1, 2)\n",
    "assert abs(z1) == 5\n",
    "assert abs(z2) == 2.23606797749979\n",
    "assert z1.conjugate() == Complex(3, -4)\n",
    "assert z2.conjugate() == Complex(1, 2)"
   ]
  },
  {
   "cell_type": "markdown",
   "metadata": {},
   "source": [
    "## Exceptions"
   ]
  },
  {
   "cell_type": "markdown",
   "metadata": {},
   "source": [
    "### Dealing with exceptions\n",
    "\n",
    "Fill `____` parts of the implementation below. `sum_of_list` function takes a list as argument and calculates the sum of values in the list. If some element in the list can not be converted to a numeric value, it should be ignored from the sum."
   ]
  },
  {
   "cell_type": "code",
   "execution_count": null,
   "metadata": {},
   "outputs": [],
   "source": [
    "def sum_of_list(values):\n",
    "    ____ = 0\n",
    "    for val in values:\n",
    "        ____:\n",
    "        numeric_val = float(val)\n",
    "    ____\n",
    "    ____ as e:\n",
    "    ____\n",
    "\n",
    "\n",
    "____ += numeric_val\n",
    "return ____"
   ]
  },
  {
   "cell_type": "code",
   "execution_count": null,
   "metadata": {
    "editable": false
   },
   "outputs": [],
   "source": [
    "list1 = [1, 2, 3]\n",
    "list2 = ['1', 2.5, '3.0']\n",
    "list3 = ['', '1']\n",
    "list4 = []\n",
    "list5 = ['John', 'Doe', 'was', 'here']\n",
    "nasty_list = [KeyError(), [], dict()]\n",
    "\n",
    "assert sum_of_list(list1) == 6\n",
    "assert sum_of_list(list2) == 6.5\n",
    "assert sum_of_list(list3) == 1\n",
    "assert sum_of_list(list4) == 0\n",
    "assert sum_of_list(list5) == 0\n",
    "assert sum_of_list(nasty_list) == 0"
   ]
  },
  {
   "attachments": {},
   "cell_type": "markdown",
   "metadata": {},
   "source": [
    "### Dealing with exceptions"
   ]
  },
  {
   "cell_type": "code",
   "execution_count": null,
   "metadata": {},
   "outputs": [],
   "source": [
    "def square_root(x):\n",
    "    \"\"\"\n",
    "    Finds the square root of a non-negative number using the Newton's method.\n",
    "\n",
    "    Args:\n",
    "        x (float): A non-negative number to be the input.\n",
    "\n",
    "    Returns:\n",
    "        float: The square root of x.\n",
    "\n",
    "    Raises:\n",
    "        ValueError: If x is negative.\n",
    "    \"\"\"\n",
    "    # Check if x is negative\n",
    "    if x < 0:\n",
    "        # Raise a ValueError exception with a message\n",
    "        raise ValueError(\"x must be non-negative\")\n",
    "\n",
    "    # Use a try block to attempt the square root calculation\n",
    "    try:\n",
    "        # Initialize a guess value as half of x\n",
    "        guess = x / 2\n",
    "\n",
    "        # Loop until the guess is close enough to the actual square root\n",
    "        while abs(guess ** 2 - x) > 0.000001:\n",
    "            # Update the guess value using the Newton's formula\n",
    "            guess = (guess + x / guess) / 2\n",
    "\n",
    "        # Return the guess value as the square root of x\n",
    "        return guess\n",
    "\n",
    "    # Use an except block to handle possible ZeroDivisionError exceptions\n",
    "    except ZeroDivisionError as e:\n",
    "        # Print the exception message\n",
    "        print(e)\n",
    "\n",
    "        # Return None as the result\n",
    "        return None\n",
    "\n",
    "\n",
    "import math\n",
    "\n",
    "assert math.isclose(square_root(25), 5, rel_tol=0.000001)\n",
    "import pytest\n",
    "\n",
    "with pytest.raises(ValueError):\n",
    "    square_root(-9)"
   ]
  },
  {
   "cell_type": "code",
   "execution_count": null,
   "outputs": [],
   "source": [
    "import unittest\n",
    "class Test(unittest.TestCase):\n",
    "    \"\"\"\n",
    "    A class to test various functions using the unittest module.\n",
    "\n",
    "    Attributes: None\n",
    "\n",
    "    Methods:\n",
    "    test_binary_search(): Tests the binary_search function that Searches for a target element in a sorted list using binary search.\n",
    "    test_factorial(): Tests the factorial function that returns the factorial of a number.\n",
    "    test_calculate_sum_positive(): Tests the calculate_sum function that returns the sum of positive integers from 1 to n.\n",
    "    test_count_digits(): Tests the count_digits function that returns the number of digits in a given number.\n",
    "    test_find_prime_factors(): Tests the find_prime_factors function that returns the prime factors of a given number.\n",
    "    test_sieve_of_eratosthenes(): Tests the sieve_of_eratosthenes function that returns all prime numbers less than or equal to n using the sieve of Eratosthenes method.\n",
    "    test_gcd(): Tests the gcd function that returns the greatest common divisor of two positive integers using the Euclidean algorithm.\n",
    "    test_stack(): Tests the Stack class that represents a stack data structure.\n",
    "    test_complex(): Tests the Complex class that represents a Complex.\n",
    "    test_square_root(): Tests the square_root function that returns the square root of a non-negative number using the Newton's method.\n",
    "    \"\"\"\n",
    "\n",
    "    def test_binary_search(self):\n",
    "        lst = [1, 2, 3, 4, 5, 6, 7, 8, 9]\n",
    "        self.assertEqual(binary_search(lst, 1), 0)\n",
    "        self.assertEqual(binary_search(lst, 5), 4)\n",
    "        self.assertEqual(binary_search(lst, 8), 7)\n",
    "\n",
    "    def test_factorial(self):\n",
    "        self.assertEqual(factorial(0), 1)\n",
    "        self.assertEqual(factorial(1), 1)\n",
    "        self.assertEqual(factorial(2), 2)\n",
    "        self.assertEqual(factorial(3), 6)\n",
    "        self.assertEqual(factorial(4), 24)\n",
    "\n",
    "    def test_calculate_sum_positive(self):\n",
    "        self.assertEqual(calculate_sum(4), 10)\n",
    "        self.assertEqual(calculate_sum(10), 55)\n",
    "\n",
    "    def test_count_digits(self):\n",
    "        self.assertEqual(count_digits(0), 0)\n",
    "        self.assertEqual(count_digits(1), 1)\n",
    "        self.assertEqual(count_digits(10), 2)\n",
    "        self.assertEqual(count_digits(123), 3)\n",
    "        self.assertEqual(count_digits(1000), 4)\n",
    "\n",
    "    def test_find_prime_factors(self):\n",
    "        self.assertEqual(find_prime_factors(18), [2, 3, 3])\n",
    "        self.assertEqual(find_prime_factors(1), [])\n",
    "        self.assertEqual(find_prime_factors(2), [2])\n",
    "        self.assertEqual(find_prime_factors(17), [17])\n",
    "        self.assertEqual(find_prime_factors(100), [2, 2, 5, 5])\n",
    "\n",
    "    def test_sieve_of_eratosthenes(self):\n",
    "        self.assertEqual(sieve_of_eratosthenes(10), [2, 3, 5, 7])\n",
    "        self.assertEqual(sieve_of_eratosthenes(1), [])\n",
    "        self.assertEqual(sieve_of_eratosthenes(2), [2])\n",
    "        self.assertEqual(sieve_of_eratosthenes(17), [2, 3, 5, 7, 11, 13, 17])\n",
    "        self.assertEqual(sieve_of_eratosthenes(100), [2, 3, 5, 7, 11, 13, 17, 19, 23, 29,\n",
    "                                                      31, 37, 41, 43, 47, 53, 59, 61,\n",
    "                                                      67, 71, 73, 79, 83, 89, 97])\n",
    "\n",
    "    def test_gcd(self):\n",
    "        self.assertEqual(gcd(10, 5), 5)\n",
    "        self.assertEqual(gcd(1, 1), 1)\n",
    "        self.assertEqual(gcd(2, 3), 1)\n",
    "        self.assertEqual(gcd(12, 18), 6)\n",
    "        self.assertEqual(gcd(100, 25), 25)\n",
    "\n",
    "    def test_stack(self):\n",
    "        s = Stack()\n",
    "        self.assertEqual(s.is_empty(), True)\n",
    "        s.push(1)\n",
    "        s.push(2)\n",
    "        s.push(3)\n",
    "        self.assertEqual(len(s.items), 3)\n",
    "        self.assertEqual(s.pop(), 3)\n",
    "\n",
    "    def test_complex(self):\n",
    "        c1 = Complex(1, 2)\n",
    "        c2 = Complex(3, -4)\n",
    "        self.assertEqual(c1.real, 1)\n",
    "        self.assertEqual(c1.imag, 2)\n",
    "        self.assertEqual(str(c1), \"1 + 2i\")\n",
    "        self.assertEqual(c1 + c2, Complex(4, -2))\n",
    "        self.assertEqual(c1 - c2, Complex(-2, 6))\n",
    "        self.assertEqual(c1 * c2, Complex(11, 2))\n",
    "        self.assertEqual(abs(c2), 5)\n",
    "        c3 = Complex(1, 2)\n",
    "        c4 = Complex(-3, 4)\n",
    "        self.assertTrue(c1 == c3)\n",
    "        self.assertFalse(c3 == c4)\n",
    "        self.assertEqual(c2.conjugate(), Complex(3, 4))\n",
    "\n",
    "    def test_square_root(self):\n",
    "        self.assertAlmostEqual(square_root(0), 0)\n",
    "        self.assertAlmostEqual(square_root(1), 1)\n",
    "        self.assertAlmostEqual(square_root(4), 2)\n",
    "        self.assertAlmostEqual(square_root(9), 3)\n",
    "        self.assertRaises(ValueError, square_root, -1)\n",
    "\n",
    "if __name__ == '__main__':\n",
    "    unittest.main(argv=['first-arg-is-ignored'], exit=False)"
   ],
   "metadata": {
    "collapsed": false
   }
  },
  {
   "cell_type": "markdown",
   "metadata": {},
   "source": [
    "## Acknowledgments\n",
    "\n",
    "Thanks to below awesome open source projects for Python learning, which inspire this chapter.\n",
    "\n",
    "- [learn-python](https://github.com/trekhleb/learn-python) and [Oleksii Trekhleb](https://github.com/trekhleb)\n",
    "- [ultimate-python](https://github.com/huangsam/ultimate-python) and [Samuel Huang](https://github.com/huangsam)\n",
    "- [learn-python3](https://github.com/jerry-git/learn-python3) and [Jerry Pussine](https://github.com/jerry-gitq )\n",
    "- [chatgpt](https://openai.com/product/chatgpt)"
   ]
  }
 ],
 "metadata": {
  "kernelspec": {
   "display_name": "Python 3.9.13 64-bit",
   "language": "python",
   "name": "python3"
  },
  "language_info": {
   "codemirror_mode": {
    "name": "ipython",
    "version": 3
   },
   "file_extension": ".py",
   "mimetype": "text/x-python",
   "name": "python",
   "nbconvert_exporter": "python",
   "pygments_lexer": "ipython3",
   "version": "3.9.16"
  },
  "orig_nbformat": 4,
  "vscode": {
   "interpreter": {
    "hash": "aee8b7b246df8f9039afb4144a1f6fd8d2ca17a180786b69acc140d282b71a49"
   }
  }
 },
 "nbformat": 4,
 "nbformat_minor": 2
}
