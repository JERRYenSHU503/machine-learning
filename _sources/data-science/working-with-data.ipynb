{
 "cells": [
  {
   "cell_type": "markdown",
   "id": "df27bd3b",
   "metadata": {},
   "source": [
    "# Working with data\n",
    "\n",
    "## Relational data vs. NoSQL data\n",
    "\n",
    "## NumPy\n",
    "\n",
    "### The Basics of NumPy Arrays\n",
    "\n",
    "### Computation on NumPy Arrays: Universal Functions\n",
    "\n",
    "### Aggregations: Min, Max, and Everything In Between\n",
    "\n",
    "### Computation on Arrays: Broadcasting\n",
    "\n",
    "### Comparisons, Masks, and Boolean Logic\n",
    "\n",
    "### Fancy Indexing\n",
    "\n",
    "### Sorting Arrays\n",
    "\n",
    "### Structured Data: NumPy's Structured Arrays\n",
    "\n",
    "## Pandas"
   ]
  }
 ],
 "metadata": {
  "jupytext": {
   "cell_metadata_filter": "-all",
   "formats": "md:myst",
   "text_representation": {
    "extension": ".md",
    "format_name": "myst",
    "format_version": 0.13,
    "jupytext_version": "1.11.5"
   }
  },
  "kernelspec": {
   "display_name": "Python 3",
   "language": "python",
   "name": "python3"
  },
  "language_info": {
   "codemirror_mode": {
    "name": "ipython",
    "version": 3
   },
   "file_extension": ".py",
   "mimetype": "text/x-python",
   "name": "python",
   "nbconvert_exporter": "python",
   "pygments_lexer": "ipython3",
   "version": "3.8.13"
  },
  "source_map": [
   14
  ]
 },
 "nbformat": 4,
 "nbformat_minor": 5
}