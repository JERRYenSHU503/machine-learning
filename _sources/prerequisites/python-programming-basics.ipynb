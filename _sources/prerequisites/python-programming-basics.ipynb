{
 "cells": [
  {
   "cell_type": "markdown",
   "id": "0663e21a",
   "metadata": {},
   "source": [
    "# Python programming basics\n",
    "\n",
    "## What is Python\n",
    "\n",
    "Python is a popular programming language. It was created in 1991 by Guido van Rossum.\n",
    "\n",
    "Python is an easy to learn, powerful programming language. It has efficient high-level data structures and a simple but effective approach to object-oriented programming. Python’s elegant syntax and dynamic typing, together with its interpreted nature, make it an ideal language for scripting and rapid application development in many areas on most platforms.\n",
    "\n",
    "It is used for:\n",
    "\n",
    "- web development (server-side),\n",
    "- software development,\n",
    "- mathematics,\n",
    "- system scripting.\n",
    "\n",
    "## Python syntax\n",
    "\n",
    "**Python Syntax compared to other programming languages**\n",
    "\n",
    "- Python was designed to for readability, and has some similarities to the English language with influence from mathematics.\n",
    "- Python uses new lines to complete a command, as opposed to other programming languages which often use semicolons or parentheses.\n",
    "- Python relies on indentation, using whitespace, to define scope; such as the scope of loops, functions and classes. Other programming languages often use curly-brackets for this purpose.\n",
    "\n",
    "### Python indentations\n",
    "\n",
    "Where in other programming languages the indentation in code is for readability only, in Python the indentation is very important.\n",
    "\n",
    "Python uses indentation to indicate a block of code."
   ]
  },
  {
   "cell_type": "code",
   "execution_count": 1,
   "id": "2f694c88",
   "metadata": {},
   "outputs": [
    {
     "name": "stdout",
     "output_type": "stream",
     "text": [
      "Five is greater than two!\n"
     ]
    }
   ],
   "source": [
    "if 5 > 2:\n",
    "    print(\"Five is greater than two!\")"
   ]
  },
  {
   "cell_type": "markdown",
   "id": "99768456",
   "metadata": {},
   "source": [
    "Python will give you an error if you skip the indentation.\n",
    "\n",
    "### Comments\n",
    "\n",
    "Python has commenting capability for the purpose of in-code documentation.\n",
    "\n",
    "Comments start with a `#`, and Python will render the rest of the line as a comment:"
   ]
  },
  {
   "cell_type": "code",
   "execution_count": 2,
   "id": "3fcc8986",
   "metadata": {},
   "outputs": [
    {
     "name": "stdout",
     "output_type": "stream",
     "text": [
      "Hello, World!\n"
     ]
    }
   ],
   "source": [
    "#This is a comment.\n",
    "print(\"Hello, World!\")"
   ]
  },
  {
   "cell_type": "markdown",
   "id": "06fe84b6",
   "metadata": {},
   "source": [
    "### Docstrings\n",
    "\n",
    "Python also has extended documentation capability, called docstrings.\n",
    "\n",
    "Docstrings can be one line, or multiline. Docstrings are also comments.\n",
    "\n",
    "Python uses `\"\"\"` at the beginning and end of the docstring:"
   ]
  },
  {
   "cell_type": "code",
   "execution_count": 3,
   "id": "68170d38",
   "metadata": {},
   "outputs": [
    {
     "name": "stdout",
     "output_type": "stream",
     "text": [
      "Hello, World!\n"
     ]
    }
   ],
   "source": [
    "\"\"\"This is a \n",
    "multiline docstring.\"\"\"\n",
    "print(\"Hello, World!\")"
   ]
  },
  {
   "cell_type": "markdown",
   "id": "aa2c911d",
   "metadata": {},
   "source": [
    "## Variables\n",
    "\n",
    "Python is completely object oriented, and not \"statically typed\". You do not need to declare variables before using them, or declare their type. Every variable in Python is an object. Unlike other programming languages, Python has no command for declaring a variable. A variable is created the moment you first assign a value to it. A variable can have a short name (like x and y) or a more descriptive name (age, carname, total_volume). Rules for Python variables:\n",
    "\n",
    "- A variable name must start with a letter or the underscore character.\n",
    "- A variable name cannot start with a number.\n",
    "- A variable name can only contain alpha-numeric characters and underscores (A-z, 0-9, and _ ).\n",
    "- Variable names are case-sensitive (age, Age and AGE are three different variables).\n",
    "\n",
    "```{seealso}\n",
    "- https://docs.python.org/3/tutorial/introduction.html\n",
    "- https://www.w3schools.com/python/python_variables.asp\n",
    "- https://www.learnpython.org/en/Variables_and_Types\n",
    "```"
   ]
  },
  {
   "cell_type": "code",
   "execution_count": 4,
   "id": "c0f17757",
   "metadata": {},
   "outputs": [],
   "source": [
    "integer_variable = 5\n",
    "string_variable = 'John'\n",
    "\n",
    "assert integer_variable == 5\n",
    "assert string_variable == 'John'"
   ]
  },
  {
   "cell_type": "markdown",
   "id": "f14349ce",
   "metadata": {},
   "source": [
    "## Operators\n",
    "\n",
    "```{seealso}\n",
    "- https://www.w3schools.com/python/python_operators.asp\n",
    "```\n",
    "\n",
    "### Arithmetic operators\n",
    "\n",
    "Arithmetic operators are used with numeric values to perform common mathematical operations"
   ]
  },
  {
   "cell_type": "code",
   "execution_count": 5,
   "id": "2c38e768",
   "metadata": {},
   "outputs": [],
   "source": [
    "# Addition.\n",
    "assert 5 + 3 == 8\n",
    "\n",
    "# Subtraction.\n",
    "assert 5 - 3 == 2\n",
    "\n",
    "# Multiplication.\n",
    "assert 5 * 3 == 15\n",
    "assert isinstance(5 * 3, int)\n",
    "\n",
    "# Division.\n",
    "# Result of division is float number.\n",
    "assert 5 / 3 == 1.6666666666666667\n",
    "assert 8 / 4 == 2\n",
    "assert isinstance(5 / 3, float)\n",
    "assert isinstance(8 / 4, float)\n",
    "\n",
    "# Modulus.\n",
    "assert 5 % 3 == 2\n",
    "\n",
    "# Exponentiation.\n",
    "assert 5 ** 3 == 125\n",
    "assert 2 ** 3 == 8\n",
    "assert 2 ** 4 == 16\n",
    "assert 2 ** 5 == 32\n",
    "assert isinstance(5 ** 3, int)\n",
    "\n",
    "# Floor division.\n",
    "assert 5 // 3 == 1\n",
    "assert 6 // 3 == 2\n",
    "assert 7 // 3 == 2\n",
    "assert 9 // 3 == 3\n",
    "assert isinstance(5 // 3, int)"
   ]
  },
  {
   "cell_type": "markdown",
   "id": "3b5edbfc",
   "metadata": {},
   "source": [
    "### Comparison operators\n",
    "\n",
    "Comparison operators are used to compare two values."
   ]
  },
  {
   "cell_type": "code",
   "execution_count": 6,
   "id": "1374bb2d",
   "metadata": {},
   "outputs": [],
   "source": [
    "# Equal.\n",
    "number = 5\n",
    "assert number == 5\n",
    "\n",
    "# Not equal.\n",
    "number = 5\n",
    "assert number != 3\n",
    "\n",
    "# Greater than.\n",
    "number = 5\n",
    "assert number > 3\n",
    "\n",
    "# Less than.\n",
    "number = 5\n",
    "assert number < 8\n",
    "\n",
    "# Greater than or equal to\n",
    "number = 5\n",
    "assert number >= 5\n",
    "assert number >= 4\n",
    "\n",
    "# Less than or equal to\n",
    "number = 5\n",
    "assert number <= 5\n",
    "assert number <= 6"
   ]
  },
  {
   "cell_type": "markdown",
   "id": "f9bd8bb7",
   "metadata": {},
   "source": [
    "## Data Types\n",
    "\n",
    "### Numbers (including booleans)\n",
    "\n",
    "```{seealso}\n",
    "- https://docs.python.org/3/tutorial/introduction.html\n",
    "- https://www.w3schools.com/python/python_numbers.asp\n",
    "```\n",
    "\n",
    "#### Intergers\n",
    "\n",
    "Int, or integer, is a whole number, positive or negative, without decimals, of unlimited length."
   ]
  },
  {
   "cell_type": "code",
   "execution_count": 7,
   "id": "1c8cb7e5",
   "metadata": {},
   "outputs": [],
   "source": [
    "positive_integer = 1\n",
    "negative_integer = -3255522\n",
    "big_integer = 35656222554887711\n",
    "\n",
    "assert isinstance(positive_integer, int)\n",
    "assert isinstance(negative_integer, int)\n",
    "assert isinstance(big_integer, int)"
   ]
  },
  {
   "cell_type": "markdown",
   "id": "b12417b6",
   "metadata": {},
   "source": [
    "#### Booleans\n",
    "\n",
    "Booleans represent the truth values `False` and `True`. The two objects representing the values `False` and `True` are the only Boolean objects. The Boolean type is a subtype of the integer type, and Boolean values behave like the values 0 and 1, respectively, in almost all contexts, the exception being that when converted to a string, the strings `False` or `True` are returned, respectively."
   ]
  },
  {
   "cell_type": "code",
   "execution_count": 8,
   "id": "09a9fbc6",
   "metadata": {},
   "outputs": [],
   "source": [
    "true_boolean = True\n",
    "false_boolean = False\n",
    "\n",
    "assert true_boolean\n",
    "assert not false_boolean\n",
    "\n",
    "assert isinstance(true_boolean, bool)\n",
    "assert isinstance(false_boolean, bool)\n",
    "\n",
    "# Let's try to cast boolean to string.\n",
    "assert str(true_boolean) == \"True\"\n",
    "assert str(false_boolean) == \"False\""
   ]
  },
  {
   "cell_type": "markdown",
   "id": "adbae4d9",
   "metadata": {},
   "source": [
    "#### Floats\n",
    "\n",
    "Float, or \"floating point number\" is a number, positive or negative, containing one or more decimals."
   ]
  },
  {
   "cell_type": "code",
   "execution_count": 9,
   "id": "35ed3f39",
   "metadata": {},
   "outputs": [],
   "source": [
    "float_number = 7.0\n",
    "# Another way of declaring float is using float() function.\n",
    "float_number_via_function = float(7) \n",
    "float_negative = -35.59\n",
    "\n",
    "assert float_number == float_number_via_function\n",
    "assert isinstance(float_number, float)\n",
    "assert isinstance(float_number_via_function, float)\n",
    "assert isinstance(float_negative, float)"
   ]
  },
  {
   "cell_type": "markdown",
   "id": "35927e4a",
   "metadata": {},
   "source": [
    "Float can also be scientific numbers with an \"e\" to indicate the power of 10."
   ]
  },
  {
   "cell_type": "code",
   "execution_count": 10,
   "id": "d80a51a6",
   "metadata": {},
   "outputs": [],
   "source": [
    "float_with_small_e = 35e3\n",
    "float_with_big_e = 12E4\n",
    "\n",
    "assert float_with_small_e == 35000\n",
    "assert float_with_big_e == 120000\n",
    "assert isinstance(12E4, float)\n",
    "assert isinstance(-87.7e100, float)"
   ]
  },
  {
   "cell_type": "markdown",
   "id": "5cb8f844",
   "metadata": {},
   "source": [
    "#### Complexes\n",
    "\n",
    "A complex number has two parts, real part and imaginary part. Complex numbers are represented as A+Bi or A+Bj, where A is real part and B is imaginary part."
   ]
  },
  {
   "cell_type": "code",
   "execution_count": 11,
   "id": "7a169e7c",
   "metadata": {},
   "outputs": [],
   "source": [
    "complex_number_1 = 5 + 6j\n",
    "complex_number_2 = 3 - 2j\n",
    "\n",
    "assert isinstance(complex_number_1, complex)\n",
    "assert isinstance(complex_number_2, complex)\n",
    "assert complex_number_1 * complex_number_2 == 27 + 8j"
   ]
  },
  {
   "cell_type": "markdown",
   "id": "0824eb91",
   "metadata": {},
   "source": [
    "#### Number operation"
   ]
  },
  {
   "cell_type": "code",
   "execution_count": 12,
   "id": "16210ce2",
   "metadata": {},
   "outputs": [],
   "source": [
    "# Addition.\n",
    "assert 2 + 4 == 6\n",
    "\n",
    "# Multiplication.\n",
    "assert 2 * 4 == 8\n",
    "\n",
    "# Division always returns a floating point number.\n",
    "assert 12 / 3 == 4.0\n",
    "assert 12 / 5 == 2.4\n",
    "assert 17 / 3 == 5.666666666666667\n",
    "\n",
    "# Modulo operator returns the remainder of the division.\n",
    "assert 12 % 3 == 0\n",
    "assert 13 % 3 == 1\n",
    "\n",
    "# Floor division discards the fractional part.\n",
    "assert 17 // 3 == 5\n",
    "\n",
    "# Raising the number to specific power.\n",
    "assert 5 ** 2 == 25  # 5 squared\n",
    "assert 2 ** 7 == 128  # 2 to the power of 7\n",
    "\n",
    "# There is full support for floating point; operators with mixed type operands convert the integer operand to floating point.\n",
    "assert 4 * 3.75 - 1 == 14.0"
   ]
  },
  {
   "cell_type": "markdown",
   "id": "275aa8da",
   "metadata": {},
   "source": [
    "### Strings and their methods\n",
    "\n",
    "#### String Type\n",
    "\n",
    "Besides numbers, Python can also manipulate strings, which can be expressed in several ways. They can be enclosed in single quotes `''` or double quotes `\"\"` with the same result.\n",
    "\n",
    "```{seealso}\n",
    "- https://docs.python.org/3/tutorial/introduction.html\n",
    "- https://www.w3schools.com/python/python_strings.asp\n",
    "- https://www.w3schools.com/python/python_ref_string.asp\n",
    "```"
   ]
  },
  {
   "cell_type": "code",
   "execution_count": 13,
   "id": "bc69586e",
   "metadata": {},
   "outputs": [],
   "source": [
    "# String with double quotes.\n",
    "name_1 = \"John\""
   ]
  },
  {
   "cell_type": "code",
   "execution_count": 14,
   "id": "f3eeb02a",
   "metadata": {},
   "outputs": [],
   "source": [
    "# String with single quotes.\n",
    "name_2 = 'John'"
   ]
  },
  {
   "cell_type": "markdown",
   "id": "8ecb7056",
   "metadata": {},
   "source": [
    "Strings created with different kind of quotes are treated the same."
   ]
  },
  {
   "cell_type": "code",
   "execution_count": 15,
   "id": "d82e0984",
   "metadata": {},
   "outputs": [],
   "source": [
    "assert name_1 == name_2\n",
    "assert isinstance(name_1, str)\n",
    "assert isinstance(name_2, str)"
   ]
  },
  {
   "cell_type": "markdown",
   "id": "76a61195",
   "metadata": {},
   "source": [
    "`\\` can be used to escape quotes.\n",
    "\n",
    "Use `\\'` to escape the single quote or use double quotes instead."
   ]
  },
  {
   "cell_type": "code",
   "execution_count": 16,
   "id": "d3669991",
   "metadata": {},
   "outputs": [],
   "source": [
    "single_quote_string = 'doesn\\'t'\n",
    "double_quote_string = \"doesn't\"\n",
    "\n",
    "assert single_quote_string == double_quote_string"
   ]
  },
  {
   "cell_type": "markdown",
   "id": "f4206062",
   "metadata": {},
   "source": [
    "`\\n` means newline."
   ]
  },
  {
   "cell_type": "code",
   "execution_count": 17,
   "id": "3c418b2d",
   "metadata": {},
   "outputs": [],
   "source": [
    "multiline_string = 'First line.\\nSecond line.'"
   ]
  },
  {
   "cell_type": "markdown",
   "id": "a3f048f9",
   "metadata": {},
   "source": [
    "Without `print()`, `\\n` is included in the output. But with `print()`, `\\n` produces a new line."
   ]
  },
  {
   "cell_type": "code",
   "execution_count": 18,
   "id": "7db5e1cd",
   "metadata": {},
   "outputs": [],
   "source": [
    "assert multiline_string == 'First line.\\nSecond line.'"
   ]
  },
  {
   "cell_type": "markdown",
   "id": "2f0c4ec7",
   "metadata": {},
   "source": [
    "Strings can be indexed, with the first character having index 0. There is no separate character type; a character is simply a string of size one. Note that since -0 is the same as 0, negative indices start from -1."
   ]
  },
  {
   "cell_type": "code",
   "execution_count": 19,
   "id": "88867f00",
   "metadata": {},
   "outputs": [],
   "source": [
    "import pytest\n",
    "word = 'Python'\n",
    "assert word[0] == 'P'  # First character.\n",
    "assert word[5] == 'n'  # Fifth character.\n",
    "assert word[-1] == 'n'  # Last character.\n",
    "assert word[-2] == 'o'  # Second-last character.\n",
    "assert word[-6] == 'P'  # Sixth from the end or zeroth from the beginning.\n",
    "\n",
    "assert isinstance(word[0], str)"
   ]
  },
  {
   "cell_type": "markdown",
   "id": "89b997a0",
   "metadata": {},
   "source": [
    "In addition to indexing, slicing is also supported. While indexing is used to obtain individual characters, slicing allows you to obtain substring."
   ]
  },
  {
   "cell_type": "code",
   "execution_count": 20,
   "id": "ca58fe38",
   "metadata": {},
   "outputs": [],
   "source": [
    "assert word[0:2] == 'Py'  # Characters from position 0 (included) to 2 (excluded).\n",
    "assert word[2:5] == 'tho'  # Characters from position 2 (included) to 5 (excluded)."
   ]
  },
  {
   "cell_type": "markdown",
   "id": "62a8a6a8",
   "metadata": {},
   "source": [
    "Note how the start is always included, and the end always excluded. This makes sure that `s[:i] + s[i:]` is always equal to `s`:"
   ]
  },
  {
   "cell_type": "code",
   "execution_count": 21,
   "id": "547c9b11",
   "metadata": {},
   "outputs": [],
   "source": [
    "assert word[:2] + word[2:] == 'Python'\n",
    "assert word[:4] + word[4:] == 'Python'"
   ]
  },
  {
   "cell_type": "markdown",
   "id": "01a16483",
   "metadata": {},
   "source": [
    "Slice indices have useful defaults; an omitted first index defaults to zero, an omitted second index defaults to the size of the string being sliced."
   ]
  },
  {
   "cell_type": "code",
   "execution_count": 22,
   "id": "b479a5e0",
   "metadata": {},
   "outputs": [],
   "source": [
    "assert word[:2] == 'Py'  # Character from the beginning to position 2 (excluded).\n",
    "assert word[4:] == 'on'  # Characters from position 4 (included) to the end.\n",
    "assert word[-2:] == 'on'  # Characters from the second-last (included) to the end."
   ]
  },
  {
   "cell_type": "markdown",
   "id": "b1d4dba5",
   "metadata": {},
   "source": [
    "One way to remember how slices work is to think of the indices as pointing between characters, with the left edge of the first character numbered 0. Then the right edge of the last character of a string of n characters has index n, for example:\n",
    "\n",
    " \n",
    "|   | P |   | y |   | t |   | h |   | o |   | n |   |\n",
    "|:-:|:-:|:-:|:-:|:-:|:-:|:-:|:-:|:-:|:-:|:-:|:-:|:-:|\n",
    "|  0|   |  1|   |  2|   |  3|   |  4|   |  5|   |  6|\n",
    "| -6|   | -5|   | -4|   | -3|   | -2|   | -1|   \n",
    "\n",
    "Attempting to use an index that is too large will result in an error."
   ]
  },
  {
   "cell_type": "code",
   "execution_count": 23,
   "id": "edef924a",
   "metadata": {},
   "outputs": [],
   "source": [
    "with pytest.raises(Exception):\n",
    "    not_existing_character = word[42]\n",
    "    assert not not_existing_character"
   ]
  },
  {
   "cell_type": "markdown",
   "id": "caa24aa3",
   "metadata": {},
   "source": [
    "However, out of range slice indexes are handled gracefully when used for slicing."
   ]
  },
  {
   "cell_type": "code",
   "execution_count": 24,
   "id": "835d8245",
   "metadata": {},
   "outputs": [],
   "source": [
    "assert word[4:42] == 'on'\n",
    "assert word[42:] == ''"
   ]
  },
  {
   "cell_type": "markdown",
   "id": "d1405234",
   "metadata": {},
   "source": [
    "Python strings cannot be changed — they are immutable. Therefore, assigning to an indexed position in the string results in an error:"
   ]
  },
  {
   "cell_type": "code",
   "execution_count": 25,
   "id": "e457da5a",
   "metadata": {},
   "outputs": [],
   "source": [
    "with pytest.raises(Exception):\n",
    "    # pylint: disable=unsupported-assignment-operation\n",
    "    word[0] = 'J'"
   ]
  },
  {
   "cell_type": "markdown",
   "id": "8f76dc23",
   "metadata": {},
   "source": [
    "If you need a different string, you should create a new one."
   ]
  },
  {
   "cell_type": "code",
   "execution_count": 26,
   "id": "9fedd075",
   "metadata": {},
   "outputs": [],
   "source": [
    "assert 'J' + word[1:] == 'Jython'\n",
    "assert word[:2] + 'py' == 'Pypy'"
   ]
  },
  {
   "cell_type": "markdown",
   "id": "8392dcd0",
   "metadata": {},
   "source": [
    "The built-in function `len()` returns the length of a string."
   ]
  },
  {
   "cell_type": "code",
   "execution_count": 27,
   "id": "9de35658",
   "metadata": {},
   "outputs": [],
   "source": [
    "characters = 'supercalifragilisticexpialidocious'\n",
    "assert len(characters) == 34"
   ]
  },
  {
   "cell_type": "markdown",
   "id": "cb23942b",
   "metadata": {},
   "source": [
    "String literals can span multiple lines. One way is using triple-quotes: `\"\"\"...\"\"\"` or `'''...'''`. End of lines are automatically included in the string, but it’s possible to prevent this by adding a `\\` at the end of the line. The following example:"
   ]
  },
  {
   "cell_type": "code",
   "execution_count": 28,
   "id": "d4050331",
   "metadata": {},
   "outputs": [],
   "source": [
    "multi_line_string = '''\\\n",
    "    First line\n",
    "    Second line\n",
    "'''\n",
    "\n",
    "assert multi_line_string == '''\\\n",
    "    First line\n",
    "    Second line\n",
    "'''"
   ]
  },
  {
   "cell_type": "markdown",
   "id": "d1656134",
   "metadata": {},
   "source": [
    "#### String operations\n",
    "\n",
    "Strings can be concatenated (glued together) with the `+` operator, and repeated with `*`."
   ]
  },
  {
   "cell_type": "code",
   "execution_count": 29,
   "id": "748d314e",
   "metadata": {},
   "outputs": [],
   "source": [
    "assert 3 * 'un' + 'ium' == 'unununium'"
   ]
  },
  {
   "cell_type": "code",
   "execution_count": 30,
   "id": "8d406da0",
   "metadata": {},
   "outputs": [],
   "source": [
    "python = 'Py' 'thon'\n",
    "assert python == 'Python'"
   ]
  },
  {
   "cell_type": "markdown",
   "id": "e41fb05a",
   "metadata": {},
   "source": [
    "This feature is particularly useful when you want to break long strings:"
   ]
  },
  {
   "cell_type": "code",
   "execution_count": 31,
   "id": "a856b0c1",
   "metadata": {},
   "outputs": [],
   "source": [
    "text = (\n",
    "    'Put several strings within parentheses '\n",
    "    'to have them joined together.'\n",
    ")\n",
    "assert text == 'Put several strings within parentheses to have them joined together.'"
   ]
  },
  {
   "cell_type": "markdown",
   "id": "409c121e",
   "metadata": {},
   "source": [
    "If you want to concatenate variables or a variable and a literal, use `+`:"
   ]
  },
  {
   "cell_type": "code",
   "execution_count": 32,
   "id": "99704439",
   "metadata": {},
   "outputs": [],
   "source": [
    "prefix = 'Py'\n",
    "assert prefix + 'thon' == 'Python'"
   ]
  },
  {
   "cell_type": "markdown",
   "id": "8ec8d528",
   "metadata": {},
   "source": [
    "#### String Methods"
   ]
  },
  {
   "cell_type": "code",
   "execution_count": 33,
   "id": "042179f3",
   "metadata": {},
   "outputs": [],
   "source": [
    "hello_world_string = \"Hello, World!\""
   ]
  },
  {
   "cell_type": "markdown",
   "id": "b34a954a",
   "metadata": {},
   "source": [
    "The `strip()` method removes any whitespace from the beginning or the end."
   ]
  },
  {
   "cell_type": "code",
   "execution_count": 34,
   "id": "258fc6c6",
   "metadata": {},
   "outputs": [],
   "source": [
    "string_with_whitespaces = \" Hello, World! \"\n",
    "assert string_with_whitespaces.strip() == \"Hello, World!\""
   ]
  },
  {
   "cell_type": "markdown",
   "id": "74e5e1fa",
   "metadata": {},
   "source": [
    "The `len()` method returns the length of a string."
   ]
  },
  {
   "cell_type": "code",
   "execution_count": 35,
   "id": "94832307",
   "metadata": {},
   "outputs": [],
   "source": [
    "assert len(hello_world_string) == 13"
   ]
  },
  {
   "cell_type": "markdown",
   "id": "0380f636",
   "metadata": {},
   "source": [
    "The `lower()` method returns the string in lower case."
   ]
  },
  {
   "cell_type": "code",
   "execution_count": 36,
   "id": "d7031f9d",
   "metadata": {},
   "outputs": [],
   "source": [
    "assert hello_world_string.lower() == 'hello, world!'"
   ]
  },
  {
   "cell_type": "markdown",
   "id": "d68355ee",
   "metadata": {},
   "source": [
    "The `upper()` method returns the string in upper case."
   ]
  },
  {
   "cell_type": "code",
   "execution_count": 37,
   "id": "803f43be",
   "metadata": {},
   "outputs": [],
   "source": [
    "assert hello_world_string.upper() == 'HELLO, WORLD!'"
   ]
  },
  {
   "cell_type": "markdown",
   "id": "8a97153a",
   "metadata": {},
   "source": [
    "The `replace()` method replaces a string with another string."
   ]
  },
  {
   "cell_type": "code",
   "execution_count": 38,
   "id": "845fb15d",
   "metadata": {},
   "outputs": [],
   "source": [
    "assert hello_world_string.replace('H', 'J') == 'Jello, World!'"
   ]
  },
  {
   "cell_type": "markdown",
   "id": "bd853a1f",
   "metadata": {},
   "source": [
    "The `split()` method splits the string into substrings if it finds instances of the separator."
   ]
  },
  {
   "cell_type": "code",
   "execution_count": 39,
   "id": "c1dce9ed",
   "metadata": {},
   "outputs": [],
   "source": [
    "assert hello_world_string.split(',') == ['Hello', ' World!']"
   ]
  },
  {
   "cell_type": "markdown",
   "id": "c11b0aab",
   "metadata": {},
   "source": [
    "The `capitalize()` method converts the first character to upper case."
   ]
  },
  {
   "cell_type": "code",
   "execution_count": 40,
   "id": "3fa50aea",
   "metadata": {},
   "outputs": [],
   "source": [
    "assert 'low letter at the beginning'.capitalize() == 'Low letter at the beginning'"
   ]
  },
  {
   "cell_type": "markdown",
   "id": "040361e0",
   "metadata": {},
   "source": [
    "The `count()` method returns the number of times a specified value occurs in a string."
   ]
  },
  {
   "cell_type": "code",
   "execution_count": 41,
   "id": "455bdc73",
   "metadata": {},
   "outputs": [],
   "source": [
    "assert 'low letter at the beginning'.count('t') == 4"
   ]
  },
  {
   "cell_type": "markdown",
   "id": "d2d5f20b",
   "metadata": {},
   "source": [
    "The `find()` method searches the string for a specified value and returns the position of where it was found."
   ]
  },
  {
   "cell_type": "code",
   "execution_count": 42,
   "id": "8a10fed1",
   "metadata": {},
   "outputs": [],
   "source": [
    "assert 'Hello, welcome to my world'.find('welcome') == 7"
   ]
  },
  {
   "cell_type": "markdown",
   "id": "7fdc9df9",
   "metadata": {},
   "source": [
    "The `title()` method converts the first character of each word to upper case."
   ]
  },
  {
   "cell_type": "code",
   "execution_count": 43,
   "id": "85ad1686",
   "metadata": {},
   "outputs": [],
   "source": [
    "assert 'Welcome to my world'.title() == 'Welcome To My World'"
   ]
  },
  {
   "cell_type": "markdown",
   "id": "6cd7e988",
   "metadata": {},
   "source": [
    "The `replace()` method returns a string where a specified value is replaced with a specified value."
   ]
  },
  {
   "cell_type": "code",
   "execution_count": 44,
   "id": "6342c669",
   "metadata": {},
   "outputs": [],
   "source": [
    "assert 'I like bananas'.replace('bananas', 'apples') == 'I like apples'"
   ]
  },
  {
   "cell_type": "markdown",
   "id": "edee7175",
   "metadata": {},
   "source": [
    "The `join()` method joins the elements of an iterable to the end of the string."
   ]
  },
  {
   "cell_type": "code",
   "execution_count": 45,
   "id": "f6d50b3f",
   "metadata": {},
   "outputs": [],
   "source": [
    "my_tuple = ('John', 'Peter', 'Vicky')\n",
    "assert '-'.join(my_tuple) == 'John-Peter-Vicky'"
   ]
  },
  {
   "cell_type": "markdown",
   "id": "9f9f17ad",
   "metadata": {},
   "source": [
    "The `isupper()` method returns True if all characters in the string are upper case."
   ]
  },
  {
   "cell_type": "code",
   "execution_count": 46,
   "id": "222f5686",
   "metadata": {},
   "outputs": [],
   "source": [
    "assert 'ABC'.isupper()\n",
    "assert not 'AbC'.isupper()"
   ]
  },
  {
   "cell_type": "markdown",
   "id": "5b81148e",
   "metadata": {},
   "source": [
    "The `isalpha()` method checks if all the characters in the text are letters."
   ]
  },
  {
   "cell_type": "code",
   "execution_count": 47,
   "id": "44ede076",
   "metadata": {},
   "outputs": [],
   "source": [
    "assert 'CompanyX'.isalpha()\n",
    "assert not 'Company 23'.isalpha()"
   ]
  },
  {
   "cell_type": "markdown",
   "id": "b9bd24a5",
   "metadata": {},
   "source": [
    "The `isdecimal()` method returns True if all characters in the string are decimals."
   ]
  },
  {
   "cell_type": "code",
   "execution_count": 48,
   "id": "e8007f56",
   "metadata": {},
   "outputs": [],
   "source": [
    "assert '1234'.isdecimal()\n",
    "assert not 'a21453'.isdecimal()"
   ]
  },
  {
   "cell_type": "markdown",
   "id": "ba6e743a",
   "metadata": {},
   "source": [
    "#### String Formatting\n",
    "\n",
    "Often you’ll want more control over the formatting of your output than simply printing space-separated values. There are several ways to format output.\n",
    "\n",
    "To use formatted string literals, begin a string with f or F before the opening quotation mark or triple quotation mark. Inside this string, you can write a Python expression inside `{}` characters that can refer to variables or literal values."
   ]
  },
  {
   "cell_type": "code",
   "execution_count": 49,
   "id": "9b26f1bd",
   "metadata": {},
   "outputs": [],
   "source": [
    "year = 2018\n",
    "event = 'conference'\n",
    "\n",
    "assert f'Results of the {year} {event}' == 'Results of the 2018 conference'"
   ]
  },
  {
   "cell_type": "markdown",
   "id": "c340e7de",
   "metadata": {},
   "source": [
    "The `str.format()` method of strings requires more manual effort. You’ll still use `{}` to mark where a variable will be substituted and can provide detailed formatting directives, but you’ll also need to provide the information to be formatted."
   ]
  },
  {
   "cell_type": "code",
   "execution_count": 50,
   "id": "da0ff844",
   "metadata": {},
   "outputs": [],
   "source": [
    "yes_votes = 42_572_654  # equivalent of 42572654\n",
    "no_votes = 43_132_495   # equivalent of 43132495\n",
    "percentage = yes_votes / (yes_votes + no_votes)\n",
    "\n",
    "assert '{:-9} YES votes  {:2.2%}'.format(yes_votes, percentage) == ' 42572654 YES votes  49.67%'"
   ]
  },
  {
   "cell_type": "markdown",
   "id": "ad321d30",
   "metadata": {},
   "source": [
    "When you don’t need fancy output but just want a quick display of some variables for debugging purposes, you can convert any value to a string with the `repr()` or `str()` functions. \n",
    "\n",
    "The `str()` function is meant to return representations of values which are fairly human-readable, while `repr()` is meant to generate representations which can be read by the interpreter (or will force a `SyntaxError` if there is no equivalent syntax). \n",
    "\n",
    "For objects which don’t have a particular representation for human consumption, `str()` will return the same value as `repr()`. Many values, such as numbers or structures like lists and dictionaries, have the same representation using either function. Strings, in particular, have two distinct representations."
   ]
  },
  {
   "cell_type": "code",
   "execution_count": 51,
   "id": "9bb262bb",
   "metadata": {},
   "outputs": [],
   "source": [
    "greeting = 'Hello, world.'\n",
    "first_num = 10 * 3.25\n",
    "second_num = 200 * 200\n",
    "\n",
    "assert str(greeting) == 'Hello, world.'\n",
    "assert repr(greeting) == \"'Hello, world.'\"\n",
    "assert str(1/7) == '0.14285714285714285'"
   ]
  },
  {
   "cell_type": "markdown",
   "id": "8639739e",
   "metadata": {},
   "source": [
    "The argument to `repr()` may be any Python object:"
   ]
  },
  {
   "cell_type": "code",
   "execution_count": 52,
   "id": "600de3b6",
   "metadata": {},
   "outputs": [],
   "source": [
    "assert repr((first_num, second_num, ('spam', 'eggs'))) == \"(32.5, 40000, ('spam', 'eggs'))\""
   ]
  },
  {
   "cell_type": "markdown",
   "id": "b06a904e",
   "metadata": {},
   "source": [
    "##### Formatted String Literals\n",
    "\n",
    "Formatted string literals (also called f-strings for short) let you include the value of Python expressions inside a string by prefixing the string with f or F and writing expressions as `{expression}`.\n",
    "\n",
    "An optional format specifier can follow the expression. This allows greater control over how the value is formatted. The following example rounds pi to three places after the decimal."
   ]
  },
  {
   "cell_type": "code",
   "execution_count": 53,
   "id": "1bf657df",
   "metadata": {},
   "outputs": [],
   "source": [
    "pi_value = 3.14159\n",
    "assert f'The value of pi is {pi_value:.3f}.' == 'The value of pi is 3.142.'"
   ]
  },
  {
   "cell_type": "markdown",
   "id": "11faa751",
   "metadata": {},
   "source": [
    "Passing an integer after the `:` will cause that field to be a minimum number of characters wide. This is useful for making columns line up."
   ]
  },
  {
   "cell_type": "code",
   "execution_count": 54,
   "id": "5f23dfe8",
   "metadata": {},
   "outputs": [],
   "source": [
    "table_data = {'Sjoerd': 4127, 'Jack': 4098, 'Dcab': 7678}\n",
    "table_string = ''\n",
    "for name, phone in table_data.items():\n",
    "    table_string += f'{name:7}==>{phone:7d}'\n",
    "\n",
    "assert table_string == ('Sjoerd ==>   4127'\n",
    "                        'Jack   ==>   4098'\n",
    "                        'Dcab   ==>   7678')"
   ]
  },
  {
   "cell_type": "markdown",
   "id": "abbb7d9b",
   "metadata": {},
   "source": [
    "##### The String format() Method\n",
    "\n",
    "Basic usage of the `str.format()` method looks like this:"
   ]
  },
  {
   "cell_type": "code",
   "execution_count": 55,
   "id": "631a6e90",
   "metadata": {},
   "outputs": [],
   "source": [
    "assert 'We are {} who say \"{}!\"'.format('knights', 'Ni') == 'We are knights who say \"Ni!\"'"
   ]
  },
  {
   "cell_type": "markdown",
   "id": "40042894",
   "metadata": {},
   "source": [
    "The brackets and characters within them (called format fields) are replaced with the objects passed into the `str.format()` method. A number in the brackets can be used to refer to the position of the object passed into the `str.format()` method."
   ]
  },
  {
   "cell_type": "code",
   "execution_count": 56,
   "id": "1a532ecf",
   "metadata": {},
   "outputs": [],
   "source": [
    "assert '{0} and {1}'.format('spam', 'eggs') == 'spam and eggs'\n",
    "assert '{1} and {0}'.format('spam', 'eggs') == 'eggs and spam'"
   ]
  },
  {
   "cell_type": "markdown",
   "id": "13ec4666",
   "metadata": {},
   "source": [
    "If keyword arguments are used in the `str.format()` method, their values are referred to by using the name of the argument."
   ]
  },
  {
   "cell_type": "code",
   "execution_count": 57,
   "id": "aa77220b",
   "metadata": {},
   "outputs": [],
   "source": [
    "formatted_string = 'This {food} is {adjective}.'.format(\n",
    "    food='spam',\n",
    "    adjective='absolutely horrible'\n",
    ")\n",
    "\n",
    "assert formatted_string == 'This spam is absolutely horrible.'"
   ]
  },
  {
   "cell_type": "markdown",
   "id": "0e0aefc8",
   "metadata": {},
   "source": [
    "Positional and keyword arguments can be arbitrarily combined."
   ]
  },
  {
   "cell_type": "code",
   "execution_count": 58,
   "id": "dfcf9228",
   "metadata": {},
   "outputs": [],
   "source": [
    "formatted_string = 'The story of {0}, {1}, and {other}.'.format(\n",
    "    'Bill',\n",
    "    'Manfred',\n",
    "    other='Georg'\n",
    ")\n",
    "\n",
    "assert formatted_string == 'The story of Bill, Manfred, and Georg.'"
   ]
  },
  {
   "cell_type": "markdown",
   "id": "a578170b",
   "metadata": {},
   "source": [
    "If you have a really long format string that you don’t want to split up, it would be nice if you could reference the variables to be formatted by name instead of by position. This can be done by simply passing the dict and using square brackets `[]` to access the keys."
   ]
  },
  {
   "cell_type": "code",
   "execution_count": 59,
   "id": "f2a04e0d",
   "metadata": {},
   "outputs": [],
   "source": [
    "table = {'Sjoerd': 4127, 'Jack': 4098, 'Dcab': 8637678}\n",
    "formatted_string = 'Jack: {0[Jack]:d}; Sjoerd: {0[Sjoerd]:d}; Dcab: {0[Dcab]:d}'.format(table)\n",
    "\n",
    "assert formatted_string == 'Jack: 4098; Sjoerd: 4127; Dcab: 8637678'"
   ]
  },
  {
   "cell_type": "markdown",
   "id": "4e8bce78",
   "metadata": {},
   "source": [
    "This could also be done by passing the table as keyword arguments with the `**` notation."
   ]
  },
  {
   "cell_type": "code",
   "execution_count": 60,
   "id": "0f9d85ba",
   "metadata": {},
   "outputs": [],
   "source": [
    "formatted_string = 'Jack: {Jack:d}; Sjoerd: {Sjoerd:d}; Dcab: {Dcab:d}'.format(**table)\n",
    "\n",
    "assert formatted_string == 'Jack: 4098; Sjoerd: 4127; Dcab: 8637678'"
   ]
  },
  {
   "cell_type": "markdown",
   "id": "fc68c003",
   "metadata": {},
   "source": [
    "### Lists and their methods (including list comprehensions)\n",
    "\n",
    "Python knows a number of compound data types, used to group together other values. The most versatile is the list, which can be written as a list of comma-separated values (items) between square brackets. Lists might contain items of different types, but usually the items all have the same type.\n",
    "\n",
    "```{seealso}\n",
    "- https://www.learnpython.org/en/Lists\n",
    "- https://docs.python.org/3/tutorial/introduction.html\n",
    "- https://docs.python.org/3/tutorial/datastructures.html#more-on-lists\n",
    "```\n",
    "\n",
    "#### List Type\n",
    "\n",
    "Lists are very similar to arrays. They can contain any type of variable, and they can contain as many variables as you wish. Lists can also be iterated over in a very simple manner.\n",
    "\n",
    "Here is an example of how to build a list."
   ]
  },
  {
   "cell_type": "code",
   "execution_count": 61,
   "id": "69f64ae2",
   "metadata": {},
   "outputs": [],
   "source": [
    "squares = [1, 4, 9, 16, 25]\n",
    "\n",
    "assert isinstance(squares, list)"
   ]
  },
  {
   "cell_type": "markdown",
   "id": "c93d44cb",
   "metadata": {},
   "source": [
    "Like strings (and all other built-in sequence type), lists can be indexed and sliced:"
   ]
  },
  {
   "cell_type": "code",
   "execution_count": 62,
   "id": "d74d0900",
   "metadata": {},
   "outputs": [],
   "source": [
    "assert squares[0] == 1  # indexing returns the item\n",
    "assert squares[-1] == 25\n",
    "assert squares[-3:] == [9, 16, 25]  # slicing returns a new list"
   ]
  },
  {
   "cell_type": "markdown",
   "id": "bb81f498",
   "metadata": {},
   "source": [
    "All slice operations return a new list containing the requested elements.\n",
    "This means that the following slice returns a new (shallow) copy of the list:"
   ]
  },
  {
   "cell_type": "code",
   "execution_count": 63,
   "id": "0c214200",
   "metadata": {},
   "outputs": [],
   "source": [
    "assert squares[:] == [1, 4, 9, 16, 25]"
   ]
  },
  {
   "cell_type": "markdown",
   "id": "830fc6d2",
   "metadata": {},
   "source": [
    "Lists also support operations like concatenation:"
   ]
  },
  {
   "cell_type": "code",
   "execution_count": 64,
   "id": "6057778c",
   "metadata": {},
   "outputs": [],
   "source": [
    "assert squares + [36, 49, 64, 81, 100] == [1, 4, 9, 16, 25, 36, 49, 64, 81, 100]"
   ]
  },
  {
   "cell_type": "markdown",
   "id": "01f83496",
   "metadata": {},
   "source": [
    "Unlike strings, which are immutable, lists are a mutable type, i.e. it is possible to change their content:"
   ]
  },
  {
   "cell_type": "code",
   "execution_count": 65,
   "id": "215b8cd5",
   "metadata": {},
   "outputs": [],
   "source": [
    "cubes = [1, 8, 27, 65, 125]  # something's wrong here, the cube of 4 is 64!\n",
    "cubes[3] = 64  # replace the wrong value\n",
    "assert cubes == [1, 8, 27, 64, 125]"
   ]
  },
  {
   "cell_type": "markdown",
   "id": "bfd4ce1b",
   "metadata": {},
   "source": [
    "You can also add new items at the end of the list, by using the `append()` method."
   ]
  },
  {
   "cell_type": "code",
   "execution_count": 66,
   "id": "b8d51ff4",
   "metadata": {},
   "outputs": [],
   "source": [
    "cubes.append(216)  # add the cube of 6\n",
    "cubes.append(7 ** 3)  # and the cube of 7\n",
    "assert cubes == [1, 8, 27, 64, 125, 216, 343]"
   ]
  },
  {
   "cell_type": "markdown",
   "id": "8415736a",
   "metadata": {},
   "source": [
    "Assignment to slices is also possible, and this can even change the size of the list or clear it entirely:"
   ]
  },
  {
   "cell_type": "code",
   "execution_count": 67,
   "id": "02bf4fca",
   "metadata": {},
   "outputs": [],
   "source": [
    "letters = ['a', 'b', 'c', 'd', 'e', 'f', 'g']\n",
    "letters[2:5] = ['C', 'D', 'E']  # replace some values\n",
    "assert letters == ['a', 'b', 'C', 'D', 'E', 'f', 'g']\n",
    "letters[2:5] = []  # now remove them\n",
    "assert letters == ['a', 'b', 'f', 'g']"
   ]
  },
  {
   "cell_type": "markdown",
   "id": "b7a54a74",
   "metadata": {},
   "source": [
    "Clear the list by replacing all the elements with an empty list."
   ]
  },
  {
   "cell_type": "code",
   "execution_count": 68,
   "id": "1d7c660f",
   "metadata": {},
   "outputs": [],
   "source": [
    "letters[:] = []\n",
    "assert letters == []"
   ]
  },
  {
   "cell_type": "markdown",
   "id": "ad3d8198",
   "metadata": {},
   "source": [
    "The built-in function `len()` also applies to lists."
   ]
  },
  {
   "cell_type": "code",
   "execution_count": 69,
   "id": "d59d725a",
   "metadata": {},
   "outputs": [],
   "source": [
    "letters = ['a', 'b', 'c', 'd']\n",
    "assert len(letters) == 4"
   ]
  },
  {
   "cell_type": "markdown",
   "id": "04d530d8",
   "metadata": {},
   "source": [
    "It is possible to nest lists (create lists containing other lists), for example:"
   ]
  },
  {
   "cell_type": "code",
   "execution_count": 70,
   "id": "a62ea5a1",
   "metadata": {},
   "outputs": [],
   "source": [
    "list_of_chars = ['a', 'b', 'c']\n",
    "list_of_numbers = [1, 2, 3]\n",
    "mixed_list = [list_of_chars, list_of_numbers]\n",
    "assert mixed_list == [['a', 'b', 'c'], [1, 2, 3]]\n",
    "assert mixed_list[0] == ['a', 'b', 'c']\n",
    "assert mixed_list[0][1] == 'b'"
   ]
  },
  {
   "cell_type": "markdown",
   "id": "a83cd4c2",
   "metadata": {},
   "source": [
    "#### List Methods"
   ]
  },
  {
   "cell_type": "code",
   "execution_count": 71,
   "id": "66fa26a6",
   "metadata": {},
   "outputs": [],
   "source": [
    "import pytest\n",
    "\n",
    "fruits = ['orange', 'apple', 'pear', 'banana', 'kiwi', 'apple', 'banana']"
   ]
  },
  {
   "cell_type": "markdown",
   "id": "cce9a4ad",
   "metadata": {},
   "source": [
    "`list.append(x)` adds an item to the end of the list, equivalent to `a[len(a):] = [x]`."
   ]
  },
  {
   "cell_type": "code",
   "execution_count": 72,
   "id": "ef061a9d",
   "metadata": {},
   "outputs": [],
   "source": [
    "fruits.append('grape')\n",
    "assert fruits == ['orange', 'apple', 'pear', 'banana', 'kiwi', 'apple', 'banana', 'grape']"
   ]
  },
  {
   "cell_type": "markdown",
   "id": "b7463247",
   "metadata": {},
   "source": [
    "`list.remove(x)` removes the first item from the list whose value is equal to x. It raises a `ValueError` if there is no such item."
   ]
  },
  {
   "cell_type": "code",
   "execution_count": 73,
   "id": "0504e0fa",
   "metadata": {},
   "outputs": [],
   "source": [
    "fruits.remove('grape')\n",
    "assert fruits == ['orange', 'apple', 'pear', 'banana', 'kiwi', 'apple', 'banana']\n",
    "\n",
    "with pytest.raises(Exception):\n",
    "    fruits.remove('not existing element')"
   ]
  },
  {
   "cell_type": "markdown",
   "id": "0ad47768",
   "metadata": {},
   "source": [
    "`list.insert(i, x)` inserts an item at a given position. The first argument is the index of the element before which to insert, so `a.insert(0, x)` inserts at the front of the list, and `a.insert(len(a), x)` is equivalent to `a.append(x)`."
   ]
  },
  {
   "cell_type": "code",
   "execution_count": 74,
   "id": "ff6cb9e7",
   "metadata": {},
   "outputs": [],
   "source": [
    "fruits.insert(0, 'grape')\n",
    "assert fruits == ['grape', 'orange', 'apple', 'pear', 'banana', 'kiwi', 'apple', 'banana']"
   ]
  },
  {
   "cell_type": "markdown",
   "id": "919b2754",
   "metadata": {},
   "source": [
    "`list.index(x[, start[, end]])` returns zero-based index in the list of the first item whose value is equal to x.\n",
    "Raises a ValueError if there is no such item.\n",
    "The optional arguments start and end are interpreted as in the slice notation and are used to limit the search to a particular subsequence of the list. The returned index is computed relative to the beginning of the full sequence rather than the start argument."
   ]
  },
  {
   "cell_type": "code",
   "execution_count": 75,
   "id": "9996d21e",
   "metadata": {},
   "outputs": [],
   "source": [
    "assert fruits.index('grape') == 0\n",
    "assert fruits.index('orange') == 1\n",
    "assert fruits.index('banana') == 4\n",
    "assert fruits.index('banana', 5) == 7  # Find next banana starting a position 5\n",
    "\n",
    "with pytest.raises(Exception):\n",
    "    fruits.index('not existing element')"
   ]
  },
  {
   "cell_type": "markdown",
   "id": "d2d99bf9",
   "metadata": {},
   "source": [
    "`list.count(x)` returns the number of times x appears in the list."
   ]
  },
  {
   "cell_type": "code",
   "execution_count": 76,
   "id": "c60f4787",
   "metadata": {},
   "outputs": [],
   "source": [
    "assert fruits.count('tangerine') == 0\n",
    "assert fruits.count('banana') == 2"
   ]
  },
  {
   "cell_type": "markdown",
   "id": "66c091d3",
   "metadata": {},
   "source": [
    "`list.copy()` returns a shallow copy of the list. Equivalent to `a[:]`."
   ]
  },
  {
   "cell_type": "code",
   "execution_count": 77,
   "id": "35acb324",
   "metadata": {},
   "outputs": [],
   "source": [
    "fruits_copy = fruits.copy()\n",
    "assert fruits_copy == ['grape', 'orange', 'apple', 'pear', 'banana', 'kiwi', 'apple', 'banana']"
   ]
  },
  {
   "cell_type": "markdown",
   "id": "d5ea8484",
   "metadata": {},
   "source": [
    "`list.reverse()` reverses the elements of the list in place."
   ]
  },
  {
   "cell_type": "code",
   "execution_count": 78,
   "id": "44e642ac",
   "metadata": {},
   "outputs": [],
   "source": [
    "fruits_copy.reverse()\n",
    "assert fruits_copy == [\n",
    "    'banana',\n",
    "    'apple',\n",
    "    'kiwi',\n",
    "    'banana',\n",
    "    'pear',\n",
    "    'apple',\n",
    "    'orange',\n",
    "    'grape',\n",
    "]"
   ]
  },
  {
   "cell_type": "markdown",
   "id": "b035d997",
   "metadata": {},
   "source": [
    "`list.sort(key=None, reverse=False)` sorts the items of the list in place. (The arguments can be used for sort customization, see `sorted()` for their explanation.)"
   ]
  },
  {
   "cell_type": "code",
   "execution_count": 79,
   "id": "267bcbad",
   "metadata": {},
   "outputs": [],
   "source": [
    "fruits_copy.sort()\n",
    "assert fruits_copy == [\n",
    "    'apple',\n",
    "    'apple',\n",
    "    'banana',\n",
    "    'banana',\n",
    "    'grape',\n",
    "    'kiwi',\n",
    "    'orange',\n",
    "    'pear',\n",
    "]"
   ]
  },
  {
   "cell_type": "markdown",
   "id": "b140d6a5",
   "metadata": {},
   "source": [
    "`list.pop([i])` removes the item at the given position in the list, and return it. If no index is specified, `a.pop()` removes and returns the last item in the list. (The square brackets around the i in the method signature denote that the parameter is optional, not that you should type square brackets at that position.)"
   ]
  },
  {
   "cell_type": "code",
   "execution_count": 80,
   "id": "63f2ed90",
   "metadata": {},
   "outputs": [],
   "source": [
    "assert fruits == ['grape', 'orange', 'apple', 'pear', 'banana', 'kiwi', 'apple', 'banana']\n",
    "assert fruits.pop() == 'banana'\n",
    "assert fruits == ['grape', 'orange', 'apple', 'pear', 'banana', 'kiwi', 'apple']"
   ]
  },
  {
   "cell_type": "markdown",
   "id": "41bfe9df",
   "metadata": {},
   "source": [
    "`list.clear()` removes all items from the list. Equivalent to `del a[:]`."
   ]
  },
  {
   "cell_type": "code",
   "execution_count": 81,
   "id": "a45e5bb7",
   "metadata": {},
   "outputs": [],
   "source": [
    "fruits.clear()\n",
    "assert fruits == []"
   ]
  },
  {
   "cell_type": "markdown",
   "id": "f86a9d2d",
   "metadata": {},
   "source": [
    "#### The del statement\n",
    "\n",
    "There is a way to remove an item from a list given its index instead of its value: the `del` statement. This differs from the `pop()` method which returns a value. The `del` statement can also be used to remove slices from a list or clear the entire list (which we did earlier by assignment of an empty list to the slice)."
   ]
  },
  {
   "cell_type": "code",
   "execution_count": 82,
   "id": "36db174c",
   "metadata": {},
   "outputs": [],
   "source": [
    "import pytest\n",
    "\n",
    "numbers = [-1, 1, 66.25, 333, 333, 1234.5]\n",
    "\n",
    "del numbers[0]\n",
    "assert numbers == [1, 66.25, 333, 333, 1234.5]\n",
    "\n",
    "del numbers[2:4]\n",
    "assert numbers == [1, 66.25, 1234.5]\n",
    "\n",
    "del numbers[:]\n",
    "assert numbers == []\n",
    "\n",
    "# del can also be used to delete entire variables:\n",
    "del numbers\n",
    "with pytest.raises(Exception):\n",
    "    # Referencing the name a hereafter is an error (at least until another\n",
    "    # value is assigned to it).\n",
    "    assert numbers == []  # noqa: F821"
   ]
  },
  {
   "cell_type": "markdown",
   "id": "9541f972",
   "metadata": {},
   "source": [
    "#### List Comprehensions\n",
    "\n",
    "List comprehensions provide a concise way to create lists. Common applications are to make new lists where each element is the result of some operations applied to each member of another sequence or iterable, or to create a subsequence of those elements that satisfy a certain condition. A list comprehension consists of brackets containing an expression followed by a for clause, then zero or more `for` or `if` clauses. The result will be a new list resulting from evaluating the expression in the context of the `for` and `if` clauses which follow it.\n",
    "\n",
    "For example, assume we want to create a list of squares, like:"
   ]
  },
  {
   "cell_type": "code",
   "execution_count": 83,
   "id": "18102047",
   "metadata": {},
   "outputs": [],
   "source": [
    "squares = []\n",
    "for number in range(10):\n",
    "    squares.append(number ** 2)\n",
    "\n",
    "assert squares == [0, 1, 4, 9, 16, 25, 36, 49, 64, 81]"
   ]
  },
  {
   "cell_type": "markdown",
   "id": "374b8e87",
   "metadata": {},
   "source": [
    "Note that this creates (or overwrites) a variable named \"number\" that still exists after the loop completes. We can calculate the list of squares without any side effects using:"
   ]
  },
  {
   "cell_type": "code",
   "execution_count": 84,
   "id": "5b117392",
   "metadata": {},
   "outputs": [],
   "source": [
    "squares = list(map(lambda x: x ** 2, range(10)))\n",
    "assert squares == [0, 1, 4, 9, 16, 25, 36, 49, 64, 81]"
   ]
  },
  {
   "cell_type": "markdown",
   "id": "3eb8857c",
   "metadata": {},
   "source": [
    "Or, equivalently (which is more concise and readable):"
   ]
  },
  {
   "cell_type": "code",
   "execution_count": 85,
   "id": "843e1193",
   "metadata": {},
   "outputs": [],
   "source": [
    "squares = [x ** 2 for x in range(10)]\n",
    "assert squares == [0, 1, 4, 9, 16, 25, 36, 49, 64, 81]"
   ]
  },
  {
   "cell_type": "markdown",
   "id": "38ad9ee3",
   "metadata": {},
   "source": [
    "For example, this listcomp combines the elements of two lists if they are not equal:"
   ]
  },
  {
   "cell_type": "code",
   "execution_count": 86,
   "id": "e42d768e",
   "metadata": {},
   "outputs": [],
   "source": [
    "combinations = [(x, y) for x in [1, 2, 3] for y in [3, 1, 4] if x != y]\n",
    "assert combinations == [(1, 3), (1, 4), (2, 3), (2, 1), (2, 4), (3, 1), (3, 4)]"
   ]
  },
  {
   "cell_type": "markdown",
   "id": "257ff6f0",
   "metadata": {},
   "source": [
    "And it’s equivalent to:"
   ]
  },
  {
   "cell_type": "code",
   "execution_count": 87,
   "id": "61c68e62",
   "metadata": {},
   "outputs": [],
   "source": [
    "combinations = []\n",
    "for first_number in [1, 2, 3]:\n",
    "    for second_number in [3, 1, 4]:\n",
    "        if first_number != second_number:\n",
    "            combinations.append((first_number, second_number))\n",
    "\n",
    "assert combinations == [(1, 3), (1, 4), (2, 3), (2, 1), (2, 4), (3, 1), (3, 4)]"
   ]
  },
  {
   "cell_type": "markdown",
   "id": "8be29468",
   "metadata": {},
   "source": [
    "Note how the order of the `for` and `if` statements is the same in both these snippets.\n",
    "\n",
    "If the expression is a tuple (e.g. the (x, y) in the previous example), it must be parenthesized.\n",
    "\n",
    "Let's see some more examples:"
   ]
  },
  {
   "cell_type": "code",
   "execution_count": 88,
   "id": "a3a397ce",
   "metadata": {},
   "outputs": [],
   "source": [
    "vector = [-4, -2, 0, 2, 4]"
   ]
  },
  {
   "cell_type": "markdown",
   "id": "e5084483",
   "metadata": {},
   "source": [
    "Create a new list with the values doubled."
   ]
  },
  {
   "cell_type": "code",
   "execution_count": 89,
   "id": "bf092591",
   "metadata": {},
   "outputs": [],
   "source": [
    "doubled_vector = [x * 2 for x in vector]\n",
    "assert doubled_vector == [-8, -4, 0, 4, 8]"
   ]
  },
  {
   "cell_type": "markdown",
   "id": "09684321",
   "metadata": {},
   "source": [
    "Filter the list to exclude negative numbers."
   ]
  },
  {
   "cell_type": "code",
   "execution_count": 90,
   "id": "12578191",
   "metadata": {},
   "outputs": [],
   "source": [
    "positive_vector = [x for x in vector if x >= 0]\n",
    "assert positive_vector == [0, 2, 4]"
   ]
  },
  {
   "cell_type": "markdown",
   "id": "e5f81ddb",
   "metadata": {},
   "source": [
    "Apply a function to all the elements."
   ]
  },
  {
   "cell_type": "code",
   "execution_count": 91,
   "id": "66476ee0",
   "metadata": {},
   "outputs": [],
   "source": [
    "abs_vector = [abs(x) for x in vector]\n",
    "assert abs_vector == [4, 2, 0, 2, 4]"
   ]
  },
  {
   "cell_type": "markdown",
   "id": "c7417339",
   "metadata": {},
   "source": [
    "Call a method on each element."
   ]
  },
  {
   "cell_type": "code",
   "execution_count": 92,
   "id": "8ad7d19a",
   "metadata": {},
   "outputs": [],
   "source": [
    "fresh_fruit = ['  banana', '  loganberry ', 'passion fruit  ']\n",
    "clean_fresh_fruit = [weapon.strip() for weapon in fresh_fruit]\n",
    "assert clean_fresh_fruit == ['banana', 'loganberry', 'passion fruit']"
   ]
  },
  {
   "cell_type": "markdown",
   "id": "2493e1f6",
   "metadata": {},
   "source": [
    "Create a list of 2-tuples like (number, square)."
   ]
  },
  {
   "cell_type": "code",
   "execution_count": 93,
   "id": "97c24e09",
   "metadata": {},
   "outputs": [],
   "source": [
    "square_tuples = [(x, x ** 2) for x in range(6)]\n",
    "assert square_tuples == [(0, 0), (1, 1), (2, 4), (3, 9), (4, 16), (5, 25)]"
   ]
  },
  {
   "cell_type": "markdown",
   "id": "33ba6c3f",
   "metadata": {},
   "source": [
    "Flatten a list using a listcomp with two `for`."
   ]
  },
  {
   "cell_type": "code",
   "execution_count": 94,
   "id": "3e073734",
   "metadata": {},
   "outputs": [],
   "source": [
    "vector = [[1, 2, 3], [4, 5, 6], [7, 8, 9]]\n",
    "flatten_vector = [num for elem in vector for num in elem]\n",
    "assert flatten_vector == [1, 2, 3, 4, 5, 6, 7, 8, 9]"
   ]
  },
  {
   "cell_type": "markdown",
   "id": "7236905e",
   "metadata": {},
   "source": [
    "#### Nested List Comprehensions\n",
    "\n",
    "The initial expression in a list comprehension can be any arbitrary expression, including another list comprehension.\n",
    "\n",
    "Consider the following example of a 3x4 matrix implemented as a list of 3 lists of length 4:"
   ]
  },
  {
   "cell_type": "code",
   "execution_count": 95,
   "id": "5a3a400c",
   "metadata": {},
   "outputs": [],
   "source": [
    "matrix = [\n",
    "    [1, 2, 3, 4],\n",
    "    [5, 6, 7, 8],\n",
    "    [9, 10, 11, 12],\n",
    "]"
   ]
  },
  {
   "cell_type": "markdown",
   "id": "da4bd873",
   "metadata": {},
   "source": [
    "The following list comprehension will transpose rows and columns:"
   ]
  },
  {
   "cell_type": "code",
   "execution_count": 96,
   "id": "4236bca2",
   "metadata": {},
   "outputs": [],
   "source": [
    "transposed_matrix = [[row[i] for row in matrix] for i in range(4)]\n",
    "assert transposed_matrix == [\n",
    "    [1, 5, 9],\n",
    "    [2, 6, 10],\n",
    "    [3, 7, 11],\n",
    "    [4, 8, 12],\n",
    "]"
   ]
  },
  {
   "cell_type": "markdown",
   "id": "8738e206",
   "metadata": {},
   "source": [
    "As we saw in the previous section, the nested listcomp is evaluated in the context of the for that follows it, so this example is equivalent to:"
   ]
  },
  {
   "cell_type": "code",
   "execution_count": 97,
   "id": "23a485c9",
   "metadata": {},
   "outputs": [],
   "source": [
    "transposed = []\n",
    "for i in range(4):\n",
    "    transposed.append([row[i] for row in matrix])\n",
    "\n",
    "assert transposed == [\n",
    "    [1, 5, 9],\n",
    "    [2, 6, 10],\n",
    "    [3, 7, 11],\n",
    "    [4, 8, 12],\n",
    "]"
   ]
  },
  {
   "cell_type": "markdown",
   "id": "9af73c0d",
   "metadata": {},
   "source": [
    "Which, in turn, is the same as:"
   ]
  },
  {
   "cell_type": "code",
   "execution_count": 98,
   "id": "42f9e55c",
   "metadata": {},
   "outputs": [],
   "source": [
    "transposed = []\n",
    "for i in range(4):\n",
    "    # the following 3 lines implement the nested listcomp\n",
    "    transposed_row = []\n",
    "    for row in matrix:\n",
    "        transposed_row.append(row[i])\n",
    "    transposed.append(transposed_row)\n",
    "\n",
    "assert transposed == [\n",
    "    [1, 5, 9],\n",
    "    [2, 6, 10],\n",
    "    [3, 7, 11],\n",
    "    [4, 8, 12],\n",
    "]"
   ]
  },
  {
   "cell_type": "markdown",
   "id": "695bbf71",
   "metadata": {},
   "source": [
    "In the real world, you should prefer built-in functions to complex flow statements. The `zip()` function would do a great job for this use case."
   ]
  },
  {
   "cell_type": "code",
   "execution_count": 99,
   "id": "9d5fb2ff",
   "metadata": {},
   "outputs": [],
   "source": [
    "assert list(zip(*matrix)) == [\n",
    "    (1, 5, 9),\n",
    "    (2, 6, 10),\n",
    "    (3, 7, 11),\n",
    "    (4, 8, 12),\n",
    "]"
   ]
  },
  {
   "cell_type": "markdown",
   "id": "9658d2b2",
   "metadata": {},
   "source": [
    "### Tuples\n",
    "\n",
    "A tuple is a collection which is ordered and unchangeable. In Python tuples are written with\n",
    "round brackets.\n",
    "\n",
    "The Tuples have following properties:\n",
    "- You cannot change values in a tuple.\n",
    "- You cannot remove items in a tuple.\n",
    "\n",
    "```{seealso}\n",
    "- https://www.w3schools.com/python/python_tuples.asp\n",
    "- https://docs.python.org/3/tutorial/datastructures.html#tuples-and-sequences\n",
    "```"
   ]
  },
  {
   "cell_type": "code",
   "execution_count": 100,
   "id": "435886e3",
   "metadata": {},
   "outputs": [],
   "source": [
    "import pytest\n",
    "\n",
    "fruits_tuple = (\"apple\", \"banana\", \"cherry\")\n",
    "\n",
    "assert isinstance(fruits_tuple, tuple)\n",
    "assert fruits_tuple[0] == \"apple\"\n",
    "assert fruits_tuple[1] == \"banana\"\n",
    "assert fruits_tuple[2] == \"cherry\""
   ]
  },
  {
   "cell_type": "markdown",
   "id": "f20606f6",
   "metadata": {},
   "source": [
    "You cannot change values in a tuple."
   ]
  },
  {
   "cell_type": "code",
   "execution_count": 101,
   "id": "3a6f7c5a",
   "metadata": {},
   "outputs": [],
   "source": [
    "with pytest.raises(Exception):\n",
    "    # pylint: disable=unsupported-assignment-operation\n",
    "    fruits_tuple[0] = \"pineapple\""
   ]
  },
  {
   "cell_type": "markdown",
   "id": "a91c301a",
   "metadata": {},
   "source": [
    "It is also possible to use the `tuple()` constructor to make a tuple (note the double round-brackets). \n",
    "\n",
    "The `len()` function returns the length of the tuple."
   ]
  },
  {
   "cell_type": "code",
   "execution_count": 102,
   "id": "5c13bca8",
   "metadata": {},
   "outputs": [],
   "source": [
    "fruits_tuple_via_constructor = tuple((\"apple\", \"banana\", \"cherry\"))\n",
    "\n",
    "assert isinstance(fruits_tuple_via_constructor, tuple)\n",
    "assert len(fruits_tuple_via_constructor) == 3"
   ]
  },
  {
   "cell_type": "markdown",
   "id": "be491c2a",
   "metadata": {},
   "source": [
    "It is also possible to omit brackets when initializing tuples."
   ]
  },
  {
   "cell_type": "code",
   "execution_count": 103,
   "id": "69794a59",
   "metadata": {},
   "outputs": [],
   "source": [
    "another_tuple = 12345, 54321, 'hello!'\n",
    "assert another_tuple == (12345, 54321, 'hello!')"
   ]
  },
  {
   "cell_type": "markdown",
   "id": "deb1c323",
   "metadata": {},
   "source": [
    "Tuples may be nested:"
   ]
  },
  {
   "cell_type": "code",
   "execution_count": 104,
   "id": "f453c5a2",
   "metadata": {},
   "outputs": [],
   "source": [
    "nested_tuple = another_tuple, (1, 2, 3, 4, 5)\n",
    "assert nested_tuple == ((12345, 54321, 'hello!'), (1, 2, 3, 4, 5))"
   ]
  },
  {
   "cell_type": "markdown",
   "id": "8ed32e27",
   "metadata": {},
   "source": [
    "As you see, on output tuples are always enclosed in parentheses, so that nested tuples are interpreted correctly; they may be input with or without surrounding parentheses, although often parentheses are necessary anyway (if the tuple is part of a larger expression). It is not possible to assign to the individual items of a tuple, however it is possible to create tuples which contain mutable objects, such as lists.\n",
    "\n",
    "A special problem is the construction of tuples containing 0 or 1 items: the syntax has some extra quirks to accommodate these. Empty tuples are constructed by an empty pair of parentheses; a tuple with one item is constructed by following a value with a comma (it is not sufficient to enclose a single value in parentheses). Ugly, but effective. For example:"
   ]
  },
  {
   "cell_type": "code",
   "execution_count": 105,
   "id": "d82276ba",
   "metadata": {},
   "outputs": [],
   "source": [
    "empty_tuple = ()\n",
    "# pylint: disable=len-as-condition\n",
    "assert len(empty_tuple) == 0\n",
    "\n",
    "# pylint: disable=trailing-comma-tuple\n",
    "singleton_tuple = 'hello',  # <-- note trailing comma\n",
    "assert len(singleton_tuple) == 1\n",
    "assert singleton_tuple == ('hello',)"
   ]
  },
  {
   "cell_type": "markdown",
   "id": "b72c5e77",
   "metadata": {},
   "source": [
    "The following example is called **tuple packing**:"
   ]
  },
  {
   "cell_type": "code",
   "execution_count": 106,
   "id": "1217bb72",
   "metadata": {},
   "outputs": [],
   "source": [
    "packed_tuple = 12345, 54321, 'hello!'"
   ]
  },
  {
   "cell_type": "markdown",
   "id": "a08a0628",
   "metadata": {},
   "source": [
    "The reverse operation is also possible."
   ]
  },
  {
   "cell_type": "code",
   "execution_count": 107,
   "id": "d0252a9c",
   "metadata": {},
   "outputs": [],
   "source": [
    "first_tuple_number, second_tuple_number, third_tuple_string = packed_tuple\n",
    "assert first_tuple_number == 12345\n",
    "assert second_tuple_number == 54321\n",
    "assert third_tuple_string == 'hello!'"
   ]
  },
  {
   "cell_type": "markdown",
   "id": "372bf3cc",
   "metadata": {},
   "source": [
    "This is called, appropriately enough, **sequence unpacking** and works for any sequence on the right-hand side. Sequence unpacking requires that there are as many variables on the left side of the equals sign as there are elements in the sequence. \n",
    "\n",
    "Note that multiple assignment is really just a combination of tuple packing and sequence unpacking.\n",
    "\n",
    "Data can be swapped from one variable to another in Python using tuples. This eliminates the need to use a 'temp' variable."
   ]
  },
  {
   "cell_type": "code",
   "execution_count": 108,
   "id": "2c95df35",
   "metadata": {},
   "outputs": [],
   "source": [
    "first_number = 123\n",
    "second_number = 456\n",
    "first_number, second_number = second_number, first_number\n",
    "\n",
    "assert first_number == 456\n",
    "assert second_number == 123"
   ]
  },
  {
   "cell_type": "markdown",
   "id": "836fbc32",
   "metadata": {},
   "source": [
    "### Sets and their methods\n",
    "\n",
    "A set is a collection which is unordered and unindexed.\n",
    "\n",
    "In Python sets are written with `{}`.\n",
    "\n",
    "Set objects also support mathematical operations like union, intersection, difference, and symmetric difference.\n",
    "\n",
    "```{seealso}\n",
    "- https://www.w3schools.com/python/python_sets.asp\n",
    "- https://docs.python.org/3.7/tutorial/datastructures.html#sets\n",
    "```\n",
    "\n",
    "#### Set Type"
   ]
  },
  {
   "cell_type": "code",
   "execution_count": 109,
   "id": "5a4c8cb2",
   "metadata": {},
   "outputs": [],
   "source": [
    "fruits_set = {\"apple\", \"banana\", \"cherry\"}\n",
    "\n",
    "assert isinstance(fruits_set, set)"
   ]
  },
  {
   "cell_type": "markdown",
   "id": "cde90223",
   "metadata": {},
   "source": [
    "It is also possible to use the `set()` constructor to make a set. Note the `(())`."
   ]
  },
  {
   "cell_type": "code",
   "execution_count": 110,
   "id": "3fed81d5",
   "metadata": {},
   "outputs": [],
   "source": [
    "fruits_set_via_constructor = set((\"apple\", \"banana\", \"cherry\"))\n",
    "\n",
    "assert isinstance(fruits_set_via_constructor, set)"
   ]
  },
  {
   "cell_type": "markdown",
   "id": "d8cdfd60",
   "metadata": {},
   "source": [
    "#### Set Methods"
   ]
  },
  {
   "cell_type": "code",
   "execution_count": 111,
   "id": "dcf504bd",
   "metadata": {},
   "outputs": [],
   "source": [
    "fruits_set = {\"apple\", \"banana\", \"cherry\"}"
   ]
  },
  {
   "cell_type": "markdown",
   "id": "21e561a9",
   "metadata": {},
   "source": [
    "You may check if the item is in set by using `in` statement."
   ]
  },
  {
   "cell_type": "code",
   "execution_count": 112,
   "id": "d6fdcd73",
   "metadata": {},
   "outputs": [],
   "source": [
    "assert \"apple\" in fruits_set\n",
    "assert \"pineapple\" not in fruits_set"
   ]
  },
  {
   "cell_type": "markdown",
   "id": "c23d5efb",
   "metadata": {},
   "source": [
    "Use the `len()` method to return the number of items."
   ]
  },
  {
   "cell_type": "code",
   "execution_count": 113,
   "id": "6f2ff3b8",
   "metadata": {},
   "outputs": [],
   "source": [
    "assert len(fruits_set) == 3"
   ]
  },
  {
   "cell_type": "markdown",
   "id": "6839b267",
   "metadata": {},
   "source": [
    "You can use the `add()` object method to add an item."
   ]
  },
  {
   "cell_type": "code",
   "execution_count": 114,
   "id": "cb6c8df6",
   "metadata": {},
   "outputs": [],
   "source": [
    "fruits_set.add(\"pineapple\")\n",
    "assert \"pineapple\" in fruits_set\n",
    "assert len(fruits_set) == 4"
   ]
  },
  {
   "cell_type": "markdown",
   "id": "539153b0",
   "metadata": {},
   "source": [
    "Use `remove()` object method to remove an item."
   ]
  },
  {
   "cell_type": "code",
   "execution_count": 115,
   "id": "9bbe6438",
   "metadata": {},
   "outputs": [],
   "source": [
    "fruits_set.remove(\"pineapple\")\n",
    "assert \"pineapple\" not in fruits_set\n",
    "assert len(fruits_set) == 3"
   ]
  },
  {
   "cell_type": "markdown",
   "id": "fcd91433",
   "metadata": {},
   "source": [
    "Demonstrate set operations on unique letters from two word:"
   ]
  },
  {
   "cell_type": "code",
   "execution_count": 116,
   "id": "284e0ec6",
   "metadata": {},
   "outputs": [],
   "source": [
    "first_char_set = set('abracadabra')\n",
    "second_char_set = set('alacazam')\n",
    "\n",
    "assert first_char_set == {'a', 'r', 'b', 'c', 'd'}  # unique letters in first word\n",
    "assert second_char_set == {'a', 'l', 'c', 'z', 'm'}  # unique letters in second word"
   ]
  },
  {
   "cell_type": "markdown",
   "id": "f7aa81c2",
   "metadata": {},
   "source": [
    "Letters in first word but not in second."
   ]
  },
  {
   "cell_type": "code",
   "execution_count": 117,
   "id": "6d599a99",
   "metadata": {},
   "outputs": [],
   "source": [
    "assert first_char_set - second_char_set == {'r', 'b', 'd'}"
   ]
  },
  {
   "cell_type": "markdown",
   "id": "c3b5cf94",
   "metadata": {},
   "source": [
    "Letters in first word or second word or both."
   ]
  },
  {
   "cell_type": "code",
   "execution_count": 118,
   "id": "d894ff5e",
   "metadata": {},
   "outputs": [],
   "source": [
    "assert first_char_set | second_char_set == {'a', 'c', 'r', 'd', 'b', 'm', 'z', 'l'}"
   ]
  },
  {
   "cell_type": "markdown",
   "id": "499df9e4",
   "metadata": {},
   "source": [
    "Common letters in both words."
   ]
  },
  {
   "cell_type": "code",
   "execution_count": 119,
   "id": "7e4d5b81",
   "metadata": {},
   "outputs": [],
   "source": [
    "assert first_char_set & second_char_set == {'a', 'c'}"
   ]
  },
  {
   "cell_type": "markdown",
   "id": "54de8029",
   "metadata": {},
   "source": [
    "Letters in first or second word but not both."
   ]
  },
  {
   "cell_type": "code",
   "execution_count": 120,
   "id": "b89955f2",
   "metadata": {},
   "outputs": [],
   "source": [
    "assert first_char_set ^ second_char_set == {'r', 'd', 'b', 'm', 'z', 'l'}"
   ]
  },
  {
   "cell_type": "markdown",
   "id": "ca93bede",
   "metadata": {},
   "source": [
    "Similarly to list comprehensions, set comprehensions are also supported:"
   ]
  },
  {
   "cell_type": "code",
   "execution_count": 121,
   "id": "f771f50e",
   "metadata": {},
   "outputs": [],
   "source": [
    "word = {char for char in 'abracadabra' if char not in 'abc'}\n",
    "assert word == {'r', 'd'}"
   ]
  },
  {
   "cell_type": "markdown",
   "id": "6a3b453c",
   "metadata": {},
   "source": [
    "### Dictionaries\n",
    "\n",
    "A dictionary is a collection which is unordered, changeable and indexed. In Python dictionaries are written with curly brackets, and they have keys and values.\n",
    "\n",
    "Dictionaries are sometimes found in other languages as “associative memories” or “associative arrays”. Unlike sequences, which are indexed by a range of numbers, dictionaries are indexed by keys, which can be any immutable type; strings and numbers can always be keys. Tuples can be used as keys if they contain only strings, numbers, or tuples; if a tuple contains any mutable object either directly or indirectly, it cannot be used as a key. You can’t use lists as keys, since lists can be modified in place using index assignments, slice assignments, or methods like `append()` and `extend()`.\n",
    "\n",
    "It is best to think of a dictionary as a set of key: value pairs, with the requirement that the keys are unique (within one dictionary). A pair of braces creates an empty dictionary: `{}`. Placing a comma-separated list of key:value pairs within the braces adds initial key:value pairs to the dictionary; this is also the way dictionaries are written on output.\n",
    "\n",
    "```{seealso}\n",
    "- https://docs.python.org/3/tutorial/datastructures.html#dictionaries\n",
    "- https://www.w3schools.com/python/python_dictionaries.asp\n",
    "```"
   ]
  },
  {
   "cell_type": "code",
   "execution_count": 122,
   "id": "c7b5505b",
   "metadata": {},
   "outputs": [],
   "source": [
    "fruits_dictionary = {\n",
    "    'cherry': 'red',\n",
    "    'apple': 'green',\n",
    "    'banana': 'yellow',\n",
    "}\n",
    "\n",
    "assert isinstance(fruits_dictionary, dict)"
   ]
  },
  {
   "cell_type": "markdown",
   "id": "ef95d94c",
   "metadata": {},
   "source": [
    "You may access set elements by keys."
   ]
  },
  {
   "cell_type": "code",
   "execution_count": 123,
   "id": "bb20c611",
   "metadata": {},
   "outputs": [],
   "source": [
    "assert fruits_dictionary['apple'] == 'green'\n",
    "assert fruits_dictionary['banana'] == 'yellow'\n",
    "assert fruits_dictionary['cherry'] == 'red'"
   ]
  },
  {
   "cell_type": "markdown",
   "id": "05b2faca",
   "metadata": {},
   "source": [
    "To check whether a single key is in the dictionary, use the `in` keyword."
   ]
  },
  {
   "cell_type": "code",
   "execution_count": 124,
   "id": "a936255e",
   "metadata": {},
   "outputs": [],
   "source": [
    "assert 'apple' in fruits_dictionary\n",
    "assert 'pineapple' not in fruits_dictionary"
   ]
  },
  {
   "cell_type": "markdown",
   "id": "7b56ac17",
   "metadata": {},
   "source": [
    "Change the apple color to \"red\"."
   ]
  },
  {
   "cell_type": "code",
   "execution_count": 125,
   "id": "d31d56ad",
   "metadata": {},
   "outputs": [],
   "source": [
    "fruits_dictionary['apple'] = 'red'"
   ]
  },
  {
   "cell_type": "markdown",
   "id": "fc06aaf6",
   "metadata": {},
   "source": [
    "Add new key/value pair to the dictionary."
   ]
  },
  {
   "cell_type": "code",
   "execution_count": 126,
   "id": "a53adb2d",
   "metadata": {},
   "outputs": [],
   "source": [
    "fruits_dictionary['pineapple'] = 'yellow'\n",
    "assert fruits_dictionary['pineapple'] == 'yellow'"
   ]
  },
  {
   "cell_type": "markdown",
   "id": "a7ced660",
   "metadata": {},
   "source": [
    "Performing `list(d)` on a dictionary returns a list of all the keys used in the dictionary, in insertion order. (If you want it sorted, just use `sorted(d)` instead.)"
   ]
  },
  {
   "cell_type": "code",
   "execution_count": 127,
   "id": "de119d23",
   "metadata": {},
   "outputs": [],
   "source": [
    "assert list(fruits_dictionary) == ['cherry', 'apple', 'banana', 'pineapple']\n",
    "assert sorted(fruits_dictionary) == ['apple', 'banana', 'cherry', 'pineapple']"
   ]
  },
  {
   "cell_type": "markdown",
   "id": "abe1abff",
   "metadata": {},
   "source": [
    "It is also possible to delete a key:value pair with `del`."
   ]
  },
  {
   "cell_type": "code",
   "execution_count": 128,
   "id": "2c5e3aa0",
   "metadata": {},
   "outputs": [],
   "source": [
    "del fruits_dictionary['pineapple']\n",
    "assert list(fruits_dictionary) == ['cherry', 'apple', 'banana']"
   ]
  },
  {
   "cell_type": "markdown",
   "id": "22656d23",
   "metadata": {},
   "source": [
    "The `dict()` constructor builds dictionaries directly from sequences of key-value pairs."
   ]
  },
  {
   "cell_type": "code",
   "execution_count": 129,
   "id": "1df0ba0c",
   "metadata": {},
   "outputs": [],
   "source": [
    "dictionary_via_constructor = dict([('sape', 4139), ('guido', 4127), ('jack', 4098)])\n",
    "\n",
    "assert dictionary_via_constructor['sape'] == 4139\n",
    "assert dictionary_via_constructor['guido'] == 4127\n",
    "assert dictionary_via_constructor['jack'] == 4098"
   ]
  },
  {
   "cell_type": "markdown",
   "id": "83173361",
   "metadata": {},
   "source": [
    "In addition, dict comprehensions can be used to create dictionaries from arbitrary key and value expressions:"
   ]
  },
  {
   "cell_type": "code",
   "execution_count": 130,
   "id": "49e543db",
   "metadata": {},
   "outputs": [],
   "source": [
    "dictionary_via_expression = {x: x**2 for x in (2, 4, 6)}\n",
    "assert dictionary_via_expression[2] == 4\n",
    "assert dictionary_via_expression[4] == 16\n",
    "assert dictionary_via_expression[6] == 36"
   ]
  },
  {
   "cell_type": "markdown",
   "id": "e07b4248",
   "metadata": {},
   "source": [
    "When the keys are simple strings, it is sometimes easier to specify pairs using keyword arguments."
   ]
  },
  {
   "cell_type": "code",
   "execution_count": 131,
   "id": "1a0c20eb",
   "metadata": {},
   "outputs": [],
   "source": [
    "dictionary_for_string_keys = dict(sape=4139, guido=4127, jack=4098)\n",
    "assert dictionary_for_string_keys['sape'] == 4139\n",
    "assert dictionary_for_string_keys['guido'] == 4127\n",
    "assert dictionary_for_string_keys['jack'] == 4098"
   ]
  },
  {
   "cell_type": "markdown",
   "id": "c588fdb9",
   "metadata": {},
   "source": [
    "### Type Casting\n",
    "\n",
    "There may be times when you want to specify a type on to a variable. This can be done with **casting**.\n",
    "\n",
    "Python is an object-orientated language, and as such it uses classes to define data types,\n",
    "including its primitive types.\n",
    "\n",
    "Casting in python is therefore done using constructor functions.\n",
    "\n",
    "- `int()` - constructs an integer number from an integer literal, a float literal (by rounding down\n",
    "to the previous whole number) literal, or a string literal (providing the string represents a\n",
    "whole number)\n",
    "\n",
    "- `float()` - constructs a float number from an integer literal, a float literal or a string literal\n",
    "(providing the string represents a float or an integer)\n",
    "\n",
    "- `str()` - constructs a string from a wide variety of data types, including strings, integer\n",
    "literals and float literals\n",
    "\n",
    "```{seealso}\n",
    "- https://www.w3schools.com/python/python_casting.asp\n",
    "```\n",
    "\n",
    "\n",
    "Type casting to integer."
   ]
  },
  {
   "cell_type": "code",
   "execution_count": 132,
   "id": "59badbf2",
   "metadata": {},
   "outputs": [],
   "source": [
    "assert int(1) == 1\n",
    "assert int(2.8) == 2\n",
    "assert int('3') == 3"
   ]
  },
  {
   "cell_type": "markdown",
   "id": "61a403fb",
   "metadata": {},
   "source": [
    "Type casting to float."
   ]
  },
  {
   "cell_type": "code",
   "execution_count": 133,
   "id": "04a875a6",
   "metadata": {},
   "outputs": [],
   "source": [
    "assert float(1) == 1.0\n",
    "assert float(2.8) == 2.8\n",
    "assert float(\"3\") == 3.0\n",
    "assert float(\"4.2\") == 4.2"
   ]
  },
  {
   "cell_type": "markdown",
   "id": "c2627f2a",
   "metadata": {},
   "source": [
    "Type casting to string."
   ]
  },
  {
   "cell_type": "code",
   "execution_count": 134,
   "id": "e2ad9036",
   "metadata": {},
   "outputs": [],
   "source": [
    "assert str(\"s1\") == 's1'\n",
    "assert str(2) == '2'\n",
    "assert str(3.0) == '3.0'"
   ]
  },
  {
   "cell_type": "markdown",
   "id": "e708bd7a",
   "metadata": {},
   "source": [
    "## Your turn! 🚀\n",
    "\n",
    "## Self study\n",
    "\n",
    "Here is a list of free/open source learning resources for advanced [Python programming](https://github.com/open-academy/open-learning-resources/blob/main/README.md#python).\n",
    "\n",
    "## Acknowledgments\n",
    "\n",
    "Thanks to [Oleksii Trekhleb](https://github.com/trekhleb) who helped create this awesome open source project [learn-python](https://github.com/trekhleb/learn-python) for Python learning. It contributes the majority of the content in this chapter."
   ]
  }
 ],
 "metadata": {
  "jupytext": {
   "cell_metadata_filter": "-all",
   "formats": "md:myst",
   "text_representation": {
    "extension": ".md",
    "format_name": "myst",
    "format_version": 0.13,
    "jupytext_version": "1.11.5"
   }
  },
  "kernelspec": {
   "display_name": "Python 3",
   "language": "python",
   "name": "python3"
  },
  "language_info": {
   "codemirror_mode": {
    "name": "ipython",
    "version": 3
   },
   "file_extension": ".py",
   "mimetype": "text/x-python",
   "name": "python",
   "nbconvert_exporter": "python",
   "pygments_lexer": "ipython3",
   "version": "3.8.13"
  },
  "source_map": [
   14,
   45,
   48,
   58,
   61,
   71,
   75,
   92,
   98,
   110,
   144,
   150,
   176,
   191,
   199,
   205,
   218,
   224,
   234,
   238,
   246,
   252,
   259,
   263,
   288,
   305,
   310,
   313,
   317,
   321,
   327,
   332,
   336,
   338,
   342,
   344,
   348,
   358,
   362,
   365,
   369,
   372,
   376,
   380,
   392,
   396,
   400,
   403,
   407,
   411,
   415,
   418,
   422,
   425,
   429,
   439,
   445,
   449,
   452,
   456,
   462,
   466,
   469,
   473,
   475,
   479,
   482,
   486,
   488,
   492,
   494,
   498,
   500,
   504,
   506,
   510,
   512,
   516,
   518,
   522,
   524,
   528,
   530,
   534,
   536,
   540,
   542,
   545,
   548,
   551,
   554,
   558,
   561,
   565,
   568,
   576,
   581,
   585,
   591,
   599,
   607,
   611,
   613,
   621,
   624,
   628,
   637,
   643,
   645,
   649,
   652,
   656,
   663,
   667,
   675,
   679,
   684,
   688,
   692,
   710,
   714,
   718,
   722,
   727,
   729,
   733,
   735,
   738,
   742,
   746,
   750,
   754,
   760,
   764,
   767,
   770,
   773,
   777,
   784,
   788,
   792,
   796,
   799,
   803,
   809,
   813,
   816,
   822,
   830,
   834,
   837,
   841,
   844,
   848,
   860,
   864,
   876,
   880,
   884,
   888,
   891,
   897,
   917,
   925,
   931,
   935,
   938,
   942,
   945,
   949,
   952,
   956,
   964,
   972,
   974,
   978,
   981,
   985,
   988,
   992,
   995,
   999,
   1003,
   1007,
   1010,
   1014,
   1018,
   1026,
   1032,
   1036,
   1044,
   1048,
   1059,
   1063,
   1078,
   1082,
   1089,
   1105,
   1114,
   1118,
   1122,
   1128,
   1133,
   1137,
   1140,
   1144,
   1147,
   1153,
   1162,
   1166,
   1168,
   1172,
   1177,
   1185,
   1192,
   1209,
   1213,
   1217,
   1221,
   1225,
   1227,
   1231,
   1234,
   1238,
   1240,
   1244,
   1248,
   1252,
   1256,
   1260,
   1266,
   1270,
   1272,
   1276,
   1278,
   1282,
   1284,
   1288,
   1290,
   1294,
   1297,
   1312,
   1320,
   1324,
   1328,
   1332,
   1335,
   1339,
   1341,
   1345,
   1348,
   1352,
   1355,
   1359,
   1362,
   1366,
   1372,
   1376,
   1381,
   1385,
   1390,
   1418,
   1422,
   1426,
   1431,
   1435,
   1439
  ]
 },
 "nbformat": 4,
 "nbformat_minor": 5
}