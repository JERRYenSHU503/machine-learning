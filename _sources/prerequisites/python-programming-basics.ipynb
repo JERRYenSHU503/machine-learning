{
 "cells": [
  {
   "cell_type": "markdown",
   "id": "5f0fc506",
   "metadata": {},
   "source": [
    "# Python programming basics\n",
    "\n",
    "## What is Python\n",
    "\n",
    "Python is a popular programming language. It was created in 1991 by Guido van Rossum.\n",
    "\n",
    "Python is an easy-to-learn, powerful programming language. It has efficient high-level data structures and a simple but effective approach to object-oriented programming. Python’s elegant syntax and dynamic typing, together with its interpreted nature, make it an ideal language for scripting and rapid application development in many areas on most platforms.\n",
    "\n",
    "It is used for:\n",
    "\n",
    "- web development (server-side),\n",
    "- software development,\n",
    "- mathematics,\n",
    "- system scripting.\n",
    "\n",
    "## Python syntax\n",
    "\n",
    "**Python syntax compared to other programming languages**\n",
    "\n",
    "- Python was designed for readability and has some similarities to the English language with influence from mathematics.\n",
    "- Python uses new lines to complete a command, as opposed to other programming languages which often use semicolons or parentheses.\n",
    "- Python relies on indentation, using whitespace, to define scope; such as the scope of loops, functions and classes. Other programming languages often use curly brackets for this purpose.\n",
    "\n",
    "### Python indentations\n",
    "\n",
    "Where in other programming languages the indentation in code is for readability only, in Python the indentation is very important.\n",
    "\n",
    "Python uses indentation to indicate a block of code."
   ]
  },
  {
   "cell_type": "code",
   "execution_count": 1,
   "id": "b6eb6076",
   "metadata": {},
   "outputs": [
    {
     "name": "stdout",
     "output_type": "stream",
     "text": [
      "Five is greater than two!\n"
     ]
    }
   ],
   "source": [
    "if 5 > 2:\n",
    "    print(\"Five is greater than two!\")"
   ]
  },
  {
   "cell_type": "markdown",
   "id": "20ecb921",
   "metadata": {},
   "source": [
    "Python will give you an error if you skip the indentation.\n",
    "\n",
    "### Comments\n",
    "\n",
    "Python has commenting capability for the purpose of in-code documentation.\n",
    "\n",
    "Comments start with a `#`, and Python will render the rest of the line as a comment:"
   ]
  },
  {
   "cell_type": "code",
   "execution_count": 2,
   "id": "511ccc61",
   "metadata": {},
   "outputs": [
    {
     "name": "stdout",
     "output_type": "stream",
     "text": [
      "Hello, World!\n"
     ]
    }
   ],
   "source": [
    "#This is a comment.\n",
    "print(\"Hello, World!\")"
   ]
  },
  {
   "cell_type": "markdown",
   "id": "c66a8fed",
   "metadata": {},
   "source": [
    "### Docstrings\n",
    "\n",
    "Python also has extended documentation capability, called docstrings.\n",
    "\n",
    "Docstrings can be one line, or multiline. Docstrings are also comments.\n",
    "\n",
    "Python uses `\"\"\"` at the beginning and end of the docstring:"
   ]
  },
  {
   "cell_type": "code",
   "execution_count": 3,
   "id": "84f05600",
   "metadata": {},
   "outputs": [
    {
     "name": "stdout",
     "output_type": "stream",
     "text": [
      "Hello, World!\n"
     ]
    }
   ],
   "source": [
    "\"\"\"This is a \n",
    "multiline docstring.\"\"\"\n",
    "print(\"Hello, World!\")"
   ]
  },
  {
   "cell_type": "markdown",
   "id": "44a4a329",
   "metadata": {},
   "source": [
    "## Variables\n",
    "\n",
    "Python is completely object-oriented, and not \"statically typed\". You do not need to declare variables before using them or declare their type. Every variable in Python is an object. Unlike other programming languages, Python has no command for declaring a variable. A variable is created the moment you first assign a value to it. A variable can have a short name (like x and y) or a more descriptive name (age, carname, total_volume). Rules for Python variables:\n",
    "\n",
    "- A variable name must start with a letter or the underscore character.\n",
    "- A variable name cannot start with a number.\n",
    "- A variable name can only contain alpha-numeric characters and underscores (A-z, 0-9, and _ ).\n",
    "- Variable names are case-sensitive (age, Age and AGE are three different variables).\n",
    "\n",
    "```{seealso}\n",
    "- https://docs.python.org/3/tutorial/introduction.html\n",
    "- https://www.w3schools.com/python/python_variables.asp\n",
    "- https://www.learnpython.org/en/Variables_and_Types\n",
    "```"
   ]
  },
  {
   "cell_type": "code",
   "execution_count": 4,
   "id": "3ac41b0f",
   "metadata": {},
   "outputs": [],
   "source": [
    "integer_variable = 5\n",
    "string_variable = 'John'\n",
    "\n",
    "assert integer_variable == 5\n",
    "assert string_variable == 'John'"
   ]
  },
  {
   "cell_type": "markdown",
   "id": "b1e43e96",
   "metadata": {},
   "source": [
    "## Operators\n",
    "\n",
    "```{seealso}\n",
    "- https://www.w3schools.com/python/python_operators.asp\n",
    "```\n",
    "\n",
    "### Arithmetic operators\n",
    "\n",
    "Arithmetic operators are used with numeric values to perform common mathematical operations"
   ]
  },
  {
   "cell_type": "code",
   "execution_count": 5,
   "id": "bbf17876",
   "metadata": {},
   "outputs": [],
   "source": [
    "# Addition.\n",
    "assert 5 + 3 == 8\n",
    "\n",
    "# Subtraction.\n",
    "assert 5 - 3 == 2\n",
    "\n",
    "# Multiplication.\n",
    "assert 5 * 3 == 15\n",
    "assert isinstance(5 * 3, int)\n",
    "\n",
    "# Division.\n",
    "# Result of division is float number.\n",
    "assert 5 / 3 == 1.6666666666666667\n",
    "assert 8 / 4 == 2\n",
    "assert isinstance(5 / 3, float)\n",
    "assert isinstance(8 / 4, float)\n",
    "\n",
    "# Modulus.\n",
    "assert 5 % 3 == 2\n",
    "\n",
    "# Exponentiation.\n",
    "assert 5 ** 3 == 125\n",
    "assert 2 ** 3 == 8\n",
    "assert 2 ** 4 == 16\n",
    "assert 2 ** 5 == 32\n",
    "assert isinstance(5 ** 3, int)\n",
    "\n",
    "# Floor division.\n",
    "assert 5 // 3 == 1\n",
    "assert 6 // 3 == 2\n",
    "assert 7 // 3 == 2\n",
    "assert 9 // 3 == 3\n",
    "assert isinstance(5 // 3, int)"
   ]
  },
  {
   "cell_type": "markdown",
   "id": "4aeff753",
   "metadata": {},
   "source": [
    "### Comparison operators\n",
    "\n",
    "Comparison operators are used to comparing two values."
   ]
  },
  {
   "cell_type": "code",
   "execution_count": 6,
   "id": "a8a2dce4",
   "metadata": {},
   "outputs": [],
   "source": [
    "# Equal.\n",
    "number = 5\n",
    "assert number == 5\n",
    "\n",
    "# Not equal.\n",
    "number = 5\n",
    "assert number != 3\n",
    "\n",
    "# Greater than.\n",
    "number = 5\n",
    "assert number > 3\n",
    "\n",
    "# Less than.\n",
    "number = 5\n",
    "assert number < 8\n",
    "\n",
    "# Greater than or equal to\n",
    "number = 5\n",
    "assert number >= 5\n",
    "assert number >= 4\n",
    "\n",
    "# Less than or equal to\n",
    "number = 5\n",
    "assert number <= 5\n",
    "assert number <= 6"
   ]
  },
  {
   "cell_type": "markdown",
   "id": "d8091c5f",
   "metadata": {},
   "source": [
    "## Data types\n",
    "\n",
    "### Numbers (including booleans)\n",
    "\n",
    "```{seealso}\n",
    "- https://docs.python.org/3/tutorial/introduction.html\n",
    "- https://www.w3schools.com/python/python_numbers.asp\n",
    "```\n",
    "\n",
    "#### Integers\n",
    "\n",
    "Int, or integer, is a whole number, positive or negative, without decimals, of unlimited length."
   ]
  },
  {
   "cell_type": "code",
   "execution_count": 7,
   "id": "97a30817",
   "metadata": {},
   "outputs": [],
   "source": [
    "positive_integer = 1\n",
    "negative_integer = -3255522\n",
    "big_integer = 35656222554887711\n",
    "\n",
    "assert isinstance(positive_integer, int)\n",
    "assert isinstance(negative_integer, int)\n",
    "assert isinstance(big_integer, int)"
   ]
  },
  {
   "cell_type": "markdown",
   "id": "26aae688",
   "metadata": {},
   "source": [
    "#### Booleans\n",
    "\n",
    "Booleans represent the truth values `False` and `True`. The two objects representing the values `False` and `True` are the only Boolean objects. The Boolean type is a subtype of the integer type, and Boolean values behave like the values 0 and 1, respectively, in almost all contexts, the exception being that when converted to a string, the strings `False` or `True` are returned, respectively."
   ]
  },
  {
   "cell_type": "code",
   "execution_count": 8,
   "id": "7814e000",
   "metadata": {},
   "outputs": [],
   "source": [
    "true_boolean = True\n",
    "false_boolean = False\n",
    "\n",
    "assert true_boolean\n",
    "assert not false_boolean\n",
    "\n",
    "assert isinstance(true_boolean, bool)\n",
    "assert isinstance(false_boolean, bool)\n",
    "\n",
    "# Let's try to cast boolean to string.\n",
    "assert str(true_boolean) == \"True\"\n",
    "assert str(false_boolean) == \"False\""
   ]
  },
  {
   "cell_type": "markdown",
   "id": "33209790",
   "metadata": {},
   "source": [
    "#### Floats\n",
    "\n",
    "Float, or \"floating point number\" is a number, positive or negative, containing one or more decimals."
   ]
  },
  {
   "cell_type": "code",
   "execution_count": 9,
   "id": "b4779c19",
   "metadata": {},
   "outputs": [],
   "source": [
    "float_number = 7.0\n",
    "# Another way of declaring float is using float() function.\n",
    "float_number_via_function = float(7) \n",
    "float_negative = -35.59\n",
    "\n",
    "assert float_number == float_number_via_function\n",
    "assert isinstance(float_number, float)\n",
    "assert isinstance(float_number_via_function, float)\n",
    "assert isinstance(float_negative, float)"
   ]
  },
  {
   "cell_type": "markdown",
   "id": "7a43cc9d",
   "metadata": {},
   "source": [
    "Float can also be scientific numbers with an \"e\" to indicate the power of 10."
   ]
  },
  {
   "cell_type": "code",
   "execution_count": 10,
   "id": "284efe0e",
   "metadata": {},
   "outputs": [],
   "source": [
    "float_with_small_e = 35e3\n",
    "float_with_big_e = 12E4\n",
    "\n",
    "assert float_with_small_e == 35000\n",
    "assert float_with_big_e == 120000\n",
    "assert isinstance(12E4, float)\n",
    "assert isinstance(-87.7e100, float)"
   ]
  },
  {
   "cell_type": "markdown",
   "id": "c0766454",
   "metadata": {},
   "source": [
    "#### Complexes\n",
    "\n",
    "A complex number has two parts, a real part and an imaginary part. Complex numbers are represented as A+Bi or A+Bj, where A is the real part and B is the imaginary part."
   ]
  },
  {
   "cell_type": "code",
   "execution_count": 11,
   "id": "607449a4",
   "metadata": {},
   "outputs": [],
   "source": [
    "complex_number_1 = 5 + 6j\n",
    "complex_number_2 = 3 - 2j\n",
    "\n",
    "assert isinstance(complex_number_1, complex)\n",
    "assert isinstance(complex_number_2, complex)\n",
    "assert complex_number_1 * complex_number_2 == 27 + 8j"
   ]
  },
  {
   "cell_type": "markdown",
   "id": "b067f77c",
   "metadata": {},
   "source": [
    "#### Number operation"
   ]
  },
  {
   "cell_type": "code",
   "execution_count": 12,
   "id": "b4e7e44d",
   "metadata": {},
   "outputs": [],
   "source": [
    "# Addition.\n",
    "assert 2 + 4 == 6\n",
    "\n",
    "# Multiplication.\n",
    "assert 2 * 4 == 8\n",
    "\n",
    "# Division always returns a floating point number.\n",
    "assert 12 / 3 == 4.0\n",
    "assert 12 / 5 == 2.4\n",
    "assert 17 / 3 == 5.666666666666667\n",
    "\n",
    "# Modulo operator returns the remainder of the division.\n",
    "assert 12 % 3 == 0\n",
    "assert 13 % 3 == 1\n",
    "\n",
    "# Floor division discards the fractional part.\n",
    "assert 17 // 3 == 5\n",
    "\n",
    "# Raising the number to specific power.\n",
    "assert 5 ** 2 == 25  # 5 squared\n",
    "assert 2 ** 7 == 128  # 2 to the power of 7\n",
    "\n",
    "# There is full support for floating point; operators with mixed type operands convert the integer operand to floating point.\n",
    "assert 4 * 3.75 - 1 == 14.0"
   ]
  },
  {
   "cell_type": "markdown",
   "id": "e7237b17",
   "metadata": {},
   "source": [
    "### Strings and their methods\n",
    "\n",
    "#### String type\n",
    "\n",
    "Besides numbers, Python can also manipulate strings, which can be expressed in several ways. They can be enclosed in single quotes `''` or double quotes `\"\"` with the same result.\n",
    "\n",
    "```{seealso}\n",
    "- https://docs.python.org/3/tutorial/introduction.html\n",
    "- https://www.w3schools.com/python/python_strings.asp\n",
    "- https://www.w3schools.com/python/python_ref_string.asp\n",
    "```"
   ]
  },
  {
   "cell_type": "code",
   "execution_count": 13,
   "id": "011f1d56",
   "metadata": {},
   "outputs": [],
   "source": [
    "# String with double quotes.\n",
    "name_1 = \"John\""
   ]
  },
  {
   "cell_type": "code",
   "execution_count": 14,
   "id": "67d955e5",
   "metadata": {},
   "outputs": [],
   "source": [
    "# String with single quotes.\n",
    "name_2 = 'John'"
   ]
  },
  {
   "cell_type": "markdown",
   "id": "e4eaa762",
   "metadata": {},
   "source": [
    "Strings created with different kinds of quotes are treated the same."
   ]
  },
  {
   "cell_type": "code",
   "execution_count": 15,
   "id": "cefcbd93",
   "metadata": {},
   "outputs": [],
   "source": [
    "assert name_1 == name_2\n",
    "assert isinstance(name_1, str)\n",
    "assert isinstance(name_2, str)"
   ]
  },
  {
   "cell_type": "markdown",
   "id": "d23670d7",
   "metadata": {},
   "source": [
    "`\\` can be used to escape quotes.\n",
    "\n",
    "Use `\\'` to escape the single quote or use double quotes instead."
   ]
  },
  {
   "cell_type": "code",
   "execution_count": 16,
   "id": "18a400d0",
   "metadata": {},
   "outputs": [],
   "source": [
    "single_quote_string = 'doesn\\'t'\n",
    "double_quote_string = \"doesn't\"\n",
    "\n",
    "assert single_quote_string == double_quote_string"
   ]
  },
  {
   "cell_type": "markdown",
   "id": "8173f620",
   "metadata": {},
   "source": [
    "`\\n` means newline."
   ]
  },
  {
   "cell_type": "code",
   "execution_count": 17,
   "id": "9a824961",
   "metadata": {},
   "outputs": [],
   "source": [
    "multiline_string = 'First line.\\nSecond line.'"
   ]
  },
  {
   "cell_type": "markdown",
   "id": "a23d06b9",
   "metadata": {},
   "source": [
    "Without `print()`, `\\n` is included in the output. But with `print()`, `\\n` produces a new line."
   ]
  },
  {
   "cell_type": "code",
   "execution_count": 18,
   "id": "8a8adb1d",
   "metadata": {},
   "outputs": [],
   "source": [
    "assert multiline_string == 'First line.\\nSecond line.'"
   ]
  },
  {
   "cell_type": "markdown",
   "id": "18637ff5",
   "metadata": {},
   "source": [
    "Strings can be indexed, with the first character having index 0. There is no separate character type; a character is simply a string of size one. Note that since -0 is the same as 0, negative indices start from -1."
   ]
  },
  {
   "cell_type": "code",
   "execution_count": 19,
   "id": "81c706bd",
   "metadata": {},
   "outputs": [],
   "source": [
    "import pytest\n",
    "word = 'Python'\n",
    "assert word[0] == 'P'  # First character.\n",
    "assert word[5] == 'n'  # Fifth character.\n",
    "assert word[-1] == 'n'  # Last character.\n",
    "assert word[-2] == 'o'  # Second-last character.\n",
    "assert word[-6] == 'P'  # Sixth from the end or zeroth from the beginning.\n",
    "\n",
    "assert isinstance(word[0], str)"
   ]
  },
  {
   "cell_type": "markdown",
   "id": "e03597be",
   "metadata": {},
   "source": [
    "In addition to indexing, slicing is also supported. While indexing is used to obtain individual characters, slicing allows you to obtain substring."
   ]
  },
  {
   "cell_type": "code",
   "execution_count": 20,
   "id": "cac7d19f",
   "metadata": {},
   "outputs": [],
   "source": [
    "assert word[0:2] == 'Py'  # Characters from position 0 (included) to 2 (excluded).\n",
    "assert word[2:5] == 'tho'  # Characters from position 2 (included) to 5 (excluded)."
   ]
  },
  {
   "cell_type": "markdown",
   "id": "5bbec31e",
   "metadata": {},
   "source": [
    "Note how the start is always included, and the end is always excluded. This makes sure that `s[:i] + s[i:]` is always equal to `s`:"
   ]
  },
  {
   "cell_type": "code",
   "execution_count": 21,
   "id": "efc7ae56",
   "metadata": {},
   "outputs": [],
   "source": [
    "assert word[:2] + word[2:] == 'Python'\n",
    "assert word[:4] + word[4:] == 'Python'"
   ]
  },
  {
   "cell_type": "markdown",
   "id": "ad683260",
   "metadata": {},
   "source": [
    "Slice indices have useful defaults; an omitted first index defaults to zero, and an omitted second index defaults to the size of the string being sliced."
   ]
  },
  {
   "cell_type": "code",
   "execution_count": 22,
   "id": "d5f32b89",
   "metadata": {},
   "outputs": [],
   "source": [
    "assert word[:2] == 'Py'  # Character from the beginning to position 2 (excluded).\n",
    "assert word[4:] == 'on'  # Characters from position 4 (included) to the end.\n",
    "assert word[-2:] == 'on'  # Characters from the second-last (included) to the end."
   ]
  },
  {
   "cell_type": "markdown",
   "id": "cbba110e",
   "metadata": {},
   "source": [
    "One way to remember how slices work is to think of the indices as pointing between characters, with the left edge of the first character numbered 0. Then the right edge of the last character of a string of `n` characters has index `n`, for example:\n",
    "\n",
    " \n",
    "|   | P |   | y |   | t |   | h |   | o |   | n |   |\n",
    "|:-:|:-:|:-:|:-:|:-:|:-:|:-:|:-:|:-:|:-:|:-:|:-:|:-:|\n",
    "|  0|   |  1|   |  2|   |  3|   |  4|   |  5|   |  6|\n",
    "| -6|   | -5|   | -4|   | -3|   | -2|   | -1|   \n",
    "\n",
    "Attempting to use an index that is too large will result in an error."
   ]
  },
  {
   "cell_type": "code",
   "execution_count": 23,
   "id": "5b172131",
   "metadata": {},
   "outputs": [],
   "source": [
    "with pytest.raises(Exception):\n",
    "    not_existing_character = word[42]\n",
    "    assert not not_existing_character"
   ]
  },
  {
   "cell_type": "markdown",
   "id": "cca3295f",
   "metadata": {},
   "source": [
    "However, out-of-range slice indexes are handled gracefully when used for slicing."
   ]
  },
  {
   "cell_type": "code",
   "execution_count": 24,
   "id": "107aaae6",
   "metadata": {},
   "outputs": [],
   "source": [
    "assert word[4:42] == 'on'\n",
    "assert word[42:] == ''"
   ]
  },
  {
   "cell_type": "markdown",
   "id": "24349644",
   "metadata": {},
   "source": [
    "Python strings cannot be changed — they are immutable. Therefore, assigning to an indexed position in the string results in an error:"
   ]
  },
  {
   "cell_type": "code",
   "execution_count": 25,
   "id": "7e938c02",
   "metadata": {},
   "outputs": [],
   "source": [
    "with pytest.raises(Exception):\n",
    "    # pylint: disable=unsupported-assignment-operation\n",
    "    word[0] = 'J'"
   ]
  },
  {
   "cell_type": "markdown",
   "id": "a9efd1e6",
   "metadata": {},
   "source": [
    "If you need a different string, you should create a new one."
   ]
  },
  {
   "cell_type": "code",
   "execution_count": 26,
   "id": "3733d450",
   "metadata": {},
   "outputs": [],
   "source": [
    "assert 'J' + word[1:] == 'Jython'\n",
    "assert word[:2] + 'py' == 'Pypy'"
   ]
  },
  {
   "cell_type": "markdown",
   "id": "fb646d16",
   "metadata": {},
   "source": [
    "The built-in function `len()` returns the length of a string."
   ]
  },
  {
   "cell_type": "code",
   "execution_count": 27,
   "id": "edef304f",
   "metadata": {},
   "outputs": [],
   "source": [
    "characters = 'supercalifragilisticexpialidocious'\n",
    "assert len(characters) == 34"
   ]
  },
  {
   "cell_type": "markdown",
   "id": "9da2e332",
   "metadata": {},
   "source": [
    "String literals can span multiple lines. One way is using triple-quotes: `\"\"\"...\"\"\"` or `'''...'''`. The end of lines are automatically included in the string, but it’s possible to prevent this by adding a `\\` at the end of the line. The following example:"
   ]
  },
  {
   "cell_type": "code",
   "execution_count": 28,
   "id": "897a2c02",
   "metadata": {},
   "outputs": [],
   "source": [
    "multi_line_string = '''\\\n",
    "    First line\n",
    "    Second line\n",
    "'''\n",
    "\n",
    "assert multi_line_string == '''\\\n",
    "    First line\n",
    "    Second line\n",
    "'''"
   ]
  },
  {
   "cell_type": "markdown",
   "id": "532967b5",
   "metadata": {},
   "source": [
    "#### String operations\n",
    "\n",
    "Strings can be concatenated (glued together) with the `+` operator, and repeated with `*`."
   ]
  },
  {
   "cell_type": "code",
   "execution_count": 29,
   "id": "7251bfe6",
   "metadata": {},
   "outputs": [],
   "source": [
    "assert 3 * 'un' + 'ium' == 'unununium'"
   ]
  },
  {
   "cell_type": "code",
   "execution_count": 30,
   "id": "e22c15b2",
   "metadata": {},
   "outputs": [],
   "source": [
    "python = 'Py' 'thon'\n",
    "assert python == 'Python'"
   ]
  },
  {
   "cell_type": "markdown",
   "id": "55caa8b5",
   "metadata": {},
   "source": [
    "This feature is particularly useful when you want to break long strings:"
   ]
  },
  {
   "cell_type": "code",
   "execution_count": 31,
   "id": "04ed317b",
   "metadata": {},
   "outputs": [],
   "source": [
    "text = (\n",
    "    'Put several strings within parentheses '\n",
    "    'to have them joined together.'\n",
    ")\n",
    "assert text == 'Put several strings within parentheses to have them joined together.'"
   ]
  },
  {
   "cell_type": "markdown",
   "id": "ad3b4cc6",
   "metadata": {},
   "source": [
    "If you want to concatenate variables or a variable and a literal, use `+`:"
   ]
  },
  {
   "cell_type": "code",
   "execution_count": 32,
   "id": "5acfd036",
   "metadata": {},
   "outputs": [],
   "source": [
    "prefix = 'Py'\n",
    "assert prefix + 'thon' == 'Python'"
   ]
  },
  {
   "cell_type": "markdown",
   "id": "a9312ba6",
   "metadata": {},
   "source": [
    "#### String methods"
   ]
  },
  {
   "cell_type": "code",
   "execution_count": 33,
   "id": "2daed6ea",
   "metadata": {},
   "outputs": [],
   "source": [
    "hello_world_string = \"Hello, World!\""
   ]
  },
  {
   "cell_type": "markdown",
   "id": "3c7c30f2",
   "metadata": {},
   "source": [
    "The `strip()` method removes any whitespace from the beginning or the end."
   ]
  },
  {
   "cell_type": "code",
   "execution_count": 34,
   "id": "3499dc20",
   "metadata": {},
   "outputs": [],
   "source": [
    "string_with_whitespaces = \" Hello, World! \"\n",
    "assert string_with_whitespaces.strip() == \"Hello, World!\""
   ]
  },
  {
   "cell_type": "markdown",
   "id": "a1602291",
   "metadata": {},
   "source": [
    "The `len()` method returns the length of a string."
   ]
  },
  {
   "cell_type": "code",
   "execution_count": 35,
   "id": "0e477f2e",
   "metadata": {},
   "outputs": [],
   "source": [
    "assert len(hello_world_string) == 13"
   ]
  },
  {
   "cell_type": "markdown",
   "id": "ae61a6a5",
   "metadata": {},
   "source": [
    "The `lower()` method returns the string in lowercase."
   ]
  },
  {
   "cell_type": "code",
   "execution_count": 36,
   "id": "7ab22183",
   "metadata": {},
   "outputs": [],
   "source": [
    "assert hello_world_string.lower() == 'hello, world!'"
   ]
  },
  {
   "cell_type": "markdown",
   "id": "fceb7647",
   "metadata": {},
   "source": [
    "The `upper()` method returns the string in the upper case."
   ]
  },
  {
   "cell_type": "code",
   "execution_count": 37,
   "id": "27e55dcb",
   "metadata": {},
   "outputs": [],
   "source": [
    "assert hello_world_string.upper() == 'HELLO, WORLD!'"
   ]
  },
  {
   "cell_type": "markdown",
   "id": "932e74d5",
   "metadata": {},
   "source": [
    "The `replace()` method replaces a string with another string."
   ]
  },
  {
   "cell_type": "code",
   "execution_count": 38,
   "id": "6d7a9bd9",
   "metadata": {},
   "outputs": [],
   "source": [
    "assert hello_world_string.replace('H', 'J') == 'Jello, World!'"
   ]
  },
  {
   "cell_type": "markdown",
   "id": "3810acb7",
   "metadata": {},
   "source": [
    "The `split()` method splits the string into substrings if it finds instances of the separator."
   ]
  },
  {
   "cell_type": "code",
   "execution_count": 39,
   "id": "6f6c7e8b",
   "metadata": {},
   "outputs": [],
   "source": [
    "assert hello_world_string.split(',') == ['Hello', ' World!']"
   ]
  },
  {
   "cell_type": "markdown",
   "id": "dfe0f553",
   "metadata": {},
   "source": [
    "The `capitalize()` method converts the first character to upper case."
   ]
  },
  {
   "cell_type": "code",
   "execution_count": 40,
   "id": "cd08cfa3",
   "metadata": {},
   "outputs": [],
   "source": [
    "assert 'low letter at the beginning'.capitalize() == 'Low letter at the beginning'"
   ]
  },
  {
   "cell_type": "markdown",
   "id": "cbf572b0",
   "metadata": {},
   "source": [
    "The `count()` method returns the number of times a specified value occurs in a string."
   ]
  },
  {
   "cell_type": "code",
   "execution_count": 41,
   "id": "66f2a987",
   "metadata": {},
   "outputs": [],
   "source": [
    "assert 'low letter at the beginning'.count('t') == 4"
   ]
  },
  {
   "cell_type": "markdown",
   "id": "c771bfc7",
   "metadata": {},
   "source": [
    "The `find()` method searches the string for a specified value and returns the position of where it was found."
   ]
  },
  {
   "cell_type": "code",
   "execution_count": 42,
   "id": "522c2496",
   "metadata": {},
   "outputs": [],
   "source": [
    "assert 'Hello, welcome to my world'.find('welcome') == 7"
   ]
  },
  {
   "cell_type": "markdown",
   "id": "1045fd2b",
   "metadata": {},
   "source": [
    "The `title()` method converts the first character of each word to upper case."
   ]
  },
  {
   "cell_type": "code",
   "execution_count": 43,
   "id": "ee252602",
   "metadata": {},
   "outputs": [],
   "source": [
    "assert 'Welcome to my world'.title() == 'Welcome To My World'"
   ]
  },
  {
   "cell_type": "markdown",
   "id": "ffd61be8",
   "metadata": {},
   "source": [
    "The `replace()` method returns a string where a specified value is replaced with a specified value."
   ]
  },
  {
   "cell_type": "code",
   "execution_count": 44,
   "id": "ab66af87",
   "metadata": {},
   "outputs": [],
   "source": [
    "assert 'I like bananas'.replace('bananas', 'apples') == 'I like apples'"
   ]
  },
  {
   "cell_type": "markdown",
   "id": "2d480f00",
   "metadata": {},
   "source": [
    "The `join()` method joins the elements of an iterable to the end of the string."
   ]
  },
  {
   "cell_type": "code",
   "execution_count": 45,
   "id": "437abb1c",
   "metadata": {},
   "outputs": [],
   "source": [
    "my_tuple = ('John', 'Peter', 'Vicky')\n",
    "assert '-'.join(my_tuple) == 'John-Peter-Vicky'"
   ]
  },
  {
   "cell_type": "markdown",
   "id": "b0bc8a9b",
   "metadata": {},
   "source": [
    "The `isupper()` method returns True if all characters in the string are upper case."
   ]
  },
  {
   "cell_type": "code",
   "execution_count": 46,
   "id": "01578253",
   "metadata": {},
   "outputs": [],
   "source": [
    "assert 'ABC'.isupper()\n",
    "assert not 'AbC'.isupper()"
   ]
  },
  {
   "cell_type": "markdown",
   "id": "9a054181",
   "metadata": {},
   "source": [
    "The `isalpha()` method checks if all the characters in the text are letters."
   ]
  },
  {
   "cell_type": "code",
   "execution_count": 47,
   "id": "691a7f71",
   "metadata": {},
   "outputs": [],
   "source": [
    "assert 'CompanyX'.isalpha()\n",
    "assert not 'Company 23'.isalpha()"
   ]
  },
  {
   "cell_type": "markdown",
   "id": "6ababc0c",
   "metadata": {},
   "source": [
    "The `isdecimal()` method returns True if all characters in the string are decimals."
   ]
  },
  {
   "cell_type": "code",
   "execution_count": 48,
   "id": "7884296c",
   "metadata": {},
   "outputs": [],
   "source": [
    "assert '1234'.isdecimal()\n",
    "assert not 'a21453'.isdecimal()"
   ]
  },
  {
   "cell_type": "markdown",
   "id": "5f0df9be",
   "metadata": {},
   "source": [
    "#### String formatting\n",
    "\n",
    "Often you’ll want more control over the formatting of your output than simply printing space-separated values. There are several ways to format output.\n",
    "\n",
    "To use formatted string literals, begin a string with f or F before the opening quotation mark or triple quotation mark. Inside this string, you can write a Python expression inside `{}` characters that can refer to variables or literal values."
   ]
  },
  {
   "cell_type": "code",
   "execution_count": 49,
   "id": "0998233e",
   "metadata": {},
   "outputs": [],
   "source": [
    "year = 2018\n",
    "event = 'conference'\n",
    "\n",
    "assert f'Results of the {year} {event}' == 'Results of the 2018 conference'"
   ]
  },
  {
   "cell_type": "markdown",
   "id": "e2a61653",
   "metadata": {},
   "source": [
    "The `str.format()` method of strings requires more manual effort. You’ll still use `{}` to mark where a variable will be substituted and can provide detailed formatting directives, but you’ll also need to provide the information to be formatted."
   ]
  },
  {
   "cell_type": "code",
   "execution_count": 50,
   "id": "6409dab2",
   "metadata": {},
   "outputs": [],
   "source": [
    "yes_votes = 42_572_654  # equivalent of 42572654\n",
    "no_votes = 43_132_495   # equivalent of 43132495\n",
    "percentage = yes_votes / (yes_votes + no_votes)\n",
    "\n",
    "assert '{:-9} YES votes  {:2.2%}'.format(yes_votes, percentage) == ' 42572654 YES votes  49.67%'"
   ]
  },
  {
   "cell_type": "markdown",
   "id": "092fbc26",
   "metadata": {},
   "source": [
    "When you don’t need fancy output but just want a quick display of some variables for debugging purposes, you can convert any value to a string with the `repr()` or `str()` functions. \n",
    "\n",
    "The `str()` function is meant to return representations of values that are fairly human-readable, while `repr()` is meant to generate representations that can be read by the interpreter (or will force a `SyntaxError` if there is no equivalent syntax).\n",
    "\n",
    "For objects which don’t have a particular representation for human consumption, `str()` will return the same value as `repr()`. Many values, such as numbers or structures like lists and dictionaries, have the same representation using either function. Strings, in particular, have two distinct representations."
   ]
  },
  {
   "cell_type": "code",
   "execution_count": 51,
   "id": "6b2b3984",
   "metadata": {},
   "outputs": [],
   "source": [
    "greeting = 'Hello, world.'\n",
    "first_num = 10 * 3.25\n",
    "second_num = 200 * 200\n",
    "\n",
    "assert str(greeting) == 'Hello, world.'\n",
    "assert repr(greeting) == \"'Hello, world.'\"\n",
    "assert str(1/7) == '0.14285714285714285'"
   ]
  },
  {
   "cell_type": "markdown",
   "id": "c1ba2637",
   "metadata": {},
   "source": [
    "The argument to `repr()` may be any Python object:"
   ]
  },
  {
   "cell_type": "code",
   "execution_count": 52,
   "id": "8399673c",
   "metadata": {},
   "outputs": [],
   "source": [
    "assert repr((first_num, second_num, ('spam', 'eggs'))) == \"(32.5, 40000, ('spam', 'eggs'))\""
   ]
  },
  {
   "cell_type": "markdown",
   "id": "04f09fc5",
   "metadata": {},
   "source": [
    "##### Formatted string literals\n",
    "\n",
    "Formatted string literals (also called f-strings for short) let you include the value of Python expressions inside a string by prefixing the string with f or F and writing expressions as `{expression}`.\n",
    "\n",
    "An optional format specifier can follow the expression. This allows greater control over how the value is formatted. The following example rounds pi to three places after the decimal."
   ]
  },
  {
   "cell_type": "code",
   "execution_count": 53,
   "id": "4f6d20ba",
   "metadata": {},
   "outputs": [],
   "source": [
    "pi_value = 3.14159\n",
    "assert f'The value of pi is {pi_value:.3f}.' == 'The value of pi is 3.142.'"
   ]
  },
  {
   "cell_type": "markdown",
   "id": "7769423b",
   "metadata": {},
   "source": [
    "Passing an integer after the `:` will cause that field to be a minimum number of characters wide. This is useful for making columns line up."
   ]
  },
  {
   "cell_type": "code",
   "execution_count": 54,
   "id": "8760cd7b",
   "metadata": {},
   "outputs": [],
   "source": [
    "table_data = {'Sjoerd': 4127, 'Jack': 4098, 'Dcab': 7678}\n",
    "table_string = ''\n",
    "for name, phone in table_data.items():\n",
    "    table_string += f'{name:7}==>{phone:7d}'\n",
    "\n",
    "assert table_string == ('Sjoerd ==>   4127'\n",
    "                        'Jack   ==>   4098'\n",
    "                        'Dcab   ==>   7678')"
   ]
  },
  {
   "cell_type": "markdown",
   "id": "4ccf560b",
   "metadata": {},
   "source": [
    "##### The string format() method\n",
    "\n",
    "Basic usage of the `str.format()` method looks like this:"
   ]
  },
  {
   "cell_type": "code",
   "execution_count": 55,
   "id": "d74c2cdf",
   "metadata": {},
   "outputs": [],
   "source": [
    "assert 'We are {} who say \"{}!\"'.format('knights', 'Ni') == 'We are knights who say \"Ni!\"'"
   ]
  },
  {
   "cell_type": "markdown",
   "id": "0817db6b",
   "metadata": {},
   "source": [
    "The brackets and characters within them (called format fields) are replaced with the objects passed into the `str.format()` method. A number in the brackets can be used to refer to the position of the object passed into the `str.format()` method."
   ]
  },
  {
   "cell_type": "code",
   "execution_count": 56,
   "id": "9c1166b5",
   "metadata": {},
   "outputs": [],
   "source": [
    "assert '{0} and {1}'.format('spam', 'eggs') == 'spam and eggs'\n",
    "assert '{1} and {0}'.format('spam', 'eggs') == 'eggs and spam'"
   ]
  },
  {
   "cell_type": "markdown",
   "id": "3bd35bdd",
   "metadata": {},
   "source": [
    "If keyword arguments are used in the `str.format()` method, their values are referred to by using the name of the argument."
   ]
  },
  {
   "cell_type": "code",
   "execution_count": 57,
   "id": "9781df9c",
   "metadata": {},
   "outputs": [],
   "source": [
    "formatted_string = 'This {food} is {adjective}.'.format(\n",
    "    food='spam',\n",
    "    adjective='absolutely horrible'\n",
    ")\n",
    "\n",
    "assert formatted_string == 'This spam is absolutely horrible.'"
   ]
  },
  {
   "cell_type": "markdown",
   "id": "74a2c705",
   "metadata": {},
   "source": [
    "Positional and keyword arguments can be arbitrarily combined."
   ]
  },
  {
   "cell_type": "code",
   "execution_count": 58,
   "id": "7eca0268",
   "metadata": {},
   "outputs": [],
   "source": [
    "formatted_string = 'The story of {0}, {1}, and {other}.'.format(\n",
    "    'Bill',\n",
    "    'Manfred',\n",
    "    other='Georg'\n",
    ")\n",
    "\n",
    "assert formatted_string == 'The story of Bill, Manfred, and Georg.'"
   ]
  },
  {
   "cell_type": "markdown",
   "id": "ac62be14",
   "metadata": {},
   "source": [
    "If you have a really long format string that you don’t want to split up, it would be nice if you could reference the variables to be formatted by name instead of by position. This can be done by simply passing the dict and using square brackets `[]` to access the keys."
   ]
  },
  {
   "cell_type": "code",
   "execution_count": 59,
   "id": "205f7605",
   "metadata": {},
   "outputs": [],
   "source": [
    "table = {'Sjoerd': 4127, 'Jack': 4098, 'Dcab': 8637678}\n",
    "formatted_string = 'Jack: {0[Jack]:d}; Sjoerd: {0[Sjoerd]:d}; Dcab: {0[Dcab]:d}'.format(table)\n",
    "\n",
    "assert formatted_string == 'Jack: 4098; Sjoerd: 4127; Dcab: 8637678'"
   ]
  },
  {
   "cell_type": "markdown",
   "id": "91703d45",
   "metadata": {},
   "source": [
    "This could also be done by passing the table as keyword arguments with the `**` notation."
   ]
  },
  {
   "cell_type": "code",
   "execution_count": 60,
   "id": "280c8259",
   "metadata": {},
   "outputs": [],
   "source": [
    "formatted_string = 'Jack: {Jack:d}; Sjoerd: {Sjoerd:d}; Dcab: {Dcab:d}'.format(**table)\n",
    "\n",
    "assert formatted_string == 'Jack: 4098; Sjoerd: 4127; Dcab: 8637678'"
   ]
  },
  {
   "cell_type": "markdown",
   "id": "431279f7",
   "metadata": {},
   "source": [
    "### Lists and their methods (including list comprehensions)\n",
    "\n",
    "Python knows several compound data types, used to group together other values. The most versatile is the list, which can be written as a list of comma-separated values (items) between square brackets. Lists might contain items of different types, but usually, the items all have the same type.\n",
    "\n",
    "```{seealso}\n",
    "- https://www.learnpython.org/en/Lists\n",
    "- https://docs.python.org/3/tutorial/introduction.html\n",
    "- https://docs.python.org/3/tutorial/datastructures.html#more-on-lists\n",
    "```\n",
    "\n",
    "#### List type\n",
    "\n",
    "Lists are very similar to arrays. They can contain any type of variable, and they can contain as many variables as you wish. Lists can also be iterated over in a very simple manner.\n",
    "\n",
    "Here is an example of how to build a list."
   ]
  },
  {
   "cell_type": "code",
   "execution_count": 61,
   "id": "ea0bc2bb",
   "metadata": {},
   "outputs": [],
   "source": [
    "squares = [1, 4, 9, 16, 25]\n",
    "\n",
    "assert isinstance(squares, list)"
   ]
  },
  {
   "cell_type": "markdown",
   "id": "d2ce7e6f",
   "metadata": {},
   "source": [
    "Like strings (and all other built-in sequence types), lists can be indexed and sliced:"
   ]
  },
  {
   "cell_type": "code",
   "execution_count": 62,
   "id": "5071782f",
   "metadata": {},
   "outputs": [],
   "source": [
    "assert squares[0] == 1  # indexing returns the item\n",
    "assert squares[-1] == 25\n",
    "assert squares[-3:] == [9, 16, 25]  # slicing returns a new list"
   ]
  },
  {
   "cell_type": "markdown",
   "id": "b89e1412",
   "metadata": {},
   "source": [
    "All slice operations return a new list containing the requested elements.\n",
    "This means that the following slice returns a new (shallow) copy of the list:"
   ]
  },
  {
   "cell_type": "code",
   "execution_count": 63,
   "id": "ae901448",
   "metadata": {},
   "outputs": [],
   "source": [
    "assert squares[:] == [1, 4, 9, 16, 25]"
   ]
  },
  {
   "cell_type": "markdown",
   "id": "d21f6317",
   "metadata": {},
   "source": [
    "Lists also support operations like concatenation:"
   ]
  },
  {
   "cell_type": "code",
   "execution_count": 64,
   "id": "aa0792d1",
   "metadata": {},
   "outputs": [],
   "source": [
    "assert squares + [36, 49, 64, 81, 100] == [1, 4, 9, 16, 25, 36, 49, 64, 81, 100]"
   ]
  },
  {
   "cell_type": "markdown",
   "id": "42dab4b8",
   "metadata": {},
   "source": [
    "Unlike strings, which are immutable, lists are a mutable type, i.e. it is possible to change their content:"
   ]
  },
  {
   "cell_type": "code",
   "execution_count": 65,
   "id": "63ece07c",
   "metadata": {},
   "outputs": [],
   "source": [
    "cubes = [1, 8, 27, 65, 125]  # something's wrong here, the cube of 4 is 64!\n",
    "cubes[3] = 64  # replace the wrong value\n",
    "assert cubes == [1, 8, 27, 64, 125]"
   ]
  },
  {
   "cell_type": "markdown",
   "id": "2c7b76f3",
   "metadata": {},
   "source": [
    "You can also add new items at the end of the list, by using the `append()` method."
   ]
  },
  {
   "cell_type": "code",
   "execution_count": 66,
   "id": "0ef85d9b",
   "metadata": {},
   "outputs": [],
   "source": [
    "cubes.append(216)  # add the cube of 6\n",
    "cubes.append(7 ** 3)  # and the cube of 7\n",
    "assert cubes == [1, 8, 27, 64, 125, 216, 343]"
   ]
  },
  {
   "cell_type": "markdown",
   "id": "34a06320",
   "metadata": {},
   "source": [
    "Assignment to slices is also possible, and this can even change the size of the list or clear it entirely:"
   ]
  },
  {
   "cell_type": "code",
   "execution_count": 67,
   "id": "faccb9ab",
   "metadata": {},
   "outputs": [],
   "source": [
    "letters = ['a', 'b', 'c', 'd', 'e', 'f', 'g']\n",
    "letters[2:5] = ['C', 'D', 'E']  # replace some values\n",
    "assert letters == ['a', 'b', 'C', 'D', 'E', 'f', 'g']\n",
    "letters[2:5] = []  # now remove them\n",
    "assert letters == ['a', 'b', 'f', 'g']"
   ]
  },
  {
   "cell_type": "markdown",
   "id": "a168c0ab",
   "metadata": {},
   "source": [
    "Clear the list by replacing all the elements with an empty list."
   ]
  },
  {
   "cell_type": "code",
   "execution_count": 68,
   "id": "7e38d9f0",
   "metadata": {},
   "outputs": [],
   "source": [
    "letters[:] = []\n",
    "assert letters == []"
   ]
  },
  {
   "cell_type": "markdown",
   "id": "9da790a7",
   "metadata": {},
   "source": [
    "The built-in function `len()` also applies to lists."
   ]
  },
  {
   "cell_type": "code",
   "execution_count": 69,
   "id": "e81c473c",
   "metadata": {},
   "outputs": [],
   "source": [
    "letters = ['a', 'b', 'c', 'd']\n",
    "assert len(letters) == 4"
   ]
  },
  {
   "cell_type": "markdown",
   "id": "b0017141",
   "metadata": {},
   "source": [
    "It is possible to nest lists (create lists containing other lists), for example:"
   ]
  },
  {
   "cell_type": "code",
   "execution_count": 70,
   "id": "e9d10885",
   "metadata": {},
   "outputs": [],
   "source": [
    "list_of_chars = ['a', 'b', 'c']\n",
    "list_of_numbers = [1, 2, 3]\n",
    "mixed_list = [list_of_chars, list_of_numbers]\n",
    "assert mixed_list == [['a', 'b', 'c'], [1, 2, 3]]\n",
    "assert mixed_list[0] == ['a', 'b', 'c']\n",
    "assert mixed_list[0][1] == 'b'"
   ]
  },
  {
   "cell_type": "markdown",
   "id": "0a95323b",
   "metadata": {},
   "source": [
    "#### List methods"
   ]
  },
  {
   "cell_type": "code",
   "execution_count": 71,
   "id": "22e4d138",
   "metadata": {},
   "outputs": [],
   "source": [
    "import pytest\n",
    "\n",
    "fruits = ['orange', 'apple', 'pear', 'banana', 'kiwi', 'apple', 'banana']"
   ]
  },
  {
   "cell_type": "markdown",
   "id": "b72dd48c",
   "metadata": {},
   "source": [
    "`list.append(x)` adds an item to the end of the list, equivalent to `a[len(a):] = [x]`."
   ]
  },
  {
   "cell_type": "code",
   "execution_count": 72,
   "id": "ce140b07",
   "metadata": {},
   "outputs": [],
   "source": [
    "fruits.append('grape')\n",
    "assert fruits == ['orange', 'apple', 'pear', 'banana', 'kiwi', 'apple', 'banana', 'grape']"
   ]
  },
  {
   "cell_type": "markdown",
   "id": "50e1f228",
   "metadata": {},
   "source": [
    "`list.remove(x)` removes the first item from the list whose value is equal to x. It raises a `ValueError` if there is no such item."
   ]
  },
  {
   "cell_type": "code",
   "execution_count": 73,
   "id": "03759405",
   "metadata": {},
   "outputs": [],
   "source": [
    "fruits.remove('grape')\n",
    "assert fruits == ['orange', 'apple', 'pear', 'banana', 'kiwi', 'apple', 'banana']\n",
    "\n",
    "with pytest.raises(Exception):\n",
    "    fruits.remove('not existing element')"
   ]
  },
  {
   "cell_type": "markdown",
   "id": "925c4a33",
   "metadata": {},
   "source": [
    "`list.insert(i, x)` inserts an item at a given position. The first argument is the index of the element before which to insert, so `a.insert(0, x)` inserts at the front of the list, and `a.insert(len(a), x)` is equivalent to `a.append(x)`."
   ]
  },
  {
   "cell_type": "code",
   "execution_count": 74,
   "id": "d4323e71",
   "metadata": {},
   "outputs": [],
   "source": [
    "fruits.insert(0, 'grape')\n",
    "assert fruits == ['grape', 'orange', 'apple', 'pear', 'banana', 'kiwi', 'apple', 'banana']"
   ]
  },
  {
   "cell_type": "markdown",
   "id": "afc2dad5",
   "metadata": {},
   "source": [
    "`list.index(x[, start[, end]]`)` returns a zero-based index in the list of the first item whose value is equal to x. Raises a ValueError if there is no such item. The optional arguments start and end are interpreted as in the slice notation and are used to limit the search to a particular subsequence of the list. The returned index is computed relative to the beginning of the full sequence rather than the start argument."
   ]
  },
  {
   "cell_type": "code",
   "execution_count": 75,
   "id": "e497e188",
   "metadata": {},
   "outputs": [],
   "source": [
    "assert fruits.index('grape') == 0\n",
    "assert fruits.index('orange') == 1\n",
    "assert fruits.index('banana') == 4\n",
    "assert fruits.index('banana', 5) == 7  # Find next banana starting a position 5\n",
    "\n",
    "with pytest.raises(Exception):\n",
    "    fruits.index('not existing element')"
   ]
  },
  {
   "cell_type": "markdown",
   "id": "4c36ff5c",
   "metadata": {},
   "source": [
    "`list.count(x)` returns the number of times x appears in the list."
   ]
  },
  {
   "cell_type": "code",
   "execution_count": 76,
   "id": "5a95106f",
   "metadata": {},
   "outputs": [],
   "source": [
    "assert fruits.count('tangerine') == 0\n",
    "assert fruits.count('banana') == 2"
   ]
  },
  {
   "cell_type": "markdown",
   "id": "348b9d64",
   "metadata": {},
   "source": [
    "`list.copy()` returns a shallow copy of the list. Equivalent to `a[:]`."
   ]
  },
  {
   "cell_type": "code",
   "execution_count": 77,
   "id": "ddd40af6",
   "metadata": {},
   "outputs": [],
   "source": [
    "fruits_copy = fruits.copy()\n",
    "assert fruits_copy == ['grape', 'orange', 'apple', 'pear', 'banana', 'kiwi', 'apple', 'banana']"
   ]
  },
  {
   "cell_type": "markdown",
   "id": "a05ad97e",
   "metadata": {},
   "source": [
    "`list.reverse()` reverses the elements of the list in place."
   ]
  },
  {
   "cell_type": "code",
   "execution_count": 78,
   "id": "fbd78d8a",
   "metadata": {},
   "outputs": [],
   "source": [
    "fruits_copy.reverse()\n",
    "assert fruits_copy == [\n",
    "    'banana',\n",
    "    'apple',\n",
    "    'kiwi',\n",
    "    'banana',\n",
    "    'pear',\n",
    "    'apple',\n",
    "    'orange',\n",
    "    'grape',\n",
    "]"
   ]
  },
  {
   "cell_type": "markdown",
   "id": "592498e2",
   "metadata": {},
   "source": [
    "`list.sort(key=None, reverse=False)` sorts the items of the list in place. (The arguments can be used for sort customization, see `sorted()` for their explanation.)"
   ]
  },
  {
   "cell_type": "code",
   "execution_count": 79,
   "id": "dc4086d9",
   "metadata": {},
   "outputs": [],
   "source": [
    "fruits_copy.sort()\n",
    "assert fruits_copy == [\n",
    "    'apple',\n",
    "    'apple',\n",
    "    'banana',\n",
    "    'banana',\n",
    "    'grape',\n",
    "    'kiwi',\n",
    "    'orange',\n",
    "    'pear',\n",
    "]"
   ]
  },
  {
   "cell_type": "markdown",
   "id": "cf361458",
   "metadata": {},
   "source": [
    "`list.pop([i])` removes the item at the given position in the list and returns it. If no index is specified, `a.pop()` removes and returns the last item in the list. (The square brackets around the `i` in the method signature denote that the parameter is optional, not that you should type square brackets at that position.)"
   ]
  },
  {
   "cell_type": "code",
   "execution_count": 80,
   "id": "6c2341b9",
   "metadata": {},
   "outputs": [],
   "source": [
    "assert fruits == ['grape', 'orange', 'apple', 'pear', 'banana', 'kiwi', 'apple', 'banana']\n",
    "assert fruits.pop() == 'banana'\n",
    "assert fruits == ['grape', 'orange', 'apple', 'pear', 'banana', 'kiwi', 'apple']"
   ]
  },
  {
   "cell_type": "markdown",
   "id": "8d2bd960",
   "metadata": {},
   "source": [
    "`list.clear()` removes all items from the list. Equivalent to `del a[:]`."
   ]
  },
  {
   "cell_type": "code",
   "execution_count": 81,
   "id": "3ba464bc",
   "metadata": {},
   "outputs": [],
   "source": [
    "fruits.clear()\n",
    "assert fruits == []"
   ]
  },
  {
   "cell_type": "markdown",
   "id": "944ec596",
   "metadata": {},
   "source": [
    "#### The del statement\n",
    "\n",
    "There is a way to remove an item from a list given its index instead of its value: the `del` statement. This differs from the `pop()` method which returns a value. The `del` statement can also be used to remove slices from a list or clear the entire list (which we did earlier by assignment of an empty list to the slice)."
   ]
  },
  {
   "cell_type": "code",
   "execution_count": 82,
   "id": "da71a7f4",
   "metadata": {},
   "outputs": [],
   "source": [
    "import pytest\n",
    "\n",
    "numbers = [-1, 1, 66.25, 333, 333, 1234.5]\n",
    "\n",
    "del numbers[0]\n",
    "assert numbers == [1, 66.25, 333, 333, 1234.5]\n",
    "\n",
    "del numbers[2:4]\n",
    "assert numbers == [1, 66.25, 1234.5]\n",
    "\n",
    "del numbers[:]\n",
    "assert numbers == []\n",
    "\n",
    "# del can also be used to delete entire variables:\n",
    "del numbers\n",
    "with pytest.raises(Exception):\n",
    "    # Referencing the name a hereafter is an error (at least until another\n",
    "    # value is assigned to it).\n",
    "    assert numbers == []  # noqa: F821"
   ]
  },
  {
   "cell_type": "markdown",
   "id": "867306ff",
   "metadata": {},
   "source": [
    "#### List comprehensions\n",
    "\n",
    "List comprehensions provide a concise way to create lists. Common applications are to make new lists where each element is the result of some operations applied to each member of another sequence or iterable or to create a subsequence of those elements that satisfy a certain condition. A list comprehension consists of brackets containing an expression followed by a for clause, then zero or more `for` or `if` clauses. The result will be a new list resulting from evaluating the expression in the context of the `for` and `if` clauses that follow it.\n",
    "\n",
    "For example, assume we want to create a list of squares, like:"
   ]
  },
  {
   "cell_type": "code",
   "execution_count": 83,
   "id": "688d0d3e",
   "metadata": {},
   "outputs": [],
   "source": [
    "squares = []\n",
    "for number in range(10):\n",
    "    squares.append(number ** 2)\n",
    "\n",
    "assert squares == [0, 1, 4, 9, 16, 25, 36, 49, 64, 81]"
   ]
  },
  {
   "cell_type": "markdown",
   "id": "0136bf56",
   "metadata": {},
   "source": [
    "Note that this creates (or overwrites) a variable named \"number\" that still exists after the loop completes. We can calculate the list of squares without any side effects using:"
   ]
  },
  {
   "cell_type": "code",
   "execution_count": 84,
   "id": "e5a0bfcc",
   "metadata": {},
   "outputs": [],
   "source": [
    "squares = list(map(lambda x: x ** 2, range(10)))\n",
    "assert squares == [0, 1, 4, 9, 16, 25, 36, 49, 64, 81]"
   ]
  },
  {
   "cell_type": "markdown",
   "id": "0a573f07",
   "metadata": {},
   "source": [
    "Or, equivalently (which is more concise and readable):"
   ]
  },
  {
   "cell_type": "code",
   "execution_count": 85,
   "id": "4d92501d",
   "metadata": {},
   "outputs": [],
   "source": [
    "squares = [x ** 2 for x in range(10)]\n",
    "assert squares == [0, 1, 4, 9, 16, 25, 36, 49, 64, 81]"
   ]
  },
  {
   "cell_type": "markdown",
   "id": "8d2d5484",
   "metadata": {},
   "source": [
    "For example, this list comprehension combines the elements of two lists if they are not equal:"
   ]
  },
  {
   "cell_type": "code",
   "execution_count": 86,
   "id": "c4b1d89a",
   "metadata": {},
   "outputs": [],
   "source": [
    "combinations = [(x, y) for x in [1, 2, 3] for y in [3, 1, 4] if x != y]\n",
    "assert combinations == [(1, 3), (1, 4), (2, 3), (2, 1), (2, 4), (3, 1), (3, 4)]"
   ]
  },
  {
   "cell_type": "markdown",
   "id": "91f0e77a",
   "metadata": {},
   "source": [
    "And it’s equivalent to:"
   ]
  },
  {
   "cell_type": "code",
   "execution_count": 87,
   "id": "feea1306",
   "metadata": {},
   "outputs": [],
   "source": [
    "combinations = []\n",
    "for first_number in [1, 2, 3]:\n",
    "    for second_number in [3, 1, 4]:\n",
    "        if first_number != second_number:\n",
    "            combinations.append((first_number, second_number))\n",
    "\n",
    "assert combinations == [(1, 3), (1, 4), (2, 3), (2, 1), (2, 4), (3, 1), (3, 4)]"
   ]
  },
  {
   "cell_type": "markdown",
   "id": "94f9ff6c",
   "metadata": {},
   "source": [
    "Note how the order of the `for` and `if` statements is the same in both these snippets.\n",
    "\n",
    "If the expression is a tuple (e.g. the (x, y) in the previous example), it must be parenthesized.\n",
    "\n",
    "Let's see some more examples:"
   ]
  },
  {
   "cell_type": "code",
   "execution_count": 88,
   "id": "aa1af050",
   "metadata": {},
   "outputs": [],
   "source": [
    "vector = [-4, -2, 0, 2, 4]"
   ]
  },
  {
   "cell_type": "markdown",
   "id": "ec82a274",
   "metadata": {},
   "source": [
    "Create a new list with the values doubled."
   ]
  },
  {
   "cell_type": "code",
   "execution_count": 89,
   "id": "cd884090",
   "metadata": {},
   "outputs": [],
   "source": [
    "doubled_vector = [x * 2 for x in vector]\n",
    "assert doubled_vector == [-8, -4, 0, 4, 8]"
   ]
  },
  {
   "cell_type": "markdown",
   "id": "5cd7c0d9",
   "metadata": {},
   "source": [
    "Filter the list to exclude negative numbers."
   ]
  },
  {
   "cell_type": "code",
   "execution_count": 90,
   "id": "4be22860",
   "metadata": {},
   "outputs": [],
   "source": [
    "positive_vector = [x for x in vector if x >= 0]\n",
    "assert positive_vector == [0, 2, 4]"
   ]
  },
  {
   "cell_type": "markdown",
   "id": "cbba0b23",
   "metadata": {},
   "source": [
    "Apply a function to all the elements."
   ]
  },
  {
   "cell_type": "code",
   "execution_count": 91,
   "id": "af265a18",
   "metadata": {},
   "outputs": [],
   "source": [
    "abs_vector = [abs(x) for x in vector]\n",
    "assert abs_vector == [4, 2, 0, 2, 4]"
   ]
  },
  {
   "cell_type": "markdown",
   "id": "086828d3",
   "metadata": {},
   "source": [
    "Call a method on each element."
   ]
  },
  {
   "cell_type": "code",
   "execution_count": 92,
   "id": "e7258b2c",
   "metadata": {},
   "outputs": [],
   "source": [
    "fresh_fruit = ['  banana', '  loganberry ', 'passion fruit  ']\n",
    "clean_fresh_fruit = [weapon.strip() for weapon in fresh_fruit]\n",
    "assert clean_fresh_fruit == ['banana', 'loganberry', 'passion fruit']"
   ]
  },
  {
   "cell_type": "markdown",
   "id": "9bc5e245",
   "metadata": {},
   "source": [
    "Create a list of 2-tuples like (number, square)."
   ]
  },
  {
   "cell_type": "code",
   "execution_count": 93,
   "id": "8d6dabcf",
   "metadata": {},
   "outputs": [],
   "source": [
    "square_tuples = [(x, x ** 2) for x in range(6)]\n",
    "assert square_tuples == [(0, 0), (1, 1), (2, 4), (3, 9), (4, 16), (5, 25)]"
   ]
  },
  {
   "cell_type": "markdown",
   "id": "f54136e6",
   "metadata": {},
   "source": [
    "Flatten a list using a list comprehension with two `for`."
   ]
  },
  {
   "cell_type": "code",
   "execution_count": 94,
   "id": "3aaebc63",
   "metadata": {},
   "outputs": [],
   "source": [
    "vector = [[1, 2, 3], [4, 5, 6], [7, 8, 9]]\n",
    "flatten_vector = [num for elem in vector for num in elem]\n",
    "assert flatten_vector == [1, 2, 3, 4, 5, 6, 7, 8, 9]"
   ]
  },
  {
   "cell_type": "markdown",
   "id": "bf0e6dee",
   "metadata": {},
   "source": [
    "#### Nested list comprehensions\n",
    "\n",
    "The initial expression in a list comprehension can be any arbitrary expression, including another list comprehension.\n",
    "\n",
    "Consider the following example of a 3x4 matrix implemented as a list of 3 lists of length 4:"
   ]
  },
  {
   "cell_type": "code",
   "execution_count": 95,
   "id": "cf19c3f0",
   "metadata": {},
   "outputs": [],
   "source": [
    "matrix = [\n",
    "    [1, 2, 3, 4],\n",
    "    [5, 6, 7, 8],\n",
    "    [9, 10, 11, 12],\n",
    "]"
   ]
  },
  {
   "cell_type": "markdown",
   "id": "42310cc8",
   "metadata": {},
   "source": [
    "The following list comprehension will transpose rows and columns:"
   ]
  },
  {
   "cell_type": "code",
   "execution_count": 96,
   "id": "87efb969",
   "metadata": {},
   "outputs": [],
   "source": [
    "transposed_matrix = [[row[i] for row in matrix] for i in range(4)]\n",
    "assert transposed_matrix == [\n",
    "    [1, 5, 9],\n",
    "    [2, 6, 10],\n",
    "    [3, 7, 11],\n",
    "    [4, 8, 12],\n",
    "]"
   ]
  },
  {
   "cell_type": "markdown",
   "id": "e18fa4c1",
   "metadata": {},
   "source": [
    "As we saw in the previous section, the nested list comprehension is evaluated in the context of the for that follows it, so this example is equivalent to:"
   ]
  },
  {
   "cell_type": "code",
   "execution_count": 97,
   "id": "86b409f7",
   "metadata": {},
   "outputs": [],
   "source": [
    "transposed = []\n",
    "for i in range(4):\n",
    "    transposed.append([row[i] for row in matrix])\n",
    "\n",
    "assert transposed == [\n",
    "    [1, 5, 9],\n",
    "    [2, 6, 10],\n",
    "    [3, 7, 11],\n",
    "    [4, 8, 12],\n",
    "]"
   ]
  },
  {
   "cell_type": "markdown",
   "id": "110ad2f1",
   "metadata": {},
   "source": [
    "Which, in turn, is the same as:"
   ]
  },
  {
   "cell_type": "code",
   "execution_count": 98,
   "id": "a9c5efa5",
   "metadata": {},
   "outputs": [],
   "source": [
    "transposed = []\n",
    "for i in range(4):\n",
    "    # the following 3 lines implement the nested listcomp\n",
    "    transposed_row = []\n",
    "    for row in matrix:\n",
    "        transposed_row.append(row[i])\n",
    "    transposed.append(transposed_row)\n",
    "\n",
    "assert transposed == [\n",
    "    [1, 5, 9],\n",
    "    [2, 6, 10],\n",
    "    [3, 7, 11],\n",
    "    [4, 8, 12],\n",
    "]"
   ]
  },
  {
   "cell_type": "markdown",
   "id": "a784c4f8",
   "metadata": {},
   "source": [
    "In the real world, you should prefer built-in functions to complex flow statements. The `zip()` function would do a great job for this use case."
   ]
  },
  {
   "cell_type": "code",
   "execution_count": 99,
   "id": "0480e00c",
   "metadata": {},
   "outputs": [],
   "source": [
    "assert list(zip(*matrix)) == [\n",
    "    (1, 5, 9),\n",
    "    (2, 6, 10),\n",
    "    (3, 7, 11),\n",
    "    (4, 8, 12),\n",
    "]"
   ]
  },
  {
   "cell_type": "markdown",
   "id": "55ad7d44",
   "metadata": {},
   "source": [
    "### Tuples\n",
    "\n",
    "A tuple is a collection that is ordered and unchangeable. In Python, tuples are written with\n",
    "round brackets.\n",
    "\n",
    "The Tuples have the following properties:\n",
    "\n",
    "- You cannot change values in a tuple.\n",
    "- You cannot remove items in a tuple.\n",
    "\n",
    "```{seealso}\n",
    "- https://www.w3schools.com/python/python_tuples.asp\n",
    "- https://docs.python.org/3/tutorial/datastructures.html#tuples-and-sequences\n",
    "```"
   ]
  },
  {
   "cell_type": "code",
   "execution_count": 100,
   "id": "23989017",
   "metadata": {},
   "outputs": [],
   "source": [
    "import pytest\n",
    "\n",
    "fruits_tuple = (\"apple\", \"banana\", \"cherry\")\n",
    "\n",
    "assert isinstance(fruits_tuple, tuple)\n",
    "assert fruits_tuple[0] == \"apple\"\n",
    "assert fruits_tuple[1] == \"banana\"\n",
    "assert fruits_tuple[2] == \"cherry\""
   ]
  },
  {
   "cell_type": "markdown",
   "id": "72d07b2c",
   "metadata": {},
   "source": [
    "You cannot change values in a tuple."
   ]
  },
  {
   "cell_type": "code",
   "execution_count": 101,
   "id": "81ecf36d",
   "metadata": {},
   "outputs": [],
   "source": [
    "with pytest.raises(Exception):\n",
    "    # pylint: disable=unsupported-assignment-operation\n",
    "    fruits_tuple[0] = \"pineapple\""
   ]
  },
  {
   "cell_type": "markdown",
   "id": "96c2b0d7",
   "metadata": {},
   "source": [
    "It is also possible to use the `tuple()` constructor to make a tuple (note the double round-brackets).\n",
    "\n",
    "The `len()` function returns the length of the tuple."
   ]
  },
  {
   "cell_type": "code",
   "execution_count": 102,
   "id": "c206e522",
   "metadata": {},
   "outputs": [],
   "source": [
    "fruits_tuple_via_constructor = tuple((\"apple\", \"banana\", \"cherry\"))\n",
    "\n",
    "assert isinstance(fruits_tuple_via_constructor, tuple)\n",
    "assert len(fruits_tuple_via_constructor) == 3"
   ]
  },
  {
   "cell_type": "markdown",
   "id": "85bc32dd",
   "metadata": {},
   "source": [
    "It is also possible to omit brackets when initializing tuples."
   ]
  },
  {
   "cell_type": "code",
   "execution_count": 103,
   "id": "c0c78c46",
   "metadata": {},
   "outputs": [],
   "source": [
    "another_tuple = 12345, 54321, 'hello!'\n",
    "assert another_tuple == (12345, 54321, 'hello!')"
   ]
  },
  {
   "cell_type": "markdown",
   "id": "c1a5af58",
   "metadata": {},
   "source": [
    "Tuples may be nested:"
   ]
  },
  {
   "cell_type": "code",
   "execution_count": 104,
   "id": "c328d176",
   "metadata": {},
   "outputs": [],
   "source": [
    "nested_tuple = another_tuple, (1, 2, 3, 4, 5)\n",
    "assert nested_tuple == ((12345, 54321, 'hello!'), (1, 2, 3, 4, 5))"
   ]
  },
  {
   "cell_type": "markdown",
   "id": "fa8169ae",
   "metadata": {},
   "source": [
    "As you see, on output tuples are always enclosed in parentheses, so that nested tuples are interpreted correctly; they may be input with or without surrounding parentheses, although often parentheses are necessary anyway (if the tuple is part of a larger expression). It is not possible to assign to the individual items of a tuple, however, it is possible to create tuples that contain mutable objects, such as lists.\n",
    "\n",
    "A special problem is the construction of tuples containing 0 or 1 item: the syntax has some extra quirks to accommodate these. Empty tuples are constructed by an empty pair of parentheses; a tuple with one item is constructed by following a value with a comma (it is not sufficient to enclose a single value in parentheses). Ugly, but effective. For example:"
   ]
  },
  {
   "cell_type": "code",
   "execution_count": 105,
   "id": "95179934",
   "metadata": {},
   "outputs": [],
   "source": [
    "empty_tuple = ()\n",
    "# pylint: disable=len-as-condition\n",
    "assert len(empty_tuple) == 0\n",
    "\n",
    "# pylint: disable=trailing-comma-tuple\n",
    "singleton_tuple = 'hello',  # <-- note trailing comma\n",
    "assert len(singleton_tuple) == 1\n",
    "assert singleton_tuple == ('hello',)"
   ]
  },
  {
   "cell_type": "markdown",
   "id": "0e6dc120",
   "metadata": {},
   "source": [
    "The following example is called **tuple packing**:"
   ]
  },
  {
   "cell_type": "code",
   "execution_count": 106,
   "id": "fef32e56",
   "metadata": {},
   "outputs": [],
   "source": [
    "packed_tuple = 12345, 54321, 'hello!'"
   ]
  },
  {
   "cell_type": "markdown",
   "id": "88db4043",
   "metadata": {},
   "source": [
    "The reverse operation is also possible."
   ]
  },
  {
   "cell_type": "code",
   "execution_count": 107,
   "id": "06f01728",
   "metadata": {},
   "outputs": [],
   "source": [
    "first_tuple_number, second_tuple_number, third_tuple_string = packed_tuple\n",
    "assert first_tuple_number == 12345\n",
    "assert second_tuple_number == 54321\n",
    "assert third_tuple_string == 'hello!'"
   ]
  },
  {
   "cell_type": "markdown",
   "id": "f9228bcc",
   "metadata": {},
   "source": [
    "This is called, appropriately enough, **sequence unpacking** and works for any sequence on the right-hand side. Sequence unpacking requires that there are as many variables on the left side of the equals sign as there are elements in the sequence. \n",
    "\n",
    "Note that multiple assignments are really just a combination of tuple packing and sequence unpacking.\n",
    "\n",
    "Data can be swapped from one variable to another in Python using tuples. This eliminates the need to use a 'temp' variable."
   ]
  },
  {
   "cell_type": "code",
   "execution_count": 108,
   "id": "1e15836c",
   "metadata": {},
   "outputs": [],
   "source": [
    "first_number = 123\n",
    "second_number = 456\n",
    "first_number, second_number = second_number, first_number\n",
    "\n",
    "assert first_number == 456\n",
    "assert second_number == 123"
   ]
  },
  {
   "cell_type": "markdown",
   "id": "be95fae6",
   "metadata": {},
   "source": [
    "### Sets and their methods\n",
    "\n",
    "A set is a collection that is unordered and unindexed.\n",
    "\n",
    "In Python, sets are written with `{}`.\n",
    "\n",
    "Set objects also support mathematical operations like union, intersection, difference, and symmetric difference.\n",
    "\n",
    "```{seealso}\n",
    "- https://www.w3schools.com/python/python_sets.asp\n",
    "- https://docs.python.org/3.7/tutorial/datastructures.html#sets\n",
    "```\n",
    "\n",
    "#### Set type"
   ]
  },
  {
   "cell_type": "code",
   "execution_count": 109,
   "id": "1a42b883",
   "metadata": {},
   "outputs": [],
   "source": [
    "fruits_set = {\"apple\", \"banana\", \"cherry\"}\n",
    "\n",
    "assert isinstance(fruits_set, set)"
   ]
  },
  {
   "cell_type": "markdown",
   "id": "da99b7e7",
   "metadata": {},
   "source": [
    "It is also possible to use the `set()` constructor to make a set. Note the `(())`."
   ]
  },
  {
   "cell_type": "code",
   "execution_count": 110,
   "id": "4bd016ed",
   "metadata": {},
   "outputs": [],
   "source": [
    "fruits_set_via_constructor = set((\"apple\", \"banana\", \"cherry\"))\n",
    "\n",
    "assert isinstance(fruits_set_via_constructor, set)"
   ]
  },
  {
   "cell_type": "markdown",
   "id": "f1d75b0c",
   "metadata": {},
   "source": [
    "#### Set methods"
   ]
  },
  {
   "cell_type": "code",
   "execution_count": 111,
   "id": "cd77bc58",
   "metadata": {},
   "outputs": [],
   "source": [
    "fruits_set = {\"apple\", \"banana\", \"cherry\"}"
   ]
  },
  {
   "cell_type": "markdown",
   "id": "07c8cd19",
   "metadata": {},
   "source": [
    "You may check if the item is in set by using statement `in`."
   ]
  },
  {
   "cell_type": "code",
   "execution_count": 112,
   "id": "d95e3135",
   "metadata": {},
   "outputs": [],
   "source": [
    "assert \"apple\" in fruits_set\n",
    "assert \"pineapple\" not in fruits_set"
   ]
  },
  {
   "cell_type": "markdown",
   "id": "25ee5cbb",
   "metadata": {},
   "source": [
    "Use the `len()` method to return the number of items."
   ]
  },
  {
   "cell_type": "code",
   "execution_count": 113,
   "id": "b4c53728",
   "metadata": {},
   "outputs": [],
   "source": [
    "assert len(fruits_set) == 3"
   ]
  },
  {
   "cell_type": "markdown",
   "id": "cca3bfb8",
   "metadata": {},
   "source": [
    "You can use the `add()` object method to add an item."
   ]
  },
  {
   "cell_type": "code",
   "execution_count": 114,
   "id": "fbc4d634",
   "metadata": {},
   "outputs": [],
   "source": [
    "fruits_set.add(\"pineapple\")\n",
    "assert \"pineapple\" in fruits_set\n",
    "assert len(fruits_set) == 4"
   ]
  },
  {
   "cell_type": "markdown",
   "id": "8e89b3d6",
   "metadata": {},
   "source": [
    "Use `remove()` object method to remove an item."
   ]
  },
  {
   "cell_type": "code",
   "execution_count": 115,
   "id": "ab89fd68",
   "metadata": {},
   "outputs": [],
   "source": [
    "fruits_set.remove(\"pineapple\")\n",
    "assert \"pineapple\" not in fruits_set\n",
    "assert len(fruits_set) == 3"
   ]
  },
  {
   "cell_type": "markdown",
   "id": "77cf3684",
   "metadata": {},
   "source": [
    "Demonstrate set operations on unique letters from two words:"
   ]
  },
  {
   "cell_type": "code",
   "execution_count": 116,
   "id": "69cd563e",
   "metadata": {},
   "outputs": [],
   "source": [
    "first_char_set = set('abracadabra')\n",
    "second_char_set = set('alacazam')\n",
    "\n",
    "assert first_char_set == {'a', 'r', 'b', 'c', 'd'}  # unique letters in first word\n",
    "assert second_char_set == {'a', 'l', 'c', 'z', 'm'}  # unique letters in second word"
   ]
  },
  {
   "cell_type": "markdown",
   "id": "f9d2dc0e",
   "metadata": {},
   "source": [
    "Letters in the first word but not in second."
   ]
  },
  {
   "cell_type": "code",
   "execution_count": 117,
   "id": "18de5e6f",
   "metadata": {},
   "outputs": [],
   "source": [
    "assert first_char_set - second_char_set == {'r', 'b', 'd'}"
   ]
  },
  {
   "cell_type": "markdown",
   "id": "c0c2392f",
   "metadata": {},
   "source": [
    "Letters in the first word or second word or both."
   ]
  },
  {
   "cell_type": "code",
   "execution_count": 118,
   "id": "da37d82b",
   "metadata": {},
   "outputs": [],
   "source": [
    "assert first_char_set | second_char_set == {'a', 'c', 'r', 'd', 'b', 'm', 'z', 'l'}"
   ]
  },
  {
   "cell_type": "markdown",
   "id": "42758ce9",
   "metadata": {},
   "source": [
    "Common letters in both words."
   ]
  },
  {
   "cell_type": "code",
   "execution_count": 119,
   "id": "f38da70f",
   "metadata": {},
   "outputs": [],
   "source": [
    "assert first_char_set & second_char_set == {'a', 'c'}"
   ]
  },
  {
   "cell_type": "markdown",
   "id": "dad5102c",
   "metadata": {},
   "source": [
    "Letters in first or second word but not both."
   ]
  },
  {
   "cell_type": "code",
   "execution_count": 120,
   "id": "2cab605c",
   "metadata": {},
   "outputs": [],
   "source": [
    "assert first_char_set ^ second_char_set == {'r', 'd', 'b', 'm', 'z', 'l'}"
   ]
  },
  {
   "cell_type": "markdown",
   "id": "35411268",
   "metadata": {},
   "source": [
    "Similarly to list comprehensions, set comprehensions are also supported:"
   ]
  },
  {
   "cell_type": "code",
   "execution_count": 121,
   "id": "3b4695b6",
   "metadata": {},
   "outputs": [],
   "source": [
    "word = {char for char in 'abracadabra' if char not in 'abc'}\n",
    "assert word == {'r', 'd'}"
   ]
  },
  {
   "cell_type": "markdown",
   "id": "49f7bc2e",
   "metadata": {},
   "source": [
    "### Dictionaries\n",
    "\n",
    "A dictionary is a collection that is unordered, changeable and indexed. In Python, dictionaries are written with curly brackets, and they have keys and values.\n",
    "\n",
    "Dictionaries are sometimes found in other languages as “associative memories” or “associative arrays”. Unlike sequences, which are indexed by a range of numbers, dictionaries are indexed by keys, which can be any immutable type; strings and numbers can always be keys. Tuples can be used as keys if they contain only strings, numbers, or tuples; if a tuple contains any mutable object either directly or indirectly, it cannot be used as a key. You can’t use lists as keys, since lists can be modified in place using index assignments, slice assignments, or methods like `append()` and `extend()`.\n",
    "\n",
    "It is best to think of a dictionary as a set of key: value pairs, with the requirement that the keys are unique (within one dictionary). A pair of braces creates an empty dictionary: `{}`. Placing a comma-separated list of key-value pairs within the braces adds initial key-value pairs to the dictionary; this is also the way dictionaries are written on output.\n",
    "\n",
    "```{seealso}\n",
    "- https://docs.python.org/3/tutorial/datastructures.html#dictionaries\n",
    "- https://www.w3schools.com/python/python_dictionaries.asp\n",
    "```"
   ]
  },
  {
   "cell_type": "code",
   "execution_count": 122,
   "id": "d084263f",
   "metadata": {},
   "outputs": [],
   "source": [
    "fruits_dictionary = {\n",
    "    'cherry': 'red',\n",
    "    'apple': 'green',\n",
    "    'banana': 'yellow',\n",
    "}\n",
    "\n",
    "assert isinstance(fruits_dictionary, dict)"
   ]
  },
  {
   "cell_type": "markdown",
   "id": "0894dee8",
   "metadata": {},
   "source": [
    "You may access set elements by keys."
   ]
  },
  {
   "cell_type": "code",
   "execution_count": 123,
   "id": "f87d8dc1",
   "metadata": {},
   "outputs": [],
   "source": [
    "assert fruits_dictionary['apple'] == 'green'\n",
    "assert fruits_dictionary['banana'] == 'yellow'\n",
    "assert fruits_dictionary['cherry'] == 'red'"
   ]
  },
  {
   "cell_type": "markdown",
   "id": "ef334b0d",
   "metadata": {},
   "source": [
    "To check whether a single key is in the dictionary, use the keyword `in`."
   ]
  },
  {
   "cell_type": "code",
   "execution_count": 124,
   "id": "5352dfe2",
   "metadata": {},
   "outputs": [],
   "source": [
    "assert 'apple' in fruits_dictionary\n",
    "assert 'pineapple' not in fruits_dictionary"
   ]
  },
  {
   "cell_type": "markdown",
   "id": "3ef959f8",
   "metadata": {},
   "source": [
    "Change the apple color to \"red\"."
   ]
  },
  {
   "cell_type": "code",
   "execution_count": 125,
   "id": "02b94f5c",
   "metadata": {},
   "outputs": [],
   "source": [
    "fruits_dictionary['apple'] = 'red'"
   ]
  },
  {
   "cell_type": "markdown",
   "id": "dee07d89",
   "metadata": {},
   "source": [
    "Add new key/value pair to the dictionary."
   ]
  },
  {
   "cell_type": "code",
   "execution_count": 126,
   "id": "5ce2d420",
   "metadata": {},
   "outputs": [],
   "source": [
    "fruits_dictionary['pineapple'] = 'yellow'\n",
    "assert fruits_dictionary['pineapple'] == 'yellow'"
   ]
  },
  {
   "cell_type": "markdown",
   "id": "fddd8a02",
   "metadata": {},
   "source": [
    "Performing `list(d)` on a dictionary returns a list of all the keys used in the dictionary, in insertion order. (If you want it sorted, just use `sorted(d)` instead.)"
   ]
  },
  {
   "cell_type": "code",
   "execution_count": 127,
   "id": "e4d6ffe1",
   "metadata": {},
   "outputs": [],
   "source": [
    "assert list(fruits_dictionary) == ['cherry', 'apple', 'banana', 'pineapple']\n",
    "assert sorted(fruits_dictionary) == ['apple', 'banana', 'cherry', 'pineapple']"
   ]
  },
  {
   "cell_type": "markdown",
   "id": "5b705fb7",
   "metadata": {},
   "source": [
    "It is also possible to delete a key-value pair with `del`."
   ]
  },
  {
   "cell_type": "code",
   "execution_count": 128,
   "id": "78f3a2e1",
   "metadata": {},
   "outputs": [],
   "source": [
    "del fruits_dictionary['pineapple']\n",
    "assert list(fruits_dictionary) == ['cherry', 'apple', 'banana']"
   ]
  },
  {
   "cell_type": "markdown",
   "id": "62327fd9",
   "metadata": {},
   "source": [
    "The `dict()` constructor builds dictionaries directly from sequences of key-value pairs."
   ]
  },
  {
   "cell_type": "code",
   "execution_count": 129,
   "id": "2f3a79c1",
   "metadata": {},
   "outputs": [],
   "source": [
    "dictionary_via_constructor = dict([('sape', 4139), ('guido', 4127), ('jack', 4098)])\n",
    "\n",
    "assert dictionary_via_constructor['sape'] == 4139\n",
    "assert dictionary_via_constructor['guido'] == 4127\n",
    "assert dictionary_via_constructor['jack'] == 4098"
   ]
  },
  {
   "cell_type": "markdown",
   "id": "27b02d9e",
   "metadata": {},
   "source": [
    "In addition, dict comprehensions can be used to create dictionaries from arbitrary key and value expressions:"
   ]
  },
  {
   "cell_type": "code",
   "execution_count": 130,
   "id": "7fc0949d",
   "metadata": {},
   "outputs": [],
   "source": [
    "dictionary_via_expression = {x: x**2 for x in (2, 4, 6)}\n",
    "assert dictionary_via_expression[2] == 4\n",
    "assert dictionary_via_expression[4] == 16\n",
    "assert dictionary_via_expression[6] == 36"
   ]
  },
  {
   "cell_type": "markdown",
   "id": "0a6142ca",
   "metadata": {},
   "source": [
    "When the keys are simple strings, it is sometimes easier to specify pairs using keyword arguments."
   ]
  },
  {
   "cell_type": "code",
   "execution_count": 131,
   "id": "41da264e",
   "metadata": {},
   "outputs": [],
   "source": [
    "dictionary_for_string_keys = dict(sape=4139, guido=4127, jack=4098)\n",
    "assert dictionary_for_string_keys['sape'] == 4139\n",
    "assert dictionary_for_string_keys['guido'] == 4127\n",
    "assert dictionary_for_string_keys['jack'] == 4098"
   ]
  },
  {
   "cell_type": "markdown",
   "id": "fd15e7b4",
   "metadata": {},
   "source": [
    "### Type casting\n",
    "\n",
    "There may be times when you want to specify a type on to a variable. This can be done with **casting**.\n",
    "\n",
    "Python is an object-orientated language, and as such it uses classes to define data types,\n",
    "including its primitive types.\n",
    "\n",
    "Casting in python is therefore done using constructor functions.\n",
    "\n",
    "- `int()` - constructs an integer number from an integer literal, a float literal (by rounding down\n",
    "to the previous whole number) literal, or a string literal (providing the string represents a\n",
    "whole number)\n",
    "\n",
    "- `float()` - constructs a float number from an integer literal, a float literal or a string literal\n",
    "(providing the string represents a float or an integer)\n",
    "\n",
    "- `str()` - constructs a string from a wide variety of data types, including strings, integer\n",
    "literals and float literals\n",
    "\n",
    "```{seealso}\n",
    "- https://www.w3schools.com/python/python_casting.asp\n",
    "```\n",
    "\n",
    "Type casting to integer."
   ]
  },
  {
   "cell_type": "code",
   "execution_count": 132,
   "id": "0ceef251",
   "metadata": {},
   "outputs": [],
   "source": [
    "assert int(1) == 1\n",
    "assert int(2.8) == 2\n",
    "assert int('3') == 3"
   ]
  },
  {
   "cell_type": "markdown",
   "id": "4c85f870",
   "metadata": {},
   "source": [
    "Type casting to float."
   ]
  },
  {
   "cell_type": "code",
   "execution_count": 133,
   "id": "b57edaf8",
   "metadata": {},
   "outputs": [],
   "source": [
    "assert float(1) == 1.0\n",
    "assert float(2.8) == 2.8\n",
    "assert float(\"3\") == 3.0\n",
    "assert float(\"4.2\") == 4.2"
   ]
  },
  {
   "cell_type": "markdown",
   "id": "d0533814",
   "metadata": {},
   "source": [
    "Type casting to string."
   ]
  },
  {
   "cell_type": "code",
   "execution_count": 134,
   "id": "aa031d39",
   "metadata": {},
   "outputs": [],
   "source": [
    "assert str(\"s1\") == 's1'\n",
    "assert str(2) == '2'\n",
    "assert str(3.0) == '3.0'"
   ]
  },
  {
   "cell_type": "markdown",
   "id": "d4d2738e",
   "metadata": {},
   "source": [
    "## Your turn! 🚀\n",
    "\n",
    "## Self study\n",
    "\n",
    "Here is a list of free/open source learning resources for advanced [Python programming](https://github.com/open-academy/open-learning-resources/blob/main/README.md#python).\n",
    "\n",
    "## Acknowledgments\n",
    "\n",
    "Thanks to [Oleksii Trekhleb](https://github.com/trekhleb) who helped create this awesome open source project [learn-python](https://github.com/trekhleb/learn-python) for Python learning. It contributes the majority of the content in this chapter."
   ]
  }
 ],
 "metadata": {
  "jupytext": {
   "cell_metadata_filter": "-all",
   "formats": "md:myst",
   "text_representation": {
    "extension": ".md",
    "format_name": "myst",
    "format_version": 0.13,
    "jupytext_version": "1.11.5"
   }
  },
  "kernelspec": {
   "display_name": "Python 3",
   "language": "python",
   "name": "python3"
  },
  "language_info": {
   "codemirror_mode": {
    "name": "ipython",
    "version": 3
   },
   "file_extension": ".py",
   "mimetype": "text/x-python",
   "name": "python",
   "nbconvert_exporter": "python",
   "pygments_lexer": "ipython3",
   "version": "3.8.13"
  },
  "source_map": [
   14,
   45,
   48,
   58,
   61,
   71,
   75,
   92,
   98,
   110,
   144,
   150,
   176,
   191,
   199,
   205,
   218,
   224,
   234,
   238,
   246,
   252,
   259,
   263,
   288,
   302,
   307,
   310,
   314,
   318,
   324,
   329,
   333,
   335,
   339,
   341,
   345,
   355,
   359,
   362,
   366,
   369,
   373,
   377,
   389,
   393,
   397,
   400,
   404,
   408,
   412,
   415,
   419,
   422,
   426,
   436,
   442,
   446,
   449,
   453,
   459,
   463,
   466,
   470,
   472,
   476,
   479,
   483,
   485,
   489,
   491,
   495,
   497,
   501,
   503,
   507,
   509,
   513,
   515,
   519,
   521,
   525,
   527,
   531,
   533,
   537,
   539,
   542,
   545,
   548,
   551,
   555,
   558,
   562,
   565,
   573,
   578,
   582,
   588,
   596,
   604,
   608,
   610,
   618,
   621,
   625,
   634,
   640,
   642,
   646,
   649,
   653,
   660,
   664,
   672,
   676,
   681,
   685,
   689,
   707,
   711,
   715,
   719,
   724,
   726,
   730,
   732,
   736,
   740,
   744,
   748,
   752,
   758,
   762,
   765,
   769,
   772,
   776,
   783,
   787,
   791,
   795,
   798,
   802,
   808,
   812,
   815,
   819,
   827,
   831,
   834,
   838,
   841,
   845,
   857,
   861,
   873,
   877,
   881,
   885,
   888,
   894,
   914,
   922,
   928,
   932,
   935,
   939,
   942,
   946,
   949,
   953,
   961,
   969,
   971,
   975,
   978,
   982,
   985,
   989,
   992,
   996,
   1000,
   1004,
   1007,
   1011,
   1015,
   1023,
   1029,
   1033,
   1041,
   1045,
   1056,
   1060,
   1075,
   1079,
   1086,
   1103,
   1112,
   1116,
   1120,
   1126,
   1131,
   1135,
   1138,
   1142,
   1145,
   1151,
   1160,
   1164,
   1166,
   1170,
   1175,
   1183,
   1190,
   1207,
   1211,
   1215,
   1219,
   1223,
   1225,
   1229,
   1232,
   1236,
   1238,
   1242,
   1246,
   1250,
   1254,
   1258,
   1264,
   1268,
   1270,
   1274,
   1276,
   1280,
   1282,
   1286,
   1288,
   1292,
   1295,
   1310,
   1318,
   1322,
   1326,
   1330,
   1333,
   1337,
   1339,
   1343,
   1346,
   1350,
   1353,
   1357,
   1360,
   1364,
   1370,
   1374,
   1379,
   1383,
   1388,
   1415,
   1419,
   1423,
   1428,
   1432,
   1436
  ]
 },
 "nbformat": 4,
 "nbformat_minor": 5
}