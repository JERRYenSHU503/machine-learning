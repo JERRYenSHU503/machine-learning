{
 "cells": [
  {
   "cell_type": "code",
   "execution_count": 1,
   "id": "9ebd5af8",
   "metadata": {
    "tags": [
     "hide-input"
    ]
   },
   "outputs": [
    {
     "ename": "SyntaxError",
     "evalue": "invalid syntax (2893487916.py, line 1)",
     "output_type": "error",
     "traceback": [
      "\u001b[0;36m  Cell \u001b[0;32mIn[1], line 1\u001b[0;36m\u001b[0m\n\u001b[0;31m    <details><summary><b>LICNSE</b></summary>\u001b[0m\n\u001b[0m    ^\u001b[0m\n\u001b[0;31mSyntaxError\u001b[0m\u001b[0;31m:\u001b[0m invalid syntax\n"
     ]
    }
   ],
   "source": [
    "<details><summary><b>LICNSE</b></summary>\n",
    "\n",
    "MIT License\n",
    "\n",
    "Copyright (c) 2018 Oleksii Trekhleb\n",
    "\n",
    "Permission is hereby granted, free of charge, to any person obtaining a copy\n",
    "of this software and associated documentation files (the \"Software\"), to deal\n",
    "in the Software without restriction, including without limitation the rights\n",
    "to use, copy, modify, merge, publish, distribute, sublicense, and/or sell\n",
    "copies of the Software, and to permit persons to whom the Software is\n",
    "furnished to do so, subject to the following conditions:\n",
    "\n",
    "The above copyright notice and this permission notice shall be included in all\n",
    "copies or substantial portions of the Software.\n",
    "\n",
    "THE SOFTWARE IS PROVIDED \"AS IS\", WITHOUT WARRANTY OF ANY KIND, EXPRESS OR\n",
    "IMPLIED, INCLUDING BUT NOT LIMITED TO THE WARRANTIES OF MERCHANTABILITY,\n",
    "FITNESS FOR A PARTICULAR PURPOSE AND NONINFRINGEMENT. IN NO EVENT SHALL THE\n",
    "AUTHORS OR COPYRIGHT HOLDERS BE LIABLE FOR ANY CLAIM, DAMAGES OR OTHER\n",
    "LIABILITY, WHETHER IN AN ACTION OF CONTRACT, TORT OR OTHERWISE, ARISING FROM,\n",
    "OUT OF OR IN CONNECTION WITH THE SOFTWARE OR THE USE OR OTHER DEALINGS IN THE\n",
    "SOFTWARE.\n",
    "\n",
    "</details>"
   ]
  },
  {
   "cell_type": "markdown",
   "id": "23ac0c6a",
   "metadata": {},
   "source": [
    "# Python programming basics\n",
    "\n",
    "## Python syntax\n",
    "\n",
    "**Python syntax compared to other programming languages**\n",
    "\n",
    "- Python was designed for readability and has some similarities to the English language with influence from mathematics.\n",
    "- Python uses new lines to complete a command, as opposed to other programming languages which often use semicolons or parentheses.\n",
    "- Python relies on indentation, using whitespace, to define scope; such as the scope of loops, functions and classes. Other programming languages often use curly brackets for this purpose.\n",
    "\n",
    "### Python indentations\n",
    "\n",
    "While in other programming languages the indentation in code is for readability only, in Python the indentation is very important.\n",
    "\n",
    "Python uses indentation to indicate a block of code."
   ]
  },
  {
   "cell_type": "code",
   "execution_count": null,
   "id": "529b76ca",
   "metadata": {},
   "outputs": [],
   "source": [
    "if 5 > 2:\n",
    "    print(\"Five is greater than two!\")"
   ]
  },
  {
   "cell_type": "markdown",
   "id": "eddf2056",
   "metadata": {},
   "source": [
    "Python will give you an error if you skip the indentation.\n",
    "\n",
    "### Comments\n",
    "\n",
    "Python has the commenting capability for the purpose of in-code documentation. Comments start with a `#`, and Python will render the rest of the line as a comment:"
   ]
  },
  {
   "cell_type": "code",
   "execution_count": null,
   "id": "de1e5355",
   "metadata": {},
   "outputs": [],
   "source": [
    "# This is a comment.\n",
    "print(\"Hello, World!\")"
   ]
  },
  {
   "cell_type": "markdown",
   "id": "ec0e8bc8",
   "metadata": {},
   "source": [
    "### Docstrings\n",
    "\n",
    "Python also has extended documentation capability, called docstrings. Docstrings can be one line, or multiline. Docstrings are also comments. Python uses `\"\"\"` at the beginning and end of the docstring:"
   ]
  },
  {
   "cell_type": "code",
   "execution_count": null,
   "id": "c2f0ab88",
   "metadata": {},
   "outputs": [],
   "source": [
    "\"\"\"This is a \n",
    "multiline docstring.\"\"\"\n",
    "print(\"Hello, World!\")"
   ]
  },
  {
   "cell_type": "markdown",
   "id": "6e2478ad",
   "metadata": {},
   "source": [
    "## Variables\n",
    "\n",
    "Python is completely object-oriented, and not \"statically typed\". You do not need to declare variables before using them or declare their type. Every variable in Python is an object. Unlike other programming languages, Python has no command for declaring a variable. A variable is created the moment you first assign a value to it. A variable can have a short name (like x and y) or a more descriptive name (age, carname, total_volume). Rules for Python variables:\n",
    "\n",
    "- A variable name must start with a letter or the underscore character.\n",
    "- A variable name cannot start with a number.\n",
    "- A variable name can only contain alpha-numeric characters and underscores (A-z, 0-9, and _ ).\n",
    "- Variable names are case-sensitive (age, Age and AGE are three different variables).\n",
    "\n",
    "```{seealso}\n",
    "- https://docs.python.org/3/tutorial/introduction.html\n",
    "- https://www.w3schools.com/python/python_variables.asp\n",
    "- https://www.learnpython.org/en/Variables_and_Types\n",
    "```"
   ]
  },
  {
   "cell_type": "code",
   "execution_count": null,
   "id": "d8af10d5",
   "metadata": {},
   "outputs": [],
   "source": [
    "integer_variable = 5\n",
    "string_variable = 'John'\n",
    "\n",
    "assert integer_variable == 5\n",
    "assert string_variable == 'John'"
   ]
  },
  {
   "cell_type": "markdown",
   "id": "39071b35",
   "metadata": {},
   "source": [
    "## Operators\n",
    "\n",
    "Operators are used to performing operations on variables and values. Python divides the operators into the following groups:\n",
    "\n",
    "- Arithmetic operators\n",
    "- Assignment operators\n",
    "- Comparison operators\n",
    "- Logical operators\n",
    "- Identity operators\n",
    "- Membership operators\n",
    "- Bitwise operators\n",
    "\n",
    "```{seealso}\n",
    "- https://www.w3schools.com/python/python_operators.asp\n",
    "```\n",
    "\n",
    "### Arithmetic operators\n",
    "\n",
    "Arithmetic operators are used with numeric values to perform common mathematical operations."
   ]
  },
  {
   "cell_type": "code",
   "execution_count": null,
   "id": "80129d5d",
   "metadata": {},
   "outputs": [],
   "source": [
    "# Addition.\n",
    "assert 5 + 3 == 8\n",
    "\n",
    "# Subtraction.\n",
    "assert 5 - 3 == 2\n",
    "\n",
    "# Multiplication.\n",
    "assert 5 * 3 == 15\n",
    "assert isinstance(5 * 3, int)\n",
    "\n",
    "# Division.\n",
    "# Result of division is float number.\n",
    "assert 5 / 3 == 1.6666666666666667\n",
    "assert 8 / 4 == 2\n",
    "assert isinstance(5 / 3, float)\n",
    "assert isinstance(8 / 4, float)\n",
    "\n",
    "# Modulus.\n",
    "assert 5 % 3 == 2\n",
    "\n",
    "# Exponentiation.\n",
    "assert 5 ** 3 == 125\n",
    "assert 2 ** 3 == 8\n",
    "assert 2 ** 4 == 16\n",
    "assert 2 ** 5 == 32\n",
    "assert isinstance(5 ** 3, int)\n",
    "\n",
    "# Floor division.\n",
    "assert 5 // 3 == 1\n",
    "assert 6 // 3 == 2\n",
    "assert 7 // 3 == 2\n",
    "assert 9 // 3 == 3\n",
    "assert isinstance(5 // 3, int)"
   ]
  },
  {
   "cell_type": "markdown",
   "id": "200f65cc",
   "metadata": {},
   "source": [
    "### Comparison operators\n",
    "\n",
    "Comparison operators are used to compare two values."
   ]
  },
  {
   "cell_type": "code",
   "execution_count": null,
   "id": "ab738a9a",
   "metadata": {},
   "outputs": [],
   "source": [
    "# Equal.\n",
    "number = 5\n",
    "assert number == 5\n",
    "\n",
    "# Not equal.\n",
    "number = 5\n",
    "assert number != 3\n",
    "\n",
    "# Greater than.\n",
    "number = 5\n",
    "assert number > 3\n",
    "\n",
    "# Less than.\n",
    "number = 5\n",
    "assert number < 8\n",
    "\n",
    "# Greater than or equal to\n",
    "number = 5\n",
    "assert number >= 5\n",
    "assert number >= 4\n",
    "\n",
    "# Less than or equal to\n",
    "number = 5\n",
    "assert number <= 5\n",
    "assert number <= 6"
   ]
  },
  {
   "cell_type": "markdown",
   "id": "cb916acb",
   "metadata": {},
   "source": [
    "## Data types\n",
    "\n",
    "In programming, data type is an important concept. Variables can store data of different types, and different types can do different things. Python has the following data types built in by default, in these categories:\n",
    "\n",
    "Name | Type\n",
    "---------|----------\n",
    "Text Type | `str`\n",
    "Numeric Types | `int`, `float`, `complex`\n",
    "Sequence Types | `list`, `tuple`, `range`\n",
    "Mapping Type | `dict`\n",
    "Set Types | `set`, `frozenset`\n",
    "Boolean Type | `bool`\n",
    "Binary Types | `bytes`, `bytearray`, `memoryview`\n",
    "None Type | `NoneType`\n",
    "\n",
    "```{seealso}\n",
    "- https://docs.python.org/3/tutorial/introduction.html\n",
    "- https://www.w3schools.com/python/python_datatypes.asp\n",
    "```\n",
    "\n",
    "### Numbers (including booleans)\n",
    "\n",
    "There are three numeric types in Python:\n",
    "\n",
    "- `int`\n",
    "- `float`\n",
    "- `complex`\n",
    "\n",
    "```{seealso}\n",
    "- https://docs.python.org/3/tutorial/introduction.html\n",
    "- https://www.w3schools.com/python/python_numbers.asp\n",
    "```\n",
    "\n",
    "#### Integers\n",
    "\n",
    "Int, or integer, is a whole number, positive or negative, without decimals, of unlimited length."
   ]
  },
  {
   "cell_type": "code",
   "execution_count": null,
   "id": "b8fce840",
   "metadata": {},
   "outputs": [],
   "source": [
    "positive_integer = 1\n",
    "negative_integer = -3255522\n",
    "big_integer = 35656222554887711\n",
    "\n",
    "assert isinstance(positive_integer, int)\n",
    "assert isinstance(negative_integer, int)\n",
    "assert isinstance(big_integer, int)"
   ]
  },
  {
   "cell_type": "markdown",
   "id": "befb9dde",
   "metadata": {},
   "source": [
    "#### Booleans\n",
    "\n",
    "Booleans represent the truth values `False` and `True`. The two objects representing the values `False` and `True` are the only Boolean objects. The Boolean type is a subtype of the integer type, and Boolean values behave like the values 0 and 1, respectively, in almost all contexts, the exception being that when converted to a string, the strings `False` or `True` are returned, respectively."
   ]
  },
  {
   "cell_type": "code",
   "execution_count": null,
   "id": "8a554001",
   "metadata": {},
   "outputs": [],
   "source": [
    "true_boolean = True\n",
    "false_boolean = False\n",
    "\n",
    "assert true_boolean\n",
    "assert not false_boolean\n",
    "\n",
    "assert isinstance(true_boolean, bool)\n",
    "assert isinstance(false_boolean, bool)\n",
    "\n",
    "# Let's try to cast boolean to string.\n",
    "assert str(true_boolean) == \"True\"\n",
    "assert str(false_boolean) == \"False\""
   ]
  },
  {
   "cell_type": "markdown",
   "id": "61b6fcbd",
   "metadata": {},
   "source": [
    "#### Floats\n",
    "\n",
    "Float, or \"floating point number\" is a number, positive or negative, containing one or more decimals."
   ]
  },
  {
   "cell_type": "code",
   "execution_count": null,
   "id": "d467653e",
   "metadata": {},
   "outputs": [],
   "source": [
    "float_number = 7.0\n",
    "# Another way of declaring float is using float() function.\n",
    "float_number_via_function = float(7) \n",
    "float_negative = -35.59\n",
    "\n",
    "assert float_number == float_number_via_function\n",
    "assert isinstance(float_number, float)\n",
    "assert isinstance(float_number_via_function, float)\n",
    "assert isinstance(float_negative, float)"
   ]
  },
  {
   "cell_type": "markdown",
   "id": "f3f99867",
   "metadata": {},
   "source": [
    "Float can also be scientific numbers with an \"e\" to indicate the power of 10."
   ]
  },
  {
   "cell_type": "code",
   "execution_count": null,
   "id": "658a0d07",
   "metadata": {},
   "outputs": [],
   "source": [
    "float_with_small_e = 35e3\n",
    "float_with_big_e = 12E4\n",
    "\n",
    "assert float_with_small_e == 35000\n",
    "assert float_with_big_e == 120000\n",
    "assert isinstance(12E4, float)\n",
    "assert isinstance(-87.7e100, float)"
   ]
  },
  {
   "cell_type": "markdown",
   "id": "04ff6553",
   "metadata": {},
   "source": [
    "#### Complexes\n",
    "\n",
    "A complex number has two parts, a real part and an imaginary part. Complex numbers are represented as A+Bi or A+Bj, where A is the real part and B is the imaginary part."
   ]
  },
  {
   "cell_type": "code",
   "execution_count": null,
   "id": "02bc41f1",
   "metadata": {},
   "outputs": [],
   "source": [
    "complex_number_1 = 5 + 6j\n",
    "complex_number_2 = 3 - 2j\n",
    "\n",
    "assert isinstance(complex_number_1, complex)\n",
    "assert isinstance(complex_number_2, complex)\n",
    "assert complex_number_1 * complex_number_2 == 27 + 8j"
   ]
  },
  {
   "cell_type": "markdown",
   "id": "598ebeb0",
   "metadata": {},
   "source": [
    "#### Number operation"
   ]
  },
  {
   "cell_type": "code",
   "execution_count": null,
   "id": "1c9c5ac5",
   "metadata": {},
   "outputs": [],
   "source": [
    "# Addition.\n",
    "assert 2 + 4 == 6\n",
    "\n",
    "# Multiplication.\n",
    "assert 2 * 4 == 8\n",
    "\n",
    "# Division always returns a floating point number.\n",
    "assert 12 / 3 == 4.0\n",
    "assert 12 / 5 == 2.4\n",
    "assert 17 / 3 == 5.666666666666667\n",
    "\n",
    "# Modulo operator returns the remainder of the division.\n",
    "assert 12 % 3 == 0\n",
    "assert 13 % 3 == 1\n",
    "\n",
    "# Floor division discards the fractional part.\n",
    "assert 17 // 3 == 5\n",
    "\n",
    "# Raising the number to specific power.\n",
    "assert 5 ** 2 == 25  # 5 squared\n",
    "assert 2 ** 7 == 128  # 2 to the power of 7\n",
    "\n",
    "# There is full support for floating point; operators with mixed type operands convert the integer operand to floating point.\n",
    "assert 4 * 3.75 - 1 == 14.0"
   ]
  },
  {
   "cell_type": "markdown",
   "id": "ee4e1669",
   "metadata": {},
   "source": [
    "### Strings and their methods\n",
    "\n",
    "Besides numbers, Python can also manipulate strings, which can be expressed in several ways. They can be enclosed in single quotes `''` or double quotes `\"\"` with the same result.\n",
    "\n",
    "```{seealso}\n",
    "- https://docs.python.org/3/tutorial/introduction.html\n",
    "- https://www.w3schools.com/python/python_strings.asp\n",
    "- https://www.w3schools.com/python/python_ref_string.asp\n",
    "```"
   ]
  },
  {
   "cell_type": "code",
   "execution_count": null,
   "id": "aa1b190b",
   "metadata": {},
   "outputs": [],
   "source": [
    "# String with double quotes.\n",
    "name_1 = \"John\"\n",
    "\n",
    "# String with single quotes.\n",
    "name_2 = 'John'\n",
    "\n",
    "assert name_1 == name_2\n",
    "assert isinstance(name_1, str)\n",
    "assert isinstance(name_2, str)"
   ]
  },
  {
   "cell_type": "markdown",
   "id": "6ff4c436",
   "metadata": {},
   "source": [
    "#### String type\n",
    "\n",
    "`\\` can be used to escape quotes. Use `\\'` to escape the single quote or use double quotes instead."
   ]
  },
  {
   "cell_type": "code",
   "execution_count": null,
   "id": "1924caaf",
   "metadata": {},
   "outputs": [],
   "source": [
    "single_quote_string = 'doesn\\'t'\n",
    "double_quote_string = \"doesn't\"\n",
    "\n",
    "assert single_quote_string == double_quote_string"
   ]
  },
  {
   "cell_type": "markdown",
   "id": "b35782a3",
   "metadata": {},
   "source": [
    "`\\n` means newline."
   ]
  },
  {
   "cell_type": "code",
   "execution_count": null,
   "id": "248aa4dc",
   "metadata": {},
   "outputs": [],
   "source": [
    "multiline_string = 'First line.\\nSecond line.'"
   ]
  },
  {
   "cell_type": "markdown",
   "id": "74803dd0",
   "metadata": {},
   "source": [
    "Without `print()`, `\\n` is included in the output. But with `print()`, `\\n` produces a new line."
   ]
  },
  {
   "cell_type": "code",
   "execution_count": null,
   "id": "2f42d239",
   "metadata": {},
   "outputs": [],
   "source": [
    "assert multiline_string == 'First line.\\nSecond line.'"
   ]
  },
  {
   "cell_type": "markdown",
   "id": "ecd031fa",
   "metadata": {},
   "source": [
    "Strings can be indexed, with the first character having index 0. There is no separate character type; a character is simply a string of size one. Note that since -0 is the same as 0, negative indices start from -1."
   ]
  },
  {
   "cell_type": "code",
   "execution_count": null,
   "id": "8e2c98ec",
   "metadata": {},
   "outputs": [],
   "source": [
    "import pytest\n",
    "word = 'Python'\n",
    "assert word[0] == 'P'  # First character.\n",
    "assert word[5] == 'n'  # Fifth character.\n",
    "assert word[-1] == 'n'  # Last character.\n",
    "assert word[-2] == 'o'  # Second-last character.\n",
    "assert word[-6] == 'P'  # Sixth from the end or zeroth from the beginning.\n",
    "\n",
    "assert isinstance(word[0], str)"
   ]
  },
  {
   "cell_type": "markdown",
   "id": "48dfde49",
   "metadata": {},
   "source": [
    "In addition to indexing, slicing is also supported. While indexing is used to obtain individual characters, slicing allows you to obtain substring."
   ]
  },
  {
   "cell_type": "code",
   "execution_count": null,
   "id": "539de6c0",
   "metadata": {},
   "outputs": [],
   "source": [
    "assert word[0:2] == 'Py'  # Characters from position 0 (included) to 2 (excluded).\n",
    "assert word[2:5] == 'tho'  # Characters from position 2 (included) to 5 (excluded)."
   ]
  },
  {
   "cell_type": "markdown",
   "id": "12d0891f",
   "metadata": {},
   "source": [
    "Note how the start is always included, and the end is always excluded. This makes sure that `s[:i] + s[i:]` is always equal to `s`:"
   ]
  },
  {
   "cell_type": "code",
   "execution_count": null,
   "id": "405c9afb",
   "metadata": {},
   "outputs": [],
   "source": [
    "assert word[:2] + word[2:] == 'Python'\n",
    "assert word[:4] + word[4:] == 'Python'"
   ]
  },
  {
   "cell_type": "markdown",
   "id": "f373eb68",
   "metadata": {},
   "source": [
    "Slice indices have useful defaults; an omitted first index defaults to zero, and an omitted second index defaults to the size of the string being sliced."
   ]
  },
  {
   "cell_type": "code",
   "execution_count": null,
   "id": "8fe16831",
   "metadata": {},
   "outputs": [],
   "source": [
    "assert word[:2] == 'Py'  # Character from the beginning to position 2 (excluded).\n",
    "assert word[4:] == 'on'  # Characters from position 4 (included) to the end.\n",
    "assert word[-2:] == 'on'  # Characters from the second-last (included) to the end."
   ]
  },
  {
   "cell_type": "markdown",
   "id": "038c8e5b",
   "metadata": {},
   "source": [
    "One way to remember how slices work is to think of the indices as pointing between characters, with the left edge of the first character numbered 0. Then the right edge of the last character of a string of `n` characters has index `n`, for example:\n",
    "\n",
    " \n",
    "|   | P |   | y |   | t |   | h |   | o |   | n |   |\n",
    "|:-:|:-:|:-:|:-:|:-:|:-:|:-:|:-:|:-:|:-:|:-:|:-:|:-:|\n",
    "|  0|   |  1|   |  2|   |  3|   |  4|   |  5|   |  6|\n",
    "| -6|   | -5|   | -4|   | -3|   | -2|   | -1|   \n",
    "\n",
    "Attempting to use an index that is too large will result in an error."
   ]
  },
  {
   "cell_type": "code",
   "execution_count": null,
   "id": "42e85d44",
   "metadata": {},
   "outputs": [],
   "source": [
    "with pytest.raises(Exception):\n",
    "    not_existing_character = word[42]\n",
    "    assert not not_existing_character"
   ]
  },
  {
   "cell_type": "markdown",
   "id": "0ff7bef3",
   "metadata": {},
   "source": [
    "However, out-of-range slice indexes are handled gracefully when used for slicing."
   ]
  },
  {
   "cell_type": "code",
   "execution_count": null,
   "id": "4389314e",
   "metadata": {},
   "outputs": [],
   "source": [
    "assert word[4:42] == 'on'\n",
    "assert word[42:] == ''"
   ]
  },
  {
   "cell_type": "markdown",
   "id": "3ca5408f",
   "metadata": {},
   "source": [
    "Python strings cannot be changed — they are immutable. Therefore, assigning to an indexed position in the string results in an error:"
   ]
  },
  {
   "cell_type": "code",
   "execution_count": null,
   "id": "4619c303",
   "metadata": {},
   "outputs": [],
   "source": [
    "with pytest.raises(Exception):\n",
    "    # pylint: disable=unsupported-assignment-operation\n",
    "    word[0] = 'J'"
   ]
  },
  {
   "cell_type": "markdown",
   "id": "aa06ba4c",
   "metadata": {},
   "source": [
    "If you need a different string, you should create a new one."
   ]
  },
  {
   "cell_type": "code",
   "execution_count": null,
   "id": "3af5ff4c",
   "metadata": {},
   "outputs": [],
   "source": [
    "assert 'J' + word[1:] == 'Jython'\n",
    "assert word[:2] + 'py' == 'Pypy'"
   ]
  },
  {
   "cell_type": "markdown",
   "id": "ee27d4e1",
   "metadata": {},
   "source": [
    "The built-in function `len()` returns the length of a string."
   ]
  },
  {
   "cell_type": "code",
   "execution_count": null,
   "id": "7ba94a31",
   "metadata": {},
   "outputs": [],
   "source": [
    "characters = 'supercalifragilisticexpialidocious'\n",
    "assert len(characters) == 34"
   ]
  },
  {
   "cell_type": "markdown",
   "id": "5bfc3fe2",
   "metadata": {},
   "source": [
    "String literals can span multiple lines. One way is using triple-quotes: `\"\"\"...\"\"\"` or `'''...'''`. The end of lines are automatically included in the string, but it’s possible to prevent this by adding a `\\` at the end of the line. The following example:"
   ]
  },
  {
   "cell_type": "code",
   "execution_count": null,
   "id": "0484d018",
   "metadata": {},
   "outputs": [],
   "source": [
    "multi_line_string = '''\\\n",
    "    First line\n",
    "    Second line\n",
    "'''\n",
    "\n",
    "assert multi_line_string == '''\\\n",
    "    First line\n",
    "    Second line\n",
    "'''"
   ]
  },
  {
   "cell_type": "markdown",
   "id": "9bb21c27",
   "metadata": {},
   "source": [
    "#### String operations\n",
    "\n",
    "Strings can be concatenated (glued together) with the `+` operator, and repeated with `*`."
   ]
  },
  {
   "cell_type": "code",
   "execution_count": null,
   "id": "084e65f6",
   "metadata": {},
   "outputs": [],
   "source": [
    "assert 3 * 'un' + 'ium' == 'unununium'\n",
    "\n",
    "python = 'Py' 'thon'\n",
    "assert python == 'Python'"
   ]
  },
  {
   "cell_type": "markdown",
   "id": "b732d986",
   "metadata": {},
   "source": [
    "This feature is particularly useful when you want to break long strings:"
   ]
  },
  {
   "cell_type": "code",
   "execution_count": null,
   "id": "383f92ad",
   "metadata": {},
   "outputs": [],
   "source": [
    "text = (\n",
    "    'Put several strings within parentheses '\n",
    "    'to have them joined together.'\n",
    ")\n",
    "assert text == 'Put several strings within parentheses to have them joined together.'"
   ]
  },
  {
   "cell_type": "markdown",
   "id": "990716aa",
   "metadata": {},
   "source": [
    "If you want to concatenate variables or a variable and a literal, use `+`:"
   ]
  },
  {
   "cell_type": "code",
   "execution_count": null,
   "id": "995f10e0",
   "metadata": {},
   "outputs": [],
   "source": [
    "prefix = 'Py'\n",
    "assert prefix + 'thon' == 'Python'"
   ]
  },
  {
   "cell_type": "markdown",
   "id": "ab12035e",
   "metadata": {},
   "source": [
    "#### String methods"
   ]
  },
  {
   "cell_type": "code",
   "execution_count": null,
   "id": "a9ee7d97",
   "metadata": {},
   "outputs": [],
   "source": [
    "hello_world_string = \"Hello, World!\""
   ]
  },
  {
   "cell_type": "markdown",
   "id": "acf43f5d",
   "metadata": {},
   "source": [
    "The `strip()` method removes any whitespace from the beginning or the end."
   ]
  },
  {
   "cell_type": "code",
   "execution_count": null,
   "id": "34402591",
   "metadata": {},
   "outputs": [],
   "source": [
    "string_with_whitespaces = \" Hello, World! \"\n",
    "assert string_with_whitespaces.strip() == \"Hello, World!\""
   ]
  },
  {
   "cell_type": "markdown",
   "id": "a97b1ce0",
   "metadata": {},
   "source": [
    "The `len()` method returns the length of a string."
   ]
  },
  {
   "cell_type": "code",
   "execution_count": null,
   "id": "e506a90a",
   "metadata": {},
   "outputs": [],
   "source": [
    "assert len(hello_world_string) == 13"
   ]
  },
  {
   "cell_type": "markdown",
   "id": "c7457e5e",
   "metadata": {},
   "source": [
    "The `lower()` method returns the string in lowercase."
   ]
  },
  {
   "cell_type": "code",
   "execution_count": null,
   "id": "b5e6d8de",
   "metadata": {},
   "outputs": [],
   "source": [
    "assert hello_world_string.lower() == 'hello, world!'"
   ]
  },
  {
   "cell_type": "markdown",
   "id": "a9bbcced",
   "metadata": {},
   "source": [
    "The `upper()` method returns the string in the upper case."
   ]
  },
  {
   "cell_type": "code",
   "execution_count": null,
   "id": "b31aa421",
   "metadata": {},
   "outputs": [],
   "source": [
    "assert hello_world_string.upper() == 'HELLO, WORLD!'"
   ]
  },
  {
   "cell_type": "markdown",
   "id": "c8e68472",
   "metadata": {},
   "source": [
    "The `replace()` method replaces a string with another string."
   ]
  },
  {
   "cell_type": "code",
   "execution_count": null,
   "id": "7db14c60",
   "metadata": {},
   "outputs": [],
   "source": [
    "assert hello_world_string.replace('H', 'J') == 'Jello, World!'"
   ]
  },
  {
   "cell_type": "markdown",
   "id": "991dd4b9",
   "metadata": {},
   "source": [
    "The `split()` method splits the string into substrings if it finds instances of the separator."
   ]
  },
  {
   "cell_type": "code",
   "execution_count": null,
   "id": "2586c9e9",
   "metadata": {},
   "outputs": [],
   "source": [
    "assert hello_world_string.split(',') == ['Hello', ' World!']"
   ]
  },
  {
   "cell_type": "markdown",
   "id": "71c1944c",
   "metadata": {},
   "source": [
    "The `capitalize()` method converts the first character to upper case."
   ]
  },
  {
   "cell_type": "code",
   "execution_count": null,
   "id": "1fe727b3",
   "metadata": {},
   "outputs": [],
   "source": [
    "assert 'low letter at the beginning'.capitalize() == 'Low letter at the beginning'"
   ]
  },
  {
   "cell_type": "markdown",
   "id": "3925ecfd",
   "metadata": {},
   "source": [
    "The `count()` method returns the number of times a specified value occurs in a string."
   ]
  },
  {
   "cell_type": "code",
   "execution_count": null,
   "id": "4a72e449",
   "metadata": {},
   "outputs": [],
   "source": [
    "assert 'low letter at the beginning'.count('t') == 4"
   ]
  },
  {
   "cell_type": "markdown",
   "id": "bbb5110b",
   "metadata": {},
   "source": [
    "The `find()` method searches the string for a specified value and returns the position of where it was found."
   ]
  },
  {
   "cell_type": "code",
   "execution_count": null,
   "id": "b7ea94e0",
   "metadata": {},
   "outputs": [],
   "source": [
    "assert 'Hello, welcome to my world'.find('welcome') == 7"
   ]
  },
  {
   "cell_type": "markdown",
   "id": "04aa5b83",
   "metadata": {},
   "source": [
    "The `title()` method converts the first character of each word to upper case."
   ]
  },
  {
   "cell_type": "code",
   "execution_count": null,
   "id": "423eb70d",
   "metadata": {},
   "outputs": [],
   "source": [
    "assert 'Welcome to my world'.title() == 'Welcome To My World'"
   ]
  },
  {
   "cell_type": "markdown",
   "id": "2d9c69a5",
   "metadata": {},
   "source": [
    "The `replace()` method returns a string where a specified value is replaced with a specified value."
   ]
  },
  {
   "cell_type": "code",
   "execution_count": null,
   "id": "8e65f963",
   "metadata": {},
   "outputs": [],
   "source": [
    "assert 'I like bananas'.replace('bananas', 'apples') == 'I like apples'"
   ]
  },
  {
   "cell_type": "markdown",
   "id": "63564e19",
   "metadata": {},
   "source": [
    "The `join()` method joins the elements of an iterable to the end of the string."
   ]
  },
  {
   "cell_type": "code",
   "execution_count": null,
   "id": "ea7b3901",
   "metadata": {},
   "outputs": [],
   "source": [
    "my_tuple = ('John', 'Peter', 'Vicky')\n",
    "assert '-'.join(my_tuple) == 'John-Peter-Vicky'"
   ]
  },
  {
   "cell_type": "markdown",
   "id": "6efcef7f",
   "metadata": {},
   "source": [
    "The `isupper()` method returns True if all characters in the string are upper case."
   ]
  },
  {
   "cell_type": "code",
   "execution_count": null,
   "id": "c44b9333",
   "metadata": {},
   "outputs": [],
   "source": [
    "assert 'ABC'.isupper()\n",
    "assert not 'AbC'.isupper()"
   ]
  },
  {
   "cell_type": "markdown",
   "id": "b3398c5c",
   "metadata": {},
   "source": [
    "The `isalpha()` method checks if all the characters in the text are letters."
   ]
  },
  {
   "cell_type": "code",
   "execution_count": null,
   "id": "3c3d0d92",
   "metadata": {},
   "outputs": [],
   "source": [
    "assert 'CompanyX'.isalpha()\n",
    "assert not 'Company 23'.isalpha()"
   ]
  },
  {
   "cell_type": "markdown",
   "id": "682b3e67",
   "metadata": {},
   "source": [
    "The `isdecimal()` method returns True if all characters in the string are decimals."
   ]
  },
  {
   "cell_type": "code",
   "execution_count": null,
   "id": "d7c8f645",
   "metadata": {},
   "outputs": [],
   "source": [
    "assert '1234'.isdecimal()\n",
    "assert not 'a21453'.isdecimal()"
   ]
  },
  {
   "cell_type": "markdown",
   "id": "d85ca32e",
   "metadata": {},
   "source": [
    "#### String formatting\n",
    "\n",
    "Often you’ll want more control over the formatting of your output than simply printing space-separated values. There are several ways to format output.\n",
    "\n",
    "##### Formatted string literals\n",
    "\n",
    "Formatted string literals (also called f-strings for short) let you include the value of Python expressions inside a string by prefixing the string with `f` or `F` and writing expressions as `{expression}`.\n",
    "\n",
    "An optional format specifier can follow the expression. This allows greater control over how the value is formatted. The following example rounds pi to three places after the decimal."
   ]
  },
  {
   "cell_type": "code",
   "execution_count": null,
   "id": "d31c23b7",
   "metadata": {},
   "outputs": [],
   "source": [
    "pi_value = 3.14159\n",
    "assert f'The value of pi is {pi_value:.3f}.' == 'The value of pi is 3.142.'"
   ]
  },
  {
   "cell_type": "markdown",
   "id": "153108e2",
   "metadata": {},
   "source": [
    "Passing an integer after the `:` will cause that field to be a minimum number of characters wide. This is useful for making columns line up."
   ]
  },
  {
   "cell_type": "code",
   "execution_count": null,
   "id": "9cf3978d",
   "metadata": {},
   "outputs": [],
   "source": [
    "table_data = {'Sjoerd': 4127, 'Jack': 4098, 'Dcab': 7678}\n",
    "table_string = ''\n",
    "for name, phone in table_data.items():\n",
    "    table_string += f'{name:7}==>{phone:7d}'\n",
    "\n",
    "assert table_string == ('Sjoerd ==>   4127'\n",
    "                        'Jack   ==>   4098'\n",
    "                        'Dcab   ==>   7678')"
   ]
  },
  {
   "cell_type": "markdown",
   "id": "ffccc5a6",
   "metadata": {},
   "source": [
    "##### The string format() method\n",
    "\n",
    "Basic usage of the `str.format()` method looks like this:"
   ]
  },
  {
   "cell_type": "code",
   "execution_count": null,
   "id": "d7e88a68",
   "metadata": {},
   "outputs": [],
   "source": [
    "assert 'We are {} who say \"{}!\"'.format('knights', 'Ni') == 'We are knights who say \"Ni!\"'"
   ]
  },
  {
   "cell_type": "markdown",
   "id": "8924cebc",
   "metadata": {},
   "source": [
    "The brackets and characters within them (called format fields) are replaced with the objects passed into the `str.format()` method. A number in the brackets can be used to refer to the position of the object passed into the `str.format()` method."
   ]
  },
  {
   "cell_type": "code",
   "execution_count": null,
   "id": "48a8945e",
   "metadata": {},
   "outputs": [],
   "source": [
    "assert '{0} and {1}'.format('spam', 'eggs') == 'spam and eggs'\n",
    "assert '{1} and {0}'.format('spam', 'eggs') == 'eggs and spam'"
   ]
  },
  {
   "cell_type": "markdown",
   "id": "4661c90b",
   "metadata": {},
   "source": [
    "If keyword arguments are used in the `str.format()` method, their values are referred to by using the name of the argument."
   ]
  },
  {
   "cell_type": "code",
   "execution_count": null,
   "id": "d07f148f",
   "metadata": {},
   "outputs": [],
   "source": [
    "formatted_string = 'This {food} is {adjective}.'.format(\n",
    "    food='spam',\n",
    "    adjective='absolutely horrible'\n",
    ")\n",
    "\n",
    "assert formatted_string == 'This spam is absolutely horrible.'"
   ]
  },
  {
   "cell_type": "markdown",
   "id": "c6c68f2a",
   "metadata": {},
   "source": [
    "Positional and keyword arguments can be arbitrarily combined."
   ]
  },
  {
   "cell_type": "code",
   "execution_count": null,
   "id": "be0d4b29",
   "metadata": {},
   "outputs": [],
   "source": [
    "formatted_string = 'The story of {0}, {1}, and {other}.'.format(\n",
    "    'Bill',\n",
    "    'Manfred',\n",
    "    other='Georg'\n",
    ")\n",
    "\n",
    "assert formatted_string == 'The story of Bill, Manfred, and Georg.'"
   ]
  },
  {
   "cell_type": "markdown",
   "id": "de8bb0cc",
   "metadata": {},
   "source": [
    "If you have a really long format string that you don’t want to split up, it would be nice if you could reference the variables to be formatted by name instead of by position. This can be done by simply passing the dict and using square brackets `[]` to access the keys."
   ]
  },
  {
   "cell_type": "code",
   "execution_count": null,
   "id": "87dbe7af",
   "metadata": {},
   "outputs": [],
   "source": [
    "table = {'Sjoerd': 4127, 'Jack': 4098, 'Dcab': 8637678}\n",
    "formatted_string = 'Jack: {0[Jack]:d}; Sjoerd: {0[Sjoerd]:d}; Dcab: {0[Dcab]:d}'.format(table)\n",
    "\n",
    "assert formatted_string == 'Jack: 4098; Sjoerd: 4127; Dcab: 8637678'"
   ]
  },
  {
   "cell_type": "markdown",
   "id": "fd531102",
   "metadata": {},
   "source": [
    "This could also be done by passing the table as keyword arguments with the `**` notation."
   ]
  },
  {
   "cell_type": "code",
   "execution_count": null,
   "id": "cca1e9ec",
   "metadata": {},
   "outputs": [],
   "source": [
    "formatted_string = 'Jack: {Jack:d}; Sjoerd: {Sjoerd:d}; Dcab: {Dcab:d}'.format(**table)\n",
    "\n",
    "assert formatted_string == 'Jack: 4098; Sjoerd: 4127; Dcab: 8637678'"
   ]
  },
  {
   "cell_type": "markdown",
   "id": "bb5ef91e",
   "metadata": {},
   "source": [
    "### Lists and their methods (including list comprehensions)\n",
    "\n",
    "Python knows several compound data types, used to group together other values. The most versatile is the list, which can be written as a list of comma-separated values (items) between square brackets. Lists might contain items of different types, but usually, the items all have the same type.\n",
    "\n",
    "```{seealso}\n",
    "- https://www.learnpython.org/en/Lists\n",
    "- https://docs.python.org/3/tutorial/introduction.html\n",
    "- https://docs.python.org/3/tutorial/datastructures.html#more-on-lists\n",
    "```\n",
    "\n",
    "#### List type\n",
    "\n",
    "Lists are very similar to arrays. They can contain any type of variable, and they can contain as many variables as you wish. Lists can also be iterated over in a very simple manner.\n",
    "\n",
    "Here is an example of how to build a list."
   ]
  },
  {
   "cell_type": "code",
   "execution_count": null,
   "id": "b5165aab",
   "metadata": {},
   "outputs": [],
   "source": [
    "squares = [1, 4, 9, 16, 25]\n",
    "\n",
    "assert isinstance(squares, list)"
   ]
  },
  {
   "cell_type": "markdown",
   "id": "d516a245",
   "metadata": {},
   "source": [
    "Like strings (and all other built-in sequence types), lists can be indexed and sliced:"
   ]
  },
  {
   "cell_type": "code",
   "execution_count": null,
   "id": "0a893c47",
   "metadata": {},
   "outputs": [],
   "source": [
    "assert squares[0] == 1  # indexing returns the item\n",
    "assert squares[-1] == 25\n",
    "assert squares[-3:] == [9, 16, 25]  # slicing returns a new list"
   ]
  },
  {
   "cell_type": "markdown",
   "id": "4a757208",
   "metadata": {},
   "source": [
    "All slice operations return a new list containing the requested elements.\n",
    "This means that the following slice returns a new (shallow) copy of the list:"
   ]
  },
  {
   "cell_type": "code",
   "execution_count": null,
   "id": "24685ff0",
   "metadata": {},
   "outputs": [],
   "source": [
    "assert squares[:] == [1, 4, 9, 16, 25]"
   ]
  },
  {
   "cell_type": "markdown",
   "id": "c94b3319",
   "metadata": {},
   "source": [
    "Lists also support operations like concatenation:"
   ]
  },
  {
   "cell_type": "code",
   "execution_count": null,
   "id": "c21820d9",
   "metadata": {},
   "outputs": [],
   "source": [
    "assert squares + [36, 49, 64, 81, 100] == [1, 4, 9, 16, 25, 36, 49, 64, 81, 100]"
   ]
  },
  {
   "cell_type": "markdown",
   "id": "d97c4131",
   "metadata": {},
   "source": [
    "Unlike strings, which are immutable, lists are a mutable type, i.e. it is possible to change their content:"
   ]
  },
  {
   "cell_type": "code",
   "execution_count": null,
   "id": "fea92f2b",
   "metadata": {},
   "outputs": [],
   "source": [
    "cubes = [1, 8, 27, 65, 125]  # something's wrong here, the cube of 4 is 64!\n",
    "cubes[3] = 64  # replace the wrong value\n",
    "assert cubes == [1, 8, 27, 64, 125]"
   ]
  },
  {
   "cell_type": "markdown",
   "id": "9351ef02",
   "metadata": {},
   "source": [
    "You can also add new items at the end of the list, by using the `append()` method."
   ]
  },
  {
   "cell_type": "code",
   "execution_count": null,
   "id": "d70b757b",
   "metadata": {},
   "outputs": [],
   "source": [
    "cubes.append(216)  # add the cube of 6\n",
    "cubes.append(7 ** 3)  # and the cube of 7\n",
    "assert cubes == [1, 8, 27, 64, 125, 216, 343]"
   ]
  },
  {
   "cell_type": "markdown",
   "id": "c57d22ed",
   "metadata": {},
   "source": [
    "Assignment to slices is also possible, and this can even change the size of the list or clear it entirely:"
   ]
  },
  {
   "cell_type": "code",
   "execution_count": null,
   "id": "57211a90",
   "metadata": {},
   "outputs": [],
   "source": [
    "letters = ['a', 'b', 'c', 'd', 'e', 'f', 'g']\n",
    "letters[2:5] = ['C', 'D', 'E']  # replace some values\n",
    "assert letters == ['a', 'b', 'C', 'D', 'E', 'f', 'g']\n",
    "letters[2:5] = []  # now remove them\n",
    "assert letters == ['a', 'b', 'f', 'g']"
   ]
  },
  {
   "cell_type": "markdown",
   "id": "561d8c6b",
   "metadata": {},
   "source": [
    "Clear the list by replacing all the elements with an empty list."
   ]
  },
  {
   "cell_type": "code",
   "execution_count": null,
   "id": "ceaae075",
   "metadata": {},
   "outputs": [],
   "source": [
    "letters[:] = []\n",
    "assert letters == []"
   ]
  },
  {
   "cell_type": "markdown",
   "id": "5cea5ad5",
   "metadata": {},
   "source": [
    "The built-in function `len()` also applies to lists."
   ]
  },
  {
   "cell_type": "code",
   "execution_count": null,
   "id": "157bcd0f",
   "metadata": {},
   "outputs": [],
   "source": [
    "letters = ['a', 'b', 'c', 'd']\n",
    "assert len(letters) == 4"
   ]
  },
  {
   "cell_type": "markdown",
   "id": "49bcbc6e",
   "metadata": {},
   "source": [
    "It is possible to nest lists (create lists containing other lists), for example:"
   ]
  },
  {
   "cell_type": "code",
   "execution_count": null,
   "id": "d635a9fc",
   "metadata": {},
   "outputs": [],
   "source": [
    "list_of_chars = ['a', 'b', 'c']\n",
    "list_of_numbers = [1, 2, 3]\n",
    "mixed_list = [list_of_chars, list_of_numbers]\n",
    "assert mixed_list == [['a', 'b', 'c'], [1, 2, 3]]\n",
    "assert mixed_list[0] == ['a', 'b', 'c']\n",
    "assert mixed_list[0][1] == 'b'"
   ]
  },
  {
   "cell_type": "markdown",
   "id": "88f924ed",
   "metadata": {},
   "source": [
    "#### List methods"
   ]
  },
  {
   "cell_type": "code",
   "execution_count": null,
   "id": "3a81e91b",
   "metadata": {},
   "outputs": [],
   "source": [
    "import pytest\n",
    "\n",
    "fruits = ['orange', 'apple', 'pear', 'banana', 'kiwi', 'apple', 'banana', 'grape']"
   ]
  },
  {
   "cell_type": "markdown",
   "id": "286b6fc9",
   "metadata": {},
   "source": [
    "`list.remove(x)` removes the first item from the list whose value is equal to x. It raises a `ValueError` if there is no such item."
   ]
  },
  {
   "cell_type": "code",
   "execution_count": null,
   "id": "dd464be5",
   "metadata": {},
   "outputs": [],
   "source": [
    "fruits.remove('grape')\n",
    "assert fruits == ['orange', 'apple', 'pear', 'banana', 'kiwi', 'apple', 'banana']\n",
    "\n",
    "with pytest.raises(Exception):\n",
    "    fruits.remove('not existing element')"
   ]
  },
  {
   "cell_type": "markdown",
   "id": "011577e8",
   "metadata": {},
   "source": [
    "`list.insert(i, x)` inserts an item at a given position. The first argument is the index of the element before which to insert, so `a.insert(0, x)` inserts at the front of the list, and `a.insert(len(a), x)` is equivalent to `a.append(x)`."
   ]
  },
  {
   "cell_type": "code",
   "execution_count": null,
   "id": "7a7d6942",
   "metadata": {},
   "outputs": [],
   "source": [
    "fruits.insert(0, 'grape')\n",
    "assert fruits == ['grape', 'orange', 'apple', 'pear', 'banana', 'kiwi', 'apple', 'banana']"
   ]
  },
  {
   "cell_type": "markdown",
   "id": "9a71e3a6",
   "metadata": {},
   "source": [
    "`list.index(x[, start[, end]])` returns a zero-based index in the list of the first item whose value is equal to x. Raises a ValueError if there is no such item. The optional arguments start and end are interpreted as in the slice notation and are used to limit the search to a particular subsequence of the list. The returned index is computed relative to the beginning of the full sequence rather than the start argument."
   ]
  },
  {
   "cell_type": "code",
   "execution_count": null,
   "id": "f9a92061",
   "metadata": {},
   "outputs": [],
   "source": [
    "assert fruits.index('grape') == 0\n",
    "assert fruits.index('orange') == 1\n",
    "assert fruits.index('banana') == 4\n",
    "assert fruits.index('banana', 5) == 7  # Find next banana starting a position 5\n",
    "\n",
    "with pytest.raises(Exception):\n",
    "    fruits.index('not existing element')"
   ]
  },
  {
   "cell_type": "markdown",
   "id": "d7424018",
   "metadata": {},
   "source": [
    "`list.count(x)` returns the number of times x appears in the list."
   ]
  },
  {
   "cell_type": "code",
   "execution_count": null,
   "id": "4fdfe280",
   "metadata": {},
   "outputs": [],
   "source": [
    "assert fruits.count('tangerine') == 0\n",
    "assert fruits.count('banana') == 2"
   ]
  },
  {
   "cell_type": "markdown",
   "id": "845b2450",
   "metadata": {},
   "source": [
    "`list.copy()` returns a shallow copy of the list. Equivalent to `a[:]`."
   ]
  },
  {
   "cell_type": "code",
   "execution_count": null,
   "id": "f3231007",
   "metadata": {},
   "outputs": [],
   "source": [
    "fruits_copy = fruits.copy()\n",
    "assert fruits_copy == ['grape', 'orange', 'apple', 'pear', 'banana', 'kiwi', 'apple', 'banana']"
   ]
  },
  {
   "cell_type": "markdown",
   "id": "34b35877",
   "metadata": {},
   "source": [
    "`list.reverse()` reverses the elements of the list in place."
   ]
  },
  {
   "cell_type": "code",
   "execution_count": null,
   "id": "e135c24a",
   "metadata": {},
   "outputs": [],
   "source": [
    "fruits_copy.reverse()\n",
    "assert fruits_copy == [\n",
    "    'banana',\n",
    "    'apple',\n",
    "    'kiwi',\n",
    "    'banana',\n",
    "    'pear',\n",
    "    'apple',\n",
    "    'orange',\n",
    "    'grape',\n",
    "]"
   ]
  },
  {
   "cell_type": "markdown",
   "id": "53014a5b",
   "metadata": {},
   "source": [
    "`list.sort(key=None, reverse=False)` sorts the items of the list in place. (The arguments can be used for sort customization, see `sorted()` for their explanation.)"
   ]
  },
  {
   "cell_type": "code",
   "execution_count": null,
   "id": "ddf3e41f",
   "metadata": {},
   "outputs": [],
   "source": [
    "fruits_copy.sort()\n",
    "assert fruits_copy == [\n",
    "    'apple',\n",
    "    'apple',\n",
    "    'banana',\n",
    "    'banana',\n",
    "    'grape',\n",
    "    'kiwi',\n",
    "    'orange',\n",
    "    'pear',\n",
    "]"
   ]
  },
  {
   "cell_type": "markdown",
   "id": "8109647f",
   "metadata": {},
   "source": [
    "`list.pop([i])` removes the item at the given position in the list and returns it. If no index is specified, `a.pop()` removes and returns the last item in the list. (The square brackets around the `i` in the method signature denote that the parameter is optional, not that you should type square brackets at that position.)"
   ]
  },
  {
   "cell_type": "code",
   "execution_count": null,
   "id": "0319e553",
   "metadata": {},
   "outputs": [],
   "source": [
    "assert fruits == ['grape', 'orange', 'apple', 'pear', 'banana', 'kiwi', 'apple', 'banana']\n",
    "assert fruits.pop() == 'banana'\n",
    "assert fruits == ['grape', 'orange', 'apple', 'pear', 'banana', 'kiwi', 'apple']"
   ]
  },
  {
   "cell_type": "markdown",
   "id": "1804299f",
   "metadata": {},
   "source": [
    "`list.clear()` removes all items from the list. Equivalent to `del a[:]`."
   ]
  },
  {
   "cell_type": "code",
   "execution_count": null,
   "id": "80fc9e70",
   "metadata": {},
   "outputs": [],
   "source": [
    "fruits.clear()\n",
    "assert fruits == []"
   ]
  },
  {
   "cell_type": "markdown",
   "id": "006ac8b5",
   "metadata": {},
   "source": [
    "#### The del statement\n",
    "\n",
    "There is a way to remove an item from a list given its index instead of its value: the `del` statement. This differs from the `pop()` method which returns a value. The `del` statement can also be used to remove slices from a list or clear the entire list (which we did earlier by assignment of an empty list to the slice)."
   ]
  },
  {
   "cell_type": "code",
   "execution_count": null,
   "id": "6050460d",
   "metadata": {},
   "outputs": [],
   "source": [
    "import pytest\n",
    "\n",
    "numbers = [-1, 1, 66.25, 333, 333, 1234.5]\n",
    "\n",
    "del numbers[0]\n",
    "assert numbers == [1, 66.25, 333, 333, 1234.5]\n",
    "\n",
    "del numbers[2:4]\n",
    "assert numbers == [1, 66.25, 1234.5]\n",
    "\n",
    "del numbers[:]\n",
    "assert numbers == []\n",
    "\n",
    "# del can also be used to delete entire variables:\n",
    "del numbers\n",
    "with pytest.raises(Exception):\n",
    "    # Referencing the name a hereafter is an error (at least until another\n",
    "    # value is assigned to it).\n",
    "    assert numbers == []  # noqa: F821"
   ]
  },
  {
   "cell_type": "markdown",
   "id": "270227ae",
   "metadata": {},
   "source": [
    "#### List comprehensions\n",
    "\n",
    "List comprehensions provide a concise way to create lists. Common applications are to make new lists where each element is the result of some operations applied to each member of another sequence or iterable or to create a subsequence of those elements that satisfy a certain condition. A list comprehension consists of brackets containing an expression followed by a for clause, then zero or more `for` or `if` clauses. The result will be a new list resulting from evaluating the expression in the context of the `for` and `if` clauses that follow it.\n",
    "\n",
    "For example, assume we want to create a list of squares, like:"
   ]
  },
  {
   "cell_type": "code",
   "execution_count": null,
   "id": "bb4f6d84",
   "metadata": {},
   "outputs": [],
   "source": [
    "squares = []\n",
    "for number in range(10):\n",
    "    squares.append(number ** 2)\n",
    "\n",
    "assert squares == [0, 1, 4, 9, 16, 25, 36, 49, 64, 81]"
   ]
  },
  {
   "cell_type": "markdown",
   "id": "101f585b",
   "metadata": {},
   "source": [
    "Note that this creates (or overwrites) a variable named \"number\" that still exists after the loop completes. We can calculate the list of squares without any side effects using:"
   ]
  },
  {
   "cell_type": "code",
   "execution_count": null,
   "id": "fc1cbdb4",
   "metadata": {},
   "outputs": [],
   "source": [
    "squares = list(map(lambda x: x ** 2, range(10)))\n",
    "assert squares == [0, 1, 4, 9, 16, 25, 36, 49, 64, 81]"
   ]
  },
  {
   "cell_type": "markdown",
   "id": "8c3afaea",
   "metadata": {},
   "source": [
    "Or, equivalently (which is more concise and readable):"
   ]
  },
  {
   "cell_type": "code",
   "execution_count": null,
   "id": "32c72fed",
   "metadata": {},
   "outputs": [],
   "source": [
    "squares = [x ** 2 for x in range(10)]\n",
    "assert squares == [0, 1, 4, 9, 16, 25, 36, 49, 64, 81]"
   ]
  },
  {
   "cell_type": "markdown",
   "id": "37eb5456",
   "metadata": {},
   "source": [
    "For example, this list comprehension combines the elements of two lists if they are not equal:"
   ]
  },
  {
   "cell_type": "code",
   "execution_count": null,
   "id": "c151f77d",
   "metadata": {},
   "outputs": [],
   "source": [
    "combinations = [(x, y) for x in [1, 2, 3] for y in [3, 1, 4] if x != y]\n",
    "assert combinations == [(1, 3), (1, 4), (2, 3), (2, 1), (2, 4), (3, 1), (3, 4)]"
   ]
  },
  {
   "cell_type": "markdown",
   "id": "3578f0e8",
   "metadata": {},
   "source": [
    "And it’s equivalent to:"
   ]
  },
  {
   "cell_type": "code",
   "execution_count": null,
   "id": "bf7455d4",
   "metadata": {},
   "outputs": [],
   "source": [
    "combinations = []\n",
    "for first_number in [1, 2, 3]:\n",
    "    for second_number in [3, 1, 4]:\n",
    "        if first_number != second_number:\n",
    "            combinations.append((first_number, second_number))\n",
    "\n",
    "assert combinations == [(1, 3), (1, 4), (2, 3), (2, 1), (2, 4), (3, 1), (3, 4)]"
   ]
  },
  {
   "cell_type": "markdown",
   "id": "a3060658",
   "metadata": {},
   "source": [
    "Note how the order of the `for` and `if` statements is the same in both these snippets.\n",
    "\n",
    "If the expression is a tuple (e.g. the (x, y) in the previous example), it must be parenthesized. Let's see some more examples:"
   ]
  },
  {
   "cell_type": "code",
   "execution_count": null,
   "id": "528ede4a",
   "metadata": {},
   "outputs": [],
   "source": [
    "vector = [-4, -2, 0, 2, 4]"
   ]
  },
  {
   "cell_type": "markdown",
   "id": "b26a8093",
   "metadata": {},
   "source": [
    "Create a new list with the values doubled."
   ]
  },
  {
   "cell_type": "code",
   "execution_count": null,
   "id": "5dcbdc62",
   "metadata": {},
   "outputs": [],
   "source": [
    "doubled_vector = [x * 2 for x in vector]\n",
    "assert doubled_vector == [-8, -4, 0, 4, 8]"
   ]
  },
  {
   "cell_type": "markdown",
   "id": "10d24bf2",
   "metadata": {},
   "source": [
    "Filter the list to exclude negative numbers."
   ]
  },
  {
   "cell_type": "code",
   "execution_count": null,
   "id": "ec5a4ec6",
   "metadata": {},
   "outputs": [],
   "source": [
    "positive_vector = [x for x in vector if x >= 0]\n",
    "assert positive_vector == [0, 2, 4]"
   ]
  },
  {
   "cell_type": "markdown",
   "id": "4c3265da",
   "metadata": {},
   "source": [
    "Apply a function to all the elements."
   ]
  },
  {
   "cell_type": "code",
   "execution_count": null,
   "id": "175b760c",
   "metadata": {},
   "outputs": [],
   "source": [
    "abs_vector = [abs(x) for x in vector]\n",
    "assert abs_vector == [4, 2, 0, 2, 4]"
   ]
  },
  {
   "cell_type": "markdown",
   "id": "53902d29",
   "metadata": {},
   "source": [
    "Call a method on each element."
   ]
  },
  {
   "cell_type": "code",
   "execution_count": null,
   "id": "bc781a37",
   "metadata": {},
   "outputs": [],
   "source": [
    "fresh_fruit = ['  banana', '  loganberry ', 'passion fruit  ']\n",
    "clean_fresh_fruit = [weapon.strip() for weapon in fresh_fruit]\n",
    "assert clean_fresh_fruit == ['banana', 'loganberry', 'passion fruit']"
   ]
  },
  {
   "cell_type": "markdown",
   "id": "48cafcfd",
   "metadata": {},
   "source": [
    "Create a list of 2-tuples like (number, square)."
   ]
  },
  {
   "cell_type": "code",
   "execution_count": null,
   "id": "8194c13b",
   "metadata": {},
   "outputs": [],
   "source": [
    "square_tuples = [(x, x ** 2) for x in range(6)]\n",
    "assert square_tuples == [(0, 0), (1, 1), (2, 4), (3, 9), (4, 16), (5, 25)]"
   ]
  },
  {
   "cell_type": "markdown",
   "id": "1d170d65",
   "metadata": {},
   "source": [
    "Flatten a list using a list comprehension with two `for`."
   ]
  },
  {
   "cell_type": "code",
   "execution_count": null,
   "id": "eb51a07d",
   "metadata": {},
   "outputs": [],
   "source": [
    "vector = [[1, 2, 3], [4, 5, 6], [7, 8, 9]]\n",
    "flatten_vector = [num for elem in vector for num in elem]\n",
    "assert flatten_vector == [1, 2, 3, 4, 5, 6, 7, 8, 9]"
   ]
  },
  {
   "cell_type": "markdown",
   "id": "6ea6fb05",
   "metadata": {},
   "source": [
    "#### Nested list comprehensions\n",
    "\n",
    "The initial expression in a list comprehension can be any arbitrary expression, including another list comprehension.\n",
    "\n",
    "Consider the following example of a 3x4 matrix implemented as a list of 3 lists of length 4:"
   ]
  },
  {
   "cell_type": "code",
   "execution_count": null,
   "id": "0ce0cef9",
   "metadata": {},
   "outputs": [],
   "source": [
    "matrix = [\n",
    "    [1, 2, 3, 4],\n",
    "    [5, 6, 7, 8],\n",
    "    [9, 10, 11, 12],\n",
    "]"
   ]
  },
  {
   "cell_type": "markdown",
   "id": "df7deb9c",
   "metadata": {},
   "source": [
    "The following list comprehension will transpose rows and columns:"
   ]
  },
  {
   "cell_type": "code",
   "execution_count": null,
   "id": "074cffda",
   "metadata": {},
   "outputs": [],
   "source": [
    "transposed_matrix = [[row[i] for row in matrix] for i in range(4)]\n",
    "assert transposed_matrix == [\n",
    "    [1, 5, 9],\n",
    "    [2, 6, 10],\n",
    "    [3, 7, 11],\n",
    "    [4, 8, 12],\n",
    "]"
   ]
  },
  {
   "cell_type": "markdown",
   "id": "5cfa5e73",
   "metadata": {},
   "source": [
    "As we saw in the previous section, the nested list comprehension is evaluated in the context of the for that follows it, so this example is equivalent to:"
   ]
  },
  {
   "cell_type": "code",
   "execution_count": null,
   "id": "d2af04f6",
   "metadata": {},
   "outputs": [],
   "source": [
    "transposed = []\n",
    "for i in range(4):\n",
    "    transposed.append([row[i] for row in matrix])\n",
    "\n",
    "assert transposed == [\n",
    "    [1, 5, 9],\n",
    "    [2, 6, 10],\n",
    "    [3, 7, 11],\n",
    "    [4, 8, 12],\n",
    "]"
   ]
  },
  {
   "cell_type": "markdown",
   "id": "40c79716",
   "metadata": {},
   "source": [
    "Which, in turn, is the same as:"
   ]
  },
  {
   "cell_type": "code",
   "execution_count": null,
   "id": "9f52c750",
   "metadata": {},
   "outputs": [],
   "source": [
    "transposed = []\n",
    "for i in range(4):\n",
    "    # the following 3 lines implement the nested listcomp\n",
    "    transposed_row = []\n",
    "    for row in matrix:\n",
    "        transposed_row.append(row[i])\n",
    "    transposed.append(transposed_row)\n",
    "\n",
    "assert transposed == [\n",
    "    [1, 5, 9],\n",
    "    [2, 6, 10],\n",
    "    [3, 7, 11],\n",
    "    [4, 8, 12],\n",
    "]"
   ]
  },
  {
   "cell_type": "markdown",
   "id": "e13a8e68",
   "metadata": {},
   "source": [
    "In the real world, you should prefer built-in functions to complex flow statements. The `zip()` function would do a great job for this use case."
   ]
  },
  {
   "cell_type": "code",
   "execution_count": null,
   "id": "0a2db211",
   "metadata": {},
   "outputs": [],
   "source": [
    "assert list(zip(*matrix)) == [\n",
    "    (1, 5, 9),\n",
    "    (2, 6, 10),\n",
    "    (3, 7, 11),\n",
    "    (4, 8, 12),\n",
    "]"
   ]
  },
  {
   "cell_type": "markdown",
   "id": "3bdaf44b",
   "metadata": {},
   "source": [
    "### Tuples\n",
    "\n",
    "A tuple is a collection that is ordered and unchangeable. In Python, tuples are written with\n",
    "round brackets.\n",
    "\n",
    "The Tuples have the following properties:\n",
    "\n",
    "- You cannot change values in a tuple.\n",
    "- You cannot remove items in a tuple.\n",
    "\n",
    "```{seealso}\n",
    "- https://www.w3schools.com/python/python_tuples.asp\n",
    "- https://docs.python.org/3/tutorial/datastructures.html#tuples-and-sequences\n",
    "```"
   ]
  },
  {
   "cell_type": "code",
   "execution_count": null,
   "id": "3a4bf1eb",
   "metadata": {},
   "outputs": [],
   "source": [
    "import pytest\n",
    "\n",
    "fruits_tuple = (\"apple\", \"banana\", \"cherry\")\n",
    "\n",
    "assert isinstance(fruits_tuple, tuple)\n",
    "assert fruits_tuple[0] == \"apple\"\n",
    "assert fruits_tuple[1] == \"banana\"\n",
    "assert fruits_tuple[2] == \"cherry\""
   ]
  },
  {
   "cell_type": "markdown",
   "id": "c7f1c29e",
   "metadata": {},
   "source": [
    "You cannot change values in a tuple."
   ]
  },
  {
   "cell_type": "code",
   "execution_count": null,
   "id": "5e612814",
   "metadata": {},
   "outputs": [],
   "source": [
    "with pytest.raises(Exception):\n",
    "    # pylint: disable=unsupported-assignment-operation\n",
    "    fruits_tuple[0] = \"pineapple\""
   ]
  },
  {
   "cell_type": "markdown",
   "id": "65f8161d",
   "metadata": {},
   "source": [
    "It is also possible to use the `tuple()` constructor to make a tuple (note the double round-brackets).\n",
    "\n",
    "The `len()` function returns the length of the tuple."
   ]
  },
  {
   "cell_type": "code",
   "execution_count": null,
   "id": "055aaf33",
   "metadata": {},
   "outputs": [],
   "source": [
    "fruits_tuple_via_constructor = tuple((\"apple\", \"banana\", \"cherry\"))\n",
    "\n",
    "assert isinstance(fruits_tuple_via_constructor, tuple)\n",
    "assert len(fruits_tuple_via_constructor) == 3"
   ]
  },
  {
   "cell_type": "markdown",
   "id": "d477fb59",
   "metadata": {},
   "source": [
    "It is also possible to omit brackets when initializing tuples."
   ]
  },
  {
   "cell_type": "code",
   "execution_count": null,
   "id": "495fefd2",
   "metadata": {},
   "outputs": [],
   "source": [
    "another_tuple = 12345, 54321, 'hello!'\n",
    "assert another_tuple == (12345, 54321, 'hello!')"
   ]
  },
  {
   "cell_type": "markdown",
   "id": "151a9387",
   "metadata": {},
   "source": [
    "Tuples may be nested:"
   ]
  },
  {
   "cell_type": "code",
   "execution_count": null,
   "id": "e3f04a27",
   "metadata": {},
   "outputs": [],
   "source": [
    "nested_tuple = another_tuple, (1, 2, 3, 4, 5)\n",
    "assert nested_tuple == ((12345, 54321, 'hello!'), (1, 2, 3, 4, 5))"
   ]
  },
  {
   "cell_type": "markdown",
   "id": "d6c849c5",
   "metadata": {},
   "source": [
    "As you see, on output tuples are always enclosed in parentheses, so that nested tuples are interpreted correctly; they may be input with or without surrounding parentheses, although often parentheses are necessary anyway (if the tuple is part of a larger expression). It is not possible to assign to the individual items of a tuple, however, it is possible to create tuples that contain mutable objects, such as lists.\n",
    "\n",
    "A special problem is the construction of tuples containing 0 or 1 item: the syntax has some extra quirks to accommodate these. Empty tuples are constructed by an empty pair of parentheses; a tuple with one item is constructed by following a value with a comma (it is not sufficient to enclose a single value in parentheses). Ugly, but effective. For example:"
   ]
  },
  {
   "cell_type": "code",
   "execution_count": null,
   "id": "727aea94",
   "metadata": {},
   "outputs": [],
   "source": [
    "empty_tuple = ()\n",
    "# pylint: disable=len-as-condition\n",
    "assert len(empty_tuple) == 0\n",
    "\n",
    "# pylint: disable=trailing-comma-tuple\n",
    "singleton_tuple = 'hello',  # <-- note trailing comma\n",
    "assert len(singleton_tuple) == 1\n",
    "assert singleton_tuple == ('hello',)"
   ]
  },
  {
   "cell_type": "markdown",
   "id": "f25f1321",
   "metadata": {},
   "source": [
    "The following example is called **tuple packing**:"
   ]
  },
  {
   "cell_type": "code",
   "execution_count": null,
   "id": "9bc2f5c4",
   "metadata": {},
   "outputs": [],
   "source": [
    "packed_tuple = 12345, 54321, 'hello!'"
   ]
  },
  {
   "cell_type": "markdown",
   "id": "d67a26fe",
   "metadata": {},
   "source": [
    "The reverse operation is also possible."
   ]
  },
  {
   "cell_type": "code",
   "execution_count": null,
   "id": "6fb0a78a",
   "metadata": {},
   "outputs": [],
   "source": [
    "first_tuple_number, second_tuple_number, third_tuple_string = packed_tuple\n",
    "assert first_tuple_number == 12345\n",
    "assert second_tuple_number == 54321\n",
    "assert third_tuple_string == 'hello!'"
   ]
  },
  {
   "cell_type": "markdown",
   "id": "0f62ba6a",
   "metadata": {},
   "source": [
    "This is called, appropriately enough, **sequence unpacking** and works for any sequence on the right-hand side. Sequence unpacking requires that there are as many variables on the left side of the equals sign as there are elements in the sequence. \n",
    "\n",
    "Note that multiple assignments are really just a combination of tuple packing and sequence unpacking.\n",
    "\n",
    "Data can be swapped from one variable to another in Python using tuples. This eliminates the need to use a 'temp' variable."
   ]
  },
  {
   "cell_type": "code",
   "execution_count": null,
   "id": "295298c1",
   "metadata": {},
   "outputs": [],
   "source": [
    "first_number = 123\n",
    "second_number = 456\n",
    "first_number, second_number = second_number, first_number\n",
    "\n",
    "assert first_number == 456\n",
    "assert second_number == 123"
   ]
  },
  {
   "cell_type": "markdown",
   "id": "9fcaeead",
   "metadata": {},
   "source": [
    "### Sets and their methods\n",
    "\n",
    "A set is a collection that is unordered and unindexed.\n",
    "\n",
    "In Python, sets are written with `{}`.\n",
    "\n",
    "Set objects also support mathematical operations like union, intersection, difference, and symmetric difference.\n",
    "\n",
    "```{seealso}\n",
    "- https://www.w3schools.com/python/python_sets.asp\n",
    "- https://docs.python.org/3.7/tutorial/datastructures.html#sets\n",
    "```\n",
    "\n",
    "#### Set type"
   ]
  },
  {
   "cell_type": "code",
   "execution_count": null,
   "id": "ac161800",
   "metadata": {},
   "outputs": [],
   "source": [
    "fruits_set = {\"apple\", \"banana\", \"cherry\"}\n",
    "\n",
    "assert isinstance(fruits_set, set)"
   ]
  },
  {
   "cell_type": "markdown",
   "id": "e99e89b5",
   "metadata": {},
   "source": [
    "It is also possible to use the `set()` constructor to make a set. Note the `(())`."
   ]
  },
  {
   "cell_type": "code",
   "execution_count": null,
   "id": "02ff6651",
   "metadata": {},
   "outputs": [],
   "source": [
    "fruits_set_via_constructor = set((\"apple\", \"banana\", \"cherry\"))\n",
    "\n",
    "assert isinstance(fruits_set_via_constructor, set)"
   ]
  },
  {
   "cell_type": "markdown",
   "id": "8d0fd21d",
   "metadata": {},
   "source": [
    "#### Set methods"
   ]
  },
  {
   "cell_type": "code",
   "execution_count": null,
   "id": "84dfe9b3",
   "metadata": {},
   "outputs": [],
   "source": [
    "fruits_set = {\"apple\", \"banana\", \"cherry\"}"
   ]
  },
  {
   "cell_type": "markdown",
   "id": "b1cff773",
   "metadata": {},
   "source": [
    "You may check if the item is in set by using statement `in`."
   ]
  },
  {
   "cell_type": "code",
   "execution_count": null,
   "id": "3cb715d0",
   "metadata": {},
   "outputs": [],
   "source": [
    "assert \"apple\" in fruits_set\n",
    "assert \"pineapple\" not in fruits_set"
   ]
  },
  {
   "cell_type": "markdown",
   "id": "5ce9ef83",
   "metadata": {},
   "source": [
    "Use the `len()` method to return the number of items."
   ]
  },
  {
   "cell_type": "code",
   "execution_count": null,
   "id": "2454cf9e",
   "metadata": {},
   "outputs": [],
   "source": [
    "assert len(fruits_set) == 3"
   ]
  },
  {
   "cell_type": "markdown",
   "id": "58341eaa",
   "metadata": {},
   "source": [
    "You can use the `add()` object method to add an item."
   ]
  },
  {
   "cell_type": "code",
   "execution_count": null,
   "id": "3e2a546d",
   "metadata": {},
   "outputs": [],
   "source": [
    "fruits_set.add(\"pineapple\")\n",
    "assert \"pineapple\" in fruits_set\n",
    "assert len(fruits_set) == 4"
   ]
  },
  {
   "cell_type": "markdown",
   "id": "dde75059",
   "metadata": {},
   "source": [
    "Use `remove()` object method to remove an item."
   ]
  },
  {
   "cell_type": "code",
   "execution_count": null,
   "id": "cd67a81e",
   "metadata": {},
   "outputs": [],
   "source": [
    "fruits_set.remove(\"pineapple\")\n",
    "assert \"pineapple\" not in fruits_set\n",
    "assert len(fruits_set) == 3"
   ]
  },
  {
   "cell_type": "markdown",
   "id": "b0d71370",
   "metadata": {},
   "source": [
    "Demonstrate set operations on unique letters from two words:"
   ]
  },
  {
   "cell_type": "code",
   "execution_count": null,
   "id": "2847d8b6",
   "metadata": {},
   "outputs": [],
   "source": [
    "first_char_set = set('abracadabra')\n",
    "second_char_set = set('alacazam')\n",
    "\n",
    "assert first_char_set == {'a', 'r', 'b', 'c', 'd'}  # unique letters in first word\n",
    "assert second_char_set == {'a', 'l', 'c', 'z', 'm'}  # unique letters in second word"
   ]
  },
  {
   "cell_type": "markdown",
   "id": "f824aa15",
   "metadata": {},
   "source": [
    "Letters in the first word but not in second."
   ]
  },
  {
   "cell_type": "code",
   "execution_count": null,
   "id": "16b350f3",
   "metadata": {},
   "outputs": [],
   "source": [
    "assert first_char_set - second_char_set == {'r', 'b', 'd'}"
   ]
  },
  {
   "cell_type": "markdown",
   "id": "81c0ec69",
   "metadata": {},
   "source": [
    "Letters in the first word or second word or both."
   ]
  },
  {
   "cell_type": "code",
   "execution_count": null,
   "id": "daa25b5f",
   "metadata": {},
   "outputs": [],
   "source": [
    "assert first_char_set | second_char_set == {'a', 'c', 'r', 'd', 'b', 'm', 'z', 'l'}"
   ]
  },
  {
   "cell_type": "markdown",
   "id": "5595449a",
   "metadata": {},
   "source": [
    "Common letters in both words."
   ]
  },
  {
   "cell_type": "code",
   "execution_count": null,
   "id": "fdde4a61",
   "metadata": {},
   "outputs": [],
   "source": [
    "assert first_char_set & second_char_set == {'a', 'c'}"
   ]
  },
  {
   "cell_type": "markdown",
   "id": "984a852b",
   "metadata": {},
   "source": [
    "Letters in first or second word but not both."
   ]
  },
  {
   "cell_type": "code",
   "execution_count": null,
   "id": "e1ac2caf",
   "metadata": {},
   "outputs": [],
   "source": [
    "assert first_char_set ^ second_char_set == {'r', 'd', 'b', 'm', 'z', 'l'}"
   ]
  },
  {
   "cell_type": "markdown",
   "id": "42e56a09",
   "metadata": {},
   "source": [
    "Similarly to list comprehensions, set comprehensions are also supported:"
   ]
  },
  {
   "cell_type": "code",
   "execution_count": null,
   "id": "ff8e4b87",
   "metadata": {},
   "outputs": [],
   "source": [
    "word = {char for char in 'abracadabra' if char not in 'abc'}\n",
    "assert word == {'r', 'd'}"
   ]
  },
  {
   "cell_type": "markdown",
   "id": "44fdb978",
   "metadata": {},
   "source": [
    "### Dictionaries\n",
    "\n",
    "A dictionary is a collection that is unordered, changeable and indexed. In Python, dictionaries are written with curly brackets, and they have keys and values.\n",
    "\n",
    "Dictionaries are sometimes found in other languages as “associative memories” or “associative arrays”. Unlike sequences, which are indexed by a range of numbers, dictionaries are indexed by keys, which can be any immutable type; strings and numbers can always be keys. Tuples can be used as keys if they contain only strings, numbers, or tuples; if a tuple contains any mutable object either directly or indirectly, it cannot be used as a key. You can’t use lists as keys, since lists can be modified in place using index assignments, slice assignments, or methods like `append()` and `extend()`.\n",
    "\n",
    "It is best to think of a dictionary as a set of key: value pairs, with the requirement that the keys are unique (within one dictionary). A pair of braces creates an empty dictionary: `{}`. Placing a comma-separated list of key-value pairs within the braces adds initial key-value pairs to the dictionary; this is also the way dictionaries are written on output.\n",
    "\n",
    "```{seealso}\n",
    "- https://docs.python.org/3/tutorial/datastructures.html#dictionaries\n",
    "- https://www.w3schools.com/python/python_dictionaries.asp\n",
    "```"
   ]
  },
  {
   "cell_type": "code",
   "execution_count": null,
   "id": "a495ad2a",
   "metadata": {},
   "outputs": [],
   "source": [
    "fruits_dictionary = {\n",
    "    'cherry': 'red',\n",
    "    'apple': 'green',\n",
    "    'banana': 'yellow',\n",
    "}\n",
    "\n",
    "assert isinstance(fruits_dictionary, dict)"
   ]
  },
  {
   "cell_type": "markdown",
   "id": "5e68681d",
   "metadata": {},
   "source": [
    "You may access set elements by keys."
   ]
  },
  {
   "cell_type": "code",
   "execution_count": null,
   "id": "4c4eca6a",
   "metadata": {},
   "outputs": [],
   "source": [
    "assert fruits_dictionary['apple'] == 'green'\n",
    "assert fruits_dictionary['banana'] == 'yellow'\n",
    "assert fruits_dictionary['cherry'] == 'red'"
   ]
  },
  {
   "cell_type": "markdown",
   "id": "d0447aec",
   "metadata": {},
   "source": [
    "To check whether a single key is in the dictionary, use the keyword `in`."
   ]
  },
  {
   "cell_type": "code",
   "execution_count": null,
   "id": "fe3fff4f",
   "metadata": {},
   "outputs": [],
   "source": [
    "assert 'apple' in fruits_dictionary\n",
    "assert 'pineapple' not in fruits_dictionary"
   ]
  },
  {
   "cell_type": "markdown",
   "id": "6231d2b8",
   "metadata": {},
   "source": [
    "Change the apple color to \"red\"."
   ]
  },
  {
   "cell_type": "code",
   "execution_count": null,
   "id": "3daf7418",
   "metadata": {},
   "outputs": [],
   "source": [
    "fruits_dictionary['apple'] = 'red'"
   ]
  },
  {
   "cell_type": "markdown",
   "id": "3f364501",
   "metadata": {},
   "source": [
    "Add new key/value pair to the dictionary."
   ]
  },
  {
   "cell_type": "code",
   "execution_count": null,
   "id": "b65d2688",
   "metadata": {},
   "outputs": [],
   "source": [
    "fruits_dictionary['pineapple'] = 'yellow'\n",
    "assert fruits_dictionary['pineapple'] == 'yellow'"
   ]
  },
  {
   "cell_type": "markdown",
   "id": "44634eb5",
   "metadata": {},
   "source": [
    "Performing `list(d)` on a dictionary returns a list of all the keys used in the dictionary, in insertion order. (If you want it sorted, just use `sorted(d)` instead.)"
   ]
  },
  {
   "cell_type": "code",
   "execution_count": null,
   "id": "49f18ccf",
   "metadata": {},
   "outputs": [],
   "source": [
    "assert list(fruits_dictionary) == ['cherry', 'apple', 'banana', 'pineapple']\n",
    "assert sorted(fruits_dictionary) == ['apple', 'banana', 'cherry', 'pineapple']"
   ]
  },
  {
   "cell_type": "markdown",
   "id": "98f4d4d8",
   "metadata": {},
   "source": [
    "It is also possible to delete a key-value pair with `del`."
   ]
  },
  {
   "cell_type": "code",
   "execution_count": null,
   "id": "9e26ec8b",
   "metadata": {},
   "outputs": [],
   "source": [
    "del fruits_dictionary['pineapple']\n",
    "assert list(fruits_dictionary) == ['cherry', 'apple', 'banana']"
   ]
  },
  {
   "cell_type": "markdown",
   "id": "0a418534",
   "metadata": {},
   "source": [
    "The `dict()` constructor builds dictionaries directly from sequences of key-value pairs."
   ]
  },
  {
   "cell_type": "code",
   "execution_count": null,
   "id": "02333dca",
   "metadata": {},
   "outputs": [],
   "source": [
    "dictionary_via_constructor = dict([('sape', 4139), ('guido', 4127), ('jack', 4098)])\n",
    "\n",
    "assert dictionary_via_constructor['sape'] == 4139\n",
    "assert dictionary_via_constructor['guido'] == 4127\n",
    "assert dictionary_via_constructor['jack'] == 4098"
   ]
  },
  {
   "cell_type": "markdown",
   "id": "69b915e4",
   "metadata": {},
   "source": [
    "In addition, dict comprehensions can be used to create dictionaries from arbitrary key and value expressions:"
   ]
  },
  {
   "cell_type": "code",
   "execution_count": null,
   "id": "2e12a1a5",
   "metadata": {},
   "outputs": [],
   "source": [
    "dictionary_via_expression = {x: x**2 for x in (2, 4, 6)}\n",
    "assert dictionary_via_expression[2] == 4\n",
    "assert dictionary_via_expression[4] == 16\n",
    "assert dictionary_via_expression[6] == 36"
   ]
  },
  {
   "cell_type": "markdown",
   "id": "a09becef",
   "metadata": {},
   "source": [
    "When the keys are simple strings, it is sometimes easier to specify pairs using keyword arguments."
   ]
  },
  {
   "cell_type": "code",
   "execution_count": null,
   "id": "39dcb34a",
   "metadata": {},
   "outputs": [],
   "source": [
    "dictionary_for_string_keys = dict(sape=4139, guido=4127, jack=4098)\n",
    "assert dictionary_for_string_keys['sape'] == 4139\n",
    "assert dictionary_for_string_keys['guido'] == 4127\n",
    "assert dictionary_for_string_keys['jack'] == 4098"
   ]
  },
  {
   "cell_type": "markdown",
   "id": "1fa37d36",
   "metadata": {},
   "source": [
    "### Type casting\n",
    "\n",
    "There may be times when you want to specify a type to a variable. This can be done with **casting**. Python is an object-orientated language, and as such it uses classes to define data types, including its primitive types. Casting in Python is therefore done using constructor functions.\n",
    "\n",
    "- `int()` - constructs an integer number from an integer literal, a float literal (by rounding down\n",
    "to the previous whole number) literal, or a string literal (providing the string represents a\n",
    "whole number)\n",
    "- `float()` - constructs a float number from an integer literal, a float literal or a string literal\n",
    "(providing the string represents a float or an integer)\n",
    "- `str()` - constructs a string from a wide variety of data types, including strings, integer\n",
    "literals and float literals\n",
    "\n",
    "```{seealso}\n",
    "- https://www.w3schools.com/python/python_casting.asp\n",
    "```\n",
    "\n",
    "Type casting to integer."
   ]
  },
  {
   "cell_type": "code",
   "execution_count": null,
   "id": "d998569d",
   "metadata": {},
   "outputs": [],
   "source": [
    "assert int(1) == 1\n",
    "assert int(2.8) == 2\n",
    "assert int('3') == 3"
   ]
  },
  {
   "cell_type": "markdown",
   "id": "53e1eb4e",
   "metadata": {},
   "source": [
    "Type casting to float."
   ]
  },
  {
   "cell_type": "code",
   "execution_count": null,
   "id": "ce0941fd",
   "metadata": {},
   "outputs": [],
   "source": [
    "assert float(1) == 1.0\n",
    "assert float(2.8) == 2.8\n",
    "assert float(\"3\") == 3.0\n",
    "assert float(\"4.2\") == 4.2"
   ]
  },
  {
   "cell_type": "markdown",
   "id": "322a7deb",
   "metadata": {},
   "source": [
    "Type casting to string."
   ]
  },
  {
   "cell_type": "code",
   "execution_count": null,
   "id": "d387f188",
   "metadata": {},
   "outputs": [],
   "source": [
    "assert str(\"s1\") == 's1'\n",
    "assert str(2) == '2'\n",
    "assert str(3.0) == '3.0'"
   ]
  },
  {
   "cell_type": "markdown",
   "id": "a0739fe7",
   "metadata": {},
   "source": [
    "## Your turn! 🚀\n",
    "\n",
    "Practice the Python programming basics by following this [assignment](../assignments/prerequisites/python-programming-basics.ipynb).\n",
    "\n",
    "## Self study\n",
    "\n",
    "Here is a list of free/open source learning resources for advanced [Python programming](https://github.com/open-academy/open-learning-resources/blob/main/README.md#python).\n",
    "\n",
    "## Acknowledgments\n",
    "\n",
    "Thanks to [Oleksii Trekhleb](https://github.com/trekhleb) who helped create this awesome open source project [learn-python](https://github.com/trekhleb/learn-python) for Python learning. It contributes the majority of the content in this chapter."
   ]
  }
 ],
 "metadata": {
  "jupytext": {
   "cell_metadata_filter": "-all",
   "formats": "md:myst",
   "text_representation": {
    "extension": ".md",
    "format_name": "myst",
    "format_version": 0.13,
    "jupytext_version": "1.11.5"
   }
  },
  "kernelspec": {
   "display_name": "Python 3",
   "language": "python",
   "name": "python3"
  },
  "language_info": {
   "codemirror_mode": {
    "name": "ipython",
    "version": 3
   },
   "file_extension": ".py",
   "mimetype": "text/x-python",
   "name": "python",
   "nbconvert_exporter": "python",
   "pygments_lexer": "ipython3",
   "version": "3.9.15"
  },
  "source_map": [
   16,
   44,
   62,
   65,
   73,
   76,
   82,
   86,
   103,
   109,
   131,
   165,
   171,
   197,
   236,
   244,
   250,
   263,
   269,
   279,
   283,
   291,
   297,
   304,
   308,
   333,
   345,
   355,
   361,
   366,
   370,
   372,
   376,
   378,
   382,
   392,
   396,
   399,
   403,
   406,
   410,
   414,
   426,
   430,
   434,
   437,
   441,
   445,
   449,
   452,
   456,
   459,
   463,
   473,
   479,
   484,
   488,
   494,
   498,
   501,
   505,
   507,
   511,
   514,
   518,
   520,
   524,
   526,
   530,
   532,
   536,
   538,
   542,
   544,
   548,
   550,
   554,
   556,
   560,
   562,
   566,
   568,
   572,
   574,
   578,
   581,
   585,
   588,
   592,
   595,
   599,
   602,
   614,
   617,
   621,
   630,
   636,
   638,
   642,
   645,
   649,
   656,
   660,
   668,
   672,
   677,
   681,
   685,
   703,
   707,
   711,
   715,
   720,
   722,
   726,
   728,
   732,
   736,
   740,
   744,
   748,
   754,
   758,
   761,
   765,
   768,
   772,
   779,
   783,
   787,
   791,
   797,
   801,
   804,
   808,
   816,
   820,
   823,
   827,
   830,
   834,
   846,
   850,
   862,
   866,
   870,
   874,
   877,
   883,
   903,
   911,
   917,
   921,
   924,
   928,
   931,
   935,
   938,
   942,
   950,
   956,
   958,
   962,
   965,
   969,
   972,
   976,
   979,
   983,
   987,
   991,
   994,
   998,
   1002,
   1010,
   1016,
   1020,
   1028,
   1032,
   1043,
   1047,
   1062,
   1066,
   1073,
   1090,
   1099,
   1103,
   1107,
   1113,
   1118,
   1122,
   1125,
   1129,
   1132,
   1138,
   1147,
   1151,
   1153,
   1157,
   1162,
   1170,
   1177,
   1194,
   1198,
   1202,
   1206,
   1210,
   1212,
   1216,
   1219,
   1223,
   1225,
   1229,
   1233,
   1237,
   1241,
   1245,
   1251,
   1255,
   1257,
   1261,
   1263,
   1267,
   1269,
   1273,
   1275,
   1279,
   1282,
   1297,
   1305,
   1309,
   1313,
   1317,
   1320,
   1324,
   1326,
   1330,
   1333,
   1337,
   1340,
   1344,
   1347,
   1351,
   1357,
   1361,
   1366,
   1370,
   1375,
   1395,
   1399,
   1403,
   1408,
   1412,
   1416
  ]
 },
 "nbformat": 4,
 "nbformat_minor": 5
}