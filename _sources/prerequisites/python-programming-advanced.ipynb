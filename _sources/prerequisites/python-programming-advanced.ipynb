{
 "cells": [
  {
   "cell_type": "markdown",
   "id": "d7f0f937",
   "metadata": {},
   "source": [
    "# Python programming advanced\n",
    "\n",
    "## Control flow\n",
    "\n",
    "### The if statement\n",
    "\n",
    "### The for statement\n",
    "\n",
    "## Functions\n",
    "\n",
    "### Function definition\n",
    "\n",
    "## Classes\n",
    "\n",
    "## Modules\n",
    "\n",
    "## Errors and exceptions\n",
    "\n",
    "### Handling exceptions (try statement)\n",
    "\n",
    "## Your turn! 🚀\n",
    "\n",
    "## Self study\n",
    "\n",
    "Here is a list of free/open source learning resources for advanced [Python programming](https://github.com/open-academy/open-learning-resources/blob/main/README.md#python).\n",
    "\n",
    "## Acknowledgments\n",
    "\n",
    "Thanks to [Oleksii Trekhleb](https://github.com/trekhleb) who helped create this awesome open source project [learn-python](https://github.com/trekhleb/learn-python) for Python learning. It contributes the majority of the content in this chapter."
   ]
  }
 ],
 "metadata": {
  "jupytext": {
   "cell_metadata_filter": "-all",
   "formats": "md:myst",
   "text_representation": {
    "extension": ".md",
    "format_name": "myst",
    "format_version": 0.13,
    "jupytext_version": "1.11.5"
   }
  },
  "kernelspec": {
   "display_name": "Python 3",
   "language": "python",
   "name": "python3"
  },
  "language_info": {
   "codemirror_mode": {
    "name": "ipython",
    "version": 3
   },
   "file_extension": ".py",
   "mimetype": "text/x-python",
   "name": "python",
   "nbconvert_exporter": "python",
   "pygments_lexer": "ipython3",
   "version": "3.8.13"
  },
  "source_map": [
   14
  ]
 },
 "nbformat": 4,
 "nbformat_minor": 5
}