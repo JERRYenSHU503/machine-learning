{
 "cells": [
  {
   "cell_type": "markdown",
   "metadata": {
    "notebookRunGroups": {
     "groupValue": ""
    },
    "slideshow": {
     "slide_type": "slide"
    }
   },
   "source": [
    "# Python programming introduction\n",
    "\n",
    "<div style=\"display:flex;align-items:center;\">\n",
    "  <img src=\"./images/logo.png\" width=\"30\"/>\n",
    "  <b>Open Academy</b>\n",
    "</div>"
   ]
  },
  {
   "cell_type": "markdown",
   "metadata": {
    "slideshow": {
     "slide_type": "slide"
    }
   },
   "source": [
    "## What's Python?\n",
    "\n",
    "- Python is a high-level programming language for general-purpose programming.\n",
    "- Python is open-source.\n",
    "- Python was created by a Dutch programmer, Guido van Rossum.\n",
    "- The first version was released on February 20, 1991.\n",
    "\n",
    "<div style=\"display:flex;justify-content:flex-end;\">\n",
    "  <img src=\"https://www.python.org/static/img/python-logo.png\"/>\n",
    "</div>"
   ]
  },
  {
   "cell_type": "markdown",
   "metadata": {
    "cell_style": "center",
    "slideshow": {
     "slide_type": "slide"
    }
   },
   "source": [
    "## Why Python?\n",
    "\n",
    "- Easy to learn.\n",
    "- Well adopted.\n",
    "- Multipurpose, e.g. web development, software development, mathematics, system scripting.\n",
    "- Dominate data engineering and Machine Learning.\n",
    "\n",
    "<div style=\"display:flex;flex-direction:column;align-items:flex-end;\">\n",
    "  <img src=\"./images/top-computer-languages-jun-2022.png\" width=\"360\"/>\n",
    "  <a href=\"https://statisticstimes.com/tech/top-computer-languages.php\">Top computer languages(Jun 2022).</a>\n",
    "</div>"
   ]
  },
  {
   "cell_type": "markdown",
   "metadata": {
    "cell_style": "center",
    "slideshow": {
     "slide_type": "slide"
    }
   },
   "source": [
    "## Basic Python \n",
    "\n",
    "- A Python script can be written in Python interactive shell or the code editor. \n",
    "- A Python file has an extension `.py`."
   ]
  },
  {
   "cell_type": "markdown",
   "metadata": {
    "slideshow": {
     "slide_type": "subslide"
    }
   },
   "source": [
    "### Indentation\n",
    "\n",
    "An indentation is a white space in a text. Indentation in many languages is used to increase code readability, however, Python uses indentation to create blocks of codes.\n",
    "\n",
    "![](./images/indentation.png)"
   ]
  },
  {
   "cell_type": "markdown",
   "metadata": {
    "slideshow": {
     "slide_type": "subslide"
    }
   },
   "source": [
    "### Comments\n",
    "\n",
    "Comments are very important to make the code more readable and to leave remarks in our code. Python does not run comment parts of our code. \n",
    "\n",
    "**Example: Single Line Comment**\n",
    "\n",
    "```py\n",
    "# This is the first comment\n",
    "# This is the second comment\n",
    "# Python is eating the world\n",
    "```\n",
    "\n",
    "**Example: Multiline Comment**\n",
    "\n",
    "```py\n",
    "\"\"\"This is multiline comment\n",
    "multiline comment takes multiple lines.\n",
    "Python is eating the world\n",
    "\"\"\"\n",
    "```"
   ]
  },
  {
   "cell_type": "markdown",
   "metadata": {
    "cell_style": "split",
    "slideshow": {
     "slide_type": "subslide"
    }
   },
   "source": [
    "### Data types\n",
    "\n",
    "#### Number\n",
    "\n",
    "- Integer: integer(negative, zero and positive) numbers.\n",
    "    Example: ... -3, -2, -1, 0, 1, 2, 3 ...\n",
    "- Float: decimal number.\n",
    "    Example: ... -3.5, -2.25, -1.0, 0.0, 1.1, 2.2, 3.5 ...\n",
    "- Complex.®\n",
    "    Example: 1 + j, 2 + 4j\n",
    "\n",
    "#### String\n",
    "\n",
    "A collection of one or more characters under a single or double quote. If a string is more than one sentence then we use a triple quote.\n",
    "\n",
    "```py\n",
    "'Asabeneh'\n",
    "'Finland'\n",
    "'Python'\n",
    "'I love teaching'\n",
    "'I hope you are enjoying the first day of open-academy Challenge'\n",
    "```\n",
    "\n",
    "#### Booleans\n",
    "\n",
    "```Python\n",
    "True  #  Is the light on? If it is on, then the value is True\n",
    "False # I\n",
    "```\n",
    "\n",
    "#### List\n",
    "\n",
    "Python list is an ordered collection that allows to store items of different data types. A list is similar to an array in JavaScript.\n",
    "\n",
    "**Example:**\n",
    "\n",
    "```py\n",
    "[0, 1, 2, 3, 4, 5]  # all are the same data types - a list of numbers\n",
    "['Banana', 'Orange', 'Mango', 'Avocado'] # all the same data types - a list of strings (fruits)\n",
    "['Finland','Estonia', 'Sweden','Norway'] # all the same data types - a list of strings (countries)\n",
    "['Banana', 10, False, 9.81] # different data types in the list - string, integer, boolean and float\n",
    "```\n",
    "\n",
    "#### Dictionary\n",
    "\n",
    "A Python dictionary object is an unordered collection of data in a key-value pair format.\n",
    "\n",
    "**Example:**\n",
    "\n",
    "```py\n",
    "{\n",
    "'first_name':'Asabeneh',\n",
    "'last_name':'Yetayeh',\n",
    "'country':'Finland', \n",
    "'age':250, \n",
    "'is_married':True,\n",
    "'skills':['JS', 'React', 'Node', 'Python']\n",
    "}\n",
    "```\n",
    "\n",
    "#### Tuple\n",
    "\n",
    "A tuple is an ordered collection of different data types like a list, but tuples can not be modified once they are created. They are immutable.\n",
    "\n",
    "**Example:**\n",
    "\n",
    "```py\n",
    "('Asabeneh', 'Pawel', 'Brook', 'Abraham', 'Lidiya') # Names\n",
    "```\n",
    "\n",
    "```py\n",
    "('Earth', 'Jupiter', 'Neptune', 'Mars', 'Venus', 'Saturn', 'Uranus', 'Mercury') # planets\n",
    "```\n",
    "\n",
    "#### Set\n",
    "\n",
    "A set is a collection of data types similar to a list and tuple. Unlike the list and the tuple, a set is not an ordered collection of items. Like in Mathematics, set in Python only stores unique items. In later sections, we will go into detail about every Python data type.\n",
    "\n",
    "**Example:**\n",
    "\n",
    "```py\n",
    "{2, 4, 3, 5}\n",
    "{3.14, 9.81, 2.7} # order is not important in set\n",
    "```"
   ]
  },
  {
   "cell_type": "markdown",
   "metadata": {
    "cell_style": "split",
    "slideshow": {
     "slide_type": "subslide"
    }
   },
   "source": [
    "#### String\n",
    "\n",
    "```py\n",
    "'Asabeneh'\n",
    "'Finland'\n",
    "'Python'\n",
    "'I love teaching'\n",
    "'I hope you are enjoying the first day of open-academy Challenge'\n",
    "```"
   ]
  },
  {
   "cell_type": "markdown",
   "metadata": {
    "slideshow": {
     "slide_type": "slide"
    }
   },
   "source": [
    "# The RISE notebook extension"
   ]
  },
  {
   "cell_type": "markdown",
   "metadata": {},
   "source": [
    "All this is achieved through the RISE notebook extension.\n",
    "\n",
    "See full documentation at http://rise.readthedocs.io/."
   ]
  },
  {
   "cell_type": "markdown",
   "metadata": {
    "slideshow": {
     "slide_type": "slide"
    }
   },
   "source": [
    "# Thanks to reveal.js"
   ]
  },
  {
   "cell_type": "markdown",
   "metadata": {},
   "source": [
    "The underlying tool is [reveal.js](https://revealjs.com/), and it supports a lot of cool features."
   ]
  },
  {
   "cell_type": "markdown",
   "metadata": {},
   "source": [
    "For example you can organize your show into:\n",
    "\n",
    "* slides (left to right)\n",
    "* subslides (top to bottom)\n",
    "* fragments (stops inside a slide)"
   ]
  },
  {
   "cell_type": "markdown",
   "metadata": {},
   "source": [
    "You do not need to worry, just press `Space` to proceed along the main line."
   ]
  },
  {
   "cell_type": "markdown",
   "metadata": {
    "slideshow": {
     "slide_type": "subslide"
    }
   },
   "source": [
    "For example this is a subslide; observe the cursor in the bottom right corner."
   ]
  },
  {
   "cell_type": "markdown",
   "metadata": {},
   "source": [
    "If you press `Shift-Space` - here or anywhere else - you will go backwards, so here it would be up."
   ]
  },
  {
   "cell_type": "markdown",
   "metadata": {
    "slideshow": {
     "slide_type": "slide"
    }
   },
   "source": [
    "# Speaker notes"
   ]
  },
  {
   "cell_type": "markdown",
   "metadata": {},
   "source": [
    "If you now press `t` you should see a second window open, with a presenter view, that shows *Notes* cells - that won't show up in the main slides."
   ]
  },
  {
   "cell_type": "markdown",
   "metadata": {
    "slideshow": {
     "slide_type": "notes"
    }
   },
   "source": [
    "This is an example of a *Notes* cell."
   ]
  },
  {
   "cell_type": "markdown",
   "metadata": {
    "slideshow": {
     "slide_type": ""
    }
   },
   "source": [
    "Next, we'll cover how to tag cells as *Slide*, *SubSlide*, *Fragment* or *Notes*."
   ]
  },
  {
   "cell_type": "markdown",
   "metadata": {
    "slideshow": {
     "slide_type": "slide"
    }
   },
   "source": [
    "# How to create slideshows"
   ]
  },
  {
   "cell_type": "markdown",
   "metadata": {},
   "source": [
    "### Step 1: enable slideshow cell toolbar"
   ]
  },
  {
   "cell_type": "markdown",
   "metadata": {},
   "source": [
    "![](slide-toolbar.png)"
   ]
  },
  {
   "cell_type": "markdown",
   "metadata": {
    "cell_style": "center",
    "slideshow": {
     "slide_type": "slide"
    }
   },
   "source": [
    "### Step 2:  add appropriate tag to each cell"
   ]
  },
  {
   "cell_type": "markdown",
   "metadata": {
    "cell_style": "split"
   },
   "source": [
    "From the cell toolbar...\n",
    "\n",
    "![](toolbar-options.png)"
   ]
  },
  {
   "cell_type": "markdown",
   "metadata": {
    "cell_style": "split",
    "slideshow": {
     "slide_type": "-"
    }
   },
   "source": [
    "or, in command mode, use keyboard shortcuts\n",
    "\n",
    "* `shift-i` : toggle slide\n",
    "* `shift-b` : toggle subslide\n",
    "* `shift-g` : toggle fragment"
   ]
  },
  {
   "cell_type": "markdown",
   "metadata": {
    "slideshow": {
     "slide_type": "slide"
    }
   },
   "source": [
    "# CSS"
   ]
  },
  {
   "cell_type": "markdown",
   "metadata": {
    "slideshow": {
     "slide_type": "notes"
    }
   },
   "source": [
    "2 files are loaded without the need for configuring\n",
    "\n",
    "* `rise.css` in the current directory\n",
    "* `README.css` for this notebook because it is called `README.ipynb`\n",
    "\n",
    "If that works then the cell below has a large border width and a big south-east border-radius"
   ]
  },
  {
   "cell_type": "code",
   "execution_count": null,
   "metadata": {
    "slideshow": {
     "slide_type": "-"
    }
   },
   "outputs": [],
   "source": [
    "# sample code cell\n",
    "message = \"my look is changed by both rise.css and README.css\""
   ]
  },
  {
   "cell_type": "markdown",
   "metadata": {
    "slideshow": {
     "slide_type": "slide"
    }
   },
   "source": [
    "# Publishing on binder"
   ]
  },
  {
   "cell_type": "markdown",
   "metadata": {},
   "source": [
    "In order for a binder-hosted notebook to start in slideshow mode, you need to have the following tag set in the notebook metadata:\n",
    "\n",
    "```javascript        \n",
    "    ...\n",
    "    \"rise\": {\n",
    "        \"autolaunch\": true\n",
    "    }\n",
    "    ...\n",
    "```"
   ]
  },
  {
   "cell_type": "markdown",
   "metadata": {
    "slideshow": {
     "slide_type": "slide"
    }
   },
   "source": [
    "You can edit the notebook metadata from the `edit` menu, submenu `edit notebook metadata`.\n",
    "\n",
    "Note finally that the `rise` key in this json file used to be named `livereveal`. The latter is still honored, but the former takes precedence, and it is recommended to use only `rise` from now on."
   ]
  },
  {
   "cell_type": "markdown",
   "metadata": {
    "slideshow": {
     "slide_type": "slide"
    }
   },
   "source": [
    "# Chalkboard"
   ]
  },
  {
   "cell_type": "markdown",
   "metadata": {},
   "source": [
    "As an option, you can turn on the *chalkboard* reveal plugin, that manifests itself with 2 extra buttons in the lower left area, that let you add free drawings on your slides."
   ]
  },
  {
   "cell_type": "markdown",
   "metadata": {},
   "source": [
    "This option is turned on, in the notebook metadata again, with:\n",
    "\n",
    "```javascript\n",
    "    ...\n",
    "    \"rise\": {\n",
    "      \"enable_chalkboard\": true\n",
    "    }\n",
    "    ...\n",
    "```"
   ]
  }
 ],
 "metadata": {
  "celltoolbar": "Slideshow",
  "jupytext": {
   "formats": "ipynb"
  },
  "kernelspec": {
   "display_name": "Python 3.9.13 64-bit",
   "language": "python",
   "name": "python3"
  },
  "language_info": {
   "codemirror_mode": {
    "name": "ipython",
    "version": 3
   },
   "file_extension": ".py",
   "mimetype": "text/x-python",
   "name": "python",
   "nbconvert_exporter": "python",
   "pygments_lexer": "ipython3",
   "version": "3.9.13"
  },
  "rise": {
   "autolaunch": true,
   "chalkboard": {
    "color": [
     "rgb(250, 250, 250)",
     "rgb(250, 250, 250)"
    ]
   },
   "enable_chalkboard": true
  },
  "vscode": {
   "interpreter": {
    "hash": "aee8b7b246df8f9039afb4144a1f6fd8d2ca17a180786b69acc140d282b71a49"
   }
  }
 },
 "nbformat": 4,
 "nbformat_minor": 2
}
