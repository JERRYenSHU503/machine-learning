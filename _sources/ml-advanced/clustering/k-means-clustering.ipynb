{
 "cells": [
  {
   "cell_type": "markdown",
   "id": "cfdeba35",
   "metadata": {},
   "source": [
    "# K-Means clustering\n",
    "\n",
    "In this section, you will learn how to create clusters using Scikit-learn and the Nigerian music dataset you imported earlier. We will cover the basics of K-Means for Clustering. Keep in mind that, as you learned in the earlier section, there are many ways to work with clusters and the method you use depends on your data. We will try K-Means as it's the most common clustering technique. Let's get started!\n",
    "\n",
    "Terms you will learn about:\n",
    "\n",
    "- Silhouette scoring\n",
    "- Elbow method\n",
    "- Inertia\n",
    "- Variance \n",
    "\n",
    "## Introduction\n",
    "\n",
    "K-Means Clustering is a method derived from the domain of signal processing. It is used to divide and partition groups of data into 'k' clusters using a series of observations. Each observation works to group a given datapoint closest to its nearest 'mean', or the center point of a cluster.\n",
    "\n",
    "The clusters can be visualized as Voronoi diagrams, which include a point (or 'seed') and its corresponding region. \n",
    "\n",
    "```{figure} ../../../images/clustering/voronoi.png\n",
    "---\n",
    "name: voronoi diagram\n",
    "---\n",
    "voronoi diagram infographic by Jen Looper\n",
    "```\n",
    "\n",
    "The K-Means clustering process executes in a three-step process):\n",
    "\n",
    "- The algorithm selects k-number of center points by sampling from the dataset. After this, it loops:\n",
    "\n",
    "1. It assigns each sample to the nearest centroid.\n",
    "2. It creates new centroids by taking the mean value of all of the samples assigned to the previous centroids.\n",
    "3. Then, it calculates the difference between the new and old centroids and repeats until the centroids are stabilized.\n",
    "\n",
    "One drawback of using K-Means includes the fact that you will need to establish 'k', that is the number of centroids. Fortunately the  'elbow method' helps to estimate a good starting value for 'k'. You'll try it in a minute.\n",
    "\n",
    "## Prerequisite\n",
    "\n",
    "You will work in this section's _notebook.ipynb_ file that includes the data import and preliminary cleaning you did in the last section.\n",
    "\n",
    "## Exercise - preparation\n",
    "\n",
    "Start by taking another look at the songs data."
   ]
  },
  {
   "cell_type": "code",
   "execution_count": null,
   "id": "08a9407c",
   "metadata": {},
   "outputs": [],
   "source": [
    "import matplotlib.pyplot as plt\n",
    "import pandas as pd\n",
    "import seaborn as sns\n",
    "\n",
    "\n",
    "df = pd.read_csv(\"../../assets/data/nigerian-songs.csv\")\n",
    "df = df[(df['artist_top_genre'] == 'afro dancehall') | (df['artist_top_genre'] == 'afropop') | (df['artist_top_genre'] == 'nigerian pop')]\n",
    "df = df[(df['popularity'] > 0)]\n",
    "top = df['artist_top_genre'].value_counts()\n",
    "\n",
    "plt.figure(figsize=(10,7))\n",
    "sns.barplot(x=top.index,y=top.values)\n",
    "plt.xticks(rotation=45)\n",
    "plt.title('Top genres',color = 'blue')"
   ]
  },
  {
   "cell_type": "markdown",
   "id": "b7507d4a",
   "metadata": {},
   "source": [
    "1. Create a boxplot, calling `boxplot()` for each column:"
   ]
  },
  {
   "cell_type": "code",
   "execution_count": null,
   "id": "f5c22ad7",
   "metadata": {},
   "outputs": [],
   "source": [
    "plt.figure(figsize=(20,20), dpi=200)\n",
    "\n",
    "plt.subplot(4,3,1)\n",
    "sns.boxplot(x = 'popularity', data = df)\n",
    "\n",
    "plt.subplot(4,3,2)\n",
    "sns.boxplot(x = 'acousticness', data = df)\n",
    "\n",
    "plt.subplot(4,3,3)\n",
    "sns.boxplot(x = 'energy', data = df)\n",
    "\n",
    "plt.subplot(4,3,4)\n",
    "sns.boxplot(x = 'instrumentalness', data = df)\n",
    "\n",
    "plt.subplot(4,3,5)\n",
    "sns.boxplot(x = 'liveness', data = df)\n",
    "\n",
    "plt.subplot(4,3,6)\n",
    "sns.boxplot(x = 'loudness', data = df)\n",
    "\n",
    "plt.subplot(4,3,7)\n",
    "sns.boxplot(x = 'speechiness', data = df)\n",
    "\n",
    "plt.subplot(4,3,8)\n",
    "sns.boxplot(x = 'tempo', data = df)\n",
    "\n",
    "plt.subplot(4,3,9)\n",
    "sns.boxplot(x = 'time_signature', data = df)\n",
    "\n",
    "plt.subplot(4,3,10)\n",
    "sns.boxplot(x = 'danceability', data = df)\n",
    "\n",
    "plt.subplot(4,3,11)\n",
    "sns.boxplot(x = 'length', data = df)\n",
    "\n",
    "plt.subplot(4,3,12)\n",
    "sns.boxplot(x = 'release_date', data = df)"
   ]
  },
  {
   "cell_type": "markdown",
   "id": "b3f12e7a",
   "metadata": {},
   "source": [
    "This data is a little noisy: by observing each column as a boxplot, you can see outliers.\n",
    "\n",
    "You could go through the dataset and remove these outliers, but that would make the data pretty minimal.\n",
    "\n",
    "2. For now, choose which columns you will use for your clustering exercise. Pick ones with similar ranges and encode the `artist_top_genre` column as numeric data:"
   ]
  },
  {
   "cell_type": "code",
   "execution_count": null,
   "id": "4ad58e9f",
   "metadata": {},
   "outputs": [],
   "source": [
    "from sklearn.preprocessing import LabelEncoder\n",
    "le = LabelEncoder()\n",
    "\n",
    "X = df.loc[:, ('artist_top_genre','popularity','danceability','acousticness','loudness','energy')]\n",
    "\n",
    "y = df['artist_top_genre']\n",
    "\n",
    "X['artist_top_genre'] = le.fit_transform(X['artist_top_genre'])\n",
    "\n",
    "y = le.transform(y)"
   ]
  },
  {
   "cell_type": "markdown",
   "id": "70056867",
   "metadata": {},
   "source": [
    "3. Now you need to pick how many clusters to target. You know there are 3 song genres that we carved out of the dataset, so let's try 3:"
   ]
  },
  {
   "cell_type": "code",
   "execution_count": null,
   "id": "bb744c2c",
   "metadata": {},
   "outputs": [],
   "source": [
    "from sklearn.cluster import KMeans\n",
    "\n",
    "nclusters = 3 \n",
    "seed = 0\n",
    "\n",
    "km = KMeans(n_clusters=nclusters, random_state=seed)\n",
    "km.fit(X)\n",
    "\n",
    "# Predict the cluster for each data point\n",
    "\n",
    "y_cluster_kmeans = km.predict(X)\n",
    "y_cluster_kmeans"
   ]
  },
  {
   "cell_type": "markdown",
   "id": "b18225e8",
   "metadata": {},
   "source": [
    "You see an array printed out with predicted clusters (0, 1,or 2) for each row of the dataframe.\n",
    "\n",
    "4. Use this array to calculate a 'silhouette score':"
   ]
  },
  {
   "cell_type": "code",
   "execution_count": null,
   "id": "c4472b16",
   "metadata": {},
   "outputs": [],
   "source": [
    "from sklearn import metrics\n",
    "score = metrics.silhouette_score(X, y_cluster_kmeans)\n",
    "score"
   ]
  },
  {
   "cell_type": "markdown",
   "id": "b90bb9a7",
   "metadata": {},
   "source": [
    "## Silhouette score\n",
    "\n",
    "Look for a silhouette score closer to 1. This score varies from -1 to 1, and if the score is 1, the cluster is dense and well-separated from other clusters. A value near 0 represents overlapping clusters with samples very close to the decision boundary of the neighboring clusters.\n",
    "\n",
    "Our score is **.53**, so right in the middle. This indicates that our data is not particularly well-suited to this type of clustering, but let's continue.\n",
    "\n",
    "### Exercise - build a model\n",
    "\n",
    "1. Import `KMeans` and start the clustering process."
   ]
  },
  {
   "cell_type": "code",
   "execution_count": null,
   "id": "83f2c096",
   "metadata": {},
   "outputs": [],
   "source": [
    "from sklearn.cluster import KMeans\n",
    "wcss = []\n",
    "\n",
    "for i in range(1, 11):\n",
    "    kmeans = KMeans(n_clusters = i, init = 'k-means++', random_state = 42)\n",
    "    kmeans.fit(X)\n",
    "    wcss.append(kmeans.inertia_)"
   ]
  },
  {
   "cell_type": "markdown",
   "id": "d7a01c08",
   "metadata": {},
   "source": [
    " There are a few parts here that warrant explaining.\n",
    "\n",
    "```{seealso} \n",
    "🎓 range: These are the iterations of the clustering process\n",
    "\n",
    "🎓 random_state: \"Determines random number generation for centroid initialization.\"\n",
    "\n",
    "🎓 WCSS: \"within-cluster sums of squares\" measures the squared average distance of all the points within a cluster to the cluster centroid.\n",
    "\n",
    "🎓 Inertia: K-Means algorithms attempt to choose centroids to minimize 'inertia', \"a measure of how internally coherent clusters are.\" The value is appended to the wcss variable on each iteration.\n",
    "\n",
    "🎓 k-means++: In Scikit-learn you can use the 'k-means++' optimization, which \"initializes the centroids to be (generally) distant from each other, leading to probably better results than random initialization.\n",
    "```\n",
    "\n",
    "### Elbow method\n",
    "\n",
    "Previously, you surmised that, because you have targeted 3 song genres, you should choose 3 clusters. But is that the case?\n",
    "\n",
    "1. Use the 'elbow method' to make sure."
   ]
  },
  {
   "cell_type": "code",
   "execution_count": null,
   "id": "6dd8fc49",
   "metadata": {},
   "outputs": [],
   "source": [
    "plt.figure(figsize=(10,5))\n",
    "sns.lineplot(wcss)\n",
    "plt.title('Elbow')\n",
    "plt.xlabel('Number of clusters')\n",
    "plt.ylabel('WCSS')\n",
    "plt.show()"
   ]
  },
  {
   "cell_type": "markdown",
   "id": "b5c60b12",
   "metadata": {},
   "source": [
    "```{figure} ../../../images/clustering/elbow.png\n",
    "---\n",
    "name: elbow\n",
    "---\n",
    "```\n",
    "\n",
    "Use the `wcss` variable that you built in the previous step to create a chart showing where the 'bend' in the elbow is, which indicates the optimum number of clusters. Maybe it **is** 3!\n",
    "\n",
    "## Exercise - display the clusters\n",
    "\n",
    "1. Try the process again, this time setting three clusters, and display the clusters as a scatterplot:"
   ]
  },
  {
   "cell_type": "code",
   "execution_count": null,
   "id": "502dfd38",
   "metadata": {},
   "outputs": [],
   "source": [
    "from sklearn.cluster import KMeans\n",
    "kmeans = KMeans(n_clusters = 3)\n",
    "kmeans.fit(X)\n",
    "labels = kmeans.predict(X)\n",
    "plt.scatter(df['popularity'],df['danceability'],c = labels)\n",
    "plt.xlabel('popularity')\n",
    "plt.ylabel('danceability')\n",
    "plt.show()"
   ]
  },
  {
   "cell_type": "markdown",
   "id": "87bdc21b",
   "metadata": {},
   "source": [
    "2. Check the model's accuracy:"
   ]
  },
  {
   "cell_type": "code",
   "execution_count": null,
   "id": "200cbe2f",
   "metadata": {},
   "outputs": [],
   "source": [
    "labels = kmeans.labels_\n",
    "correct_labels = sum(y == labels)\n",
    "print(\"Result: %d out of %d samples were correctly labeled.\" % (correct_labels, y.size))\n",
    "print('Accuracy score: {0:0.2f}'. format(correct_labels/float(y.size)))"
   ]
  },
  {
   "cell_type": "markdown",
   "id": "011e0f37",
   "metadata": {},
   "source": [
    "This model's accuracy is not very good, and the shape of the clusters gives you a hint why. \n",
    "\n",
    "This data is too imbalanced, too little correlated and there is too much variance between the column values to cluster well. In fact, the clusters that form are probably heavily influenced or skewed by the three genre categories we defined above. That was a learning process!\n",
    "\n",
    "In Scikit-learn's documentation, you can see that a model like this one, with clusters not very well demarcated, has a 'variance' problem:\n",
    "\n",
    "```{figure} ../../../images/clustering/problems.png\n",
    "---\n",
    "name: problem models\n",
    "---\n",
    "roblem models by Scikit-learn\n",
    "```\n",
    "\n",
    "## Variance\n",
    "\n",
    "Variance is defined as \"the average of the squared differences from the Mean\" . In the context of this clustering problem, it refers to data that the numbers of our dataset tend to diverge a bit too much from the mean. \n",
    "\n",
    "```{seealso} \n",
    "This is a great moment to think about all the ways you could correct this issue. Tweak the data a bit more? Use different columns? Use a different algorithm? Hint: Try scaling your data to normalize it and test other columns.\n",
    "```\n",
    "\n",
    "## Your turn! 🚀\n",
    "\n",
    "TBD.\n",
    "\n",
    "## Self study\n",
    "\n",
    "You can use this tool to visualize sample data points and determine their centroids.\n",
    "\n",
    "- [such as this one](https://user.ceng.metu.edu.tr/~akifakkus/courses/ceng574/k-means/)\n",
    "- [this handout on K-Means](https://stanford.edu/~cpiech/cs221/handouts/kmeans.html)\n",
    "\n",
    "## Acknowledgments\n",
    "\n",
    "Thanks to Microsoft for creating the open-source course [Machine Learning for Beginners](https://github.com/microsoft/ML-For-Beginners). It inspires the majority of the content in this chapter."
   ]
  }
 ],
 "metadata": {
  "jupytext": {
   "cell_metadata_filter": "-all",
   "formats": "md:myst",
   "text_representation": {
    "extension": ".md",
    "format_name": "myst",
    "format_version": 0.13,
    "jupytext_version": "1.11.5"
   }
  },
  "kernelspec": {
   "display_name": "Python 3",
   "language": "python",
   "name": "python3"
  },
  "source_map": [
   14,
   58,
   73,
   77,
   115,
   123,
   134,
   138,
   151,
   157,
   161,
   173,
   181,
   203,
   210,
   224,
   233,
   237,
   242
  ]
 },
 "nbformat": 4,
 "nbformat_minor": 5
}