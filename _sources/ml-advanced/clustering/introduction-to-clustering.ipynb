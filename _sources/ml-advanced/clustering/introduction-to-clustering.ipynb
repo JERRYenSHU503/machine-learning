{
 "cells": [
  {
   "cell_type": "markdown",
   "id": "239ddc86",
   "metadata": {},
   "source": [
    "# Introduction to clustering\n",
    "\n",
    "Clustering is a type of Unsupervised Learning that presumes that a dataset is unlabelled or that its inputs are not matched with predefined outputs. It uses various algorithms to sort through unlabeled data and provide groupings according to patterns it discerns in the data. \n",
    "\n",
    "## Introduction\n",
    "\n",
    "In a professional setting, clustering can be used to determine things like market segmentation, determining what age groups buy what items, for example. Another use would be anomaly detection, perhaps to detect fraud from a dataset of credit card transactions. Or you might use clustering to determine tumors in a batch of medical scans. \n",
    "\n",
    "Think a minute about how you might have encountered clustering 'in the wild', in a banking, e-commerce, or business setting.\n",
    "\n",
    "```{note}\n",
    "Interestingly, cluster analysis originated in the fields of Anthropology and Psychology in the 1930s. Can you imagine how it might have been used?\n",
    "```\n",
    "\n",
    "Alternately, you could use it for grouping search results - by shopping links, images, or reviews, for example. Clustering is useful when you have a large dataset that you want to reduce and on which you want to perform more granular analysis, so the technique can be used to learn about data before other models are constructed.\n",
    "\n",
    "## Getting started with clustering\n",
    "\n",
    "Scikit-learn offers a large array of methods to perform clustering. The type you choose will depend on your use case. According to the documentation, each method has various benefits. Here is a simplified table of the methods supported by Scikit-learn and their appropriate use cases:\n",
    "\n",
    "| Method name                  | Use case                                                               |\n",
    "| :--------------------------- | :--------------------------------------------------------------------- |\n",
    "| K-Means                      | general purpose, inductive                                             |\n",
    "| Affinity propagation         | many, uneven clusters, inductive                                       |\n",
    "| Mean-shift                   | many, uneven clusters, inductive                                       |\n",
    "| Spectral clustering          | few, even clusters, transductive                                       |\n",
    "| Ward hierarchical clustering | many, constrained clusters, transductive                               |\n",
    "| Agglomerative clustering     | many, constrained, non Euclidean distances, transductive               |\n",
    "| DBSCAN                       | non-flat geometry, uneven clusters, transductive                       |\n",
    "| OPTICS                       | non-flat geometry, uneven clusters with variable density, transductive |\n",
    "| Gaussian mixtures            | flat geometry, inductive                                               |\n",
    "| BIRCH                        | large dataset with outliers, inductive                                 |\n",
    "\n",
    "How we create clusters has a lot to do with how we gather up the data points into groups. Let's unpack some vocabulary:\n",
    "\n",
    "**'Transductive' vs. 'inductive'**\n",
    "\n",
    "Transductive inference is derived from observed training cases that map to specific test cases. Inductive inference is derived from training cases that map to general rules which are only then applied to test cases. \n",
    "\n",
    "An example: Imagine you have a dataset that is only partially  labelled. Some things are 'records', some 'cds', and some are blank. Your job is to provide labels for the blanks. If you choose an inductive approach, you'd train a model looking for 'records' and 'cds', and apply those labels to your unlabeled data. This approach will have trouble classifying things that are actually 'cassettes'. A transductive approach, on the other hand, handles this unknown data more effectively as it works to group similar items together and then applies a label to a group. In this case, clusters might reflect 'round musical things' and 'square musical things'. \n",
    "\n",
    "**'Non-flat' vs. 'flat' geometry'**\n",
    " \n",
    "Derived from mathematical terminology, non-flat vs. flat geometry refers to the measure of distances between points by either 'flat' (Euclidean) or 'non-flat' (non-Euclidean) geometrical methods. \n",
    "'Flat' in this context refers to Euclidean geometry (parts of which are taught as 'plane' geometry), and non-flat refers to non-Euclidean geometry. What does geometry have to do with machine learning? Well, as two fields that are rooted in mathematics, there must be a common way to measure distances between points in clusters, and that can be done in a 'flat' or 'non-flat' way, depending on the nature of the data. Euclidean distances are measured as the length of a line segment between two points. Non-Euclidean distances are measured along a curve. If your data, visualized, seems to not exist on a plane, you might need to use a specialized algorithm to handle it.\n",
    "\n",
    "```{figure} ../../../images/clustering/flat-nonflat.png\n",
    "---\n",
    "name: Flat vs Nonflat Geometry Infographic\n",
    "---\n",
    "Flat vs Nonflat Geometry Infographic by Dasani Madipalli\n",
    "```\n",
    "\n",
    "**Distances**\n",
    "\n",
    "Clusters are defined by their distance matrix, e.g. the distances between points. This distance can be measured in a few ways. Euclidean clusters are defined by the average of the point values, and contain a 'centroid' or center point. Distances are thus measured by the distance to that centroid. Non-Euclidean distances refer to 'clustroids', the point closest to other points. Clustroids in turn can be defined in various ways.\n",
    "\n",
    "**Constrained**\n",
    "\n",
    "Constrained Clustering introduces 'semi-supervised' learning into this unsupervised method. The relationships between points are flagged as 'cannot link' or 'must-link' so some rules are forced on the dataset.\n",
    "\n",
    "An example: If an algorithm is set free on a batch of unlabelled or semi-labelled data, the clusters it produces may be of poor quality. In the example above, the clusters might group 'round music things' and 'square music things' and 'triangular things' and 'cookies'. If given some constraints, or rules to follow (\"the item must be made of plastic\", \"the item needs to be able to produce music\") this can help 'constrain' the algorithm to make better choices.\n",
    "\n",
    "**Density**\n",
    "\n",
    "Data that is 'noisy' is considered to be 'dense'. The distances between points in each of its clusters may prove, on examination, to be more or less dense, or 'crowded' and thus this data needs to be analyzed with the appropriate clustering method. This article demonstrates the difference between using K-Means clustering vs. HDBSCAN algorithms to explore a noisy dataset with uneven cluster density.\n",
    "\n",
    "\n",
    "## Clustering algorithms\n",
    "\n",
    "There are over 100 clustering algorithms, and their use depends on the nature of the data at hand. Let's discuss some of the major ones:\n",
    "\n",
    "- **Hierarchical clustering**. If an object is classified by its proximity to a nearby object, rather than to one farther away, clusters are formed based on their members' distance to and from other objects. Scikit-learn's agglomerative clustering is hierarchical.\n",
    "\n",
    "```{figure} ../../../images/clustering/hierarchical.png\n",
    "---\n",
    "name: Hierarchical clustering Infographic\n",
    "---\n",
    "Hierarchical clustering Infographic by Dasani Madipalli\n",
    "```\n",
    "\n",
    "- **Centroid clustering**. This popular algorithm requires the choice of 'k', or the number of clusters to form, after which the algorithm determines the center point of a cluster and gathers data around that point. K-means clustering is a popular version of centroid clustering. The center is determined by the nearest mean, thus the name. The squared distance from the cluster is minimized.\n",
    "\n",
    "```{figure} ../../../images/clustering/centroid.png\n",
    "---\n",
    "name: Centroid clustering Infographic\n",
    "---  \n",
    "Centroid clustering Infographic by Dasani Madipalli\n",
    "```\n",
    "\n",
    "- **Distribution-based clustering**. Based in statistical modeling, distribution-based clustering centers on determining the probability that a data point belongs to a cluster, and assigning it accordingly. Gaussian mixture methods belong to this type.\n",
    "\n",
    "- **Density-based clustering**. Data points are assigned to clusters based on their density, or their grouping around each other. Data points far from the group are considered outliers or noise. DBSCAN, Mean-shift and OPTICS belong to this type of clustering.\n",
    "\n",
    "- **Grid-based clustering**. For multi-dimensional datasets, a grid is created and the data is divided amongst the grid's cells, thereby creating clusters.\n",
    "\n",
    "## Exercise - cluster your data\n",
    "\n",
    "Clustering as a technique is greatly aided by proper visualization, so let's get started by visualizing our music data. This exercise will help us decide which of the methods of clustering we should most effectively use for the nature of this data.\n",
    "\n",
    "1. Open the _notebook.ipynb_ file in this folder.\n",
    "\n",
    "2. Import the `Seaborn` package for good data visualization.\n",
    "\n",
    "```bash\n",
    "!pip install seaborn\n",
    "```\n",
    "\n",
    "3. Append the song data from _nigerian-songs.csv_. Load up a dataframe with some data about the songs. Get ready to explore this data by importing the libraries and dumping out the data:"
   ]
  },
  {
   "cell_type": "code",
   "execution_count": null,
   "id": "5d4d9396",
   "metadata": {
    "tags": [
     "output_scroll"
    ]
   },
   "outputs": [],
   "source": [
    "import matplotlib.pyplot as plt\n",
    "import pandas as pd\n",
    "\n",
    "df = pd.read_csv(\"../../assets/data/nigerian-songs.csv\")\n",
    "df.head()"
   ]
  },
  {
   "cell_type": "markdown",
   "id": "dd680576",
   "metadata": {},
   "source": [
    "Check the first few lines of data:\n",
    "\n",
    "4. Get some information about the dataframe, calling `info()`:"
   ]
  },
  {
   "cell_type": "code",
   "execution_count": null,
   "id": "105888e0",
   "metadata": {},
   "outputs": [],
   "source": [
    "df.info()"
   ]
  },
  {
   "cell_type": "markdown",
   "id": "70531a61",
   "metadata": {},
   "source": [
    "5. Double-check for null values, by calling `isnull()` and verifying the sum being 0:"
   ]
  },
  {
   "cell_type": "code",
   "execution_count": null,
   "id": "693e288e",
   "metadata": {},
   "outputs": [],
   "source": [
    "df.isnull().sum()"
   ]
  },
  {
   "cell_type": "markdown",
   "id": "eca81258",
   "metadata": {},
   "source": [
    "6. Describe the data:"
   ]
  },
  {
   "cell_type": "code",
   "execution_count": null,
   "id": "b361b797",
   "metadata": {
    "tags": [
     "output_scroll"
    ]
   },
   "outputs": [],
   "source": [
    "df.describe()"
   ]
  },
  {
   "cell_type": "markdown",
   "id": "4007831d",
   "metadata": {},
   "source": [
    "```{note}\n",
    "If we are working with clustering, an unsupervised method that does not require labeled data, why are we showing this data with labels? In the data exploration phase, they come in handy, but they are not necessary for the clustering algorithms to work. You could just as well remove the column headers and refer to the data by column number. \n",
    "```\n",
    "\n",
    "Look at the general values of the data. Note that popularity can be '0', which show songs that have no ranking. Let's remove those shortly.\n",
    "\n",
    "7. Use a barplot to find out the most popular genres:"
   ]
  },
  {
   "cell_type": "code",
   "execution_count": null,
   "id": "6a0e0a08",
   "metadata": {},
   "outputs": [],
   "source": [
    "import seaborn as sns\n",
    "\n",
    "top = df['artist_top_genre'].value_counts()\n",
    "plt.figure(figsize=(10,7))\n",
    "sns.barplot(x=top[:5].index,y=top[:5].values)\n",
    "plt.xticks(rotation=45)\n",
    "plt.title('Top genres',color = 'blue')"
   ]
  },
  {
   "cell_type": "markdown",
   "id": "7c61b2fc",
   "metadata": {},
   "source": [
    "```{note}\n",
    "If you'd like to see more top values, change the top `[:5]` to a bigger value, or remove it to see all.\n",
    "```\n",
    "\n",
    "Note, when the top genre is described as 'Missing', that means that Spotify did not classify it, so let's get rid of it.\n",
    "\n",
    "8. Get rid of missing data by filtering it out"
   ]
  },
  {
   "cell_type": "code",
   "execution_count": null,
   "id": "6fd5c82e",
   "metadata": {},
   "outputs": [],
   "source": [
    "df = df[df['artist_top_genre'] != 'Missing']\n",
    "top = df['artist_top_genre'].value_counts()\n",
    "plt.figure(figsize=(10,7))\n",
    "sns.barplot(x=top.index,y=top.values)\n",
    "plt.xticks(rotation=45)\n",
    "plt.title('Top genres',color = 'blue')"
   ]
  },
  {
   "cell_type": "markdown",
   "id": "5e877710",
   "metadata": {},
   "source": [
    "9. By far, the top three genres dominate this dataset. Let's concentrate on `afro dancehall`, `afropop`, and `nigerian pop`, additionally filter the dataset to remove anything with a 0 popularity value (meaning it was not classified with a popularity in the dataset and can be considered noise for our purposes):"
   ]
  },
  {
   "cell_type": "code",
   "execution_count": null,
   "id": "c0bc905a",
   "metadata": {},
   "outputs": [],
   "source": [
    "df = df[(df['artist_top_genre'] == 'afro dancehall') | (df['artist_top_genre'] == 'afropop') | (df['artist_top_genre'] == 'nigerian pop')]\n",
    "df = df[(df['popularity'] > 0)]\n",
    "top = df['artist_top_genre'].value_counts()\n",
    "plt.figure(figsize=(10,7))\n",
    "sns.barplot(x=top.index,y=top.values)\n",
    "plt.xticks(rotation=45)\n",
    "plt.title('Top genres',color = 'blue')"
   ]
  },
  {
   "cell_type": "markdown",
   "id": "67a6a702",
   "metadata": {},
   "source": [
    "10. Do a quick test to see if the data correlates in any particularly strong way:"
   ]
  },
  {
   "cell_type": "code",
   "execution_count": null,
   "id": "ac063a05",
   "metadata": {},
   "outputs": [],
   "source": [
    "corrmat = df.corr()\n",
    "f, ax = plt.subplots(figsize=(12, 9))\n",
    "sns.heatmap(corrmat, vmax=.8, square=True)"
   ]
  },
  {
   "cell_type": "markdown",
   "id": "6a401bd6",
   "metadata": {},
   "source": [
    "The only strong correlation is between `energy` and `loudness`, which is not too surprising, given that loud music is usually pretty energetic. Otherwise, the correlations are relatively weak. It will be interesting to see what a clustering algorithm can make of this data.\n",
    "\n",
    "```{note}\n",
    "Note that correlation does not imply causation! We have proof of correlation but no proof of causation. An amusing web site has some visuals that emphasize this point.\n",
    "```\n",
    "\n",
    "Is there any convergence in this dataset around a song's perceived popularity and danceability? A FacetGrid shows that there are concentric circles that line up, regardless of genre. Could it be that Nigerian tastes converge at a certain level of danceability for this genre?  \n",
    "\n",
    "Try different datapoints (energy, loudness, speechiness) and more or different musical genres. What can you discover? Take a look at the `df.describe()` table to see the general spread of the data points.\n",
    "\n",
    "### Exercise - data distribution\n",
    "\n",
    "Are these three genres significantly different in the perception of their danceability, based on their popularity?\n",
    "\n",
    "1. Examine our top three genres data distribution for popularity and danceability along a given x and y axis."
   ]
  },
  {
   "cell_type": "code",
   "execution_count": null,
   "id": "07a50aae",
   "metadata": {},
   "outputs": [],
   "source": [
    "sns.set_theme(style=\"ticks\")\n",
    "g = sns.jointplot(\n",
    "    data=df,\n",
    "    x=\"popularity\", y=\"danceability\", hue=\"artist_top_genre\",\n",
    "    kind=\"kde\",\n",
    ")"
   ]
  },
  {
   "cell_type": "markdown",
   "id": "d74bc17e",
   "metadata": {},
   "source": [
    "You can discover concentric circles around a general point of convergence, showing the distribution of points.\n",
    "\n",
    "```{note}\n",
    "Note that this example uses a KDE (Kernel Density Estimate) graph that represents the data using a continuous probability density curve. This allows us to interpret data when working with multiple distributions.\n",
    "```\n",
    "\n",
    "In general, the three genres align loosely in terms of their popularity and danceability. Determining clusters in this loosely-aligned data will be a challenge:\n",
    "\n",
    "2. Create a scatter plot:"
   ]
  },
  {
   "cell_type": "code",
   "execution_count": null,
   "id": "e72eceda",
   "metadata": {},
   "outputs": [],
   "source": [
    "sns.FacetGrid(df, hue=\"artist_top_genre\") \\\n",
    "    .map(plt.scatter, \"popularity\", \"danceability\") \\\n",
    "    .add_legend()"
   ]
  },
  {
   "cell_type": "markdown",
   "id": "46377a29",
   "metadata": {},
   "source": [
    "    A scatterplot of the same axes shows a similar pattern of convergence\n",
    "\n",
    "In general, for clustering, you can use scatterplots to show clusters of data, so mastering this type of visualization is very useful. In the next section, we will take this filtered data and use k-means clustering to discover groups in this data that see to overlap in interesting ways.\n",
    "\n",
    "---\n",
    "\n",
    "## Your turn! 🚀\n",
    "\n",
    "TBD.\n",
    "\n",
    "## Self study\n",
    "\n",
    "Before you apply clustering algorithms, as we have learned, it's a good idea to understand the nature of your dataset.There are several resources available. \n",
    "\n",
    "- [right clustering algorithm](https://www.kdnuggets.com/2019/10/right-clustering-algorithm.html)\n",
    "- [clustering algorithms behave](https://www.freecodecamp.org/news/8-clustering-algorithms-in-machine-learning-that-all-data-scientists-should-know/) \n",
    "\n",
    "## Acknowledgments\n",
    "\n",
    "Thanks to Microsoft for creating the open-source course [Machine Learning for Beginners](https://github.com/microsoft/ML-For-Beginners). It inspires the majority of the content in this chapter."
   ]
  }
 ],
 "metadata": {
  "jupytext": {
   "cell_metadata_filter": "-all",
   "formats": "md:myst",
   "text_representation": {
    "extension": ".md",
    "format_name": "myst",
    "format_version": 0.13,
    "jupytext_version": "1.11.5"
   }
  },
  "kernelspec": {
   "display_name": "Python 3",
   "language": "python",
   "name": "python3"
  },
  "source_map": [
   14,
   126,
   134,
   140,
   142,
   146,
   148,
   152,
   155,
   165,
   173,
   183,
   190,
   194,
   202,
   206,
   210,
   228,
   235,
   247,
   251
  ]
 },
 "nbformat": 4,
 "nbformat_minor": 5
}