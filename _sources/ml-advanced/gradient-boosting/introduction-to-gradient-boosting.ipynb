{
 "cells": [
  {
   "cell_type": "markdown",
   "id": "5c75dbaa",
   "metadata": {},
   "source": [
    "# Introduction to Gradient Boosting\n",
    "\n",
    "Gradient Boosting is a popular machine learning algorithm that is used for both regression and classification tasks. It is a type of ensemble method that combines multiple weak learners into a single strong learner by sequentially fitting new models to the errors made by previous models.\n",
    "\n",
    "The idea behind gradient boosting is to use a loss function to measure the difference between the predicted and actual values, and then fit a new model to the residual errors. In each iteration, the model is trained on the errors made by the previous models, and the final prediction is obtained by summing the predictions of all models.\n",
    "\n",
    "The main advantage of gradient boosting is that it can handle complex data patterns and can achieve high accuracy on a wide range of tasks. However, it is computationally expensive and can be sensitive to overfitting if not properly tuned.\n",
    "\n",
    "In this section we will further explore gradient boosting.\n",
    "\n",
    "```{figure} ../../../images/ml-advanced/introduction-to-gradient-boosting/gradient-boosting-process.png\n",
    "---\n",
    "name: gradient boosting\n",
    "---\n",
    "Gradient Boosting Process Diagram\n",
    "```\n",
    "\n",
    "```{tableofcontents}\n",
    "\n",
    "```"
   ]
  }
 ],
 "metadata": {
  "jupytext": {
   "cell_metadata_filter": "-all",
   "formats": "md:myst",
   "text_representation": {
    "extension": ".md",
    "format_name": "myst",
    "format_version": 0.13,
    "jupytext_version": "1.11.5"
   }
  },
  "kernelspec": {
   "display_name": "Python 3",
   "language": "python",
   "name": "python3"
  },
  "language_info": {
   "codemirror_mode": {
    "name": "ipython",
    "version": 3
   },
   "file_extension": ".py",
   "mimetype": "text/x-python",
   "name": "python",
   "nbconvert_exporter": "python",
   "pygments_lexer": "ipython3",
   "version": "3.9.16"
  },
  "source_map": [
   14
  ]
 },
 "nbformat": 4,
 "nbformat_minor": 5
}