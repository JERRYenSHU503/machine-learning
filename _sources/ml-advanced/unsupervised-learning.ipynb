{
 "cells": [
  {
   "cell_type": "markdown",
   "id": "29b8ad47",
   "metadata": {},
   "source": [
    "# Unsupervised learning (TBD)\n",
    "\n",
    "## K-means\n",
    "\n",
    "<p style=\"text-align: center;\">\n",
    "<iframe src=\"../html/k-means-demo/k-means.html\" width=\"105%\" height=\"700px;\"\n",
    "style=\"border:none;\" scrolling=\"auto\"></iframe>\n",
    "A demo of K-Means. <a href=\"http://alekseynp.com/viz/k-means.html\">[source]</a>\n",
    "</p>\n",
    "\n",
    "## PCA\n",
    "\n",
    "<p style=\"text-align: center;\">\n",
    "<iframe src=\"../html/PCA-demo/PCA.html\" width=\"105%\" height=\"700px;\"\n",
    "style=\"border:none;\" scrolling=\"auto\"></iframe>\n",
    "A demo of PCA. <a href=\"https://www.statskingdom.com/pca-calculator.html\">[source]</a>\n",
    "</p>\n",
    "\n",
    "## LDA\n",
    "\n",
    "## Manifold learning\n",
    "\n",
    "## T-SNE\n",
    "\n",
    "<p style=\"text-align: center;\">\n",
    "<iframe src=\"../html/t-SNE-demo/t-SNE.html\" width=\"105%\" height=\"700px;\"\n",
    "style=\"border:none;\" scrolling=\"auto\"></iframe>\n",
    "A demo of t-SNE. <a href=\"https://cs.stanford.edu/people/karpathy/tsnejs/csvdemo.html\">[source]</a>\n",
    "</p>\n",
    "\n",
    "## DBSCAN\n",
    "\n",
    "<p style=\"text-align: center;\">\n",
    "<iframe src=\"../html/dbscan-demo/dbscan.html\" width=\"105%\" height=\"700px;\"\n",
    "style=\"border:none;\" scrolling=\"auto\"></iframe>\n",
    "A demo of dbscan. <a href=\"https://www.naftaliharris.com/blog/visualizing-dbscan-clustering/\">[source]</a>\n",
    "</p>\n",
    "\n",
    "## Hierarchical Clustering \n",
    "\n",
    "## Feature Reduction\n",
    "\n",
    "<div hidden>\n",
    "In-Depth: Manifold Learning\n",
    "https://jakevdp.github.io/PythonDataScienceHandbook/05.10-manifold-learning.html\n",
    "\n",
    "\n",
    "</div>"
   ]
  }
 ],
 "metadata": {
  "jupytext": {
   "cell_metadata_filter": "-all",
   "formats": "md:myst",
   "text_representation": {
    "extension": ".md",
    "format_name": "myst",
    "format_version": 0.13,
    "jupytext_version": "1.11.5"
   }
  },
  "kernelspec": {
   "display_name": "Python 3",
   "language": "python",
   "name": "python3"
  },
  "language_info": {
   "codemirror_mode": {
    "name": "ipython",
    "version": 3
   },
   "file_extension": ".py",
   "mimetype": "text/x-python",
   "name": "python",
   "nbconvert_exporter": "python",
   "pygments_lexer": "ipython3",
   "version": "3.9.16"
  },
  "source_map": [
   14
  ]
 },
 "nbformat": 4,
 "nbformat_minor": 5
}