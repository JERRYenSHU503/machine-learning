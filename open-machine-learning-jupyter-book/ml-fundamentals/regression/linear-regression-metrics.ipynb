{
 "cells": [
  {
   "cell_type": "code",
   "execution_count": null,
   "id": "a23a2854-7e54-4a24-9ae4-0f8904f899ee",
   "metadata": {},
   "outputs": [],
   "source": [
    "# Install the necessary dependencies\n",
    "\n",
    "import os\n",
    "import sys\n",
    "!{sys.executable} -m pip install --quiet pandas scikit-learn numpy matplotlib jupyterlab_myst ipython\n"
   ]
  },
  {
   "cell_type": "markdown",
   "id": "3780e038-4395-44e7-9294-a54ae4bc731d",
   "metadata": {},
   "source": [
    "---\n",
    "license:\n",
    "    code: MIT\n",
    "    content: CC-BY-4.0\n",
    "github: https://github.com/ocademy-ai/machine-learning\n",
    "venue: By Ocademy\n",
    "open_access: true\n",
    "bibliography:\n",
    "  - https://raw.githubusercontent.com/ocademy-ai/machine-learning/main/open-machine-learning-jupyter-book/references.bib\n",
    "---"
   ]
  },
  {
   "cell_type": "markdown",
   "id": "63961ec0-328a-4289-8667-cc86f09db8f1",
   "metadata": {},
   "source": [
    "#  Linear Regression Metrics"
   ]
  },
  {
   "cell_type": "markdown",
   "id": "c556cae5-c568-444c-be0c-4a9f54a0af5b",
   "metadata": {},
   "source": [
    "Linear regression is a fundamental and widely used technique in machine learning and statistics for predicting continuous values based on input variables. It finds its application in various domains, from finance and economics to healthcare and engineering. When using linear regression, it's essential to assess the model's performance accurately. This is where linear regression metrics come into play.\n",
    "\n",
    "In this tutorial, we will delve into the world of linear regression metrics, exploring the key evaluation measures that allow us to gauge how well a linear regression model fits the data and makes predictions. These metrics provide valuable insights into the model's accuracy, precision, and ability to capture the underlying relationships between variables.\n",
    "\n",
    "We will cover essential concepts such as Mean Squared Error (MSE), Root Mean Squared Error (RMSE), R-squared (R2) score, and Mean Absolute Error (MAE). Understanding these metrics is crucial for data scientists, machine learning practitioners, and anyone looking to harness the power of linear regression for predictive modeling.\n",
    "\n",
    "Whether you are building models for price predictions, sales forecasts, or any other regression task, mastering these metrics will empower you to make informed decisions and fine-tune your models for optimal performance. Let's embark on this journey to explore the intricacies of linear regression metrics and enhance our ability to assess and improve regression models."
   ]
  },
  {
   "cell_type": "markdown",
   "id": "f39e137f-d413-4d64-97b7-d6500542e8ed",
   "metadata": {},
   "source": [
    "## Mean Squared Error (MSE)"
   ]
  },
  {
   "cell_type": "markdown",
   "id": "f893cbed-c0e9-46c5-aea3-8871c7bb9a5d",
   "metadata": {},
   "source": [
    "In the realm of linear regression metrics, one fundamental measure of model performance is the **Mean Squared Error (MSE)**. MSE serves as a valuable indicator of how well your linear regression model aligns its predictions with the actual data points. This metric quantifies the average of the squared differences between predicted values and observed values."
   ]
  },
  {
   "cell_type": "markdown",
   "id": "de348eec-516d-4d86-a02e-ccbe7dba7bf5",
   "metadata": {},
   "source": [
    "### The Formula"
   ]
  },
  {
   "cell_type": "markdown",
   "id": "545bc42e-7ca4-4c9a-91ca-fceeebaa1b83",
   "metadata": {},
   "source": [
    "Mathematically, the MSE is computed using the following formula:"
   ]
  },
  {
   "cell_type": "markdown",
   "id": "768aa918-1f0b-4ae5-b4c7-9e77097050e1",
   "metadata": {},
   "source": [
    "$$ MSE = \\frac{1}{n} \\sum_{i=1}^{n} (y_i - \\hat{y}_i)^2 $$"
   ]
  },
  {
   "cell_type": "markdown",
   "id": "dbd49d92-4228-458e-a865-5d4636bd4ff2",
   "metadata": {},
   "source": [
    "Where:\n",
    "\n",
    "- $n$ is the number of data points.\n",
    "- $y_i$ represents the actual observed value for the $i^{th}$ data point.\n",
    "- $\\hat{y}_i$ represents the predicted value for the $i^{th}$ data point."
   ]
  },
  {
   "cell_type": "markdown",
   "id": "54f58e2a-8d6e-4cfb-8a9a-ab50cdaaf956",
   "metadata": {},
   "source": [
    "### Interpretation"
   ]
  },
  {
   "cell_type": "markdown",
   "id": "d09eadf6-21c1-488e-98f1-4e0917be18b6",
   "metadata": {},
   "source": [
    "A lower MSE value indicates that the model's predictions are closer to the actual values, signifying better model performance. Conversely, a higher MSE suggests that the model's predictions deviate more from the true values, indicating poorer performance."
   ]
  },
  {
   "cell_type": "markdown",
   "id": "d2b803a5-b390-407a-886b-ccfcee059233",
   "metadata": {},
   "source": [
    "### Python Implementation"
   ]
  },
  {
   "cell_type": "markdown",
   "id": "e546d69d-7542-4c65-9635-4d5dced7248e",
   "metadata": {},
   "source": [
    "Let's take a look at how to calculate MSE in Python. We'll use a simple example with sample data:"
   ]
  },
  {
   "cell_type": "code",
   "execution_count": 4,
   "id": "7b027b00-2205-4475-a600-62059c7fc5c2",
   "metadata": {},
   "outputs": [
    {
     "name": "stdout",
     "output_type": "stream",
     "text": [
      "Mean Squared Error (MSE): 0.5079999999999996\n"
     ]
    }
   ],
   "source": [
    "# Import necessary libraries\n",
    "import numpy as np\n",
    "\n",
    "# Sample data for demonstration (replace with your actual data)\n",
    "actual_values = np.array([22.1, 19.9, 24.5, 20.1, 18.7])\n",
    "predicted_values = np.array([23.5, 20.2, 23.9, 19.8, 18.5])\n",
    "\n",
    "# Calculate the squared differences between actual and predicted values\n",
    "squared_errors = (actual_values - predicted_values) ** 2\n",
    "\n",
    "# Calculate the mean of squared errors to get MSE\n",
    "mse = np.mean(squared_errors)\n",
    "\n",
    "# Print the MSE\n",
    "print(\"Mean Squared Error (MSE):\", mse)"
   ]
  }
 ],
 "metadata": {
  "kernelspec": {
   "display_name": "Python 3 (ipykernel)",
   "language": "python",
   "name": "python3"
  },
  "language_info": {
   "codemirror_mode": {
    "name": "ipython",
    "version": 3
   },
   "file_extension": ".py",
   "mimetype": "text/x-python",
   "name": "python",
   "nbconvert_exporter": "python",
   "pygments_lexer": "ipython3",
   "version": "3.10.6"
  }
 },
 "nbformat": 4,
 "nbformat_minor": 5
}
