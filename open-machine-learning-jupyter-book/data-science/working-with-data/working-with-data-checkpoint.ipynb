{
 "cells": [
  {
   "cell_type": "markdown",
   "id": "ff00ab36",
   "metadata": {
    "jp-MarkdownHeadingCollapsed": true
   },
   "source": [
    "# Working with data\n",
    "\n",
    "![](https://static-1300131294.cos.ap-shanghai.myqcloud.com/images/data-love.jpeg)\n",
    "\n",
    "> Photo by <a href=\"https://unsplash.com/@swimstaralex?utm_source=unsplash&utm_medium=referral&utm_content=creditCopyText\">Alexander Sinn</a> on <a href=\"https://unsplash.com/s/photos/data?utm_source=unsplash&utm_medium=referral&utm_content=creditCopyText\">Unsplash</a>\n",
    "\n",
    "In these sections, you will learn some of the ways that data can be managed, manipulated, and used in applications. You will learn about relational and non-relational databases and how data can be stored in them. You'll learn the fundamentals of working with Python to manage data, and you'll discover some of the many ways that you can work with Python to manage and mine data.\n",
    "\n",
    "---\n",
    "\n",
    ":::tableofcontents"
   ]
  }
 ],
 "metadata": {
  "kernelspec": {
   "display_name": "Python 3 (ipykernel)",
   "language": "python",
   "name": "python3"
  },
  "language_info": {
   "codemirror_mode": {
    "name": "ipython",
    "version": 3
   },
   "file_extension": ".py",
   "mimetype": "text/x-python",
   "name": "python",
   "nbconvert_exporter": "python",
   "pygments_lexer": "ipython3",
   "version": "3.11.1"
  }
 },
 "nbformat": 4,
 "nbformat_minor": 5
}
